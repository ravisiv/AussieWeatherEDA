{
 "cells": [
  {
   "cell_type": "markdown",
   "id": "1746415f",
   "metadata": {},
   "source": [
    "# Lab One : Visualization and Data Pre-processing"
   ]
  },
  {
   "cell_type": "markdown",
   "id": "32a4b9ff",
   "metadata": {},
   "source": [
    "### Group 3 - Members:\n",
    "\n",
    "_Apurv Mittal_<br>\n",
    "_Seemant Srivastava_<br>\n",
    "_Ravi Sivaraman_<br>\n",
    "_Tai Chowdhury_<br>\n"
   ]
  },
  {
   "cell_type": "code",
   "execution_count": 3,
   "id": "1a96353e",
   "metadata": {},
   "outputs": [],
   "source": [
    "# Import libraries\n",
    "\n",
    "import pandas as pd\n",
    "import numpy as np\n",
    "import seaborn as sns\n",
    "import matplotlib.pyplot as plt\n",
    "import plotly.graph_objs as go\n",
    "from scipy import stats\n",
    "import warnings\n",
    "from shapely.geometry import Point\n",
    "#import geopandas as gpd\n",
    "#from geopandas import GeoDataFrame\n",
    "import plotly.express as px\n"
   ]
  },
  {
   "cell_type": "code",
   "execution_count": 4,
   "id": "ce8247b8",
   "metadata": {},
   "outputs": [],
   "source": [
    "#Ignore Warnings on final\n",
    "\n",
    "warnings.filterwarnings('ignore')"
   ]
  },
  {
   "cell_type": "code",
   "execution_count": 5,
   "id": "888e9335",
   "metadata": {},
   "outputs": [],
   "source": [
    "# Read the Australia weather data\n",
    "df = pd.read_csv(\"weatherAUS.csv\")"
   ]
  },
  {
   "cell_type": "code",
   "execution_count": 6,
   "id": "a61b1c15",
   "metadata": {},
   "outputs": [
    {
     "data": {
      "text/html": [
       "<div>\n",
       "<style scoped>\n",
       "    .dataframe tbody tr th:only-of-type {\n",
       "        vertical-align: middle;\n",
       "    }\n",
       "\n",
       "    .dataframe tbody tr th {\n",
       "        vertical-align: top;\n",
       "    }\n",
       "\n",
       "    .dataframe thead th {\n",
       "        text-align: right;\n",
       "    }\n",
       "</style>\n",
       "<table border=\"1\" class=\"dataframe\">\n",
       "  <thead>\n",
       "    <tr style=\"text-align: right;\">\n",
       "      <th></th>\n",
       "      <th>Date</th>\n",
       "      <th>Location</th>\n",
       "      <th>MinTemp</th>\n",
       "      <th>MaxTemp</th>\n",
       "      <th>Rainfall</th>\n",
       "      <th>Evaporation</th>\n",
       "      <th>Sunshine</th>\n",
       "      <th>WindGustDir</th>\n",
       "      <th>WindGustSpeed</th>\n",
       "      <th>WindDir9am</th>\n",
       "      <th>...</th>\n",
       "      <th>Humidity9am</th>\n",
       "      <th>Humidity3pm</th>\n",
       "      <th>Pressure9am</th>\n",
       "      <th>Pressure3pm</th>\n",
       "      <th>Cloud9am</th>\n",
       "      <th>Cloud3pm</th>\n",
       "      <th>Temp9am</th>\n",
       "      <th>Temp3pm</th>\n",
       "      <th>RainToday</th>\n",
       "      <th>RainTomorrow</th>\n",
       "    </tr>\n",
       "  </thead>\n",
       "  <tbody>\n",
       "    <tr>\n",
       "      <th>0</th>\n",
       "      <td>12/1/08</td>\n",
       "      <td>Albury</td>\n",
       "      <td>13.4</td>\n",
       "      <td>22.9</td>\n",
       "      <td>0.6</td>\n",
       "      <td>NaN</td>\n",
       "      <td>NaN</td>\n",
       "      <td>W</td>\n",
       "      <td>44.0</td>\n",
       "      <td>W</td>\n",
       "      <td>...</td>\n",
       "      <td>71.0</td>\n",
       "      <td>22.0</td>\n",
       "      <td>1007.7</td>\n",
       "      <td>1007.1</td>\n",
       "      <td>8.0</td>\n",
       "      <td>NaN</td>\n",
       "      <td>16.9</td>\n",
       "      <td>21.8</td>\n",
       "      <td>No</td>\n",
       "      <td>No</td>\n",
       "    </tr>\n",
       "    <tr>\n",
       "      <th>1</th>\n",
       "      <td>12/2/08</td>\n",
       "      <td>Albury</td>\n",
       "      <td>7.4</td>\n",
       "      <td>25.1</td>\n",
       "      <td>0.0</td>\n",
       "      <td>NaN</td>\n",
       "      <td>NaN</td>\n",
       "      <td>WNW</td>\n",
       "      <td>44.0</td>\n",
       "      <td>NNW</td>\n",
       "      <td>...</td>\n",
       "      <td>44.0</td>\n",
       "      <td>25.0</td>\n",
       "      <td>1010.6</td>\n",
       "      <td>1007.8</td>\n",
       "      <td>NaN</td>\n",
       "      <td>NaN</td>\n",
       "      <td>17.2</td>\n",
       "      <td>24.3</td>\n",
       "      <td>No</td>\n",
       "      <td>No</td>\n",
       "    </tr>\n",
       "    <tr>\n",
       "      <th>2</th>\n",
       "      <td>12/3/08</td>\n",
       "      <td>Albury</td>\n",
       "      <td>12.9</td>\n",
       "      <td>25.7</td>\n",
       "      <td>0.0</td>\n",
       "      <td>NaN</td>\n",
       "      <td>NaN</td>\n",
       "      <td>WSW</td>\n",
       "      <td>46.0</td>\n",
       "      <td>W</td>\n",
       "      <td>...</td>\n",
       "      <td>38.0</td>\n",
       "      <td>30.0</td>\n",
       "      <td>1007.6</td>\n",
       "      <td>1008.7</td>\n",
       "      <td>NaN</td>\n",
       "      <td>2.0</td>\n",
       "      <td>21.0</td>\n",
       "      <td>23.2</td>\n",
       "      <td>No</td>\n",
       "      <td>No</td>\n",
       "    </tr>\n",
       "    <tr>\n",
       "      <th>3</th>\n",
       "      <td>12/4/08</td>\n",
       "      <td>Albury</td>\n",
       "      <td>9.2</td>\n",
       "      <td>28.0</td>\n",
       "      <td>0.0</td>\n",
       "      <td>NaN</td>\n",
       "      <td>NaN</td>\n",
       "      <td>NE</td>\n",
       "      <td>24.0</td>\n",
       "      <td>SE</td>\n",
       "      <td>...</td>\n",
       "      <td>45.0</td>\n",
       "      <td>16.0</td>\n",
       "      <td>1017.6</td>\n",
       "      <td>1012.8</td>\n",
       "      <td>NaN</td>\n",
       "      <td>NaN</td>\n",
       "      <td>18.1</td>\n",
       "      <td>26.5</td>\n",
       "      <td>No</td>\n",
       "      <td>No</td>\n",
       "    </tr>\n",
       "    <tr>\n",
       "      <th>4</th>\n",
       "      <td>12/5/08</td>\n",
       "      <td>Albury</td>\n",
       "      <td>17.5</td>\n",
       "      <td>32.3</td>\n",
       "      <td>1.0</td>\n",
       "      <td>NaN</td>\n",
       "      <td>NaN</td>\n",
       "      <td>W</td>\n",
       "      <td>41.0</td>\n",
       "      <td>ENE</td>\n",
       "      <td>...</td>\n",
       "      <td>82.0</td>\n",
       "      <td>33.0</td>\n",
       "      <td>1010.8</td>\n",
       "      <td>1006.0</td>\n",
       "      <td>7.0</td>\n",
       "      <td>8.0</td>\n",
       "      <td>17.8</td>\n",
       "      <td>29.7</td>\n",
       "      <td>No</td>\n",
       "      <td>No</td>\n",
       "    </tr>\n",
       "  </tbody>\n",
       "</table>\n",
       "<p>5 rows × 23 columns</p>\n",
       "</div>"
      ],
      "text/plain": [
       "      Date Location  MinTemp  MaxTemp  Rainfall  Evaporation  Sunshine  \\\n",
       "0  12/1/08   Albury     13.4     22.9       0.6          NaN       NaN   \n",
       "1  12/2/08   Albury      7.4     25.1       0.0          NaN       NaN   \n",
       "2  12/3/08   Albury     12.9     25.7       0.0          NaN       NaN   \n",
       "3  12/4/08   Albury      9.2     28.0       0.0          NaN       NaN   \n",
       "4  12/5/08   Albury     17.5     32.3       1.0          NaN       NaN   \n",
       "\n",
       "  WindGustDir  WindGustSpeed WindDir9am  ... Humidity9am  Humidity3pm  \\\n",
       "0           W           44.0          W  ...        71.0         22.0   \n",
       "1         WNW           44.0        NNW  ...        44.0         25.0   \n",
       "2         WSW           46.0          W  ...        38.0         30.0   \n",
       "3          NE           24.0         SE  ...        45.0         16.0   \n",
       "4           W           41.0        ENE  ...        82.0         33.0   \n",
       "\n",
       "   Pressure9am  Pressure3pm  Cloud9am  Cloud3pm  Temp9am  Temp3pm  RainToday  \\\n",
       "0       1007.7       1007.1       8.0       NaN     16.9     21.8         No   \n",
       "1       1010.6       1007.8       NaN       NaN     17.2     24.3         No   \n",
       "2       1007.6       1008.7       NaN       2.0     21.0     23.2         No   \n",
       "3       1017.6       1012.8       NaN       NaN     18.1     26.5         No   \n",
       "4       1010.8       1006.0       7.0       8.0     17.8     29.7         No   \n",
       "\n",
       "   RainTomorrow  \n",
       "0            No  \n",
       "1            No  \n",
       "2            No  \n",
       "3            No  \n",
       "4            No  \n",
       "\n",
       "[5 rows x 23 columns]"
      ]
     },
     "execution_count": 6,
     "metadata": {},
     "output_type": "execute_result"
    }
   ],
   "source": [
    "#  View the top rows of the data imported\n",
    "df.head()"
   ]
  },
  {
   "cell_type": "code",
   "execution_count": 7,
   "id": "bba99724",
   "metadata": {},
   "outputs": [],
   "source": [
    "#Drop Date and Location\n",
    "\n",
    "df = df.drop(['Date', 'Location'], axis = 1)"
   ]
  },
  {
   "cell_type": "code",
   "execution_count": 8,
   "id": "91546666",
   "metadata": {},
   "outputs": [
    {
     "name": "stdout",
     "output_type": "stream",
     "text": [
      "Numeric Variables: Index(['MinTemp', 'MaxTemp', 'Rainfall', 'Evaporation', 'Sunshine',\n",
      "       'WindGustSpeed', 'WindSpeed9am', 'WindSpeed3pm', 'Humidity9am',\n",
      "       'Humidity3pm', 'Pressure9am', 'Pressure3pm', 'Cloud9am', 'Cloud3pm',\n",
      "       'Temp9am', 'Temp3pm'],\n",
      "      dtype='object')\n",
      "Categorical Variables: Index(['WindGustDir', 'WindDir9am', 'WindDir3pm', 'RainToday', 'RainTomorrow'], dtype='object')\n"
     ]
    }
   ],
   "source": [
    "# Removing records which are blank for Rain today and Rain tomorrow\n",
    "\n",
    "df.dropna(subset = [\"RainToday\"], inplace=True)\n",
    "df.dropna(subset = [\"RainTomorrow\"], inplace=True)\n",
    "\n",
    "\n",
    "# Seperate the data into categorical and numeric\n",
    "\n",
    "df_num = df.columns[df.dtypes == 'float64']\n",
    "df_cat=df.columns[df.dtypes == 'object']\n",
    "print(\"Numeric Variables:\", df_num)\n",
    "print(\"Categorical Variables:\", df_cat)\n",
    "\n",
    "\n",
    "\n",
    "# REFERENCE: https://www.kite.com/python/answers/how-to-drop-empty-rows-from-a-pandas-dataframe-in-python"
   ]
  },
  {
   "cell_type": "markdown",
   "id": "5529fc00",
   "metadata": {},
   "source": [
    "#### Data Imputation"
   ]
  },
  {
   "cell_type": "code",
   "execution_count": 9,
   "id": "4ac571fa",
   "metadata": {},
   "outputs": [],
   "source": [
    "# Impute data (numeric) based on the mean for RainToday and RainTomorrow\n",
    "\n",
    "df_impute = df\n",
    "mat_yesno = df[df_num].groupby([df['RainToday'],df['RainTomorrow']]).mean()\n",
    "RAINTODAY=0\n",
    "RAINTOMORROW=1\n",
    "COUNTER = 0\n",
    "for i in range(2):\n",
    "    for j in range(2):\n",
    "        for indexattr in mat_yesno.iloc[COUNTER].index:\n",
    "            df_impute.loc[(df_impute[\"RainToday\"] == mat_yesno.iloc[COUNTER].name[RAINTODAY] ) \n",
    "                          & (df_impute[\"RainTomorrow\"] == mat_yesno.iloc[COUNTER].name[RAINTOMORROW]) \n",
    "                          & (df_impute[indexattr].isnull()), indexattr] = mat_yesno.iloc[COUNTER][indexattr]\n",
    "        COUNTER = COUNTER + 1\n",
    "\n",
    "        \n",
    "        \n",
    "# Impute data (categorical) with mode of each variable\n",
    "\n",
    "df_impute['WindDir9am'] = df_impute['WindDir9am'].fillna(df_impute['WindDir9am'].mode()[0])\n",
    "df_impute['WindGustDir'] = df_impute['WindGustDir'].fillna(df_impute['WindGustDir'].mode()[0])\n",
    "df_impute['WindDir3pm'] = df_impute['WindDir3pm'].fillna(df_impute['WindDir3pm'].mode()[0])"
   ]
  },
  {
   "cell_type": "markdown",
   "id": "ecca19ef",
   "metadata": {},
   "source": [
    "As mentioned above, we imputed data for all numeric variables with the means for the combination of `RainToday` and `RainTomorrow`. We calcualted the value for `RainToday` and `RainTomorrow` both as \"No\" and imputed the data for the missing variables for such combination, similary calculated `RainToday` as \"Yes\" and `RainTomorrow` as \"No\" and imputed the mean value for the variable so and so forth.\n",
    "\n",
    "For categorical variables `WindDir9am`, `WindDir3pm` are covering the direction of the wind at different 9 am and 3 pm respectively, while `WindGustDir`is the direction of the wind gust. All these variables are about the direction and and the largest missing variable is `6.8%` for Wind Direction at 9 am. We decided to impute this data with the Mode for each of the categorical variable.\n"
   ]
  },
  {
   "cell_type": "markdown",
   "id": "a1aa55ea",
   "metadata": {},
   "source": [
    "## 8.New Features"
   ]
  },
  {
   "cell_type": "markdown",
   "id": "ff5fe94e",
   "metadata": {},
   "source": [
    "   ### New Feature 1: Added State a new feature\n",
    "   \n",
    "   The original dataset we downloaded had just `Cities`, but we want to include `State`, as some analysis are done for the entire state. We found the dataset for Australian cities and state and then created a dataframe from Cities/State csv file and then joined with the original dataset to create a new feature called `State`.\n",
    "   \n",
    " \n",
    " The code to add the cities state are done in `Simple Statistics` section, we are referencing here the code on how it is done.\n",
    " \n",
    "#Add State\n",
    "state_df = pd.read_csv(\"loc.csv\")\n",
    "df_impute = pd.merge(df_impute, state_df, on='Location', how='outer')\n",
    "df_impute.isnull().sum()\n",
    "\n",
    "`State` is an useful parameter for our EDA analysis.\n"
   ]
  },
  {
   "cell_type": "code",
   "execution_count": 10,
   "id": "3af98204",
   "metadata": {},
   "outputs": [
    {
     "data": {
      "text/plain": [
       "count    140787.000000\n",
       "mean          2.349974\n",
       "std           8.465173\n",
       "min           0.000000\n",
       "25%           0.000000\n",
       "50%           0.000000\n",
       "75%           0.800000\n",
       "max         371.000000\n",
       "Name: Rainfall, dtype: float64"
      ]
     },
     "execution_count": 10,
     "metadata": {},
     "output_type": "execute_result"
    }
   ],
   "source": [
    "df_impute[\"Rainfall\"].describe()"
   ]
  },
  {
   "cell_type": "markdown",
   "id": "60a86248",
   "metadata": {},
   "source": [
    "## 9. Exceptional Work"
   ]
  },
  {
   "cell_type": "code",
   "execution_count": 11,
   "id": "bb585c80",
   "metadata": {},
   "outputs": [
    {
     "name": "stdout",
     "output_type": "stream",
     "text": [
      "Numeric Variables: Index(['MinTemp', 'MaxTemp', 'Rainfall', 'Evaporation', 'Sunshine',\n",
      "       'WindGustSpeed', 'WindSpeed9am', 'WindSpeed3pm', 'Humidity9am',\n",
      "       'Humidity3pm', 'Pressure9am', 'Pressure3pm', 'Cloud9am', 'Cloud3pm',\n",
      "       'Temp9am', 'Temp3pm'],\n",
      "      dtype='object')\n",
      "Categorical Variables: Index(['WindGustDir', 'WindDir9am', 'WindDir3pm', 'RainToday', 'RainTomorrow'], dtype='object')\n"
     ]
    }
   ],
   "source": [
    "df_impute_num = df.columns[df.dtypes == 'float64']\n",
    "df_impute_cat=df.columns[df.dtypes == 'object']\n",
    "print(\"Numeric Variables:\", df_num)\n",
    "print(\"Categorical Variables:\", df_cat)"
   ]
  },
  {
   "cell_type": "markdown",
   "id": "2fe083dc",
   "metadata": {},
   "source": [
    "Creating different dataframes for continous and categorical variables."
   ]
  },
  {
   "cell_type": "code",
   "execution_count": 12,
   "id": "485f9a5f",
   "metadata": {},
   "outputs": [],
   "source": [
    "X=df_impute[df_num]\n",
    "y = df.RainTomorrow"
   ]
  },
  {
   "cell_type": "markdown",
   "id": "cc7f002e",
   "metadata": {},
   "source": [
    "Assigning the `RainTomorrow` as our response variable (y) and all other continous variable as X"
   ]
  },
  {
   "cell_type": "code",
   "execution_count": 13,
   "id": "c6897f40",
   "metadata": {},
   "outputs": [
    {
     "name": "stdout",
     "output_type": "stream",
     "text": [
      "features shape: (140787, 16)\n",
      "target shape: (140787,)\n"
     ]
    }
   ],
   "source": [
    "print('features shape:', X.shape) \n",
    "print('target shape:', y.shape )"
   ]
  },
  {
   "cell_type": "markdown",
   "id": "037a3b0c",
   "metadata": {},
   "source": [
    "   ### Principal Component Analysis"
   ]
  },
  {
   "cell_type": "code",
   "execution_count": 14,
   "id": "d51ed4b7",
   "metadata": {},
   "outputs": [
    {
     "name": "stdout",
     "output_type": "stream",
     "text": [
      "Cumulative Explained variance of components:  1.0000000000000002\n",
      "PCA(n_components=16)\n",
      "Variance explained by each component:             0\n",
      "0   0.324262\n",
      "1   0.211319\n",
      "2   0.122472\n",
      "3   0.068379\n",
      "4   0.055946\n",
      "5   0.046740\n",
      "6   0.042430\n",
      "7   0.032006\n",
      "8   0.025687\n",
      "9   0.021170\n",
      "10  0.020327\n",
      "11  0.017020\n",
      "12  0.006674\n",
      "13  0.002314\n",
      "14  0.001786\n",
      "15  0.001468\n",
      "\n",
      " Cumulative Variance explained by additional component:             0\n",
      "0   0.324262\n",
      "1   0.535582\n",
      "2   0.658054\n",
      "3   0.726434\n",
      "4   0.782379\n",
      "5   0.829120\n",
      "6   0.871549\n",
      "7   0.903555\n",
      "8   0.929242\n",
      "9   0.950412\n",
      "10  0.970739\n",
      "11  0.987759\n",
      "12  0.994433\n",
      "13  0.996747\n",
      "14  0.998532\n",
      "15  1.000000\n"
     ]
    },
    {
     "data": {
      "image/png": "[encoded data removed]",
      "text/plain": [
       "<Figure size 432x432 with 1 Axes>"
      ]
     },
     "metadata": {
      "needs_background": "light"
     },
     "output_type": "display_data"
    }
   ],
   "source": [
    "# PCA Code\n",
    "\n",
    "from sklearn.decomposition import PCA\n",
    "from sklearn.preprocessing import StandardScaler\n",
    "\n",
    "# standardizing the features\n",
    "X = StandardScaler().fit_transform(X)\n",
    "\n",
    "pca = PCA(n_components = 16)\n",
    "\n",
    "principalComponents = pca.fit_transform(X)\n",
    "\n",
    "principalDF = pd.DataFrame(data = principalComponents)\n",
    "\n",
    "#finalDF = pd.concat([principalDF, df[['RainTomorrow']]], axis =1)\n",
    "\n",
    "plt.subplots(figsize=(6, 6))\n",
    "plt.plot(np.cumsum(pca.explained_variance_ratio_))\n",
    "plt.xlabel('Number of components')\n",
    "plt.ylabel('Cumulative explained variance');\n",
    "print('Cumulative Explained variance of components: ',sum(pca.explained_variance_ratio_[0:199]) )\n",
    "print(pca)\n",
    "\n",
    "\n",
    "variation = pd.DataFrame(pca.explained_variance_ratio_)\n",
    "cumulative_variation = pd.DataFrame(pca.explained_variance_ratio_.cumsum())\n",
    "print(\"Variance explained by each component: \",variation)\n",
    "print (\"\\n Cumulative Variance explained by additional component: \", cumulative_variation)\n",
    "\n",
    "# Reference : https://towardsdatascience.com/pca-using-python-scikit-learn-e653f8989e60"
   ]
  },
  {
   "cell_type": "markdown",
   "id": "e353c840",
   "metadata": {},
   "source": [
    "*Principal Component Analysis* is a method to reduce the number of features from a large features, while still maintaining the overall accuracy of the model. In a large dataset with hundreds of features, there are only a select few may have impact compared to the rest. The dimensions that influcence the models rise rapids and elbows at a point, then asymptotes. After that point, there is diminishing returns while adding more features. \n",
    "\n",
    "Having more features will ultimately help, but considering the amount of reduction in dimensions and the processing power to compute the models and complexities are drastically reduced. Improvement in accuracy of the model doesn't justify the extra processing power or the compleixities in the model.\n",
    "\n",
    "In the above PCA analysis, there are 16 continuous features. However PCA indicates the graph flattens at 11 features, and adding five more dimensions doesnt improve the model as much.\n",
    "\n",
    "At 8 components the model explains the variance is 92.9%, and at 12 components variance explained is 99.44%.\n",
    "\n",
    "Anything more than 8 components isn't going to add much better accuracy."
   ]
  },
  {
   "cell_type": "markdown",
   "id": "1af99221",
   "metadata": {},
   "source": [
    "### Handling Class Imbalance For Rainfall Prediction"
   ]
  },
  {
   "cell_type": "code",
   "execution_count": 15,
   "id": "89c9cec9",
   "metadata": {},
   "outputs": [],
   "source": [
    "df_impute['RainToday'].replace({'No': 0, 'Yes': 1},inplace = True)\n",
    "df_impute['RainTomorrow'].replace({'No': 0, 'Yes': 1},inplace = True)"
   ]
  },
  {
   "cell_type": "code",
   "execution_count": 16,
   "id": "26445414",
   "metadata": {},
   "outputs": [
    {
     "data": {
      "image/png": "[encoded data removed]",
      "text/plain": [
       "<Figure size 576x360 with 1 Axes>"
      ]
     },
     "metadata": {
      "needs_background": "light"
     },
     "output_type": "display_data"
    }
   ],
   "source": [
    "import matplotlib.pyplot as plt\n",
    "fig = plt.figure(figsize = (8,5))\n",
    "df_impute['RainTomorrow'].value_counts(normalize = True).plot(kind='bar', color= ['skyblue','navy'], alpha = 0.9, rot=0)\n",
    "plt.title('RainTomorrow Indicator No(0) and Yes(1) in the Imbalanced Dataset')\n",
    "plt.show()"
   ]
  },
  {
   "cell_type": "markdown",
   "id": "a9a25167",
   "metadata": {},
   "source": [
    "We can observe that the presence of “0” and “1” is almost in the 78:22 ratio. So there is a class imbalance and we have to deal with it. To fight against the class imbalance, we will use here the oversampling of the minority class. Since the size of the dataset is quite small, majority class subsampling wouldn’t make much sense here."
   ]
  },
  {
   "cell_type": "code",
   "execution_count": 17,
   "id": "c83127df",
   "metadata": {},
   "outputs": [],
   "source": [
    "from sklearn.utils import resample\n",
    "\n",
    "no = df_impute[df_impute.RainTomorrow == 0]\n",
    "yes = df_impute[df_impute.RainTomorrow == 1]\n",
    "yes_oversampled = resample(yes, replace=True, n_samples=len(no), random_state=123)\n",
    "oversampled = pd.concat([no, yes_oversampled])"
   ]
  },
  {
   "cell_type": "code",
   "execution_count": 18,
   "id": "f690ebf3",
   "metadata": {},
   "outputs": [
    {
     "data": {
      "image/png": "[encoded data removed]",
      "text/plain": [
       "<Figure size 576x360 with 1 Axes>"
      ]
     },
     "metadata": {
      "needs_background": "light"
     },
     "output_type": "display_data"
    }
   ],
   "source": [
    "fig = plt.figure(figsize = (8,5))\n",
    "oversampled.RainTomorrow.value_counts(normalize = True).plot(kind='bar', color= ['skyblue','navy'], alpha = 0.9, rot=0)\n",
    "plt.title('RainTomorrow Indicator No(0) and Yes(1) after Oversampling (Balanced Dataset)')\n",
    "plt.show()"
   ]
  },
  {
   "cell_type": "code",
   "execution_count": 19,
   "id": "51f9b52e",
   "metadata": {},
   "outputs": [
    {
     "data": {
      "text/plain": [
       "219172"
      ]
     },
     "execution_count": 19,
     "metadata": {},
     "output_type": "execute_result"
    }
   ],
   "source": [
    "len(oversampled)\n"
   ]
  },
  {
   "cell_type": "code",
   "execution_count": 21,
   "id": "ad32c6aa",
   "metadata": {},
   "outputs": [
    {
     "name": "stdout",
     "output_type": "stream",
     "text": [
      "<class 'pandas.core.frame.DataFrame'>\n",
      "Int64Index: 140787 entries, 0 to 145458\n",
      "Data columns (total 70 columns):\n",
      " #   Column         Non-Null Count   Dtype  \n",
      "---  ------         --------------   -----  \n",
      " 0   MinTemp        140787 non-null  float64\n",
      " 1   MaxTemp        140787 non-null  float64\n",
      " 2   Rainfall       140787 non-null  float64\n",
      " 3   Evaporation    140787 non-null  float64\n",
      " 4   Sunshine       140787 non-null  float64\n",
      " 5   WindGustDir    140787 non-null  object \n",
      " 6   WindGustSpeed  140787 non-null  float64\n",
      " 7   WindDir9am     140787 non-null  object \n",
      " 8   WindDir3pm     140787 non-null  object \n",
      " 9   WindSpeed9am   140787 non-null  float64\n",
      " 10  WindSpeed3pm   140787 non-null  float64\n",
      " 11  Humidity9am    140787 non-null  float64\n",
      " 12  Humidity3pm    140787 non-null  float64\n",
      " 13  Pressure9am    140787 non-null  float64\n",
      " 14  Pressure3pm    140787 non-null  float64\n",
      " 15  Cloud9am       140787 non-null  float64\n",
      " 16  Cloud3pm       140787 non-null  float64\n",
      " 17  Temp9am        140787 non-null  float64\n",
      " 18  Temp3pm        140787 non-null  float64\n",
      " 19  RainToday      140787 non-null  int64  \n",
      " 20  RainTomorrow   140787 non-null  int64  \n",
      " 21  GustDir_E      140787 non-null  uint8  \n",
      " 22  GustDir_ENE    140787 non-null  uint8  \n",
      " 23  GustDir_ESE    140787 non-null  uint8  \n",
      " 24  GustDir_N      140787 non-null  uint8  \n",
      " 25  GustDir_NE     140787 non-null  uint8  \n",
      " 26  GustDir_NNE    140787 non-null  uint8  \n",
      " 27  GustDir_NNW    140787 non-null  uint8  \n",
      " 28  GustDir_NW     140787 non-null  uint8  \n",
      " 29  GustDir_S      140787 non-null  uint8  \n",
      " 30  GustDir_SE     140787 non-null  uint8  \n",
      " 31  GustDir_SSE    140787 non-null  uint8  \n",
      " 32  GustDir_SSW    140787 non-null  uint8  \n",
      " 33  GustDir_SW     140787 non-null  uint8  \n",
      " 34  GustDir_W      140787 non-null  uint8  \n",
      " 35  GustDir_WNW    140787 non-null  uint8  \n",
      " 36  GustDir_WSW    140787 non-null  uint8  \n",
      " 37  Wind3pm_E      140787 non-null  uint8  \n",
      " 38  Wind3pm_ENE    140787 non-null  uint8  \n",
      " 39  Wind3pm_ESE    140787 non-null  uint8  \n",
      " 40  Wind3pm_N      140787 non-null  uint8  \n",
      " 41  Wind3pm_NE     140787 non-null  uint8  \n",
      " 42  Wind3pm_NNE    140787 non-null  uint8  \n",
      " 43  Wind3pm_NNW    140787 non-null  uint8  \n",
      " 44  Wind3pm_NW     140787 non-null  uint8  \n",
      " 45  Wind3pm_S      140787 non-null  uint8  \n",
      " 46  Wind3pm_SE     140787 non-null  uint8  \n",
      " 47  Wind3pm_SSE    140787 non-null  uint8  \n",
      " 48  Wind3pm_SSW    140787 non-null  uint8  \n",
      " 49  Wind3pm_SW     140787 non-null  uint8  \n",
      " 50  Wind3pm_W      140787 non-null  uint8  \n",
      " 51  Wind3pm_WNW    140787 non-null  uint8  \n",
      " 52  Wind3pm_WSW    140787 non-null  uint8  \n",
      " 53  Wind9am_E      140787 non-null  uint8  \n",
      " 54  Wind9am_ENE    140787 non-null  uint8  \n",
      " 55  Wind9am_ESE    140787 non-null  uint8  \n",
      " 56  Wind9am_N      140787 non-null  uint8  \n",
      " 57  Wind9am_NE     140787 non-null  uint8  \n",
      " 58  Wind9am_NNE    140787 non-null  uint8  \n",
      " 59  Wind9am_NNW    140787 non-null  uint8  \n",
      " 60  Wind9am_NW     140787 non-null  uint8  \n",
      " 61  Wind9am_S      140787 non-null  uint8  \n",
      " 62  Wind9am_SE     140787 non-null  uint8  \n",
      " 63  Wind9am_SSE    140787 non-null  uint8  \n",
      " 64  Wind9am_SSW    140787 non-null  uint8  \n",
      " 65  Wind9am_SW     140787 non-null  uint8  \n",
      " 66  Wind9am_W      140787 non-null  uint8  \n",
      " 67  Wind9am_WNW    140787 non-null  uint8  \n",
      " 68  Wind9am_WSW    140787 non-null  uint8  \n",
      " 69  IsRainToday    140787 non-null  int64  \n",
      "dtypes: float64(16), int64(3), object(3), uint8(48)\n",
      "memory usage: 31.1+ MB\n"
     ]
    }
   ],
   "source": [
    "\n",
    "# perform one-hot encoding of the categorical data \"embarked\"\n",
    "gust_df = pd.get_dummies(df_impute.WindGustDir,prefix='GustDir')\n",
    "wind3pm_df = pd.get_dummies(df_impute.WindDir3pm,prefix='Wind3pm')\n",
    "wind9am_df = pd.get_dummies(df_impute.WindDir9am,prefix='Wind9am')\n",
    "df_impute = pd.concat((df_impute,gust_df, wind3pm_df, wind9am_df),axis=1) # add back into the dataframe\n",
    "\n",
    "# replace the current Sex atribute with something slightly more intuitive and readable\n",
    "df_impute['IsRainToday'] = df_impute.RainToday=='Yes' \n",
    "df_impute.IsRainToday = df_impute.IsRainToday.astype(np.int)\n",
    "\n",
    "df_impute.info()"
   ]
  },
  {
   "cell_type": "code",
   "execution_count": 22,
   "id": "404f163c",
   "metadata": {},
   "outputs": [],
   "source": [
    "# Dropping categorical columns\n",
    "\n",
    "df_impute = df_impute.drop(['WindDir3pm', 'WindDir9am', 'WindGustDir', 'RainToday'], axis = 1)"
   ]
  },
  {
   "cell_type": "code",
   "execution_count": 23,
   "id": "b8b3084f",
   "metadata": {},
   "outputs": [
    {
     "name": "stdout",
     "output_type": "stream",
     "text": [
      "<class 'pandas.core.frame.DataFrame'>\n",
      "Int64Index: 219172 entries, 0 to 23585\n",
      "Data columns (total 70 columns):\n",
      " #   Column         Non-Null Count   Dtype  \n",
      "---  ------         --------------   -----  \n",
      " 0   MinTemp        219172 non-null  float64\n",
      " 1   MaxTemp        219172 non-null  float64\n",
      " 2   Rainfall       219172 non-null  float64\n",
      " 3   Evaporation    219172 non-null  float64\n",
      " 4   Sunshine       219172 non-null  float64\n",
      " 5   WindGustDir    219172 non-null  object \n",
      " 6   WindGustSpeed  219172 non-null  float64\n",
      " 7   WindDir9am     219172 non-null  object \n",
      " 8   WindDir3pm     219172 non-null  object \n",
      " 9   WindSpeed9am   219172 non-null  float64\n",
      " 10  WindSpeed3pm   219172 non-null  float64\n",
      " 11  Humidity9am    219172 non-null  float64\n",
      " 12  Humidity3pm    219172 non-null  float64\n",
      " 13  Pressure9am    219172 non-null  float64\n",
      " 14  Pressure3pm    219172 non-null  float64\n",
      " 15  Cloud9am       219172 non-null  float64\n",
      " 16  Cloud3pm       219172 non-null  float64\n",
      " 17  Temp9am        219172 non-null  float64\n",
      " 18  Temp3pm        219172 non-null  float64\n",
      " 19  RainToday      219172 non-null  int64  \n",
      " 20  RainTomorrow   219172 non-null  int64  \n",
      " 21  GustDir_E      219172 non-null  uint8  \n",
      " 22  GustDir_ENE    219172 non-null  uint8  \n",
      " 23  GustDir_ESE    219172 non-null  uint8  \n",
      " 24  GustDir_N      219172 non-null  uint8  \n",
      " 25  GustDir_NE     219172 non-null  uint8  \n",
      " 26  GustDir_NNE    219172 non-null  uint8  \n",
      " 27  GustDir_NNW    219172 non-null  uint8  \n",
      " 28  GustDir_NW     219172 non-null  uint8  \n",
      " 29  GustDir_S      219172 non-null  uint8  \n",
      " 30  GustDir_SE     219172 non-null  uint8  \n",
      " 31  GustDir_SSE    219172 non-null  uint8  \n",
      " 32  GustDir_SSW    219172 non-null  uint8  \n",
      " 33  GustDir_SW     219172 non-null  uint8  \n",
      " 34  GustDir_W      219172 non-null  uint8  \n",
      " 35  GustDir_WNW    219172 non-null  uint8  \n",
      " 36  GustDir_WSW    219172 non-null  uint8  \n",
      " 37  Wind3pm_E      219172 non-null  uint8  \n",
      " 38  Wind3pm_ENE    219172 non-null  uint8  \n",
      " 39  Wind3pm_ESE    219172 non-null  uint8  \n",
      " 40  Wind3pm_N      219172 non-null  uint8  \n",
      " 41  Wind3pm_NE     219172 non-null  uint8  \n",
      " 42  Wind3pm_NNE    219172 non-null  uint8  \n",
      " 43  Wind3pm_NNW    219172 non-null  uint8  \n",
      " 44  Wind3pm_NW     219172 non-null  uint8  \n",
      " 45  Wind3pm_S      219172 non-null  uint8  \n",
      " 46  Wind3pm_SE     219172 non-null  uint8  \n",
      " 47  Wind3pm_SSE    219172 non-null  uint8  \n",
      " 48  Wind3pm_SSW    219172 non-null  uint8  \n",
      " 49  Wind3pm_SW     219172 non-null  uint8  \n",
      " 50  Wind3pm_W      219172 non-null  uint8  \n",
      " 51  Wind3pm_WNW    219172 non-null  uint8  \n",
      " 52  Wind3pm_WSW    219172 non-null  uint8  \n",
      " 53  Wind9am_E      219172 non-null  uint8  \n",
      " 54  Wind9am_ENE    219172 non-null  uint8  \n",
      " 55  Wind9am_ESE    219172 non-null  uint8  \n",
      " 56  Wind9am_N      219172 non-null  uint8  \n",
      " 57  Wind9am_NE     219172 non-null  uint8  \n",
      " 58  Wind9am_NNE    219172 non-null  uint8  \n",
      " 59  Wind9am_NNW    219172 non-null  uint8  \n",
      " 60  Wind9am_NW     219172 non-null  uint8  \n",
      " 61  Wind9am_S      219172 non-null  uint8  \n",
      " 62  Wind9am_SE     219172 non-null  uint8  \n",
      " 63  Wind9am_SSE    219172 non-null  uint8  \n",
      " 64  Wind9am_SSW    219172 non-null  uint8  \n",
      " 65  Wind9am_SW     219172 non-null  uint8  \n",
      " 66  Wind9am_W      219172 non-null  uint8  \n",
      " 67  Wind9am_WNW    219172 non-null  uint8  \n",
      " 68  Wind9am_WSW    219172 non-null  uint8  \n",
      " 69  IsRainToday    219172 non-null  int64  \n",
      "dtypes: float64(16), int64(3), object(3), uint8(48)\n",
      "memory usage: 48.5+ MB\n"
     ]
    }
   ],
   "source": [
    "#get_dummies using oversampled dataframe\n",
    "\n",
    "# perform one-hot encoding of the categorical data \"embarked\"\n",
    "gust_df = pd.get_dummies(oversampled.WindGustDir,prefix='GustDir')\n",
    "wind3pm_df = pd.get_dummies(oversampled.WindDir3pm,prefix='Wind3pm')\n",
    "wind9am_df = pd.get_dummies(oversampled.WindDir9am,prefix='Wind9am')\n",
    "oversampled = pd.concat((oversampled,gust_df, wind3pm_df, wind9am_df),axis=1) # add back into the dataframe\n",
    "\n",
    "# replace the current Sex atribute with something slightly more intuitive and readable\n",
    "oversampled['IsRainToday'] = oversampled.RainToday=='Yes' \n",
    "oversampled.IsRainToday = oversampled.IsRainToday.astype(np.int)\n",
    "\n",
    "oversampled.info()"
   ]
  },
  {
   "cell_type": "code",
   "execution_count": 24,
   "id": "c0d93e8c",
   "metadata": {},
   "outputs": [],
   "source": [
    "# Dropping categorical columns\n",
    "\n",
    "oversampled = oversampled.drop(['WindDir3pm', 'WindDir9am', 'WindGustDir', 'RainToday'], axis = 1)"
   ]
  },
  {
   "cell_type": "code",
   "execution_count": 25,
   "id": "2a2ca349",
   "metadata": {},
   "outputs": [
    {
     "name": "stdout",
     "output_type": "stream",
     "text": [
      "<class 'pandas.core.frame.DataFrame'>\n",
      "Int64Index: 219172 entries, 0 to 23585\n",
      "Data columns (total 66 columns):\n",
      " #   Column         Non-Null Count   Dtype  \n",
      "---  ------         --------------   -----  \n",
      " 0   MinTemp        219172 non-null  float64\n",
      " 1   MaxTemp        219172 non-null  float64\n",
      " 2   Rainfall       219172 non-null  float64\n",
      " 3   Evaporation    219172 non-null  float64\n",
      " 4   Sunshine       219172 non-null  float64\n",
      " 5   WindGustSpeed  219172 non-null  float64\n",
      " 6   WindSpeed9am   219172 non-null  float64\n",
      " 7   WindSpeed3pm   219172 non-null  float64\n",
      " 8   Humidity9am    219172 non-null  float64\n",
      " 9   Humidity3pm    219172 non-null  float64\n",
      " 10  Pressure9am    219172 non-null  float64\n",
      " 11  Pressure3pm    219172 non-null  float64\n",
      " 12  Cloud9am       219172 non-null  float64\n",
      " 13  Cloud3pm       219172 non-null  float64\n",
      " 14  Temp9am        219172 non-null  float64\n",
      " 15  Temp3pm        219172 non-null  float64\n",
      " 16  RainTomorrow   219172 non-null  int64  \n",
      " 17  GustDir_E      219172 non-null  uint8  \n",
      " 18  GustDir_ENE    219172 non-null  uint8  \n",
      " 19  GustDir_ESE    219172 non-null  uint8  \n",
      " 20  GustDir_N      219172 non-null  uint8  \n",
      " 21  GustDir_NE     219172 non-null  uint8  \n",
      " 22  GustDir_NNE    219172 non-null  uint8  \n",
      " 23  GustDir_NNW    219172 non-null  uint8  \n",
      " 24  GustDir_NW     219172 non-null  uint8  \n",
      " 25  GustDir_S      219172 non-null  uint8  \n",
      " 26  GustDir_SE     219172 non-null  uint8  \n",
      " 27  GustDir_SSE    219172 non-null  uint8  \n",
      " 28  GustDir_SSW    219172 non-null  uint8  \n",
      " 29  GustDir_SW     219172 non-null  uint8  \n",
      " 30  GustDir_W      219172 non-null  uint8  \n",
      " 31  GustDir_WNW    219172 non-null  uint8  \n",
      " 32  GustDir_WSW    219172 non-null  uint8  \n",
      " 33  Wind3pm_E      219172 non-null  uint8  \n",
      " 34  Wind3pm_ENE    219172 non-null  uint8  \n",
      " 35  Wind3pm_ESE    219172 non-null  uint8  \n",
      " 36  Wind3pm_N      219172 non-null  uint8  \n",
      " 37  Wind3pm_NE     219172 non-null  uint8  \n",
      " 38  Wind3pm_NNE    219172 non-null  uint8  \n",
      " 39  Wind3pm_NNW    219172 non-null  uint8  \n",
      " 40  Wind3pm_NW     219172 non-null  uint8  \n",
      " 41  Wind3pm_S      219172 non-null  uint8  \n",
      " 42  Wind3pm_SE     219172 non-null  uint8  \n",
      " 43  Wind3pm_SSE    219172 non-null  uint8  \n",
      " 44  Wind3pm_SSW    219172 non-null  uint8  \n",
      " 45  Wind3pm_SW     219172 non-null  uint8  \n",
      " 46  Wind3pm_W      219172 non-null  uint8  \n",
      " 47  Wind3pm_WNW    219172 non-null  uint8  \n",
      " 48  Wind3pm_WSW    219172 non-null  uint8  \n",
      " 49  Wind9am_E      219172 non-null  uint8  \n",
      " 50  Wind9am_ENE    219172 non-null  uint8  \n",
      " 51  Wind9am_ESE    219172 non-null  uint8  \n",
      " 52  Wind9am_N      219172 non-null  uint8  \n",
      " 53  Wind9am_NE     219172 non-null  uint8  \n",
      " 54  Wind9am_NNE    219172 non-null  uint8  \n",
      " 55  Wind9am_NNW    219172 non-null  uint8  \n",
      " 56  Wind9am_NW     219172 non-null  uint8  \n",
      " 57  Wind9am_S      219172 non-null  uint8  \n",
      " 58  Wind9am_SE     219172 non-null  uint8  \n",
      " 59  Wind9am_SSE    219172 non-null  uint8  \n",
      " 60  Wind9am_SSW    219172 non-null  uint8  \n",
      " 61  Wind9am_SW     219172 non-null  uint8  \n",
      " 62  Wind9am_W      219172 non-null  uint8  \n",
      " 63  Wind9am_WNW    219172 non-null  uint8  \n",
      " 64  Wind9am_WSW    219172 non-null  uint8  \n",
      " 65  IsRainToday    219172 non-null  int64  \n",
      "dtypes: float64(16), int64(2), uint8(48)\n",
      "memory usage: 41.8 MB\n"
     ]
    }
   ],
   "source": [
    "oversampled.info()"
   ]
  },
  {
   "cell_type": "code",
   "execution_count": 46,
   "id": "317f0e99",
   "metadata": {},
   "outputs": [
    {
     "name": "stdout",
     "output_type": "stream",
     "text": [
      "ShuffleSplit(n_splits=3, random_state=123, test_size=0.2, train_size=None)\n"
     ]
    }
   ],
   "source": [
    "# cv object using df_impute\n",
    "\n",
    "from sklearn.model_selection import ShuffleSplit\n",
    "\n",
    "# we want to predict the X and y data as follows:\n",
    "if \"RainTomorrow\" in df_impute:\n",
    "    y = df_impute[\"RainTomorrow\"].values # get the labels we want\n",
    "    del df_impute[\"RainTomorrow\"] # get rid of the class label\n",
    "    X = df_impute.values # use everything else to predict!\n",
    "\n",
    "    ## X and y are now numpy matrices, by calling 'values' on the pandas data frames we\n",
    "    #    have converted them into simple matrices to use with scikit learn\n",
    "    \n",
    "    \n",
    "# to use the cross validation object in scikit learn, we need to grab an instance\n",
    "#    of the object and set it up. This object will be able to split our data into \n",
    "#    training and testing splits\n",
    "num_cv_iterations = 3\n",
    "num_instances = len(y)\n",
    "cv_object = ShuffleSplit(n_splits=num_cv_iterations,\n",
    "                         test_size  = 0.2, random_state = 123)\n",
    "                         \n",
    "print(cv_object)"
   ]
  },
  {
   "cell_type": "code",
   "execution_count": 45,
   "id": "7cb2070b",
   "metadata": {},
   "outputs": [
    {
     "name": "stdout",
     "output_type": "stream",
     "text": [
      "ShuffleSplit(n_splits=3, random_state=123, test_size=0.2, train_size=None)\n"
     ]
    }
   ],
   "source": [
    "#Shufflesplit using oversampled dataframe\n",
    "\n",
    "from sklearn.model_selection import ShuffleSplit\n",
    "\n",
    "# we want to predict the X and y data as follows:\n",
    "if \"RainTomorrow\" in oversampled:\n",
    "    y = oversampled[\"RainTomorrow\"].values # get the labels we want\n",
    "    del oversampled[\"RainTomorrow\"] # get rid of the class label\n",
    "    X_over = oversampled.values # use everything else to predict!\n",
    "\n",
    "    ## X and y are now numpy matrices, by calling 'values' on the pandas data frames we\n",
    "    #    have converted them into simple matrices to use with scikit learn\n",
    "    \n",
    "    \n",
    "# to use the cross validation object in scikit learn, we need to grab an instance\n",
    "#    of the object and set it up. This object will be able to split our data into \n",
    "#    training and testing splits\n",
    "num_cv_iterations = 3\n",
    "num_instances = len(y)\n",
    "cv_object_over = ShuffleSplit(n_splits=num_cv_iterations,\n",
    "                         test_size  = 0.2, random_state = 123)\n",
    "                         \n",
    "print(cv_object_over)"
   ]
  },
  {
   "cell_type": "markdown",
   "id": "30623463",
   "metadata": {},
   "source": [
    "### Logistic Regression "
   ]
  },
  {
   "cell_type": "code",
   "execution_count": 47,
   "id": "a9ff806f",
   "metadata": {},
   "outputs": [
    {
     "name": "stdout",
     "output_type": "stream",
     "text": [
      "====Iteration 0  ====\n",
      "accuracy 0.8484316185696361\n",
      "confusion matrix\n",
      " [[18469  3284]\n",
      " [ 3360 18722]]\n"
     ]
    }
   ],
   "source": [
    "#Logistic Regression Using df_impute\n",
    "\n",
    "# run logistic regression and vary some parameters\n",
    "from sklearn.linear_model import LogisticRegression\n",
    "from sklearn import metrics as mt\n",
    "\n",
    "# first we create a reusable logisitic regression object\n",
    "#   here we can setup the object with different learning parameters and constants\n",
    "lr_clf = LogisticRegression(penalty='elasticnet', C=1.0, class_weight='balanced', solver='saga', l1_ratio=1) # get object\n",
    "\n",
    "# now we can use the cv_object that we setup before to iterate through the \n",
    "#    different training and testing sets. Each time we will reuse the logisitic regression \n",
    "#    object, but it gets trained on different data each time we use it.\n",
    "\n",
    "iter_num=0\n",
    "# the indices are the rows used for training and testing in each iteration\n",
    "for train_indices, test_indices in cv_object.split(X,y): \n",
    "    # I will create new variables here so that it is more obvious what \n",
    "    # the code is doing (you can compact this syntax and avoid duplicating memory,\n",
    "    # but it makes this code less readable)\n",
    "    X_train = X[train_indices]\n",
    "    y_train = y[train_indices]\n",
    "    \n",
    "    X_test = X[test_indices]\n",
    "    y_test = y[test_indices]\n",
    "    \n",
    "    # train the reusable logisitc regression model on the training data\n",
    "lr_clf.fit(X_train,y_train)  # train object\n",
    "y_hat = lr_clf.predict(X_test) # get test set precitions\n",
    "\n",
    "    # now let's get the accuracy and confusion matrix for this iterations of training/testing\n",
    "acc = mt.accuracy_score(y_test,y_hat)\n",
    "conf = mt.confusion_matrix(y_test,y_hat)\n",
    "print(\"====Iteration\",iter_num,\" ====\")\n",
    "print(\"accuracy\", acc )\n",
    "print(\"confusion matrix\\n\",conf)\n",
    "iter_num+=1    \n"
   ]
  },
  {
   "cell_type": "code",
   "execution_count": 31,
   "id": "85ba23b6",
   "metadata": {},
   "outputs": [
    {
     "name": "stdout",
     "output_type": "stream",
     "text": [
      "====Iteration 0  ====\n",
      "accuracy 0.8482491160031937\n",
      "confusion matrix\n",
      " [[18477  3276]\n",
      " [ 3376 18706]]\n"
     ]
    }
   ],
   "source": [
    "#Logistic Regression Using oversampled dataframe\n",
    "\n",
    "# run logistic regression and vary some parameters\n",
    "from sklearn.linear_model import LogisticRegression\n",
    "from sklearn import metrics as mt\n",
    "\n",
    "# first we create a reusable logisitic regression object\n",
    "#   here we can setup the object with different learning parameters and constants\n",
    "lr_clf = LogisticRegression(penalty='elasticnet', C=1.0, class_weight=None, solver='saga', l1_ratio=1) # get object\n",
    "\n",
    "# now we can use the cv_object that we setup before to iterate through the \n",
    "#    different training and testing sets. Each time we will reuse the logisitic regression \n",
    "#    object, but it gets trained on different data each time we use it.\n",
    "\n",
    "iter_num=0\n",
    "# the indices are the rows used for training and testing in each iteration\n",
    "for train_indices, test_indices in cv_object_over.split(X,y): \n",
    "    # I will create new variables here so that it is more obvious what \n",
    "    # the code is doing (you can compact this syntax and avoid duplicating memory,\n",
    "    # but it makes this code less readable)\n",
    "    X_train_over = X[train_indices]\n",
    "    y_train_over = y[train_indices]\n",
    "    \n",
    "    X_test_over = X[test_indices]\n",
    "    y_test_over = y[test_indices]\n",
    "    \n",
    "    # train the reusable logisitc regression model on the training data\n",
    "lr_clf.fit(X_train_over,y_train_over)  # train object\n",
    "y_hat_over = lr_clf.predict(X_test_over) # get test set precitions\n",
    "\n",
    "    # now let's get the accuracy and confusion matrix for this iterations of training/testing\n",
    "acc = mt.accuracy_score(y_test_over,y_hat_over)\n",
    "conf = mt.confusion_matrix(y_test_over,y_hat_over)\n",
    "print(\"====Iteration\",iter_num,\" ====\")\n",
    "print(\"accuracy\", acc )\n",
    "print(\"confusion matrix\\n\",conf)\n",
    "iter_num+=1 "
   ]
  },
  {
   "cell_type": "markdown",
   "id": "11923732",
   "metadata": {},
   "source": [
    "## Alternative/Shorter version of logistic regression"
   ]
  },
  {
   "cell_type": "code",
   "execution_count": 35,
   "id": "51b10b12",
   "metadata": {},
   "outputs": [
    {
     "ename": "ValueError",
     "evalue": "Found input variables with inconsistent numbers of samples: [1, 175337]",
     "output_type": "error",
     "traceback": [
      "\u001b[0;31m---------------------------------------------------------------------------\u001b[0m",
      "\u001b[0;31mValueError\u001b[0m                                Traceback (most recent call last)",
      "\u001b[0;32m<ipython-input-35-b8f4db873656>\u001b[0m in \u001b[0;36m<module>\u001b[0;34m\u001b[0m\n\u001b[1;32m      2\u001b[0m \u001b[0;34m\u001b[0m\u001b[0m\n\u001b[1;32m      3\u001b[0m \u001b[0;32mfor\u001b[0m \u001b[0miter_num\u001b[0m\u001b[0;34m,\u001b[0m\u001b[0;34m(\u001b[0m\u001b[0mtrain_indices\u001b[0m\u001b[0;34m,\u001b[0m \u001b[0mtest_indices\u001b[0m\u001b[0;34m)\u001b[0m \u001b[0;32min\u001b[0m \u001b[0menumerate\u001b[0m\u001b[0;34m(\u001b[0m\u001b[0mcv_object\u001b[0m\u001b[0;34m.\u001b[0m\u001b[0msplit\u001b[0m\u001b[0;34m(\u001b[0m\u001b[0mX\u001b[0m\u001b[0;34m,\u001b[0m\u001b[0my\u001b[0m\u001b[0;34m)\u001b[0m\u001b[0;34m)\u001b[0m\u001b[0;34m:\u001b[0m\u001b[0;34m\u001b[0m\u001b[0;34m\u001b[0m\u001b[0m\n\u001b[0;32m----> 4\u001b[0;31m     \u001b[0mlr_clf\u001b[0m\u001b[0;34m.\u001b[0m\u001b[0mfit\u001b[0m\u001b[0;34m(\u001b[0m\u001b[0;34m[\u001b[0m\u001b[0mtrain_indices\u001b[0m\u001b[0;34m]\u001b[0m\u001b[0;34m,\u001b[0m\u001b[0my\u001b[0m\u001b[0;34m[\u001b[0m\u001b[0mtrain_indices\u001b[0m\u001b[0;34m]\u001b[0m\u001b[0;34m)\u001b[0m  \u001b[0;31m# train object\u001b[0m\u001b[0;34m\u001b[0m\u001b[0;34m\u001b[0m\u001b[0m\n\u001b[0m\u001b[1;32m      5\u001b[0m     \u001b[0my_hat\u001b[0m \u001b[0;34m=\u001b[0m \u001b[0mlr_clf\u001b[0m\u001b[0;34m.\u001b[0m\u001b[0mpredict\u001b[0m\u001b[0;34m(\u001b[0m\u001b[0;34m[\u001b[0m\u001b[0mtest_indices\u001b[0m\u001b[0;34m]\u001b[0m\u001b[0;34m)\u001b[0m \u001b[0;31m# get test set precitions\u001b[0m\u001b[0;34m\u001b[0m\u001b[0;34m\u001b[0m\u001b[0m\n\u001b[1;32m      6\u001b[0m \u001b[0;34m\u001b[0m\u001b[0m\n",
      "\u001b[0;32m/opt/anaconda3/envs/ML7331/lib/python3.8/site-packages/sklearn/linear_model/_logistic.py\u001b[0m in \u001b[0;36mfit\u001b[0;34m(self, X, y, sample_weight)\u001b[0m\n\u001b[1;32m   1342\u001b[0m             \u001b[0m_dtype\u001b[0m \u001b[0;34m=\u001b[0m \u001b[0;34m[\u001b[0m\u001b[0mnp\u001b[0m\u001b[0;34m.\u001b[0m\u001b[0mfloat64\u001b[0m\u001b[0;34m,\u001b[0m \u001b[0mnp\u001b[0m\u001b[0;34m.\u001b[0m\u001b[0mfloat32\u001b[0m\u001b[0;34m]\u001b[0m\u001b[0;34m\u001b[0m\u001b[0;34m\u001b[0m\u001b[0m\n\u001b[1;32m   1343\u001b[0m \u001b[0;34m\u001b[0m\u001b[0m\n\u001b[0;32m-> 1344\u001b[0;31m         X, y = self._validate_data(X, y, accept_sparse='csr', dtype=_dtype,\n\u001b[0m\u001b[1;32m   1345\u001b[0m                                    \u001b[0morder\u001b[0m\u001b[0;34m=\u001b[0m\u001b[0;34m\"C\"\u001b[0m\u001b[0;34m,\u001b[0m\u001b[0;34m\u001b[0m\u001b[0;34m\u001b[0m\u001b[0m\n\u001b[1;32m   1346\u001b[0m                                    accept_large_sparse=solver != 'liblinear')\n",
      "\u001b[0;32m/opt/anaconda3/envs/ML7331/lib/python3.8/site-packages/sklearn/base.py\u001b[0m in \u001b[0;36m_validate_data\u001b[0;34m(self, X, y, reset, validate_separately, **check_params)\u001b[0m\n\u001b[1;32m    431\u001b[0m                 \u001b[0my\u001b[0m \u001b[0;34m=\u001b[0m \u001b[0mcheck_array\u001b[0m\u001b[0;34m(\u001b[0m\u001b[0my\u001b[0m\u001b[0;34m,\u001b[0m \u001b[0;34m**\u001b[0m\u001b[0mcheck_y_params\u001b[0m\u001b[0;34m)\u001b[0m\u001b[0;34m\u001b[0m\u001b[0;34m\u001b[0m\u001b[0m\n\u001b[1;32m    432\u001b[0m             \u001b[0;32melse\u001b[0m\u001b[0;34m:\u001b[0m\u001b[0;34m\u001b[0m\u001b[0;34m\u001b[0m\u001b[0m\n\u001b[0;32m--> 433\u001b[0;31m                 \u001b[0mX\u001b[0m\u001b[0;34m,\u001b[0m \u001b[0my\u001b[0m \u001b[0;34m=\u001b[0m \u001b[0mcheck_X_y\u001b[0m\u001b[0;34m(\u001b[0m\u001b[0mX\u001b[0m\u001b[0;34m,\u001b[0m \u001b[0my\u001b[0m\u001b[0;34m,\u001b[0m \u001b[0;34m**\u001b[0m\u001b[0mcheck_params\u001b[0m\u001b[0;34m)\u001b[0m\u001b[0;34m\u001b[0m\u001b[0;34m\u001b[0m\u001b[0m\n\u001b[0m\u001b[1;32m    434\u001b[0m             \u001b[0mout\u001b[0m \u001b[0;34m=\u001b[0m \u001b[0mX\u001b[0m\u001b[0;34m,\u001b[0m \u001b[0my\u001b[0m\u001b[0;34m\u001b[0m\u001b[0;34m\u001b[0m\u001b[0m\n\u001b[1;32m    435\u001b[0m \u001b[0;34m\u001b[0m\u001b[0m\n",
      "\u001b[0;32m/opt/anaconda3/envs/ML7331/lib/python3.8/site-packages/sklearn/utils/validation.py\u001b[0m in \u001b[0;36minner_f\u001b[0;34m(*args, **kwargs)\u001b[0m\n\u001b[1;32m     61\u001b[0m             \u001b[0mextra_args\u001b[0m \u001b[0;34m=\u001b[0m \u001b[0mlen\u001b[0m\u001b[0;34m(\u001b[0m\u001b[0margs\u001b[0m\u001b[0;34m)\u001b[0m \u001b[0;34m-\u001b[0m \u001b[0mlen\u001b[0m\u001b[0;34m(\u001b[0m\u001b[0mall_args\u001b[0m\u001b[0;34m)\u001b[0m\u001b[0;34m\u001b[0m\u001b[0;34m\u001b[0m\u001b[0m\n\u001b[1;32m     62\u001b[0m             \u001b[0;32mif\u001b[0m \u001b[0mextra_args\u001b[0m \u001b[0;34m<=\u001b[0m \u001b[0;36m0\u001b[0m\u001b[0;34m:\u001b[0m\u001b[0;34m\u001b[0m\u001b[0;34m\u001b[0m\u001b[0m\n\u001b[0;32m---> 63\u001b[0;31m                 \u001b[0;32mreturn\u001b[0m \u001b[0mf\u001b[0m\u001b[0;34m(\u001b[0m\u001b[0;34m*\u001b[0m\u001b[0margs\u001b[0m\u001b[0;34m,\u001b[0m \u001b[0;34m**\u001b[0m\u001b[0mkwargs\u001b[0m\u001b[0;34m)\u001b[0m\u001b[0;34m\u001b[0m\u001b[0;34m\u001b[0m\u001b[0m\n\u001b[0m\u001b[1;32m     64\u001b[0m \u001b[0;34m\u001b[0m\u001b[0m\n\u001b[1;32m     65\u001b[0m             \u001b[0;31m# extra_args > 0\u001b[0m\u001b[0;34m\u001b[0m\u001b[0;34m\u001b[0m\u001b[0;34m\u001b[0m\u001b[0m\n",
      "\u001b[0;32m/opt/anaconda3/envs/ML7331/lib/python3.8/site-packages/sklearn/utils/validation.py\u001b[0m in \u001b[0;36mcheck_X_y\u001b[0;34m(X, y, accept_sparse, accept_large_sparse, dtype, order, copy, force_all_finite, ensure_2d, allow_nd, multi_output, ensure_min_samples, ensure_min_features, y_numeric, estimator)\u001b[0m\n\u001b[1;32m    829\u001b[0m         \u001b[0my\u001b[0m \u001b[0;34m=\u001b[0m \u001b[0my\u001b[0m\u001b[0;34m.\u001b[0m\u001b[0mastype\u001b[0m\u001b[0;34m(\u001b[0m\u001b[0mnp\u001b[0m\u001b[0;34m.\u001b[0m\u001b[0mfloat64\u001b[0m\u001b[0;34m)\u001b[0m\u001b[0;34m\u001b[0m\u001b[0;34m\u001b[0m\u001b[0m\n\u001b[1;32m    830\u001b[0m \u001b[0;34m\u001b[0m\u001b[0m\n\u001b[0;32m--> 831\u001b[0;31m     \u001b[0mcheck_consistent_length\u001b[0m\u001b[0;34m(\u001b[0m\u001b[0mX\u001b[0m\u001b[0;34m,\u001b[0m \u001b[0my\u001b[0m\u001b[0;34m)\u001b[0m\u001b[0;34m\u001b[0m\u001b[0;34m\u001b[0m\u001b[0m\n\u001b[0m\u001b[1;32m    832\u001b[0m \u001b[0;34m\u001b[0m\u001b[0m\n\u001b[1;32m    833\u001b[0m     \u001b[0;32mreturn\u001b[0m \u001b[0mX\u001b[0m\u001b[0;34m,\u001b[0m \u001b[0my\u001b[0m\u001b[0;34m\u001b[0m\u001b[0;34m\u001b[0m\u001b[0m\n",
      "\u001b[0;32m/opt/anaconda3/envs/ML7331/lib/python3.8/site-packages/sklearn/utils/validation.py\u001b[0m in \u001b[0;36mcheck_consistent_length\u001b[0;34m(*arrays)\u001b[0m\n\u001b[1;32m    260\u001b[0m     \u001b[0muniques\u001b[0m \u001b[0;34m=\u001b[0m \u001b[0mnp\u001b[0m\u001b[0;34m.\u001b[0m\u001b[0munique\u001b[0m\u001b[0;34m(\u001b[0m\u001b[0mlengths\u001b[0m\u001b[0;34m)\u001b[0m\u001b[0;34m\u001b[0m\u001b[0;34m\u001b[0m\u001b[0m\n\u001b[1;32m    261\u001b[0m     \u001b[0;32mif\u001b[0m \u001b[0mlen\u001b[0m\u001b[0;34m(\u001b[0m\u001b[0muniques\u001b[0m\u001b[0;34m)\u001b[0m \u001b[0;34m>\u001b[0m \u001b[0;36m1\u001b[0m\u001b[0;34m:\u001b[0m\u001b[0;34m\u001b[0m\u001b[0;34m\u001b[0m\u001b[0m\n\u001b[0;32m--> 262\u001b[0;31m         raise ValueError(\"Found input variables with inconsistent numbers of\"\n\u001b[0m\u001b[1;32m    263\u001b[0m                          \" samples: %r\" % [int(l) for l in lengths])\n\u001b[1;32m    264\u001b[0m \u001b[0;34m\u001b[0m\u001b[0m\n",
      "\u001b[0;31mValueError\u001b[0m: Found input variables with inconsistent numbers of samples: [1, 175337]"
     ]
    }
   ],
   "source": [
    "# this does the exact same thing as the above block of code, but with shorter syntax\n",
    "\n",
    "for iter_num,(train_indices, test_indices) in enumerate(cv_object.split(X,y)):\n",
    "    lr_clf.fit([train_indices],y[train_indices])  # train object\n",
    "    y_hat = lr_clf.predict([test_indices]) # get test set precitions\n",
    "\n",
    "    # print the accuracy and confusion matrix \n",
    "    print(\"====Iteration\",iter_num,\" ====\")\n",
    "    print(\"accuracy\", mt.accuracy_score(y[test_indices],y_hat)) \n",
    "    print(\"confusion matrix\\n\",mt.confusion_matrix(y[test_indices],y_hat))"
   ]
  },
  {
   "cell_type": "code",
   "execution_count": null,
   "id": "67001765",
   "metadata": {},
   "outputs": [],
   "source": [
    "# and here is an even shorter way of getting the accuracies for each training and test set\n",
    "from sklearn.model_selection import cross_val_score\n",
    "accuracies = cross_val_score(lr_clf, X_new, y=y, cv=cv_object) # this also can help with parallelism\n",
    "print(accuracies)"
   ]
  },
  {
   "cell_type": "code",
   "execution_count": null,
   "id": "e9251a5a",
   "metadata": {},
   "outputs": [],
   "source": [
    "# here we can change some of the parameters interactively\n",
    "from ipywidgets import widgets as wd\n",
    "\n",
    "def lr_explor(cost):\n",
    "    lr_clf = LogisticRegression(penalty='l2', C=cost, class_weight=None,solver='liblinear') # get object\n",
    "    accuracies = cross_val_score(lr_clf,X_new,y=y,cv=cv_object) # this also can help with parallelism\n",
    "    print(accuracies)\n",
    "\n",
    "wd.interact(lr_explor,cost=(0.001,5.0,0.05),__manual=True)"
   ]
  },
  {
   "cell_type": "markdown",
   "id": "f3e5acea",
   "metadata": {},
   "source": [
    "### Interpreting the weights - Need to add explanations"
   ]
  },
  {
   "cell_type": "code",
   "execution_count": null,
   "id": "348b8984",
   "metadata": {},
   "outputs": [],
   "source": [
    "\n",
    "# interpret the weights\n",
    "\n",
    "# iterate over the coefficients\n",
    "weights = lr_clf.coef_.T # take transpose to make a column vector\n",
    "variable_names = oversampled.columns\n",
    "for coef, name in zip(weights,variable_names):\n",
    "    print(name, 'has weight of', coef[0])\n",
    "    \n",
    "# does this look correct?"
   ]
  },
  {
   "cell_type": "code",
   "execution_count": 48,
   "id": "4f910e96",
   "metadata": {},
   "outputs": [
    {
     "name": "stdout",
     "output_type": "stream",
     "text": [
      "accuracy: 0.8517622904072089\n",
      "[[18526  3227]\n",
      " [ 3271 18811]]\n",
      "Pressure3pm has weight of -1.2893491392115064\n",
      "Sunshine has weight of -1.2757407782382562\n",
      "MinTemp has weight of -0.32202784113584393\n",
      "MaxTemp has weight of -0.11797132554435799\n",
      "Evaporation has weight of -0.10589350647005544\n",
      "WindSpeed3pm has weight of -0.09311722301307992\n",
      "WindSpeed9am has weight of -0.08563384308454434\n",
      "Wind9am_SSE has weight of -0.05657467743047443\n",
      "Wind9am_SE has weight of -0.05143238922710375\n",
      "Wind9am_S has weight of -0.04967165158342632\n",
      "Wind9am_ESE has weight of -0.04854793915458576\n",
      "Wind3pm_SSE has weight of -0.04694103714140655\n",
      "GustDir_N has weight of -0.04153617068834795\n",
      "Wind3pm_S has weight of -0.034738666819195935\n",
      "Wind3pm_SW has weight of -0.03220597469343543\n",
      "GustDir_NNE has weight of -0.03183038211646515\n",
      "Wind3pm_NE has weight of -0.029951901413006753\n",
      "Wind3pm_ESE has weight of -0.028761164868655358\n",
      "Wind3pm_E has weight of -0.027802563585749035\n",
      "Wind9am_E has weight of -0.025506349214068767\n",
      "Wind3pm_SSW has weight of -0.022212183026699514\n",
      "GustDir_NW has weight of -0.0165629542277067\n",
      "GustDir_NE has weight of -0.01652828311358445\n",
      "Wind3pm_SE has weight of -0.013898066362292119\n",
      "GustDir_NNW has weight of -0.012066760422310203\n",
      "Wind9am_SSW has weight of -0.010088762128242433\n",
      "GustDir_W has weight of -0.007774133974440691\n",
      "GustDir_WNW has weight of -0.0064351067833914935\n",
      "Wind9am_NNW has weight of -0.005182583224100814\n",
      "GustDir_ENE has weight of -0.00313517424206536\n",
      "Wind3pm_ENE has weight of -0.0021260009308978678\n",
      "IsRainToday has weight of 0.0\n",
      "Wind9am_N has weight of 0.0006603521759038752\n",
      "Wind3pm_WSW has weight of 0.0034291537765468293\n",
      "GustDir_E has weight of 0.003582274855192408\n",
      "GustDir_ESE has weight of 0.0036600560433375693\n",
      "Wind3pm_W has weight of 0.007230120827503978\n",
      "Cloud9am has weight of 0.00738041585106414\n",
      "GustDir_WSW has weight of 0.008072955898081376\n",
      "GustDir_SSW has weight of 0.0087152594478393\n",
      "Wind9am_NW has weight of 0.010874283807042674\n",
      "GustDir_S has weight of 0.012466151158404873\n",
      "Wind3pm_NNE has weight of 0.018898761251570664\n",
      "GustDir_SSE has weight of 0.02009287187146368\n",
      "Humidity9am has weight of 0.02094395288884783\n",
      "Wind9am_ENE has weight of 0.020961469845669347\n",
      "Wind9am_NE has weight of 0.026300764556678125\n",
      "GustDir_SW has weight of 0.027368417074374086\n",
      "Wind9am_WNW has weight of 0.027775426569785683\n",
      "Wind9am_W has weight of 0.02790938485084332\n",
      "Wind9am_SW has weight of 0.03022403801155594\n",
      "Wind3pm_N has weight of 0.032480224479473636\n",
      "Wind9am_WSW has weight of 0.04355638823671172\n",
      "Wind3pm_WNW has weight of 0.04728236467907188\n",
      "GustDir_SE has weight of 0.05086818731409372\n",
      "Wind3pm_NW has weight of 0.05618512020353346\n",
      "Wind9am_NNE has weight of 0.05706587143686589\n",
      "Wind3pm_NNW has weight of 0.06939590084975944\n",
      "Rainfall has weight of 0.07629559295916319\n",
      "Temp9am has weight of 0.29731371226769066\n",
      "Temp3pm has weight of 0.4067642622112865\n",
      "Cloud3pm has weight of 0.4808138320765748\n",
      "WindGustSpeed has weight of 0.7155178319678143\n",
      "Pressure9am has weight of 0.837643935177023\n",
      "Humidity3pm has weight of 1.0652316327435813\n"
     ]
    }
   ],
   "source": [
    "#StandardScaler for df_impute\n",
    "\n",
    "from sklearn.preprocessing import StandardScaler\n",
    "\n",
    "\n",
    "# we want to normalize the features based upon the mean and standard deviation of each column. \n",
    "# However, we do not want to accidentally use the testing data to find out the mean and std (this would be snooping)\n",
    "# to Make things easier, let's start by just using whatever was last stored in the variables:\n",
    "##    X_train , y_train , X_test, y_test (they were set in a for loop above)\n",
    "\n",
    "# scale attributes by the training set\n",
    "scl_obj = StandardScaler()\n",
    "scl_obj.fit(X_train) # find scalings for each column that make this zero mean and unit std\n",
    "# the line of code above only looks at training data to get mean and std and we can use it \n",
    "# to transform new feature data\n",
    "\n",
    "X_train_scaled = scl_obj.transform(X_train) # apply to training\n",
    "X_test_scaled = scl_obj.transform(X_test) # apply those means and std to the test set (without snooping at the test set values)\n",
    "\n",
    "# train the model just as before\n",
    "lr_clf = LogisticRegression(penalty='l2', C=0.05, solver='liblinear') # get object, the 'C' value is less (can you guess why??)\n",
    "lr_clf.fit(X_train_scaled,y_train)  # train object\n",
    "\n",
    "y_hat = lr_clf.predict(X_test_scaled) # get test set precitions\n",
    "\n",
    "acc = mt.accuracy_score(y_test,y_hat)\n",
    "conf = mt.confusion_matrix(y_test,y_hat)\n",
    "print('accuracy:', acc )\n",
    "print(conf )\n",
    "\n",
    "# sort these attributes and spit them out\n",
    "zip_vars = zip(lr_clf.coef_.T,df_impute.columns) # combine attributes\n",
    "zip_vars = sorted(zip_vars)\n",
    "for coef, name in zip_vars:\n",
    "    print(name, 'has weight of', coef[0]) # now print them outv"
   ]
  },
  {
   "cell_type": "code",
   "execution_count": null,
   "id": "45fa240d",
   "metadata": {},
   "outputs": [],
   "source": [
    "#StandardScaler for oversampled\n",
    "\n",
    "from sklearn.preprocessing import StandardScaler\n",
    "\n",
    "\n",
    "# we want to normalize the features based upon the mean and standard deviation of each column. \n",
    "# However, we do not want to accidentally use the testing data to find out the mean and std (this would be snooping)\n",
    "# to Make things easier, let's start by just using whatever was last stored in the variables:\n",
    "##    X_train , y_train , X_test, y_test (they were set in a for loop above)\n",
    "\n",
    "# scale attributes by the training set\n",
    "scl_obj = StandardScaler()\n",
    "scl_obj.fit(X_train) # find scalings for each column that make this zero mean and unit std\n",
    "# the line of code above only looks at training data to get mean and std and we can use it \n",
    "# to transform new feature data\n",
    "\n",
    "X_train_scaled = scl_obj.transform(X_train) # apply to training\n",
    "X_test_scaled = scl_obj.transform(X_test) # apply those means and std to the test set (without snooping at the test set values)\n",
    "\n",
    "# train the model just as before\n",
    "lr_clf = LogisticRegression(penalty='l2', C=0.05, solver='liblinear') # get object, the 'C' value is less (can you guess why??)\n",
    "lr_clf.fit(X_train_scaled,y_train)  # train object\n",
    "\n",
    "y_hat = lr_clf.predict(X_test_scaled) # get test set precitions\n",
    "\n",
    "acc = mt.accuracy_score(y_test,y_hat)\n",
    "conf = mt.confusion_matrix(y_test,y_hat)\n",
    "print('accuracy:', acc )\n",
    "print(conf )\n",
    "\n",
    "# sort these attributes and spit them out\n",
    "zip_vars = zip(lr_clf.coef_.T,oversampled.columns) # combine attributes\n",
    "zip_vars = sorted(zip_vars)\n",
    "for coef, name in zip_vars:\n",
    "    print(name, 'has weight of', coef[0]) # now print them outv"
   ]
  },
  {
   "cell_type": "markdown",
   "id": "bc4a5605",
   "metadata": {},
   "source": [
    "### Needs attention"
   ]
  },
  {
   "cell_type": "code",
   "execution_count": null,
   "id": "418afa7a",
   "metadata": {},
   "outputs": [],
   "source": [
    "# now let's make a pandas Series with the names and values, and plot them\n",
    "from matplotlib import pyplot as plt\n",
    "%matplotlib inline\n",
    "plt.style.use('ggplot')\n",
    "\n",
    "\n",
    "weights = pd.Series(lr_clf.coef_[0],index=oversampled.columns)\n",
    "weights.plot(kind='bar')\n",
    "plt.show()"
   ]
  },
  {
   "cell_type": "code",
   "execution_count": null,
   "id": "7efcbd1c",
   "metadata": {},
   "outputs": [],
   "source": [
    "from sklearn.preprocessing import StandardScaler\n",
    "# we want to normalize the features based upon the mean and standard deviation of each column. \n",
    "# However, we do not want to accidentally use the testing data to find out the mean and std (this would be snooping)\n",
    "\n",
    "from sklearn.pipeline import Pipeline\n",
    "# you can apply the StandardScaler function inside of the cross-validation loop \n",
    "#  but this requires the use of PipeLines in scikit. \n",
    "#  A pipeline can apply feature pre-processing and data fitting in one compact notation\n",
    "#  Here is an example!\n",
    "\n",
    "std_scl = StandardScaler()\n",
    "lr_clf = LogisticRegression(penalty='l2', C=0.05, solver='liblinear') \n",
    "\n",
    "# create the pipline\n",
    "piped_object = Pipeline([('scale', std_scl),  # do this\n",
    "                         ('logit_model', lr_clf)]) # and then do this\n",
    "\n",
    "weights = []\n",
    "# run the pipline cross validated\n",
    "for iter_num, (train_indices, test_indices) in enumerate(cv_object.split(X,y)):\n",
    "    piped_object.fit(X_new[train_indices],y[train_indices])  # train object\n",
    "    # it is a little odd getting trained objects from a  pipeline:\n",
    "    weights.append(piped_object.named_steps['logit_model'].coef_[0])\n",
    "    \n",
    "\n",
    "weights = np.array(weights)"
   ]
  },
  {
   "cell_type": "markdown",
   "id": "2d64616c",
   "metadata": {},
   "source": [
    "## Needs Attention"
   ]
  },
  {
   "cell_type": "code",
   "execution_count": null,
   "id": "8b17d4f4",
   "metadata": {},
   "outputs": [],
   "source": [
    "import plotly\n",
    "plotly.offline.init_notebook_mode() # run at the start of every notebook\n",
    "\n",
    "error_y=dict(\n",
    "            type='data',\n",
    "            array=np.std(weights,axis=0),\n",
    "            visible=True\n",
    "        )\n",
    "\n",
    "graph1 = {'x': oversampled.columns,\n",
    "          'y': np.mean(weights,axis=0),\n",
    "    'error_y':error_y,\n",
    "       'type': 'bar'}\n",
    "\n",
    "fig = dict()\n",
    "fig['data'] = [graph1]\n",
    "fig['layout'] = {'title': 'Logistic Regression Weights, with error bars'}\n",
    "\n",
    "plotly.offline.iplot(fig)"
   ]
  },
  {
   "cell_type": "markdown",
   "id": "66e45886",
   "metadata": {},
   "source": [
    "### Needs Attention***  need to decide on the attributes for Xnew. "
   ]
  },
  {
   "cell_type": "code",
   "execution_count": null,
   "id": "1b727b23",
   "metadata": {},
   "outputs": [],
   "source": [
    "\n",
    "Xnew = oversampled[['Year','WindGustSpeed','RainToday']].values\n",
    "\n",
    "weights = []\n",
    "# run the pipline corssvalidated\n",
    "for iter_num, (train_indices, test_indices) in enumerate(cv_object.split(Xnew,y)):\n",
    "    piped_object.fit(Xnew[train_indices],y[train_indices])  # train object\n",
    "    weights.append(piped_object.named_steps['logit_model'].coef_[0])\n",
    "    \n",
    "weights = np.array(weights)\n",
    "\n",
    "error_y=dict(\n",
    "            type='data',\n",
    "            array=np.std(weights,axis=0),\n",
    "            visible=True\n",
    "        )\n",
    "\n",
    "graph1 = {'x': ['Year','WindGustSpeed','RainToday'],\n",
    "          'y': np.mean(weights,axis=0),\n",
    "    'error_y':error_y,\n",
    "       'type': 'bar'}\n",
    "\n",
    "fig = dict()\n",
    "fig['data'] = [graph1]\n",
    "fig['layout'] = {'title': 'Logistic Regression Weights, with error bars'}\n",
    "\n",
    "plotly.offline.iplot(fig)"
   ]
  },
  {
   "cell_type": "code",
   "execution_count": null,
   "id": "4e703154",
   "metadata": {},
   "outputs": [],
   "source": [
    "import lime\n",
    "from lime import lime_tabular"
   ]
  },
  {
   "cell_type": "markdown",
   "id": "6cc40e2f",
   "metadata": {},
   "source": [
    "## SVM Models"
   ]
  },
  {
   "cell_type": "code",
   "execution_count": null,
   "id": "49223b0f",
   "metadata": {},
   "outputs": [],
   "source": []
  },
  {
   "cell_type": "code",
   "execution_count": 49,
   "id": "2ca22bc2",
   "metadata": {},
   "outputs": [],
   "source": [
    "#SVM Using df_impute\n",
    "\n",
    "# okay, so run through the cross validation loop and set the training and testing variable for one single iteration\n",
    "for train_indices, test_indices in cv_object.split(X,y): \n",
    "    # I will create new variables here so that it is more obvious what \n",
    "    # the code is doing (you can compact this syntax and avoid duplicating memory,\n",
    "    # but it makes this code less readable)\n",
    "    X_train = X[train_indices]\n",
    "    y_train = y[train_indices]\n",
    "    \n",
    "    X_test = X[test_indices]\n",
    "    y_test = y[test_indices]\n",
    "    \n",
    "X_train_scaled = scl_obj.transform(X_train) # apply to training\n",
    "X_test_scaled = scl_obj.transform(X_test)"
   ]
  },
  {
   "cell_type": "code",
   "execution_count": null,
   "id": "bf9a3730",
   "metadata": {},
   "outputs": [],
   "source": [
    "##SVM Using df_impute dataframe\n",
    "\n",
    "# lets investigate SVMs on the data and play with the parameters and kernels\n",
    "from sklearn.svm import SVC\n",
    "\n",
    "# train the model just as before\n",
    "svm_clf = SVC(C=0.5, kernel='rbf', degree=3, gamma='auto') # get object\n",
    "svm_clf.fit(X_train_scaled, y_train)  # train object\n",
    "\n",
    "y_hat = svm_clf.predict(X_test_scaled) # get test set precitions\n",
    "\n",
    "acc = mt.accuracy_score(y_test,y_hat)\n",
    "conf = mt.confusion_matrix(y_test,y_hat)\n",
    "print('accuracy:', acc )\n",
    "print(conf)"
   ]
  },
  {
   "cell_type": "code",
   "execution_count": null,
   "id": "20f5e197",
   "metadata": {},
   "outputs": [],
   "source": [
    "#SVM Using oversampled dataframe\n",
    "\n",
    "# okay, so run through the cross validation loop and set the training and testing variable for one single iteration\n",
    "for train_indices, test_indices in cv_object.split_over(X,y): \n",
    "    # I will create new variables here so that it is more obvious what \n",
    "    # the code is doing (you can compact this syntax and avoid duplicating memory,\n",
    "    # but it makes this code less readable)\n",
    "    X_train = X[train_indices]\n",
    "    y_train = y[train_indices]\n",
    "    \n",
    "    X_test = X[test_indices]\n",
    "    y_test = y[test_indices]\n",
    "    \n",
    "X_train_scaled = scl_obj.transform(X_train) # apply to training\n",
    "X_test_scaled = scl_obj.transform(X_test)"
   ]
  },
  {
   "cell_type": "code",
   "execution_count": null,
   "id": "58409e0a",
   "metadata": {},
   "outputs": [],
   "source": [
    "##SVM Using df_impute\n",
    "\n",
    "# lets investigate SVMs on the data and play with the parameters and kernels\n",
    "from sklearn.svm import SVC\n",
    "\n",
    "# train the model just as before\n",
    "svm_clf = SVC(C=0.5, kernel='rbf', degree=3, gamma='auto') # get object\n",
    "svm_clf.fit(X_train_scaled, y_train)  # train object\n",
    "\n",
    "y_hat = svm_clf.predict(X_test_scaled) # get test set precitions\n",
    "\n",
    "acc = mt.accuracy_score(y_test,y_hat)\n",
    "conf = mt.confusion_matrix(y_test,y_hat)\n",
    "print('accuracy:', acc )\n",
    "print(conf)"
   ]
  },
  {
   "cell_type": "code",
   "execution_count": null,
   "id": "e789d5b8",
   "metadata": {},
   "outputs": [],
   "source": [
    "# look at the support vectors\n",
    "print(svm_clf.support_vectors_.shape)\n",
    "print(svm_clf.support_.shape)\n",
    "print(svm_clf.n_support_ )"
   ]
  },
  {
   "cell_type": "code",
   "execution_count": null,
   "id": "c682c53c",
   "metadata": {},
   "outputs": [],
   "source": [
    "print(svm_clf.coef_)\n",
    "weights = pd.Series(svm_clf.coef_[0],index=df_imputed.columns)\n",
    "weights.plot(kind='bar')"
   ]
  },
  {
   "cell_type": "code",
   "execution_count": null,
   "id": "ff3c0108",
   "metadata": {},
   "outputs": [],
   "source": [
    "# Now let's do some different analysis with the SVM and look at the instances that were chosen as support vectors\n",
    "\n",
    "# now lets look at the support for the vectors and see if we they are indicative of anything\n",
    "# grabe the rows that were selected as support vectors (these are usually instances that are hard to classify)\n",
    "\n",
    "# make a dataframe of the training data\n",
    "df_tested_on = oversampled.iloc[train_indices].copy() # saved from above, the indices chosen for training\n",
    "# now get the support vectors from the trained model\n",
    "df_support = oversampled.iloc[svm_clf.support_,:].copy()\n",
    "\n",
    "df_support['RainTomorrow'] = y[svm_clf.support_] # add back in the 'Survived' Column to the pandas dataframe\n",
    "oversampled['RainTomorrow'] = y # also add it back in for the original data\n",
    "df_support.info()"
   ]
  },
  {
   "cell_type": "code",
   "execution_count": null,
   "id": "b7b8ee02",
   "metadata": {},
   "outputs": [],
   "source": [
    "# now lets see the statistics of these attributes\n",
    "from pandas.plotting import boxplot\n",
    "\n",
    "# group the original data and the support vectors\n",
    "df_grouped_support = df_support.groupby(['RainTomorrow'])\n",
    "df_grouped = oversampled.groupby(['RainTomorrow'])\n",
    "\n",
    "# plot KDE of Different variables\n",
    "vars_to_plot = ['Date','WindGustDir','RainToday','RainfallAmount']\n",
    "\n",
    "for v in vars_to_plot:\n",
    "    plt.figure(figsize=(10,4))\n",
    "    # plot support vector stats\n",
    "    plt.subplot(1,2,1)\n",
    "    ax = df_grouped_support[v].plot.kde() \n",
    "    plt.legend(['No','Yes'])\n",
    "    plt.title(v+' (Instances chosen as Support Vectors)')\n",
    "    \n",
    "    # plot original distributions\n",
    "    plt.subplot(1,2,2)\n",
    "    ax = df_grouped[v].plot.kde() \n",
    "    plt.legend(['No','Yes'])\n",
    "    plt.title(v+' (Original)')"
   ]
  },
  {
   "cell_type": "code",
   "execution_count": null,
   "id": "f2de21e4",
   "metadata": {},
   "outputs": [],
   "source": []
  }
 ],
 "metadata": {
  "kernelspec": {
   "display_name": "Python 3",
   "language": "python",
   "name": "python3"
  },
  "language_info": {
   "codemirror_mode": {
    "name": "ipython",
    "version": 3
   },
   "file_extension": ".py",
   "mimetype": "text/x-python",
   "name": "python",
   "nbconvert_exporter": "python",
   "pygments_lexer": "ipython3",
   "version": "3.8.8"
  }
 },
 "nbformat": 4,
 "nbformat_minor": 5
}
