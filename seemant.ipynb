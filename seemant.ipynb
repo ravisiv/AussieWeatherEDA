{
 "cells": [
  {
   "cell_type": "markdown",
   "id": "93ad3adb",
   "metadata": {},
   "source": [
    "# Lab 2 : Classification\n",
    "\n",
    "### Group 3 - Members:\n",
    "\n",
    "_Tai Chowdhury_<br>\n",
    "_Apurv Mittal_<br>\n",
    "_Ravi Sivaraman_<br>\n",
    "_Seemant Srivastava_<br>\n"
   ]
  },
  {
   "cell_type": "markdown",
   "id": "cf72d996",
   "metadata": {},
   "source": [
    "## Data Preparation Part 1"
   ]
  },
  {
   "cell_type": "markdown",
   "id": "b047d25c",
   "metadata": {},
   "source": [
    "As discussed in Lab 1, we have acquired the Australian Weather dataset from Kaggle portal. It contains 10 years of weather data collected from many locations across Australia. These are daily weather observations. There are 145,459 observations with 23 attributes in the original dataset. \n",
    "\n",
    "We have chosen `RainTomorrow` (categorical) and `Rainfall` (continuous) as predictor variables. RainTomorrow is a categorical attribute which indicates whether it is going to rain tomorrow - yes or no. Rainfall is a continuous attribute that measures amount of rainfall each of the particular locations have received (in mm). Using our models, we will be able to design an algorithm where the bureau can help to predict rainfall for different regions in Australia.\n",
    "\n",
    "In this Lab 2 assignment, we have measured the accuracy and effectiveness of our model for categorical variable RainTomorrow by using 10-fold cross validation against the confusion matrix measurements like: Precision, Recall and Accuracy. We have explored the methods of logistic regression and support vector machine (SVM) models on our dataset. \n",
    "\n",
    "We have used `scikit-learn` packages for our exploration. We ran logistic regression models with all the available solvers in the `scikit-learn` package and compare the effictiveness and accuracy of the model to predict `RainfallTomorrow`. We also measured the duration of model run from each models to compare model performance and efficiency as well.\n",
    " \n",
    "To get started, we will start with loading all the necessary packages for our analysis. We will start our analysis with `df_impute` which is the imputed dataframe from our last explanatory data analysis Lab 1 project. Using this dataframe will ensure data consistency for all the labs going forward."
   ]
  },
  {
   "cell_type": "code",
   "execution_count": 1,
   "id": "ba8a5b7a",
   "metadata": {},
   "outputs": [],
   "source": [
    "# Import libraries\n",
    "\n",
    "import pandas as pd\n",
    "import numpy as np\n",
    "import seaborn as sns\n",
    "import matplotlib.pyplot as plt\n",
    "import plotly.graph_objs as go\n",
    "from scipy import stats\n",
    "import warnings\n",
    "from shapely.geometry import Point\n",
    "import plotly.express as px\n",
    "from sklearn.linear_model import LogisticRegression\n",
    "from sklearn import metrics as mt\n",
    "from sklearn.model_selection import ShuffleSplit\n",
    "from sklearn.utils import resample\n",
    "\n",
    "from sklearn.preprocessing import StandardScaler\n",
    "from sklearn.metrics import classification_report\n",
    "from sklearn.svm import SVC\n",
    "from sklearn.metrics import roc_curve, auc\n",
    "from sklearn import metrics"
   ]
  },
  {
   "cell_type": "code",
   "execution_count": 2,
   "id": "a2dc22b3",
   "metadata": {},
   "outputs": [],
   "source": [
    "#Ignore Warnings on final\n",
    "\n",
    "warnings.filterwarnings('ignore')"
   ]
  },
  {
   "cell_type": "code",
   "execution_count": 3,
   "id": "1fdf1c7b",
   "metadata": {},
   "outputs": [],
   "source": [
    "#Original Data\n",
    "df = pd.read_csv(\"weatherAUS.csv\")"
   ]
  },
  {
   "cell_type": "code",
   "execution_count": 4,
   "id": "51bfcc9d",
   "metadata": {},
   "outputs": [
    {
     "data": {
      "text/html": [
       "<div>\n",
       "<style scoped>\n",
       "    .dataframe tbody tr th:only-of-type {\n",
       "        vertical-align: middle;\n",
       "    }\n",
       "\n",
       "    .dataframe tbody tr th {\n",
       "        vertical-align: top;\n",
       "    }\n",
       "\n",
       "    .dataframe thead th {\n",
       "        text-align: right;\n",
       "    }\n",
       "</style>\n",
       "<table border=\"1\" class=\"dataframe\">\n",
       "  <thead>\n",
       "    <tr style=\"text-align: right;\">\n",
       "      <th></th>\n",
       "      <th>Date</th>\n",
       "      <th>Location</th>\n",
       "      <th>MinTemp</th>\n",
       "      <th>MaxTemp</th>\n",
       "      <th>Rainfall</th>\n",
       "      <th>Evaporation</th>\n",
       "      <th>Sunshine</th>\n",
       "      <th>WindGustDir</th>\n",
       "      <th>WindGustSpeed</th>\n",
       "      <th>WindDir9am</th>\n",
       "      <th>...</th>\n",
       "      <th>Humidity9am</th>\n",
       "      <th>Humidity3pm</th>\n",
       "      <th>Pressure9am</th>\n",
       "      <th>Pressure3pm</th>\n",
       "      <th>Cloud9am</th>\n",
       "      <th>Cloud3pm</th>\n",
       "      <th>Temp9am</th>\n",
       "      <th>Temp3pm</th>\n",
       "      <th>RainToday</th>\n",
       "      <th>RainTomorrow</th>\n",
       "    </tr>\n",
       "  </thead>\n",
       "  <tbody>\n",
       "    <tr>\n",
       "      <th>0</th>\n",
       "      <td>12/1/08</td>\n",
       "      <td>Albury</td>\n",
       "      <td>13.4</td>\n",
       "      <td>22.9</td>\n",
       "      <td>0.6</td>\n",
       "      <td>NaN</td>\n",
       "      <td>NaN</td>\n",
       "      <td>W</td>\n",
       "      <td>44.0</td>\n",
       "      <td>W</td>\n",
       "      <td>...</td>\n",
       "      <td>71.0</td>\n",
       "      <td>22.0</td>\n",
       "      <td>1007.7</td>\n",
       "      <td>1007.1</td>\n",
       "      <td>8.0</td>\n",
       "      <td>NaN</td>\n",
       "      <td>16.9</td>\n",
       "      <td>21.8</td>\n",
       "      <td>No</td>\n",
       "      <td>No</td>\n",
       "    </tr>\n",
       "    <tr>\n",
       "      <th>1</th>\n",
       "      <td>12/2/08</td>\n",
       "      <td>Albury</td>\n",
       "      <td>7.4</td>\n",
       "      <td>25.1</td>\n",
       "      <td>0.0</td>\n",
       "      <td>NaN</td>\n",
       "      <td>NaN</td>\n",
       "      <td>WNW</td>\n",
       "      <td>44.0</td>\n",
       "      <td>NNW</td>\n",
       "      <td>...</td>\n",
       "      <td>44.0</td>\n",
       "      <td>25.0</td>\n",
       "      <td>1010.6</td>\n",
       "      <td>1007.8</td>\n",
       "      <td>NaN</td>\n",
       "      <td>NaN</td>\n",
       "      <td>17.2</td>\n",
       "      <td>24.3</td>\n",
       "      <td>No</td>\n",
       "      <td>No</td>\n",
       "    </tr>\n",
       "    <tr>\n",
       "      <th>2</th>\n",
       "      <td>12/3/08</td>\n",
       "      <td>Albury</td>\n",
       "      <td>12.9</td>\n",
       "      <td>25.7</td>\n",
       "      <td>0.0</td>\n",
       "      <td>NaN</td>\n",
       "      <td>NaN</td>\n",
       "      <td>WSW</td>\n",
       "      <td>46.0</td>\n",
       "      <td>W</td>\n",
       "      <td>...</td>\n",
       "      <td>38.0</td>\n",
       "      <td>30.0</td>\n",
       "      <td>1007.6</td>\n",
       "      <td>1008.7</td>\n",
       "      <td>NaN</td>\n",
       "      <td>2.0</td>\n",
       "      <td>21.0</td>\n",
       "      <td>23.2</td>\n",
       "      <td>No</td>\n",
       "      <td>No</td>\n",
       "    </tr>\n",
       "    <tr>\n",
       "      <th>3</th>\n",
       "      <td>12/4/08</td>\n",
       "      <td>Albury</td>\n",
       "      <td>9.2</td>\n",
       "      <td>28.0</td>\n",
       "      <td>0.0</td>\n",
       "      <td>NaN</td>\n",
       "      <td>NaN</td>\n",
       "      <td>NE</td>\n",
       "      <td>24.0</td>\n",
       "      <td>SE</td>\n",
       "      <td>...</td>\n",
       "      <td>45.0</td>\n",
       "      <td>16.0</td>\n",
       "      <td>1017.6</td>\n",
       "      <td>1012.8</td>\n",
       "      <td>NaN</td>\n",
       "      <td>NaN</td>\n",
       "      <td>18.1</td>\n",
       "      <td>26.5</td>\n",
       "      <td>No</td>\n",
       "      <td>No</td>\n",
       "    </tr>\n",
       "    <tr>\n",
       "      <th>4</th>\n",
       "      <td>12/5/08</td>\n",
       "      <td>Albury</td>\n",
       "      <td>17.5</td>\n",
       "      <td>32.3</td>\n",
       "      <td>1.0</td>\n",
       "      <td>NaN</td>\n",
       "      <td>NaN</td>\n",
       "      <td>W</td>\n",
       "      <td>41.0</td>\n",
       "      <td>ENE</td>\n",
       "      <td>...</td>\n",
       "      <td>82.0</td>\n",
       "      <td>33.0</td>\n",
       "      <td>1010.8</td>\n",
       "      <td>1006.0</td>\n",
       "      <td>7.0</td>\n",
       "      <td>8.0</td>\n",
       "      <td>17.8</td>\n",
       "      <td>29.7</td>\n",
       "      <td>No</td>\n",
       "      <td>No</td>\n",
       "    </tr>\n",
       "  </tbody>\n",
       "</table>\n",
       "<p>5 rows × 23 columns</p>\n",
       "</div>"
      ],
      "text/plain": [
       "      Date Location  MinTemp  MaxTemp  Rainfall  Evaporation  Sunshine  \\\n",
       "0  12/1/08   Albury     13.4     22.9       0.6          NaN       NaN   \n",
       "1  12/2/08   Albury      7.4     25.1       0.0          NaN       NaN   \n",
       "2  12/3/08   Albury     12.9     25.7       0.0          NaN       NaN   \n",
       "3  12/4/08   Albury      9.2     28.0       0.0          NaN       NaN   \n",
       "4  12/5/08   Albury     17.5     32.3       1.0          NaN       NaN   \n",
       "\n",
       "  WindGustDir  WindGustSpeed WindDir9am  ... Humidity9am  Humidity3pm  \\\n",
       "0           W           44.0          W  ...        71.0         22.0   \n",
       "1         WNW           44.0        NNW  ...        44.0         25.0   \n",
       "2         WSW           46.0          W  ...        38.0         30.0   \n",
       "3          NE           24.0         SE  ...        45.0         16.0   \n",
       "4           W           41.0        ENE  ...        82.0         33.0   \n",
       "\n",
       "   Pressure9am  Pressure3pm  Cloud9am  Cloud3pm  Temp9am  Temp3pm  RainToday  \\\n",
       "0       1007.7       1007.1       8.0       NaN     16.9     21.8         No   \n",
       "1       1010.6       1007.8       NaN       NaN     17.2     24.3         No   \n",
       "2       1007.6       1008.7       NaN       2.0     21.0     23.2         No   \n",
       "3       1017.6       1012.8       NaN       NaN     18.1     26.5         No   \n",
       "4       1010.8       1006.0       7.0       8.0     17.8     29.7         No   \n",
       "\n",
       "   RainTomorrow  \n",
       "0            No  \n",
       "1            No  \n",
       "2            No  \n",
       "3            No  \n",
       "4            No  \n",
       "\n",
       "[5 rows x 23 columns]"
      ]
     },
     "execution_count": 4,
     "metadata": {},
     "output_type": "execute_result"
    }
   ],
   "source": [
    "df.head()"
   ]
  },
  {
   "cell_type": "markdown",
   "id": "a3d8df65",
   "metadata": {},
   "source": [
    "#### Dropping columns"
   ]
  },
  {
   "cell_type": "markdown",
   "id": "08390baf",
   "metadata": {},
   "source": [
    "We decided to drop `Date` and `Location` as they are not pertinent to our analysis in this Lab 2 project."
   ]
  },
  {
   "cell_type": "code",
   "execution_count": 5,
   "id": "d828e6c1",
   "metadata": {},
   "outputs": [
    {
     "data": {
      "text/html": [
       "<div>\n",
       "<style scoped>\n",
       "    .dataframe tbody tr th:only-of-type {\n",
       "        vertical-align: middle;\n",
       "    }\n",
       "\n",
       "    .dataframe tbody tr th {\n",
       "        vertical-align: top;\n",
       "    }\n",
       "\n",
       "    .dataframe thead th {\n",
       "        text-align: right;\n",
       "    }\n",
       "</style>\n",
       "<table border=\"1\" class=\"dataframe\">\n",
       "  <thead>\n",
       "    <tr style=\"text-align: right;\">\n",
       "      <th></th>\n",
       "      <th>MinTemp</th>\n",
       "      <th>MaxTemp</th>\n",
       "      <th>Rainfall</th>\n",
       "      <th>Evaporation</th>\n",
       "      <th>Sunshine</th>\n",
       "      <th>WindGustDir</th>\n",
       "      <th>WindGustSpeed</th>\n",
       "      <th>WindDir9am</th>\n",
       "      <th>WindDir3pm</th>\n",
       "      <th>WindSpeed9am</th>\n",
       "      <th>...</th>\n",
       "      <th>Humidity9am</th>\n",
       "      <th>Humidity3pm</th>\n",
       "      <th>Pressure9am</th>\n",
       "      <th>Pressure3pm</th>\n",
       "      <th>Cloud9am</th>\n",
       "      <th>Cloud3pm</th>\n",
       "      <th>Temp9am</th>\n",
       "      <th>Temp3pm</th>\n",
       "      <th>RainToday</th>\n",
       "      <th>RainTomorrow</th>\n",
       "    </tr>\n",
       "  </thead>\n",
       "  <tbody>\n",
       "    <tr>\n",
       "      <th>0</th>\n",
       "      <td>13.4</td>\n",
       "      <td>22.9</td>\n",
       "      <td>0.6</td>\n",
       "      <td>NaN</td>\n",
       "      <td>NaN</td>\n",
       "      <td>W</td>\n",
       "      <td>44.0</td>\n",
       "      <td>W</td>\n",
       "      <td>WNW</td>\n",
       "      <td>20.0</td>\n",
       "      <td>...</td>\n",
       "      <td>71.0</td>\n",
       "      <td>22.0</td>\n",
       "      <td>1007.7</td>\n",
       "      <td>1007.1</td>\n",
       "      <td>8.0</td>\n",
       "      <td>NaN</td>\n",
       "      <td>16.9</td>\n",
       "      <td>21.8</td>\n",
       "      <td>No</td>\n",
       "      <td>No</td>\n",
       "    </tr>\n",
       "    <tr>\n",
       "      <th>1</th>\n",
       "      <td>7.4</td>\n",
       "      <td>25.1</td>\n",
       "      <td>0.0</td>\n",
       "      <td>NaN</td>\n",
       "      <td>NaN</td>\n",
       "      <td>WNW</td>\n",
       "      <td>44.0</td>\n",
       "      <td>NNW</td>\n",
       "      <td>WSW</td>\n",
       "      <td>4.0</td>\n",
       "      <td>...</td>\n",
       "      <td>44.0</td>\n",
       "      <td>25.0</td>\n",
       "      <td>1010.6</td>\n",
       "      <td>1007.8</td>\n",
       "      <td>NaN</td>\n",
       "      <td>NaN</td>\n",
       "      <td>17.2</td>\n",
       "      <td>24.3</td>\n",
       "      <td>No</td>\n",
       "      <td>No</td>\n",
       "    </tr>\n",
       "    <tr>\n",
       "      <th>2</th>\n",
       "      <td>12.9</td>\n",
       "      <td>25.7</td>\n",
       "      <td>0.0</td>\n",
       "      <td>NaN</td>\n",
       "      <td>NaN</td>\n",
       "      <td>WSW</td>\n",
       "      <td>46.0</td>\n",
       "      <td>W</td>\n",
       "      <td>WSW</td>\n",
       "      <td>19.0</td>\n",
       "      <td>...</td>\n",
       "      <td>38.0</td>\n",
       "      <td>30.0</td>\n",
       "      <td>1007.6</td>\n",
       "      <td>1008.7</td>\n",
       "      <td>NaN</td>\n",
       "      <td>2.0</td>\n",
       "      <td>21.0</td>\n",
       "      <td>23.2</td>\n",
       "      <td>No</td>\n",
       "      <td>No</td>\n",
       "    </tr>\n",
       "    <tr>\n",
       "      <th>3</th>\n",
       "      <td>9.2</td>\n",
       "      <td>28.0</td>\n",
       "      <td>0.0</td>\n",
       "      <td>NaN</td>\n",
       "      <td>NaN</td>\n",
       "      <td>NE</td>\n",
       "      <td>24.0</td>\n",
       "      <td>SE</td>\n",
       "      <td>E</td>\n",
       "      <td>11.0</td>\n",
       "      <td>...</td>\n",
       "      <td>45.0</td>\n",
       "      <td>16.0</td>\n",
       "      <td>1017.6</td>\n",
       "      <td>1012.8</td>\n",
       "      <td>NaN</td>\n",
       "      <td>NaN</td>\n",
       "      <td>18.1</td>\n",
       "      <td>26.5</td>\n",
       "      <td>No</td>\n",
       "      <td>No</td>\n",
       "    </tr>\n",
       "    <tr>\n",
       "      <th>4</th>\n",
       "      <td>17.5</td>\n",
       "      <td>32.3</td>\n",
       "      <td>1.0</td>\n",
       "      <td>NaN</td>\n",
       "      <td>NaN</td>\n",
       "      <td>W</td>\n",
       "      <td>41.0</td>\n",
       "      <td>ENE</td>\n",
       "      <td>NW</td>\n",
       "      <td>7.0</td>\n",
       "      <td>...</td>\n",
       "      <td>82.0</td>\n",
       "      <td>33.0</td>\n",
       "      <td>1010.8</td>\n",
       "      <td>1006.0</td>\n",
       "      <td>7.0</td>\n",
       "      <td>8.0</td>\n",
       "      <td>17.8</td>\n",
       "      <td>29.7</td>\n",
       "      <td>No</td>\n",
       "      <td>No</td>\n",
       "    </tr>\n",
       "  </tbody>\n",
       "</table>\n",
       "<p>5 rows × 21 columns</p>\n",
       "</div>"
      ],
      "text/plain": [
       "   MinTemp  MaxTemp  Rainfall  Evaporation  Sunshine WindGustDir  \\\n",
       "0     13.4     22.9       0.6          NaN       NaN           W   \n",
       "1      7.4     25.1       0.0          NaN       NaN         WNW   \n",
       "2     12.9     25.7       0.0          NaN       NaN         WSW   \n",
       "3      9.2     28.0       0.0          NaN       NaN          NE   \n",
       "4     17.5     32.3       1.0          NaN       NaN           W   \n",
       "\n",
       "   WindGustSpeed WindDir9am WindDir3pm  WindSpeed9am  ...  Humidity9am  \\\n",
       "0           44.0          W        WNW          20.0  ...         71.0   \n",
       "1           44.0        NNW        WSW           4.0  ...         44.0   \n",
       "2           46.0          W        WSW          19.0  ...         38.0   \n",
       "3           24.0         SE          E          11.0  ...         45.0   \n",
       "4           41.0        ENE         NW           7.0  ...         82.0   \n",
       "\n",
       "   Humidity3pm  Pressure9am  Pressure3pm  Cloud9am  Cloud3pm  Temp9am  \\\n",
       "0         22.0       1007.7       1007.1       8.0       NaN     16.9   \n",
       "1         25.0       1010.6       1007.8       NaN       NaN     17.2   \n",
       "2         30.0       1007.6       1008.7       NaN       2.0     21.0   \n",
       "3         16.0       1017.6       1012.8       NaN       NaN     18.1   \n",
       "4         33.0       1010.8       1006.0       7.0       8.0     17.8   \n",
       "\n",
       "   Temp3pm  RainToday RainTomorrow  \n",
       "0     21.8         No           No  \n",
       "1     24.3         No           No  \n",
       "2     23.2         No           No  \n",
       "3     26.5         No           No  \n",
       "4     29.7         No           No  \n",
       "\n",
       "[5 rows x 21 columns]"
      ]
     },
     "execution_count": 5,
     "metadata": {},
     "output_type": "execute_result"
    }
   ],
   "source": [
    "df = df.drop(['Date', 'Location'], axis = 1)\n",
    "df.head()"
   ]
  },
  {
   "cell_type": "markdown",
   "id": "98b1f045",
   "metadata": {},
   "source": [
    "\n",
    "We imputed data in EDA project by substituting the missing and `NaN` values. We are reusing the imputed data from EDA (Lab1) project.\n",
    "Here is the link to the EDA for reference:\n",
    "\n",
    "https://nbviewer.jupyter.org/github/ravisiv/AussieWeatherEDA/blob/c0ba412cb75da21eba386ea9ea39f645ad6af1d0/DS7331_Lab1_Group3_Ravi_Taifur_Seemant_Apurv_Submission.ipynb\n"
   ]
  },
  {
   "cell_type": "code",
   "execution_count": 6,
   "id": "4a7ee09c",
   "metadata": {},
   "outputs": [],
   "source": [
    "# Read the Imputed Australia weather data\n",
    "df_impute = pd.read_csv(\"weatherAUS_imputed.csv\")"
   ]
  },
  {
   "cell_type": "code",
   "execution_count": 7,
   "id": "faf05383",
   "metadata": {},
   "outputs": [
    {
     "data": {
      "text/html": [
       "<div>\n",
       "<style scoped>\n",
       "    .dataframe tbody tr th:only-of-type {\n",
       "        vertical-align: middle;\n",
       "    }\n",
       "\n",
       "    .dataframe tbody tr th {\n",
       "        vertical-align: top;\n",
       "    }\n",
       "\n",
       "    .dataframe thead th {\n",
       "        text-align: right;\n",
       "    }\n",
       "</style>\n",
       "<table border=\"1\" class=\"dataframe\">\n",
       "  <thead>\n",
       "    <tr style=\"text-align: right;\">\n",
       "      <th></th>\n",
       "      <th>MinTemp</th>\n",
       "      <th>MaxTemp</th>\n",
       "      <th>Rainfall</th>\n",
       "      <th>Evaporation</th>\n",
       "      <th>Sunshine</th>\n",
       "      <th>WindGustDir</th>\n",
       "      <th>WindGustSpeed</th>\n",
       "      <th>WindDir9am</th>\n",
       "      <th>WindDir3pm</th>\n",
       "      <th>WindSpeed9am</th>\n",
       "      <th>...</th>\n",
       "      <th>Humidity9am</th>\n",
       "      <th>Humidity3pm</th>\n",
       "      <th>Pressure9am</th>\n",
       "      <th>Pressure3pm</th>\n",
       "      <th>Cloud9am</th>\n",
       "      <th>Cloud3pm</th>\n",
       "      <th>Temp9am</th>\n",
       "      <th>Temp3pm</th>\n",
       "      <th>RainToday</th>\n",
       "      <th>RainTomorrow</th>\n",
       "    </tr>\n",
       "  </thead>\n",
       "  <tbody>\n",
       "    <tr>\n",
       "      <th>0</th>\n",
       "      <td>13.4</td>\n",
       "      <td>22.9</td>\n",
       "      <td>0.6</td>\n",
       "      <td>6.032209</td>\n",
       "      <td>8.890686</td>\n",
       "      <td>W</td>\n",
       "      <td>44.0</td>\n",
       "      <td>W</td>\n",
       "      <td>WNW</td>\n",
       "      <td>20.0</td>\n",
       "      <td>...</td>\n",
       "      <td>71.0</td>\n",
       "      <td>22.0</td>\n",
       "      <td>1007.7</td>\n",
       "      <td>1007.1</td>\n",
       "      <td>8.000000</td>\n",
       "      <td>3.684394</td>\n",
       "      <td>16.9</td>\n",
       "      <td>21.8</td>\n",
       "      <td>No</td>\n",
       "      <td>No</td>\n",
       "    </tr>\n",
       "    <tr>\n",
       "      <th>1</th>\n",
       "      <td>7.4</td>\n",
       "      <td>25.1</td>\n",
       "      <td>0.0</td>\n",
       "      <td>6.032209</td>\n",
       "      <td>8.890686</td>\n",
       "      <td>WNW</td>\n",
       "      <td>44.0</td>\n",
       "      <td>NNW</td>\n",
       "      <td>WSW</td>\n",
       "      <td>4.0</td>\n",
       "      <td>...</td>\n",
       "      <td>44.0</td>\n",
       "      <td>25.0</td>\n",
       "      <td>1010.6</td>\n",
       "      <td>1007.8</td>\n",
       "      <td>3.635105</td>\n",
       "      <td>3.684394</td>\n",
       "      <td>17.2</td>\n",
       "      <td>24.3</td>\n",
       "      <td>No</td>\n",
       "      <td>No</td>\n",
       "    </tr>\n",
       "    <tr>\n",
       "      <th>2</th>\n",
       "      <td>12.9</td>\n",
       "      <td>25.7</td>\n",
       "      <td>0.0</td>\n",
       "      <td>6.032209</td>\n",
       "      <td>8.890686</td>\n",
       "      <td>WSW</td>\n",
       "      <td>46.0</td>\n",
       "      <td>W</td>\n",
       "      <td>WSW</td>\n",
       "      <td>19.0</td>\n",
       "      <td>...</td>\n",
       "      <td>38.0</td>\n",
       "      <td>30.0</td>\n",
       "      <td>1007.6</td>\n",
       "      <td>1008.7</td>\n",
       "      <td>3.635105</td>\n",
       "      <td>2.000000</td>\n",
       "      <td>21.0</td>\n",
       "      <td>23.2</td>\n",
       "      <td>No</td>\n",
       "      <td>No</td>\n",
       "    </tr>\n",
       "    <tr>\n",
       "      <th>3</th>\n",
       "      <td>9.2</td>\n",
       "      <td>28.0</td>\n",
       "      <td>0.0</td>\n",
       "      <td>6.032209</td>\n",
       "      <td>8.890686</td>\n",
       "      <td>NE</td>\n",
       "      <td>24.0</td>\n",
       "      <td>SE</td>\n",
       "      <td>E</td>\n",
       "      <td>11.0</td>\n",
       "      <td>...</td>\n",
       "      <td>45.0</td>\n",
       "      <td>16.0</td>\n",
       "      <td>1017.6</td>\n",
       "      <td>1012.8</td>\n",
       "      <td>3.635105</td>\n",
       "      <td>3.684394</td>\n",
       "      <td>18.1</td>\n",
       "      <td>26.5</td>\n",
       "      <td>No</td>\n",
       "      <td>No</td>\n",
       "    </tr>\n",
       "    <tr>\n",
       "      <th>4</th>\n",
       "      <td>17.5</td>\n",
       "      <td>32.3</td>\n",
       "      <td>1.0</td>\n",
       "      <td>6.032209</td>\n",
       "      <td>8.890686</td>\n",
       "      <td>W</td>\n",
       "      <td>41.0</td>\n",
       "      <td>ENE</td>\n",
       "      <td>NW</td>\n",
       "      <td>7.0</td>\n",
       "      <td>...</td>\n",
       "      <td>82.0</td>\n",
       "      <td>33.0</td>\n",
       "      <td>1010.8</td>\n",
       "      <td>1006.0</td>\n",
       "      <td>7.000000</td>\n",
       "      <td>8.000000</td>\n",
       "      <td>17.8</td>\n",
       "      <td>29.7</td>\n",
       "      <td>No</td>\n",
       "      <td>No</td>\n",
       "    </tr>\n",
       "  </tbody>\n",
       "</table>\n",
       "<p>5 rows × 21 columns</p>\n",
       "</div>"
      ],
      "text/plain": [
       "   MinTemp  MaxTemp  Rainfall  Evaporation  Sunshine WindGustDir  \\\n",
       "0     13.4     22.9       0.6     6.032209  8.890686           W   \n",
       "1      7.4     25.1       0.0     6.032209  8.890686         WNW   \n",
       "2     12.9     25.7       0.0     6.032209  8.890686         WSW   \n",
       "3      9.2     28.0       0.0     6.032209  8.890686          NE   \n",
       "4     17.5     32.3       1.0     6.032209  8.890686           W   \n",
       "\n",
       "   WindGustSpeed WindDir9am WindDir3pm  WindSpeed9am  ...  Humidity9am  \\\n",
       "0           44.0          W        WNW          20.0  ...         71.0   \n",
       "1           44.0        NNW        WSW           4.0  ...         44.0   \n",
       "2           46.0          W        WSW          19.0  ...         38.0   \n",
       "3           24.0         SE          E          11.0  ...         45.0   \n",
       "4           41.0        ENE         NW           7.0  ...         82.0   \n",
       "\n",
       "   Humidity3pm  Pressure9am  Pressure3pm  Cloud9am  Cloud3pm  Temp9am  \\\n",
       "0         22.0       1007.7       1007.1  8.000000  3.684394     16.9   \n",
       "1         25.0       1010.6       1007.8  3.635105  3.684394     17.2   \n",
       "2         30.0       1007.6       1008.7  3.635105  2.000000     21.0   \n",
       "3         16.0       1017.6       1012.8  3.635105  3.684394     18.1   \n",
       "4         33.0       1010.8       1006.0  7.000000  8.000000     17.8   \n",
       "\n",
       "   Temp3pm  RainToday RainTomorrow  \n",
       "0     21.8         No           No  \n",
       "1     24.3         No           No  \n",
       "2     23.2         No           No  \n",
       "3     26.5         No           No  \n",
       "4     29.7         No           No  \n",
       "\n",
       "[5 rows x 21 columns]"
      ]
     },
     "execution_count": 7,
     "metadata": {},
     "output_type": "execute_result"
    }
   ],
   "source": [
    "#  View the top rows of the data imported\n",
    "df_impute.head()"
   ]
  },
  {
   "cell_type": "markdown",
   "id": "5674324c",
   "metadata": {},
   "source": [
    "The imputed data doesn't include any null or missing values. Also, we have dropped the columns like: Date of observation and City Name."
   ]
  },
  {
   "cell_type": "code",
   "execution_count": 8,
   "id": "c82a9e45",
   "metadata": {},
   "outputs": [
    {
     "name": "stdout",
     "output_type": "stream",
     "text": [
      "Numeric Variables: Index(['MinTemp', 'MaxTemp', 'Rainfall', 'Evaporation', 'Sunshine',\n",
      "       'WindGustSpeed', 'WindSpeed9am', 'WindSpeed3pm', 'Humidity9am',\n",
      "       'Humidity3pm', 'Pressure9am', 'Pressure3pm', 'Cloud9am', 'Cloud3pm',\n",
      "       'Temp9am', 'Temp3pm'],\n",
      "      dtype='object')\n",
      "Categorical Variables: Index(['WindGustDir', 'WindDir9am', 'WindDir3pm', 'RainToday', 'RainTomorrow'], dtype='object')\n"
     ]
    }
   ],
   "source": [
    "df_impute_num = df_impute.columns[df_impute.dtypes == 'float64']\n",
    "df_impute_cat=df_impute.columns[df_impute.dtypes == 'object']\n",
    "print(\"Numeric Variables:\", df_impute_num)\n",
    "print(\"Categorical Variables:\", df_impute_cat)"
   ]
  },
  {
   "cell_type": "markdown",
   "id": "74c6937d",
   "metadata": {},
   "source": [
    "Before continuing further, we need to check which variables are numeric and which are not. As the models expect numerical variables. We will filter and identify non-numeric variables.\n",
    "\n",
    "`WindGustDir`, `WindDir9am`, `WindDir3pm`, `RainToday` and `RainTomorrow`are not numeric. Here `RainTomorrow` is our response variable. we handle the other variables with hot-one-encoding later in the flow."
   ]
  },
  {
   "cell_type": "code",
   "execution_count": 9,
   "id": "d26b6fc1",
   "metadata": {},
   "outputs": [],
   "source": [
    "#Keep the original data\n",
    "df_model = df_impute.copy()"
   ]
  },
  {
   "cell_type": "markdown",
   "id": "219b680c",
   "metadata": {},
   "source": [
    "Creating a new DataFrame `df_model` for modeling to avoid any changes to the original dataset `df_impute`."
   ]
  },
  {
   "cell_type": "code",
   "execution_count": 10,
   "id": "53ad867f",
   "metadata": {},
   "outputs": [],
   "source": [
    "# Create a new variable to Identify if it RainToday\n",
    "\n",
    "df_model[\"IsRainToday\"] = df_impute['RainToday']\n",
    "\n",
    "# Replacing No with 0 and Yes with 1.\n",
    "\n",
    "df_model['IsRainToday'].replace({'No': 0, 'Yes': 1},inplace = True)\n"
   ]
  },
  {
   "cell_type": "markdown",
   "id": "fca7b27c",
   "metadata": {},
   "source": [
    "Assigning `0` to No values and `1` to Yes values in `RainToday` (Changed to `IsRainToday`)"
   ]
  },
  {
   "cell_type": "code",
   "execution_count": 11,
   "id": "3815b875",
   "metadata": {},
   "outputs": [
    {
     "name": "stdout",
     "output_type": "stream",
     "text": [
      "df_impute (140787, 21)\n",
      "df_model (140787, 22)\n"
     ]
    }
   ],
   "source": [
    "print(\"df_impute\", df_impute.shape)\n",
    "print(\"df_model\", df_model.shape)\n"
   ]
  },
  {
   "cell_type": "code",
   "execution_count": 12,
   "id": "f011baed",
   "metadata": {},
   "outputs": [
    {
     "data": {
      "text/html": [
       "<div>\n",
       "<style scoped>\n",
       "    .dataframe tbody tr th:only-of-type {\n",
       "        vertical-align: middle;\n",
       "    }\n",
       "\n",
       "    .dataframe tbody tr th {\n",
       "        vertical-align: top;\n",
       "    }\n",
       "\n",
       "    .dataframe thead th {\n",
       "        text-align: right;\n",
       "    }\n",
       "</style>\n",
       "<table border=\"1\" class=\"dataframe\">\n",
       "  <thead>\n",
       "    <tr style=\"text-align: right;\">\n",
       "      <th></th>\n",
       "      <th>MinTemp</th>\n",
       "      <th>MaxTemp</th>\n",
       "      <th>Rainfall</th>\n",
       "      <th>Evaporation</th>\n",
       "      <th>Sunshine</th>\n",
       "      <th>WindGustDir</th>\n",
       "      <th>WindGustSpeed</th>\n",
       "      <th>WindDir9am</th>\n",
       "      <th>WindDir3pm</th>\n",
       "      <th>WindSpeed9am</th>\n",
       "      <th>...</th>\n",
       "      <th>Humidity3pm</th>\n",
       "      <th>Pressure9am</th>\n",
       "      <th>Pressure3pm</th>\n",
       "      <th>Cloud9am</th>\n",
       "      <th>Cloud3pm</th>\n",
       "      <th>Temp9am</th>\n",
       "      <th>Temp3pm</th>\n",
       "      <th>RainToday</th>\n",
       "      <th>RainTomorrow</th>\n",
       "      <th>IsRainToday</th>\n",
       "    </tr>\n",
       "  </thead>\n",
       "  <tbody>\n",
       "    <tr>\n",
       "      <th>0</th>\n",
       "      <td>13.4</td>\n",
       "      <td>22.9</td>\n",
       "      <td>0.6</td>\n",
       "      <td>6.032209</td>\n",
       "      <td>8.890686</td>\n",
       "      <td>W</td>\n",
       "      <td>44.0</td>\n",
       "      <td>W</td>\n",
       "      <td>WNW</td>\n",
       "      <td>20.0</td>\n",
       "      <td>...</td>\n",
       "      <td>22.0</td>\n",
       "      <td>1007.7</td>\n",
       "      <td>1007.1</td>\n",
       "      <td>8.000000</td>\n",
       "      <td>3.684394</td>\n",
       "      <td>16.9</td>\n",
       "      <td>21.8</td>\n",
       "      <td>No</td>\n",
       "      <td>No</td>\n",
       "      <td>0</td>\n",
       "    </tr>\n",
       "    <tr>\n",
       "      <th>1</th>\n",
       "      <td>7.4</td>\n",
       "      <td>25.1</td>\n",
       "      <td>0.0</td>\n",
       "      <td>6.032209</td>\n",
       "      <td>8.890686</td>\n",
       "      <td>WNW</td>\n",
       "      <td>44.0</td>\n",
       "      <td>NNW</td>\n",
       "      <td>WSW</td>\n",
       "      <td>4.0</td>\n",
       "      <td>...</td>\n",
       "      <td>25.0</td>\n",
       "      <td>1010.6</td>\n",
       "      <td>1007.8</td>\n",
       "      <td>3.635105</td>\n",
       "      <td>3.684394</td>\n",
       "      <td>17.2</td>\n",
       "      <td>24.3</td>\n",
       "      <td>No</td>\n",
       "      <td>No</td>\n",
       "      <td>0</td>\n",
       "    </tr>\n",
       "    <tr>\n",
       "      <th>2</th>\n",
       "      <td>12.9</td>\n",
       "      <td>25.7</td>\n",
       "      <td>0.0</td>\n",
       "      <td>6.032209</td>\n",
       "      <td>8.890686</td>\n",
       "      <td>WSW</td>\n",
       "      <td>46.0</td>\n",
       "      <td>W</td>\n",
       "      <td>WSW</td>\n",
       "      <td>19.0</td>\n",
       "      <td>...</td>\n",
       "      <td>30.0</td>\n",
       "      <td>1007.6</td>\n",
       "      <td>1008.7</td>\n",
       "      <td>3.635105</td>\n",
       "      <td>2.000000</td>\n",
       "      <td>21.0</td>\n",
       "      <td>23.2</td>\n",
       "      <td>No</td>\n",
       "      <td>No</td>\n",
       "      <td>0</td>\n",
       "    </tr>\n",
       "    <tr>\n",
       "      <th>3</th>\n",
       "      <td>9.2</td>\n",
       "      <td>28.0</td>\n",
       "      <td>0.0</td>\n",
       "      <td>6.032209</td>\n",
       "      <td>8.890686</td>\n",
       "      <td>NE</td>\n",
       "      <td>24.0</td>\n",
       "      <td>SE</td>\n",
       "      <td>E</td>\n",
       "      <td>11.0</td>\n",
       "      <td>...</td>\n",
       "      <td>16.0</td>\n",
       "      <td>1017.6</td>\n",
       "      <td>1012.8</td>\n",
       "      <td>3.635105</td>\n",
       "      <td>3.684394</td>\n",
       "      <td>18.1</td>\n",
       "      <td>26.5</td>\n",
       "      <td>No</td>\n",
       "      <td>No</td>\n",
       "      <td>0</td>\n",
       "    </tr>\n",
       "    <tr>\n",
       "      <th>4</th>\n",
       "      <td>17.5</td>\n",
       "      <td>32.3</td>\n",
       "      <td>1.0</td>\n",
       "      <td>6.032209</td>\n",
       "      <td>8.890686</td>\n",
       "      <td>W</td>\n",
       "      <td>41.0</td>\n",
       "      <td>ENE</td>\n",
       "      <td>NW</td>\n",
       "      <td>7.0</td>\n",
       "      <td>...</td>\n",
       "      <td>33.0</td>\n",
       "      <td>1010.8</td>\n",
       "      <td>1006.0</td>\n",
       "      <td>7.000000</td>\n",
       "      <td>8.000000</td>\n",
       "      <td>17.8</td>\n",
       "      <td>29.7</td>\n",
       "      <td>No</td>\n",
       "      <td>No</td>\n",
       "      <td>0</td>\n",
       "    </tr>\n",
       "  </tbody>\n",
       "</table>\n",
       "<p>5 rows × 22 columns</p>\n",
       "</div>"
      ],
      "text/plain": [
       "   MinTemp  MaxTemp  Rainfall  Evaporation  Sunshine WindGustDir  \\\n",
       "0     13.4     22.9       0.6     6.032209  8.890686           W   \n",
       "1      7.4     25.1       0.0     6.032209  8.890686         WNW   \n",
       "2     12.9     25.7       0.0     6.032209  8.890686         WSW   \n",
       "3      9.2     28.0       0.0     6.032209  8.890686          NE   \n",
       "4     17.5     32.3       1.0     6.032209  8.890686           W   \n",
       "\n",
       "   WindGustSpeed WindDir9am WindDir3pm  WindSpeed9am  ...  Humidity3pm  \\\n",
       "0           44.0          W        WNW          20.0  ...         22.0   \n",
       "1           44.0        NNW        WSW           4.0  ...         25.0   \n",
       "2           46.0          W        WSW          19.0  ...         30.0   \n",
       "3           24.0         SE          E          11.0  ...         16.0   \n",
       "4           41.0        ENE         NW           7.0  ...         33.0   \n",
       "\n",
       "   Pressure9am  Pressure3pm  Cloud9am  Cloud3pm  Temp9am  Temp3pm  RainToday  \\\n",
       "0       1007.7       1007.1  8.000000  3.684394     16.9     21.8         No   \n",
       "1       1010.6       1007.8  3.635105  3.684394     17.2     24.3         No   \n",
       "2       1007.6       1008.7  3.635105  2.000000     21.0     23.2         No   \n",
       "3       1017.6       1012.8  3.635105  3.684394     18.1     26.5         No   \n",
       "4       1010.8       1006.0  7.000000  8.000000     17.8     29.7         No   \n",
       "\n",
       "   RainTomorrow IsRainToday  \n",
       "0            No           0  \n",
       "1            No           0  \n",
       "2            No           0  \n",
       "3            No           0  \n",
       "4            No           0  \n",
       "\n",
       "[5 rows x 22 columns]"
      ]
     },
     "execution_count": 12,
     "metadata": {},
     "output_type": "execute_result"
    }
   ],
   "source": [
    "# Printing the values to check if the data looks good\n",
    "\n",
    "df_model.head()"
   ]
  },
  {
   "cell_type": "markdown",
   "id": "7451ac81",
   "metadata": {},
   "source": [
    "### One-hot encoding"
   ]
  },
  {
   "cell_type": "markdown",
   "id": "c1507da3",
   "metadata": {},
   "source": [
    "Before we create our models, we need to format our attributes. We are converting `RainToday` and `RainTomorrow` into numeric variables to `0` and `1`. We also decided to go ahead with one-hot-encoding `WindGustDir`, `WindDir9am`, and `WindDir3pm` attributes based on the direction of the wind. "
   ]
  },
  {
   "cell_type": "code",
   "execution_count": 13,
   "id": "fb0bf31a",
   "metadata": {},
   "outputs": [],
   "source": [
    "# perform one-hot encoding using dummies\n",
    "\n",
    "gust_df = pd.get_dummies(df_model.WindGustDir,prefix='GustDir', drop_first= True)\n",
    "wind3pm_df = pd.get_dummies(df_model.WindDir3pm,prefix='Wind3pm', drop_first= True)\n",
    "wind9am_df = pd.get_dummies(df_model.WindDir9am,prefix='Wind9am' , drop_first= True)\n",
    "df_model = pd.concat((df_model,gust_df, wind3pm_df, wind9am_df),axis=1) # add back into the dataframe\n"
   ]
  },
  {
   "cell_type": "markdown",
   "id": "241f3c8f",
   "metadata": {},
   "source": [
    "We decided to do one-hot-encoding using dummies function as machine learning algorithms and models requires numerical values for both input and output attributes."
   ]
  },
  {
   "cell_type": "markdown",
   "id": "44f92a38",
   "metadata": {},
   "source": [
    "Since the dummies function creates a variable for each unique value, we are dropping the first variable to avoid multicollinearity among the variables as the value for the last variable can be interpreted from the values for other variables created as part of one-hot encoding.\n",
    "\n"
   ]
  },
  {
   "cell_type": "code",
   "execution_count": 14,
   "id": "4733936d",
   "metadata": {},
   "outputs": [],
   "source": [
    "# Drop categorical columns\n",
    "\n",
    "df_model = df_model.drop(['WindDir3pm', 'WindDir9am', 'WindGustDir', 'RainToday'], axis = 1)"
   ]
  },
  {
   "cell_type": "markdown",
   "id": "666ea0f5",
   "metadata": {},
   "source": [
    "After conversions, we are removing these categorical attributes to avoid duplicates as we have those data in numerical format. We are added the newly formatted attributes and rest of the continuous attributes into a new dataframe - df_model. We will use the new dataframe for modeling.\n",
    "\n",
    "Reference: https://machinelearningmastery.com/why-one-hot-encode-data-in-machine-learning/"
   ]
  },
  {
   "cell_type": "code",
   "execution_count": 15,
   "id": "ffe88d90",
   "metadata": {},
   "outputs": [
    {
     "name": "stdout",
     "output_type": "stream",
     "text": [
      "Are there 1's and 0's in the RainToday column? True\n"
     ]
    }
   ],
   "source": [
    "#Check if Yes is replaced as 1\n",
    "\n",
    "print(\"Are there 1's and 0's in the RainToday column?\", \n",
    "      (df_model['IsRainToday'].sum() > 0) and (df_model['IsRainToday'].sum() < len(df_model['IsRainToday'])))\n",
    "\n",
    "#Non zero output means there is a mixture of 1's and 0's\n"
   ]
  },
  {
   "cell_type": "markdown",
   "id": "dff70ca2",
   "metadata": {},
   "source": [
    "Checking if the data imputation happened accurately."
   ]
  },
  {
   "cell_type": "code",
   "execution_count": 16,
   "id": "46305e32",
   "metadata": {},
   "outputs": [
    {
     "name": "stdout",
     "output_type": "stream",
     "text": [
      "Numeric Variables: Index(['MinTemp', 'MaxTemp', 'Rainfall', 'Evaporation', 'Sunshine',\n",
      "       'WindGustSpeed', 'WindSpeed9am', 'WindSpeed3pm', 'Humidity9am',\n",
      "       'Humidity3pm', 'Pressure9am', 'Pressure3pm', 'Cloud9am', 'Cloud3pm',\n",
      "       'Temp9am', 'Temp3pm', 'IsRainToday', 'GustDir_ENE', 'GustDir_ESE',\n",
      "       'GustDir_N', 'GustDir_NE', 'GustDir_NNE', 'GustDir_NNW', 'GustDir_NW',\n",
      "       'GustDir_S', 'GustDir_SE', 'GustDir_SSE', 'GustDir_SSW', 'GustDir_SW',\n",
      "       'GustDir_W', 'GustDir_WNW', 'GustDir_WSW', 'Wind3pm_ENE', 'Wind3pm_ESE',\n",
      "       'Wind3pm_N', 'Wind3pm_NE', 'Wind3pm_NNE', 'Wind3pm_NNW', 'Wind3pm_NW',\n",
      "       'Wind3pm_S', 'Wind3pm_SE', 'Wind3pm_SSE', 'Wind3pm_SSW', 'Wind3pm_SW',\n",
      "       'Wind3pm_W', 'Wind3pm_WNW', 'Wind3pm_WSW', 'Wind9am_ENE', 'Wind9am_ESE',\n",
      "       'Wind9am_N', 'Wind9am_NE', 'Wind9am_NNE', 'Wind9am_NNW', 'Wind9am_NW',\n",
      "       'Wind9am_S', 'Wind9am_SE', 'Wind9am_SSE', 'Wind9am_SSW', 'Wind9am_SW',\n",
      "       'Wind9am_W', 'Wind9am_WNW', 'Wind9am_WSW'],\n",
      "      dtype='object')\n",
      "Categorical Variables: Index(['RainTomorrow'], dtype='object')\n"
     ]
    }
   ],
   "source": [
    "df_model_num = df_model.columns[df_model.dtypes != 'object' ]\n",
    "df_model_cat=df_model.columns[df_model.dtypes == 'object']\n",
    "print(\"Numeric Variables:\", df_model_num)\n",
    "print(\"Categorical Variables:\", df_model_cat)"
   ]
  },
  {
   "cell_type": "markdown",
   "id": "e1823e46",
   "metadata": {},
   "source": [
    "Check if all the numerical variables are accurately created and if we still have any non-numeric data."
   ]
  },
  {
   "cell_type": "markdown",
   "id": "3fcfca4d",
   "metadata": {},
   "source": [
    "Assigning the `RainTomorrow` as our response variable (y) and all other variables include one-hot-encoded values as X."
   ]
  },
  {
   "cell_type": "code",
   "execution_count": 17,
   "id": "8154ea85",
   "metadata": {
    "scrolled": true
   },
   "outputs": [
    {
     "name": "stdout",
     "output_type": "stream",
     "text": [
      "features shape: (140787, 62)\n",
      "target shape: (140787,)\n"
     ]
    }
   ],
   "source": [
    "X=df_model[df_model_num]\n",
    "y = df_model.RainTomorrow\n",
    "print('features shape:', X.shape) \n",
    "print('target shape:', y.shape )"
   ]
  },
  {
   "cell_type": "markdown",
   "id": "6ed9ce56",
   "metadata": {},
   "source": [
    "#### Scaling"
   ]
  },
  {
   "cell_type": "markdown",
   "id": "fbf08fa9",
   "metadata": {},
   "source": [
    "We will be using scaled data for our models. We have used the scaling feature as part of our customed function for running our classifications and regression models. We will discuss more in details in the modeling sections."
   ]
  },
  {
   "cell_type": "markdown",
   "id": "879b5ad6",
   "metadata": {},
   "source": [
    "#### New Feature"
   ]
  },
  {
   "cell_type": "markdown",
   "id": "2be7cb65",
   "metadata": {},
   "source": [
    "We are adding a new classification feature called `RainfallAmount` which has four values - `None` (0), `Low`(1), `Moderate`(2) and `High`(3). We are creating this feature from `Rainfall` feature from our dataframe. The data is numerical due to the requirement of the execution of the classification models."
   ]
  },
  {
   "cell_type": "code",
   "execution_count": 18,
   "id": "d448d6e1",
   "metadata": {},
   "outputs": [],
   "source": [
    "# New Feature - RainfallAmount\n",
    "\n",
    "def rain_classifier(row):\n",
    "    if row[\"Rainfall\"] > 30:\n",
    "        return 3\n",
    "    elif row[\"Rainfall\"] > 10 and row[\"Rainfall\"] < 30:\n",
    "        return 2\n",
    "    elif row[\"Rainfall\"] > 1 and row[\"Rainfall\"] < 10:\n",
    "        return 1\n",
    "    else:\n",
    "        return 0\n",
    "\n",
    "df_model[\"RainfallAmount\"] = df_impute.apply(rain_classifier, axis=1)\n",
    "\n"
   ]
  },
  {
   "cell_type": "markdown",
   "id": "8181889f",
   "metadata": {},
   "source": [
    "### Data Distribution\n",
    "\n",
    "Check if the data distribution is balanced or not for the response variable `RainTomorrow`."
   ]
  },
  {
   "cell_type": "code",
   "execution_count": 19,
   "id": "9f8f8105",
   "metadata": {},
   "outputs": [
    {
     "data": {
      "image/png": "[encoded data removed]",
      "text/plain": [
       "<Figure size 576x360 with 2 Axes>"
      ]
     },
     "metadata": {
      "needs_background": "light"
     },
     "output_type": "display_data"
    },
    {
     "data": {
      "image/png": "[encoded data removed]",
      "text/plain": [
       "<Figure size 576x360 with 1 Axes>"
      ]
     },
     "metadata": {
      "needs_background": "light"
     },
     "output_type": "display_data"
    }
   ],
   "source": [
    "       \n",
    "\n",
    "fig = plt.figure(figsize = (8,5))\n",
    "axes = fig.subplots(nrows=1, ncols=2)\n",
    "\n",
    "df_model['RainTomorrow'].value_counts(normalize = True).plot(kind='bar', color= ['skyblue','navy'], alpha = 0.9, rot=0)\n",
    "plt.title('RainTomorrow Indicator No(0) and Yes(1) in the Imbalanced Dataset')\n",
    "plt.show()\n",
    "\n",
    "fig = plt.figure(figsize = (8,5))\n",
    "df_model['RainfallAmount'].value_counts(normalize = True).plot(kind='bar', color= ['skyblue','navy', \"lightblue\", \"blue\"], alpha = 0.9, rot=0)\n",
    "plt.title('RainfallAmount Indicator None(0), Low(1), Medium(2) and High(3) in the Imbalanced Dataset')\n",
    "plt.show()"
   ]
  },
  {
   "cell_type": "markdown",
   "id": "ebadcf41",
   "metadata": {},
   "source": [
    "As expected, we see the data for `RainTomorrow` is imbalanced. Majority of the data is for `No` rain vs. `Yes` for `RainTomorrow`.\n",
    "\n",
    "We can observe that the presence of `0` and `1` is almost in the `78:22` ratio. We will be cognizant of the fact that our model may be not very effective if we don't solve for imbalance. We will discuss and adjust for this imbalance in our analysis."
   ]
  },
  {
   "cell_type": "markdown",
   "id": "5ae60bdf",
   "metadata": {},
   "source": [
    "## Data Preparation Part 2"
   ]
  },
  {
   "cell_type": "code",
   "execution_count": 20,
   "id": "484e91a7",
   "metadata": {},
   "outputs": [],
   "source": [
    "df_model_copy = df_model.copy()"
   ]
  },
  {
   "cell_type": "code",
   "execution_count": 21,
   "id": "a7dc7a1b",
   "metadata": {},
   "outputs": [
    {
     "name": "stdout",
     "output_type": "stream",
     "text": [
      "<class 'pandas.core.frame.DataFrame'>\n",
      "RangeIndex: 140787 entries, 0 to 140786\n",
      "Data columns (total 64 columns):\n",
      " #   Column          Non-Null Count   Dtype  \n",
      "---  ------          --------------   -----  \n",
      " 0   MinTemp         140787 non-null  float64\n",
      " 1   MaxTemp         140787 non-null  float64\n",
      " 2   Rainfall        140787 non-null  float64\n",
      " 3   Evaporation     140787 non-null  float64\n",
      " 4   Sunshine        140787 non-null  float64\n",
      " 5   WindGustSpeed   140787 non-null  float64\n",
      " 6   WindSpeed9am    140787 non-null  float64\n",
      " 7   WindSpeed3pm    140787 non-null  float64\n",
      " 8   Humidity9am     140787 non-null  float64\n",
      " 9   Humidity3pm     140787 non-null  float64\n",
      " 10  Pressure9am     140787 non-null  float64\n",
      " 11  Pressure3pm     140787 non-null  float64\n",
      " 12  Cloud9am        140787 non-null  float64\n",
      " 13  Cloud3pm        140787 non-null  float64\n",
      " 14  Temp9am         140787 non-null  float64\n",
      " 15  Temp3pm         140787 non-null  float64\n",
      " 16  RainTomorrow    140787 non-null  object \n",
      " 17  IsRainToday     140787 non-null  int64  \n",
      " 18  GustDir_ENE     140787 non-null  uint8  \n",
      " 19  GustDir_ESE     140787 non-null  uint8  \n",
      " 20  GustDir_N       140787 non-null  uint8  \n",
      " 21  GustDir_NE      140787 non-null  uint8  \n",
      " 22  GustDir_NNE     140787 non-null  uint8  \n",
      " 23  GustDir_NNW     140787 non-null  uint8  \n",
      " 24  GustDir_NW      140787 non-null  uint8  \n",
      " 25  GustDir_S       140787 non-null  uint8  \n",
      " 26  GustDir_SE      140787 non-null  uint8  \n",
      " 27  GustDir_SSE     140787 non-null  uint8  \n",
      " 28  GustDir_SSW     140787 non-null  uint8  \n",
      " 29  GustDir_SW      140787 non-null  uint8  \n",
      " 30  GustDir_W       140787 non-null  uint8  \n",
      " 31  GustDir_WNW     140787 non-null  uint8  \n",
      " 32  GustDir_WSW     140787 non-null  uint8  \n",
      " 33  Wind3pm_ENE     140787 non-null  uint8  \n",
      " 34  Wind3pm_ESE     140787 non-null  uint8  \n",
      " 35  Wind3pm_N       140787 non-null  uint8  \n",
      " 36  Wind3pm_NE      140787 non-null  uint8  \n",
      " 37  Wind3pm_NNE     140787 non-null  uint8  \n",
      " 38  Wind3pm_NNW     140787 non-null  uint8  \n",
      " 39  Wind3pm_NW      140787 non-null  uint8  \n",
      " 40  Wind3pm_S       140787 non-null  uint8  \n",
      " 41  Wind3pm_SE      140787 non-null  uint8  \n",
      " 42  Wind3pm_SSE     140787 non-null  uint8  \n",
      " 43  Wind3pm_SSW     140787 non-null  uint8  \n",
      " 44  Wind3pm_SW      140787 non-null  uint8  \n",
      " 45  Wind3pm_W       140787 non-null  uint8  \n",
      " 46  Wind3pm_WNW     140787 non-null  uint8  \n",
      " 47  Wind3pm_WSW     140787 non-null  uint8  \n",
      " 48  Wind9am_ENE     140787 non-null  uint8  \n",
      " 49  Wind9am_ESE     140787 non-null  uint8  \n",
      " 50  Wind9am_N       140787 non-null  uint8  \n",
      " 51  Wind9am_NE      140787 non-null  uint8  \n",
      " 52  Wind9am_NNE     140787 non-null  uint8  \n",
      " 53  Wind9am_NNW     140787 non-null  uint8  \n",
      " 54  Wind9am_NW      140787 non-null  uint8  \n",
      " 55  Wind9am_S       140787 non-null  uint8  \n",
      " 56  Wind9am_SE      140787 non-null  uint8  \n",
      " 57  Wind9am_SSE     140787 non-null  uint8  \n",
      " 58  Wind9am_SSW     140787 non-null  uint8  \n",
      " 59  Wind9am_SW      140787 non-null  uint8  \n",
      " 60  Wind9am_W       140787 non-null  uint8  \n",
      " 61  Wind9am_WNW     140787 non-null  uint8  \n",
      " 62  Wind9am_WSW     140787 non-null  uint8  \n",
      " 63  RainfallAmount  140787 non-null  int64  \n",
      "dtypes: float64(16), int64(2), object(1), uint8(45)\n",
      "memory usage: 26.5+ MB\n"
     ]
    }
   ],
   "source": [
    "df_model.info()"
   ]
  },
  {
   "cell_type": "markdown",
   "id": "dfeb8e61",
   "metadata": {},
   "source": [
    "The above dataframe has float64, object, int64, and uint8 data formats. Float64, int64, and uint8 are all numerical data type. Object is a string data type. "
   ]
  },
  {
   "cell_type": "markdown",
   "id": "75fb17af",
   "metadata": {},
   "source": [
    "#### Response Variables"
   ]
  },
  {
   "cell_type": "markdown",
   "id": "2b6a8593",
   "metadata": {},
   "source": [
    "We have three response features in our current dataframe. They are `RainTomorrow`, `Rainfall`, and `RainfallAmount`. `RainTomorrow` and `RainfallAmount` are for our classification models. `Rainfall` is used for continuous regression models. Our primary focus is on `RainTomorrow` and `RainfallAmount` as the prediction for `Rainfall` is not very accurate. We will present the accuracy of this feature in later section. "
   ]
  },
  {
   "cell_type": "code",
   "execution_count": 22,
   "id": "ec06a2d6",
   "metadata": {},
   "outputs": [
    {
     "data": {
      "text/html": [
       "<div>\n",
       "<style scoped>\n",
       "    .dataframe tbody tr th:only-of-type {\n",
       "        vertical-align: middle;\n",
       "    }\n",
       "\n",
       "    .dataframe tbody tr th {\n",
       "        vertical-align: top;\n",
       "    }\n",
       "\n",
       "    .dataframe thead th {\n",
       "        text-align: right;\n",
       "    }\n",
       "</style>\n",
       "<table border=\"1\" class=\"dataframe\">\n",
       "  <thead>\n",
       "    <tr style=\"text-align: right;\">\n",
       "      <th></th>\n",
       "      <th>count</th>\n",
       "      <th>mean</th>\n",
       "      <th>std</th>\n",
       "      <th>min</th>\n",
       "      <th>25%</th>\n",
       "      <th>50%</th>\n",
       "      <th>75%</th>\n",
       "      <th>max</th>\n",
       "    </tr>\n",
       "  </thead>\n",
       "  <tbody>\n",
       "    <tr>\n",
       "      <th>MinTemp</th>\n",
       "      <td>140787.0</td>\n",
       "      <td>12.184827</td>\n",
       "      <td>6.393316</td>\n",
       "      <td>-8.5</td>\n",
       "      <td>7.60000</td>\n",
       "      <td>12.000000</td>\n",
       "      <td>16.800000</td>\n",
       "      <td>33.9</td>\n",
       "    </tr>\n",
       "    <tr>\n",
       "      <th>MaxTemp</th>\n",
       "      <td>140787.0</td>\n",
       "      <td>23.235480</td>\n",
       "      <td>7.107197</td>\n",
       "      <td>-4.8</td>\n",
       "      <td>17.90000</td>\n",
       "      <td>22.600000</td>\n",
       "      <td>28.200000</td>\n",
       "      <td>48.1</td>\n",
       "    </tr>\n",
       "    <tr>\n",
       "      <th>Rainfall</th>\n",
       "      <td>140787.0</td>\n",
       "      <td>2.349974</td>\n",
       "      <td>8.465173</td>\n",
       "      <td>0.0</td>\n",
       "      <td>0.00000</td>\n",
       "      <td>0.000000</td>\n",
       "      <td>0.800000</td>\n",
       "      <td>371.0</td>\n",
       "    </tr>\n",
       "    <tr>\n",
       "      <th>Evaporation</th>\n",
       "      <td>140787.0</td>\n",
       "      <td>5.463856</td>\n",
       "      <td>3.227628</td>\n",
       "      <td>0.0</td>\n",
       "      <td>3.87732</td>\n",
       "      <td>5.800000</td>\n",
       "      <td>6.032209</td>\n",
       "      <td>145.0</td>\n",
       "    </tr>\n",
       "    <tr>\n",
       "      <th>Sunshine</th>\n",
       "      <td>140787.0</td>\n",
       "      <td>7.643002</td>\n",
       "      <td>3.025147</td>\n",
       "      <td>0.0</td>\n",
       "      <td>5.40000</td>\n",
       "      <td>8.890686</td>\n",
       "      <td>8.890686</td>\n",
       "      <td>14.5</td>\n",
       "    </tr>\n",
       "    <tr>\n",
       "      <th>...</th>\n",
       "      <td>...</td>\n",
       "      <td>...</td>\n",
       "      <td>...</td>\n",
       "      <td>...</td>\n",
       "      <td>...</td>\n",
       "      <td>...</td>\n",
       "      <td>...</td>\n",
       "      <td>...</td>\n",
       "    </tr>\n",
       "    <tr>\n",
       "      <th>Wind9am_SW</th>\n",
       "      <td>140787.0</td>\n",
       "      <td>0.057960</td>\n",
       "      <td>0.233668</td>\n",
       "      <td>0.0</td>\n",
       "      <td>0.00000</td>\n",
       "      <td>0.000000</td>\n",
       "      <td>0.000000</td>\n",
       "      <td>1.0</td>\n",
       "    </tr>\n",
       "    <tr>\n",
       "      <th>Wind9am_W</th>\n",
       "      <td>140787.0</td>\n",
       "      <td>0.058294</td>\n",
       "      <td>0.234299</td>\n",
       "      <td>0.0</td>\n",
       "      <td>0.00000</td>\n",
       "      <td>0.000000</td>\n",
       "      <td>0.000000</td>\n",
       "      <td>1.0</td>\n",
       "    </tr>\n",
       "    <tr>\n",
       "      <th>Wind9am_WNW</th>\n",
       "      <td>140787.0</td>\n",
       "      <td>0.050431</td>\n",
       "      <td>0.218833</td>\n",
       "      <td>0.0</td>\n",
       "      <td>0.00000</td>\n",
       "      <td>0.000000</td>\n",
       "      <td>0.000000</td>\n",
       "      <td>1.0</td>\n",
       "    </tr>\n",
       "    <tr>\n",
       "      <th>Wind9am_WSW</th>\n",
       "      <td>140787.0</td>\n",
       "      <td>0.048200</td>\n",
       "      <td>0.214190</td>\n",
       "      <td>0.0</td>\n",
       "      <td>0.00000</td>\n",
       "      <td>0.000000</td>\n",
       "      <td>0.000000</td>\n",
       "      <td>1.0</td>\n",
       "    </tr>\n",
       "    <tr>\n",
       "      <th>RainfallAmount</th>\n",
       "      <td>140787.0</td>\n",
       "      <td>0.301597</td>\n",
       "      <td>0.632155</td>\n",
       "      <td>0.0</td>\n",
       "      <td>0.00000</td>\n",
       "      <td>0.000000</td>\n",
       "      <td>0.000000</td>\n",
       "      <td>3.0</td>\n",
       "    </tr>\n",
       "  </tbody>\n",
       "</table>\n",
       "<p>63 rows × 8 columns</p>\n",
       "</div>"
      ],
      "text/plain": [
       "                   count       mean       std  min       25%        50%  \\\n",
       "MinTemp         140787.0  12.184827  6.393316 -8.5   7.60000  12.000000   \n",
       "MaxTemp         140787.0  23.235480  7.107197 -4.8  17.90000  22.600000   \n",
       "Rainfall        140787.0   2.349974  8.465173  0.0   0.00000   0.000000   \n",
       "Evaporation     140787.0   5.463856  3.227628  0.0   3.87732   5.800000   \n",
       "Sunshine        140787.0   7.643002  3.025147  0.0   5.40000   8.890686   \n",
       "...                  ...        ...       ...  ...       ...        ...   \n",
       "Wind9am_SW      140787.0   0.057960  0.233668  0.0   0.00000   0.000000   \n",
       "Wind9am_W       140787.0   0.058294  0.234299  0.0   0.00000   0.000000   \n",
       "Wind9am_WNW     140787.0   0.050431  0.218833  0.0   0.00000   0.000000   \n",
       "Wind9am_WSW     140787.0   0.048200  0.214190  0.0   0.00000   0.000000   \n",
       "RainfallAmount  140787.0   0.301597  0.632155  0.0   0.00000   0.000000   \n",
       "\n",
       "                      75%    max  \n",
       "MinTemp         16.800000   33.9  \n",
       "MaxTemp         28.200000   48.1  \n",
       "Rainfall         0.800000  371.0  \n",
       "Evaporation      6.032209  145.0  \n",
       "Sunshine         8.890686   14.5  \n",
       "...                   ...    ...  \n",
       "Wind9am_SW       0.000000    1.0  \n",
       "Wind9am_W        0.000000    1.0  \n",
       "Wind9am_WNW      0.000000    1.0  \n",
       "Wind9am_WSW      0.000000    1.0  \n",
       "RainfallAmount   0.000000    3.0  \n",
       "\n",
       "[63 rows x 8 columns]"
      ]
     },
     "execution_count": 22,
     "metadata": {},
     "output_type": "execute_result"
    }
   ],
   "source": [
    "df_model.describe().transpose()"
   ]
  },
  {
   "cell_type": "markdown",
   "id": "f693233a",
   "metadata": {},
   "source": [
    "We ran summary statistics on the final model dataset. We can see the various satistical summary of the features. We see some large variations in the dataset like Evaportaion ranges from 0 to 145, Rainfall varies from 0 mm to 371 mm. Which are huge variation but as determined during `EDA` (Lab 1) those are not outliers and for our analysis we will consider then as valid observations."
   ]
  },
  {
   "cell_type": "markdown",
   "id": "55ed008a",
   "metadata": {},
   "source": [
    "### Regression Models\n",
    "\n",
    "In this section we create Regression Models for continous response variable - `Rainfall`.\n",
    "\n",
    "In our dataset, `Rainfall` is the continous response variable that measures the Rainfall in mm on the day of the observation which is referenced as `Today` in our dataset. We are going to create regression models for this feature and predict the values.\n",
    "\n",
    "We are creating the following continuous regression models: \n",
    "\n",
    "`Linear Regression`: this regression is ordinary least squares linear regression. It fits a linear model with coefficients w = (w1, …, wp) to minimize the residual sum of squares between the observed targets in the dataset, and the targets predicted by the linear approximation.\n",
    "\n",
    "`LASSO`: LASSO (least absolute shrinkage and selection operator) uses a penalized least squares approach that squeezes the regression coefficients to 0 when the penalty is large.  The algorithm starts with a large penalty and gradually relaxes the penalty to allow for a single variable to be added into the model (the coefficient is no longer 0).  \n",
    "\n",
    "`RFE` (Recursive Feature Elimination): this regression features ranking with recursive feature elimination. The goal of recursive feature elimination (RFE) is to select features by recursively considering smaller and smaller sets of features. First, the estimator is trained on the initial set of features and the importance of each feature is obtained either through any specific attribute or callable. Then, the least important features are pruned from current set of features. That procedure is recursively repeated on the pruned set until the desired number of features to select is eventually reached.\n",
    "\n",
    "References:\n",
    "https://scikit-learn.org/stable/modules/generated/sklearn.linear_model.LinearRegression.html\n",
    "\n",
    "https://scikit-learn.org/stable/modules/generated/sklearn.linear_model.Lasso.html\n",
    "\n",
    "https://scikit-learn.org/stable/modules/generated/sklearn.feature_selection.RFE.html"
   ]
  },
  {
   "cell_type": "code",
   "execution_count": 23,
   "id": "760a5352",
   "metadata": {},
   "outputs": [
    {
     "ename": "NameError",
     "evalue": "name 'model_continous_stats' is not defined",
     "output_type": "error",
     "traceback": [
      "\u001b[0;31m---------------------------------------------------------------------------\u001b[0m",
      "\u001b[0;31mNameError\u001b[0m                                 Traceback (most recent call last)",
      "\u001b[0;32m<ipython-input-23-ce00c2839ba0>\u001b[0m in \u001b[0;36m<module>\u001b[0;34m\u001b[0m\n\u001b[0;32m----> 1\u001b[0;31m \u001b[0mmodel_continous_stats\u001b[0m\u001b[0;34m\u001b[0m\u001b[0;34m\u001b[0m\u001b[0m\n\u001b[0m",
      "\u001b[0;31mNameError\u001b[0m: name 'model_continous_stats' is not defined"
     ]
    }
   ],
   "source": [
    "model_continous_stats"
   ]
  },
  {
   "cell_type": "markdown",
   "id": "6148f3eb",
   "metadata": {},
   "source": [
    "## Modeling And Evaluation 1"
   ]
  },
  {
   "cell_type": "markdown",
   "id": "6266111e",
   "metadata": {},
   "source": [
    "For our model performance measurement, we will use precision and accuracy. We are using those because we found the accuracies are very close across all the models. So we want to select on more performance metric for model evaluation. \n",
    "\n",
    "\n",
    "`Accuracy` — is a ratio of correctly predicted observation to the total observations. It is a very important aspect to define the success of a model but just the measurement on its own can be deceiving if the observations are not equal for each class. In such cases we might be predicting accurately for one particular class with large observation and may not do very well for other classes.\n",
    "\n",
    "`Precision` — is the ratio of correctly predicted positive observations to the total predicted positive observations. Precision = TP/TP+FP  \n",
    "\n",
    "`Weighted Average` — can be calculated on various output variables of the classification report like Precision, Recall, f1-score. As the name suggests it gives the weighted average of the parameter based on the number of observations or values for each class.\n",
    "\n",
    "`Macro Average` — similar to weighted average, macro average can also be calculated on various output variables of the classification report like Precision, Recall, f1-score. However, the similarity ends here as unlike weighted average, we don't use weights based on the number of observations, rather equal weights are given to each class to calcualte the value. This tells us if the Precision is as good if the dataset was balanced.\n",
    "\n",
    "References:\n",
    "https://blog.exsilio.com/all/accuracy-precision-recall-f1-score-interpretation-of-performance-measures/\n",
    "https://datascience.stackexchange.com/questions/65839/macro-average-and-weighted-average-meaning-in-classification-report"
   ]
  },
  {
   "cell_type": "markdown",
   "id": "4ee9cb98",
   "metadata": {},
   "source": [
    "## Modeling And Evaluation 2"
   ]
  },
  {
   "attachments": {
    "stratified.png": {
     "image/png": "[encoded data removed]"
    }
   },
   "cell_type": "markdown",
   "id": "77cba242",
   "metadata": {},
   "source": [
    "As per MiniLab,  we are going to use `Stratified` because our response feature (`RainTomorrow` and `RainfallAmount`) data is disproportionaly distributed. \n",
    "\n",
    "For `RainTomorrow`, response - `No` is very high compare to response - `Yes`. \n",
    "\n",
    "For `RainfallAmount`, the response - `None` is very high compare to `Low`, `Moderate`, and `High`.  \n",
    "\n",
    "To rectify this issue, we are going to use `StratifiedSplit` for cross validation. Then we are going to use `10-fold` cross validation to improve our model accuracies. We have compare the performances between shuffle and stratified cross validated models in our MiniLab project. A snippet from MiniLab for reference below:\n",
    "\n",
    "![stratified.png](attachment:stratified.png)"
   ]
  },
  {
   "cell_type": "markdown",
   "id": "a4e0fec1",
   "metadata": {},
   "source": [
    "### Macro Avg vs Weight Avg Precision comparisons\n",
    "__*As discussed in MiniLab*__ we did our analysis by plotting the difference between the `Macro Avg` precision and `Weighted Avg` precision for all the models. \n",
    "\n",
    "  `DiffMacro/WeightedNone` — takes the `Macro Average` and `Weighted Average` of `Precision` from the classification matrix and calculates the difference. The reason to calculate the difference is to check how much variation is in the `Precision` values based on how the data is split. \n",
    "  \n",
    "  `DiffMacro/WeightedBalanced` — same as above this variable calculates the difference between Macro and Weighted Average of Precision of a `balanced` data.\n",
    "  \n",
    "The smaller the difference between `Weight Avg` and `Macro Avg`, the model is closer to real world and also consistent.  \n",
    "\n",
    "Also, plotted the models classified into `Shuffle` and `Stratified` against `DiffMacro/WeightedNone` of precision (difference between Macro and Weighted Average of Precision of non-balanced data).\n",
    "From the above plot, we notice that the difference between Macro Average of Precision and Weighted Average of Precision varies as below:\n",
    "\n",
    "Balanced Data - `0.091` to `0.097`\n",
    "\n",
    "Non-Balanced Data - `0.037` to `0.042`\n",
    "\n",
    "There are two major takeaways from the above plots. \n",
    "\n",
    "1. The `StratifiedKFolds` data sees lower variation compared to `ShuffleSplit`.\n",
    "\n",
    "2. Its evident that the difference between Macro Average of Precision and Weighted Average of Precision varies a lot more for `balanced` data compared to `non-balanced` data. \n",
    "\n",
    "Since, lower variation is desired to get more stable and consistent model. We decide to go ahead with `Stratified` and non-balanced data. In our model we have hypertuned `shuffle` as `True` for `StratifiedKFolds` as well. Also, we know `StratifiedKFolds` works well with non-balanced data.\n",
    "\n",
    "__With above points in mind, we will continue with `Stratified` and `non-balanced` data models.__"
   ]
  },
  {
   "cell_type": "markdown",
   "id": "a5581559",
   "metadata": {},
   "source": [
    "## Modeling And Evaluation 3"
   ]
  },
  {
   "cell_type": "markdown",
   "id": "575f365d",
   "metadata": {},
   "source": [
    "The following models are the continuous regression and classification models:"
   ]
  },
  {
   "cell_type": "code",
   "execution_count": null,
   "id": "cba7d520",
   "metadata": {},
   "outputs": [],
   "source": [
    "from sklearn.model_selection import StratifiedKFold\n",
    "from sklearn.linear_model import LinearRegression, Lasso\n",
    "from timeit import default_timer as timer\n",
    "from sklearn import linear_model\n",
    "from sklearn.feature_selection import RFE\n",
    "from sklearn.svm import SVR\n",
    "from sklearn.svm import LinearSVR\n",
    "from sklearn.model_selection import cross_val_score, cross_validate\n",
    "\n",
    "model_stats_rainfall = {}\n",
    "\n",
    "def create_models_continous(df, iterations):\n",
    "\n",
    "    X = None\n",
    "    y = None\n",
    "    if \"Rainfall\" in df:\n",
    "        y = df[\"Rainfall\"].values # get the labels we want\n",
    "        del df[\"Rainfall\"] # get rid of the class label\n",
    "        X = df.values # use everything else to predict!\n",
    "    else:\n",
    "        return\n",
    "\n",
    "    random_state = 123\n",
    "    njobs = -1\n",
    "    \n",
    "    #models = [\"LinearRegression\", \"Lasso\", \"RFE\"]\n",
    "    models = [\"LinearRegression\", \"Lasso\"]\n",
    "   \n",
    "\n",
    "    for model in models:\n",
    "        start_time = timer()\n",
    "        clf = None\n",
    "        if model == \"LinearRegression\":\n",
    "            clf = LinearRegression(n_jobs=njobs)\n",
    "        elif model == \"Lasso\":\n",
    "            clf = Lasso(alpha=0.1)\n",
    "        elif model == \"RFE\":    \n",
    "            estimator = v\n",
    "            clf = RFE(estimator, n_features_to_select=8, step=1)\n",
    "    \n",
    "        cv_ret = cross_validate(clf, X, y, cv=10, scoring=\"neg_root_mean_squared_error\", n_jobs=-1 , return_estimator=True)\n",
    "        end_time = timer()\n",
    "        elapsed_time = end_time - start_time\n",
    "        print(clf.__class__.__name__,\" rmse are\\n\", cv_ret['test_score'], '\\ntook ', elapsed_time, \"seconds.\\n\")\n",
    "        \n",
    "        model_stats_rainfall[clf.__class__.__name__] = [cv_ret, elapsed_time]\n",
    "         "
   ]
  },
  {
   "cell_type": "code",
   "execution_count": null,
   "id": "164f44b2",
   "metadata": {},
   "outputs": [],
   "source": [
    "from sklearn.model_selection import StratifiedKFold\n",
    "\n",
    "\n",
    "df_model = df_model_copy.copy()\n",
    "del df_model[\"RainTomorrow\"]\n",
    "\n",
    "cv = StratifiedKFold(n_splits=10,shuffle=True, random_state=123)\n",
    "create_models_continous(df=df_model, iterations=cv)\n",
    "\n"
   ]
  },
  {
   "cell_type": "markdown",
   "id": "057957ef",
   "metadata": {},
   "source": [
    "### Classification Models\n",
    "\n",
    "In this, we create classification models for two response variables:\n",
    "\n",
    "   1. `RainTomorrow`, that has binary classification (`Yes` = `1`, `No` = `0`).\n",
    "    \n",
    "   2. `RainfallAmount`, this is multiclass, has variables `None` (`0`), `Low` (`1`), `Moderate` (`2`), and `High` (`3`).\n",
    "\n",
    "First, we are running models for `RainTomorrow`. "
   ]
  },
  {
   "cell_type": "code",
   "execution_count": null,
   "id": "b568837e",
   "metadata": {},
   "outputs": [],
   "source": [
    "from sklearn.model_selection import StratifiedKFold\n",
    "from sklearn.linear_model import LinearRegression, Lasso\n",
    "from timeit import default_timer as timer\n",
    "from sklearn import linear_model\n",
    "from sklearn.feature_selection import RFE\n",
    "from sklearn.svm import SVR\n",
    "from sklearn.svm import LinearSVR\n",
    "from sklearn.model_selection import cross_val_score, cross_validate\n",
    "\n",
    "\n",
    "def create_models_classification(model, df, response_feature,iterations):\n",
    "    start_time = timer()\n",
    "    X = None\n",
    "    y = None\n",
    "    if response_feature in df:\n",
    "        y = df[response_feature].values # get the labels we want\n",
    "        del df[response_feature] # get rid of the class label\n",
    "        X = df.values # use everything else to predict!\n",
    "    else:\n",
    "        return\n",
    "\n",
    "    random_state = 123\n",
    "    njobs = -1\n",
    "    scoring_metric = {'acc': 'accuracy',\n",
    "           'prec_macro': 'precision_macro',\n",
    "           'rec_micro': 'recall_macro'}\n",
    "    \n",
    "    cv = StratifiedKFold(n_splits=iterations,shuffle=True, random_state=random_state)\n",
    "    \n",
    "    cv_ret = cross_validate(model, X, y, cv=iterations, n_jobs=4, scoring=scoring_metric, return_estimator=True)\n",
    "    end_time = timer()\n",
    "    elapsed_time = end_time - start_time\n",
    "    \n",
    "    \n",
    "    print(model.__class__.__name__,\" accuracies are\\n\", cv_ret['test_score'], '\\ntook ', elapsed_time, \"seconds.\")\n",
    "    \n",
    "    return [cv_ret, elapsed_time]"
   ]
  },
  {
   "cell_type": "markdown",
   "id": "afaf65dc",
   "metadata": {},
   "source": [
    "### KNN find the best K"
   ]
  },
  {
   "cell_type": "code",
   "execution_count": null,
   "id": "39997808",
   "metadata": {},
   "outputs": [],
   "source": [
    "# For KNN: \n",
    "df_model[\"RainTomorrow\"] = df_impute[\"RainTomorrow\"]\n",
    "df_model[\"RainTomorrow\"] = df_model[\"RainTomorrow\"].map(dict(Yes=1, No=0))\n",
    "y= df_model[\"RainTomorrow\"].values\n",
    "del df_model[\"RainTomorrow\"]\n",
    "X = df_model.values\n"
   ]
  },
  {
   "cell_type": "code",
   "execution_count": null,
   "id": "f2f46aa8",
   "metadata": {},
   "outputs": [],
   "source": [
    "#Knn (model run):\n",
    "\n",
    "# Import necessary modules\n",
    "from sklearn.neighbors import KNeighborsClassifier\n",
    "from sklearn.model_selection import train_test_split\n",
    "from sklearn.datasets import load_iris\n",
    "import numpy as np\n",
    "import matplotlib.pyplot as plt\n",
    "  \n",
    "  \n",
    "# Split into training and test set\n",
    "X_train, X_test, y_train, y_test = train_test_split(\n",
    "             X, y, test_size = 0.2, random_state=123)\n",
    "  \n",
    "neighbors = np.arange(1, 9)\n",
    "train_accuracy = np.empty(len(neighbors))\n",
    "test_accuracy = np.empty(len(neighbors))\n",
    "  \n",
    "# Loop over K values\n",
    "for i, k in enumerate(neighbors):\n",
    "    knn = KNeighborsClassifier(n_neighbors=k)\n",
    "    knn.fit(X_train, y_train)\n",
    "      \n",
    "    # Compute traning and test data accuracy\n",
    "    train_accuracy[i] = knn.score(X_train, y_train)\n",
    "    test_accuracy[i] = knn.score(X_test, y_test)\n",
    "  \n",
    "# Generate plot\n",
    "plt.plot(neighbors, test_accuracy, label = 'Testing dataset Accuracy')\n",
    "plt.plot(neighbors, train_accuracy, label = 'Training dataset Accuracy')\n",
    "  \n",
    "plt.legend()\n",
    "plt.xlabel('n_neighbors')\n",
    "plt.ylabel('Accuracy')\n",
    "plt.show()\n",
    "\n",
    "max_accuracy = max_value = max(test_accuracy)\n",
    "\n",
    "best_k = test_accuracy.index(max_accuracy)\n",
    "\n",
    "\n",
    "#Reference for KNN: https://www.geeksforgeeks.org/k-nearest-neighbor-algorithm-in-python/"
   ]
  },
  {
   "cell_type": "code",
   "execution_count": null,
   "id": "0d4a8db2",
   "metadata": {
    "scrolled": true
   },
   "outputs": [],
   "source": [
    "# The following are the list of models and the parameters \n",
    "\n",
    "from sklearn.ensemble import RandomForestRegressor\n",
    "from sklearn.naive_bayes import MultinomialNB, GaussianNB \n",
    "from sklearn.linear_model import SGDClassifier\n",
    "from sklearn.svm import LinearSVC\n",
    "from sklearn.linear_model import LogisticRegression\n",
    "from sklearn.naive_bayes import MultinomialNB, GaussianNB \n",
    "from sklearn.linear_model import SGDClassifier\n",
    "from sklearn.ensemble import RandomForestClassifier\n",
    "from sklearn.svm import LinearSVC\n",
    "from sklearn.linear_model import LogisticRegression\n",
    "from sklearn.neighbors import KNeighborsClassifier\n",
    "from xgboost import XGBClassifier\n",
    "\n",
    "column_names = df_model.columns\n",
    "\n",
    "best_k = 8\n",
    "\n",
    "#we took the best logistic regression from the mini-lab\n",
    "models = [\n",
    "        KNeighborsClassifier(n_neighbors=best_k),\n",
    "        GaussianNB(), \n",
    "        SGDClassifier(loss='hinge', penalty='l2',alpha=1e-3,max_iter=5,tol=None, n_jobs=-1, random_state=123),\n",
    "        RandomForestClassifier(n_estimators=200, n_jobs=-1, random_state=123),\n",
    "        LinearSVC(random_state=123),\n",
    "        LogisticRegression(n_jobs=-1, C=100, solver=\"saga\", penalty=\"none\", random_state=123),\n",
    "        XGBClassifier(objective='binary:logistic')\n",
    "     ]\n",
    "\n",
    "models = [\n",
    "    LogisticRegression(n_jobs=-1, C=100, solver=\"saga\", penalty=\"none\", random_state=123)\n",
    " ]\n",
    "    \n",
    "model_stats_raintomorrow = {}\n",
    "for model in models:\n",
    "    df_model = df_model_copy.copy()\n",
    "    \n",
    "    #Delete Rainfall Amount (as this is a classification value of Rainfall)\n",
    "    if \"RainfallAmount\" in df_model:\n",
    "        del df_model[\"RainfallAmount\"]\n",
    "    stats = create_models_classification(model=model,df=df_model,response_feature=\"RainTomorrow\", iterations=10)\n",
    "    model_stats_raintomorrow[model.__class__.__name__] = stats"
   ]
  },
  {
   "cell_type": "markdown",
   "id": "819e7f0d",
   "metadata": {},
   "source": [
    "### Models for RainfallAmount"
   ]
  },
  {
   "cell_type": "code",
   "execution_count": null,
   "id": "71090888",
   "metadata": {
    "scrolled": true
   },
   "outputs": [],
   "source": [
    "from sklearn.ensemble import RandomForestRegressor\n",
    "from sklearn.naive_bayes import MultinomialNB, GaussianNB \n",
    "from sklearn.linear_model import SGDClassifier\n",
    "from sklearn.svm import LinearSVC\n",
    "from sklearn.linear_model import LogisticRegression\n",
    "from sklearn.naive_bayes import MultinomialNB, GaussianNB \n",
    "from sklearn.linear_model import SGDClassifier\n",
    "from sklearn.ensemble import RandomForestClassifier\n",
    "from sklearn.svm import LinearSVC\n",
    "from sklearn.linear_model import LogisticRegression\n",
    "\n",
    "models = [\n",
    "    KNeighborsClassifier(n_neighbors=8),\n",
    "    XGBClassifier(objective='binary:logistic'),\n",
    "    GaussianNB(), \n",
    "    SGDClassifier(loss='hinge', penalty='l2',alpha=1e-3,max_iter=5, tol=None, n_jobs=-1, random_state=123),\n",
    "    RandomForestClassifier(n_estimators=200,n_jobs=-1, random_state=123),\n",
    "    LinearSVC(random_state=123),\n",
    "    LogisticRegression(n_jobs=-1, random_state=123)\n",
    "]\n",
    "\n",
    "model_stats_rainfallamount = {}\n",
    "for model in models:\n",
    "    df_model = df_model_copy.copy()\n",
    "    if \"RainTomorrow\" in df_model:\n",
    "        del df_model['RainTomorrow']\n",
    "\n",
    "    if \"IsRainToday\" in df_model:        \n",
    "        del df_model['IsRainToday']\n",
    "\n",
    "    #RainfallAmount is a classification of Rainfall, having Rainfall will give model the predicting value, \n",
    "    #so remove Rainfall \n",
    "    if \"Rainfall\" in df_model:   \n",
    "        del df_model['Rainfall']\n",
    "   \n",
    "    stats = create_models_classification(model=model,df=df_model,response_feature=\"RainfallAmount\", iterations=10)\n",
    "    model_stats_rainfallamount[model.__class__.__name__] = stats"
   ]
  },
  {
   "cell_type": "markdown",
   "id": "b1b50b7b",
   "metadata": {},
   "source": [
    "## Modeling And Evaluation 4"
   ]
  },
  {
   "cell_type": "markdown",
   "id": "07b3bacc",
   "metadata": {},
   "source": [
    "#### Visualization of Models"
   ]
  },
  {
   "cell_type": "markdown",
   "id": "0ac81ec2",
   "metadata": {},
   "source": [
    "#### Random Forest Decision Tree for RainTomorrow"
   ]
  },
  {
   "cell_type": "code",
   "execution_count": null,
   "id": "2a7898bb",
   "metadata": {},
   "outputs": [],
   "source": [
    "estimator_rf = model_stats_raintomorrow['RandomForestClassifier'][0]['estimator'][1].estimators_[1]\n",
    "\n",
    "#Decision tree diagram for the first index (first tree):\n",
    "from sklearn import tree\n",
    "plt.figure(figsize = (25,12))\n",
    "tplt = tree.plot_tree(estimator_rf, proportion = True, fontsize=10,max_depth=3,class_names = ['No', 'Yes'], filled = True, feature_names = column_names)\n",
    "plt.show()"
   ]
  },
  {
   "cell_type": "markdown",
   "id": "09c2f811",
   "metadata": {},
   "source": [
    "Explain the Tree"
   ]
  },
  {
   "cell_type": "markdown",
   "id": "417b6eb3",
   "metadata": {},
   "source": [
    "#### Random Forest Decision Tree for RainfallAmount"
   ]
  },
  {
   "cell_type": "code",
   "execution_count": null,
   "id": "8d35fa05",
   "metadata": {},
   "outputs": [],
   "source": [
    "estimator_rf = model_stats_rainfallamount['RandomForestClassifier'][0]['estimator'][1].estimators_[1]\n",
    "\n",
    "#Decision tree diagram for the first index (first tree):\n",
    "from sklearn import tree\n",
    "plt.figure(figsize = (25,12))\n",
    "tplt = tree.plot_tree(estimator_rf, proportion = True, fontsize=10,max_depth=3,\n",
    "                      class_names = ['None', 'Low', 'Moderate', 'High'], filled = True, feature_names = column_names)\n",
    "plt.show()"
   ]
  },
  {
   "cell_type": "markdown",
   "id": "901139da",
   "metadata": {},
   "source": [
    "Explain the Tree"
   ]
  },
  {
   "cell_type": "markdown",
   "id": "b076ec9a",
   "metadata": {},
   "source": [
    "## Modeling And Evaluation 5\n",
    "\n",
    "Discuss the advantages of each model for each classification task, if any. If there are not advantages, explain why. Is any model better than another? Is the difference significant with 95% confidence? Use proper statistical comparison methods. You must use statistical comparison techniques—be sure they are appropriate for your chosen method of validation as discussed in unit 7 of the course."
   ]
  },
  {
   "cell_type": "markdown",
   "id": "308d164b",
   "metadata": {},
   "source": [
    "### Statistical comparison of Models"
   ]
  },
  {
   "cell_type": "markdown",
   "id": "c24ccc7c",
   "metadata": {},
   "source": [
    "### RainTomorrow"
   ]
  },
  {
   "cell_type": "code",
   "execution_count": null,
   "id": "7928a738",
   "metadata": {},
   "outputs": [],
   "source": [
    "from scipy.stats import f_oneway\n",
    "#from statsmodels.stats.multicomp import pairwise_tukeyhsd\n",
    "import statsmodels.stats.multicomp as multi\n",
    "from scipy import stats\n",
    "\n",
    "\n",
    "GaussianNB_stat = model_stats_raintomorrow['GaussianNB'][0][\"test_score\"].tolist()\n",
    "SGDClassifier_stat = model_stats_raintomorrow['SGDClassifier'][0][\"test_score\"].tolist()\n",
    "RandomForestClassifier_stat = model_stats_raintomorrow['RandomForestClassifier'][0][\"test_score\"].tolist()\n",
    "LogisticRegression_stat = model_stats_raintomorrow['LogisticRegression'][0][\"test_score\"].tolist()\n",
    "KNeighborsClassifier_stat = model_stats_raintomorrow['KNeighborsClassifier'][0][\"test_score\"].tolist()\n",
    "LinearSVC_stat = model_stats_raintomorrow['LinearSVC'][0][\"test_score\"].tolist()\n",
    "XGBClassifier_stat = model_stats_raintomorrow['XGBClassifier'][0][\"test_score\"].tolist()\n",
    "\n",
    "\n",
    "    \n",
    "anova_result = f_oneway(GaussianNB_stat, SGDClassifier_stat, RandomForestClassifier_stat, LogisticRegression_stat,\n",
    "                       KNeighborsClassifier_stat,LinearSVC_stat,XGBClassifier_stat)\n",
    "\n",
    "df_testscores_rt = pd.DataFrame({'score':GaussianNB_stat + SGDClassifier_stat +RandomForestClassifier_stat + LogisticRegression_stat+KNeighborsClassifier_stat+LinearSVC_stat+XGBClassifier_stat,\n",
    "                   'model': np.repeat([\"GaussianNB\", \"SGDClassifier\", \"RandomForestClassifier\",\"LogisticRegression\",\"KNeighborsClassifier\",\"LinearSVC\",\"XGBClassifier\"], repeats=10)}) \n",
    "\n",
    "tukey = multi.pairwise_tukeyhsd(endog=df_testscores_rt['score'],\n",
    "                          groups=df_testscores_rt['model'],\n",
    "                          alpha=0.05)\n",
    "\n",
    "\n",
    "multi_comp = multi.MultiComparison(df_testscores_rt['score'],\n",
    "                          df_testscores_rt['model'],\n",
    "                          )\n",
    "\n",
    "tukey_2 = multi_comp.tukeyhsd(alpha=.05)\n",
    "kruskal = multi_comp.kruskal()\n",
    "allpair = multi_comp.allpairtest(stats.ttest_rel, method='Holm', alpha=.05)\n",
    "allpair_bonf = multi_comp.allpairtest(stats.ttest_rel, method='bonf', alpha=.05)\n",
    "\n",
    "rank = multi_comp.getranks()\n",
    "\n",
    "print (allpair[0])\n",
    "print (allpair_bonf[0])\n",
    "print(tukey)\n",
    "print(kruskal)\n",
    "\n"
   ]
  },
  {
   "cell_type": "code",
   "execution_count": null,
   "id": "0f0b5880",
   "metadata": {},
   "outputs": [],
   "source": [
    "plt_t = df_testscores_rt.boxplot(\"score\",by=\"model\", showfliers=True, figsize= (14,8))\n",
    "\n",
    "plt.title('Model Comparisons RainTomorrow for Accuracy')\n"
   ]
  },
  {
   "cell_type": "markdown",
   "id": "2b76f3f5",
   "metadata": {},
   "source": [
    "#### RainfallAmount"
   ]
  },
  {
   "cell_type": "code",
   "execution_count": null,
   "id": "98dae04f",
   "metadata": {},
   "outputs": [],
   "source": [
    "from scipy.stats import f_oneway\n",
    "#from statsmodels.stats.multicomp import pairwise_tukeyhsd\n",
    "import statsmodels.stats.multicomp as multi\n",
    "from scipy import stats\n",
    "\n",
    "\n",
    "GaussianNB_stat = model_stats_rainfallamount['GaussianNB'][0][\"test_score\"].tolist()\n",
    "SGDClassifier_stat = model_stats_rainfallamount['SGDClassifier'][0][\"test_score\"].tolist()\n",
    "RandomForestClassifier_stat = model_stats_rainfallamount['RandomForestClassifier'][0][\"test_score\"].tolist()\n",
    "LogisticRegression_stat = model_stats_rainfallamount['LogisticRegression'][0][\"test_score\"].tolist()\n",
    "KNeighborsClassifier_stat = model_stats_raintomorrow['KNeighborsClassifier'][0][\"test_score\"].tolist()\n",
    "LinearSVC_stat = model_stats_rainfallamount['LinearSVC'][0][\"test_score\"].tolist()\n",
    "XGBClassifier_stat = model_stats_rainfallamount['XGBClassifier'][0][\"test_score\"].tolist()\n",
    "\n",
    "anova_result = f_oneway(GaussianNB_stat, SGDClassifier_stat, RandomForestClassifier_stat, \n",
    "                        LogisticRegression_stat, KNeighborsClassifier_stat,LinearSVC_stat,XGBClassifier_stat)\n",
    "\n",
    "df_testscores_ra = pd.DataFrame({'score':GaussianNB_stat + SGDClassifier_stat +RandomForestClassifier_stat + LogisticRegression_stat+KNeighborsClassifier_stat+LinearSVC_stat+XGBClassifier_stat,\n",
    "                   'model': np.repeat([\"GaussianNB\", \"SGDClassifier\", \"RandomForestClassifier\",\"LogisticRegression\",\"KNeighborsClassifier\",\"LinearSVC\",\"XGBClassifier\"], repeats=10)}) \n",
    "\n",
    "tukey = multi.pairwise_tukeyhsd(endog=df_testscores_ra['score'],\n",
    "                          groups=df_testscores_ra['model'],\n",
    "                          alpha=0.05)\n",
    "\n",
    "\n",
    "multi_comp = multi.MultiComparison(df_testscores_ra['score'],\n",
    "                          df_testscores_ra['model'],\n",
    "                          )\n",
    "\n",
    "tukey_2 = multi_comp.tukeyhsd(alpha=.05)\n",
    "kruskal = multi_comp.kruskal()\n",
    "allpair = multi_comp.allpairtest(stats.ttest_rel, method='Holm', alpha=.05)\n",
    "allpair_bonf = multi_comp.allpairtest(stats.ttest_rel, method='bonf', alpha=.05)\n",
    "\n",
    "rank = multi_comp.getranks()\n",
    "\n",
    "print (allpair[0])\n",
    "print (allpair_bonf[0])\n",
    "print(tukey)\n",
    "print(kruskal)\n"
   ]
  },
  {
   "cell_type": "code",
   "execution_count": null,
   "id": "8d0d5487",
   "metadata": {},
   "outputs": [],
   "source": [
    "df_testscores_ra.boxplot(\"score\",by=\"model\", showfliers=True, figsize= (14,8))\n",
    "plt.title('Model Comparisons RainfallAmount for Accuracy')\n"
   ]
  },
  {
   "cell_type": "markdown",
   "id": "dcfaf777",
   "metadata": {},
   "source": [
    "#### Rainfall (Linear)"
   ]
  },
  {
   "cell_type": "code",
   "execution_count": null,
   "id": "b00c569c",
   "metadata": {},
   "outputs": [],
   "source": [
    "from scipy.stats import f_oneway\n",
    "#from statsmodels.stats.multicomp import pairwise_tukeyhsd\n",
    "import statsmodels.stats.multicomp as multi\n",
    "from scipy import stats\n",
    "\n",
    "\n",
    "Linear_stat = model_stats_rainfall['LinearRegression'][0][\"test_score\"].tolist()\n",
    "Lasso_stat = model_stats_rainfall['Lasso'][0][\"test_score\"].tolist()\n",
    "RFE_stat = model_stats_rainfall['Lasso'][0][\"test_score\"].tolist()\n",
    "\n",
    "\n",
    "#Convert them in abs value, as sklearn gives them in negative (but the values are not really negative)\n",
    "\n",
    "Linear_stat =[abs(number) for number in Linear_stat]\n",
    "Lasso_stat = [abs(number) for number in Lasso_stat]\n",
    "RFE_stat = [abs(number) for number in RFE_stat]\n",
    "\n",
    "\n",
    "all_stats = Linear_stat + Lasso_stat + RFE_stat  \n",
    "    \n",
    "anova_result = f_oneway(Linear_stat, Lasso_stat, RFE_stat)\n",
    "\n",
    "df_testscores_r = pd.DataFrame({'score':all_stats,\n",
    "                   'model': np.repeat([\"LinearRegression\", \"LASSO\", \"RFE\"], repeats=10)}) \n",
    "\n",
    "tukey = multi.pairwise_tukeyhsd(endog=df_testscores_r['score'],\n",
    "                          groups=df_testscores_r['model'],\n",
    "                          alpha=0.05)\n",
    "\n",
    "\n",
    "multi_comp = multi.MultiComparison(df_testscores_r['score'],\n",
    "                          df_testscores_r['model'],\n",
    "                          )\n",
    "\n",
    "tukey_2 = multi_comp.tukeyhsd(alpha=.05)\n",
    "kruskal = multi_comp.kruskal()\n",
    "allpair = multi_comp.allpairtest(stats.ttest_rel, method='Holm', alpha=.05)\n",
    "allpair_bonf = multi_comp.allpairtest(stats.ttest_rel, method='bonf', alpha=.05)\n",
    "\n",
    "rank = multi_comp.getranks()\n",
    "\n",
    "print (allpair[0])\n",
    "print (allpair_bonf[0])\n",
    "print(tukey)\n",
    "print(kruskal)\n"
   ]
  },
  {
   "cell_type": "code",
   "execution_count": null,
   "id": "c7df0b90",
   "metadata": {},
   "outputs": [],
   "source": [
    "\n",
    "df_testscores_r.boxplot(\"score\",by=\"model\", showfliers=True, figsize= (14,8))\n",
    "plt.title('Model Comparisons Rainfall for RMSE')\n",
    "\n",
    "#Plot references\n",
    "# http://www.r-graph-gallery.com/84-tukey-test\n"
   ]
  },
  {
   "cell_type": "code",
   "execution_count": null,
   "id": "038df86e",
   "metadata": {},
   "outputs": [],
   "source": [
    "model_stats_raintomorrow[\"LogisticRegression\"][1]"
   ]
  },
  {
   "cell_type": "code",
   "execution_count": null,
   "id": "8b722d9f",
   "metadata": {},
   "outputs": [],
   "source": [
    "#df_model_copy = df_model.copy()"
   ]
  },
  {
   "cell_type": "markdown",
   "id": "d6e2f5bb",
   "metadata": {},
   "source": [
    "## Modeling And Evaluation 6\n",
    "\n",
    "Which attributes from your analysis are most important? Use proper methods discussed in class to evaluate the importance of different attributes. Discuss the results and hypothesize about why certain attributes are more important than others for a given classification task.\n"
   ]
  },
  {
   "cell_type": "code",
   "execution_count": null,
   "id": "d51c955f",
   "metadata": {},
   "outputs": [],
   "source": [
    "import time\n",
    "import numpy as np\n",
    "\n",
    "start_time = time.time()\n",
    "importances = clf.feature_importances_\n",
    "std = np.std([\n",
    "    tree.feature_importances_ for tree in clf.estimators_], axis=0)\n",
    "elapsed_time = time.time() - start_time\n",
    "\n",
    "print(f\"Elapsed time to compute the importances: \"\n",
    "      f\"{elapsed_time:.3f} seconds\")"
   ]
  },
  {
   "cell_type": "code",
   "execution_count": null,
   "id": "8a74736f",
   "metadata": {},
   "outputs": [],
   "source": [
    "#Attribute Importance - Random Forest Model (RainTomorrow Classification)\n",
    "\n",
    "from sklearn.inspection import permutation_importance\n",
    "start_time = time.time()\n",
    "result = permutation_importance(\n",
    "    clf, X[test], y[test], n_repeats=10, random_state=123, n_jobs=-1)\n",
    "elapsed_time = time.time() - start_time\n",
    "print(f\"Elapsed time to compute the importances: \"\n",
    "      f\"{elapsed_time:.3f} seconds\")\n",
    "\n",
    "forest_importances = pd.Series(result.importances_mean, index=column_names_f)\n",
    "\n",
    "\n",
    "plt.figure(figsize=(20,8))\n",
    "forest_importances.plot.bar(yerr=result.importances_std)\n",
    "\n",
    "plt.show()\n"
   ]
  },
  {
   "cell_type": "markdown",
   "id": "cfdc24e8",
   "metadata": {},
   "source": [
    "Explain"
   ]
  },
  {
   "cell_type": "code",
   "execution_count": null,
   "id": "ec91ba77",
   "metadata": {},
   "outputs": [],
   "source": [
    "#Attribute Importance - Random Forest Model ('RainfallAmount')\n",
    "\n",
    "from sklearn.inspection import permutation_importance\n",
    "start_time = time.time()\n",
    "result = permutation_importance(\n",
    "    clf, X2[test], y2[test], n_repeats=10, random_state=123, n_jobs=-1)\n",
    "elapsed_time = time.time() - start_time\n",
    "print(f\"Elapsed time to compute the importances: \"\n",
    "      f\"{elapsed_time:.3f} seconds\")\n",
    "\n",
    "forest_importances2 = pd.Series(result.importances_mean, index=column_names_f2)\n",
    "\n",
    "#Visuals RainfallAmount Attribute importance\n",
    "plt.figure(figsize=(20,8))\n",
    "forest_importances2.plot.bar(yerr=result.importances_std)\n",
    "\n",
    "plt.show()\n"
   ]
  },
  {
   "cell_type": "markdown",
   "id": "47989eff",
   "metadata": {},
   "source": [
    "explain"
   ]
  },
  {
   "cell_type": "code",
   "execution_count": null,
   "id": "de4072c2",
   "metadata": {},
   "outputs": [],
   "source": []
  },
  {
   "cell_type": "markdown",
   "id": "1889eacc",
   "metadata": {},
   "source": [
    "## Deployment"
   ]
  },
  {
   "cell_type": "markdown",
   "id": "23033e3a",
   "metadata": {},
   "source": [
    "Our models are primarily designed for meteorologists. At the same time, these can be very useful for event organizers in cities across the country – mostly important for outdoor events. The favored model can be also useful for government organizations like military (Navy). The model not only predicts if it’s going to Rain Tomorrow (next day), It also predicts the amount of `Rainfall` for today in amount of rain fell (mm) as well as classifies as `Low`, `Medium` and `High`. Due to our ability to give the data which is easily interpretable for everyone, this is useful for the everyone. It can be integrated by the weather channels and apps as well. \n",
    "\n",
    "\n",
    "The model’s value can be measured in terms of its accuracy; higher the accuracy better the value of the model over existing models in use. Some parties may value our models higher than others depending upon how important the accuracy of prediction of Rainfall for their business or area of operations.\n",
    "\n",
    "\n",
    "Our models can be integrated to the existing feed of weather related data which is useful for our model to predict accurately. This data is easily available from government websites. \n",
    "\n",
    "\n",
    "Data from those sources can be integrated with our model and build an APIs for anyone to consume and monetize by the count of API calls.\n",
    "\n",
    "\n",
    "As we know weather is an ever-changing event and due to climate change, predictive models needs to evolve continuously. The validity of our models need to be tested against the recorded information and improve our models daily with the new data (models can be built within hours).\n",
    "\n",
    "\n",
    "Additional data points may be required like seasons, time of the year, impact of natural events like cyclones/hurricanes, wild fires, El Niño and La Niña effects etc.\n",
    "\n",
    "\n",
    "Overall, our classification models will be more useful since those clearly indicates weather condition for all the interested parties."
   ]
  },
  {
   "cell_type": "markdown",
   "id": "0922360e",
   "metadata": {},
   "source": [
    "## Exceptional Work"
   ]
  },
  {
   "cell_type": "code",
   "execution_count": null,
   "id": "90747f9d",
   "metadata": {},
   "outputs": [],
   "source": []
  },
  {
   "cell_type": "markdown",
   "id": "d0282e69",
   "metadata": {},
   "source": [
    "# Conclusion\n",
    "\n",
    "\n"
   ]
  },
  {
   "cell_type": "code",
   "execution_count": null,
   "id": "989dbcf3",
   "metadata": {},
   "outputs": [],
   "source": []
  },
  {
   "cell_type": "code",
   "execution_count": null,
   "id": "ad6cef60",
   "metadata": {},
   "outputs": [],
   "source": []
  },
  {
   "cell_type": "code",
   "execution_count": null,
   "id": "d904a4be",
   "metadata": {},
   "outputs": [],
   "source": []
  },
  {
   "cell_type": "code",
   "execution_count": null,
   "id": "e6b61d7a",
   "metadata": {},
   "outputs": [],
   "source": []
  },
  {
   "cell_type": "markdown",
   "id": "8d6d9a29",
   "metadata": {},
   "source": [
    "# Seemant"
   ]
  },
  {
   "cell_type": "markdown",
   "id": "d8b6fba2",
   "metadata": {},
   "source": [
    "## XGBoost Model"
   ]
  },
  {
   "cell_type": "markdown",
   "id": "871c95f0",
   "metadata": {},
   "source": [
    "XGBoost is an optimized distributed gradient boosting library designed to be highly efficient, flexible and portable. It implements machine learning algorithms under the Gradient Boosting framework. XGBoost provides a parallel tree boosting (also known as GBDT, GBM) that solve many data science problems in a fast and accurate way."
   ]
  },
  {
   "cell_type": "code",
   "execution_count": 25,
   "id": "04aa5e3a",
   "metadata": {},
   "outputs": [],
   "source": [
    "df_model[\"RainTomorrow\"] = df_model[\"RainTomorrow\"].map(dict(Yes=1, No=0))\n",
    "y= df_model[\"RainTomorrow\"].values\n",
    "del df_model[\"RainTomorrow\"]\n",
    "X = df_model.values\n",
    "df_model[\"RainTomorrow\"] = df_impute[\"RainTomorrow\"]"
   ]
  },
  {
   "cell_type": "code",
   "execution_count": 26,
   "id": "427f82f4",
   "metadata": {},
   "outputs": [],
   "source": [
    "# Split into training and test set\n",
    "from sklearn.model_selection import train_test_split\n",
    "X_train, X_test, y_train, y_test = train_test_split(\n",
    "             X, y, test_size = 0.2, random_state=123)"
   ]
  },
  {
   "cell_type": "code",
   "execution_count": 27,
   "id": "0f9de30e",
   "metadata": {},
   "outputs": [
    {
     "data": {
      "text/plain": [
       "XGBClassifier(base_score=0.5, booster='gbtree', colsample_bylevel=1,\n",
       "              colsample_bynode=1, colsample_bytree=1, gamma=0, gpu_id=-1,\n",
       "              importance_type='gain', interaction_constraints='',\n",
       "              learning_rate=0.300000012, max_delta_step=0, max_depth=6,\n",
       "              min_child_weight=1, missing=nan, monotone_constraints='()',\n",
       "              n_estimators=100, n_jobs=0, num_parallel_tree=1, random_state=0,\n",
       "              reg_alpha=0, reg_lambda=1, scale_pos_weight=1, subsample=1,\n",
       "              tree_method='exact', validate_parameters=1, verbosity=None)"
      ]
     },
     "execution_count": 27,
     "metadata": {},
     "output_type": "execute_result"
    }
   ],
   "source": [
    "from xgboost import XGBClassifier\n",
    "xgbc = XGBClassifier(objective='binary:logistic')\n",
    "xgbc.fit(X_train,y_train)"
   ]
  },
  {
   "cell_type": "code",
   "execution_count": 28,
   "id": "388d042b",
   "metadata": {},
   "outputs": [
    {
     "name": "stdout",
     "output_type": "stream",
     "text": [
      "              precision    recall  f1-score   support\n",
      "\n",
      "           0       0.95      0.98      0.96     21962\n",
      "           1       0.91      0.82      0.86      6196\n",
      "\n",
      "    accuracy                           0.94     28158\n",
      "   macro avg       0.93      0.90      0.91     28158\n",
      "weighted avg       0.94      0.94      0.94     28158\n",
      "\n",
      "Accuracy of the XGBoost Model is: 94.23609631365865 %\n"
     ]
    },
    {
     "data": {
      "image/png": "[encoded data removed]",
      "text/plain": [
       "<Figure size 432x288 with 2 Axes>"
      ]
     },
     "metadata": {
      "needs_background": "light"
     },
     "output_type": "display_data"
    }
   ],
   "source": [
    "# accuracy of XGBoost Model\n",
    "from sklearn.metrics import accuracy_score, confusion_matrix,classification_report,roc_curve, roc_auc_score\n",
    "y_predxgb = xgbc.predict(X_test)\n",
    "report = classification_report(y_test, y_predxgb)\n",
    "print(report)\n",
    "print(\"Accuracy of the XGBoost Model is:\",accuracy_score(y_test,y_predxgb)*100,\"%\")\n",
    "cm = confusion_matrix(y_test, y_predxgb)\n",
    "sns.heatmap(cm, annot=True,cmap=\"YlGnBu\")\n",
    "plt.title(\"Confusion Matrix for XGBoost Model\")\n",
    "plt.show()\n",
    "# Reference: https://towardsdatascience.com/getting-started-with-xgboost-in-scikit-learn-f69f5f470a97\n",
    "# Reference: https://www.kaggle.com/jsphyg/weather-dataset-rattle-package/code"
   ]
  },
  {
   "cell_type": "markdown",
   "id": "80205396",
   "metadata": {},
   "source": [
    "The above classification report provides important metrices for the XGBoost regression model's performance.\n",
    "\n",
    "The accuracy is at 93%.\n",
    "\n",
    "The precision and recall are higher for predicting RainTomorrow values. The model is very efficient with predicing Yes-RainTomorrow.\n",
    "\n",
    "With this experiment based on the dataset we have, we believe XGBoost model prediction is good based on precision and recall scores."
   ]
  },
  {
   "cell_type": "code",
   "execution_count": 29,
   "id": "cea77554",
   "metadata": {},
   "outputs": [],
   "source": [
    "y_pred_proba = xgbc.predict_proba(X_test)\n",
    "pos_proba = y_pred_proba[:,1]"
   ]
  },
  {
   "cell_type": "code",
   "execution_count": 30,
   "id": "1c5556a2",
   "metadata": {},
   "outputs": [
    {
     "data": {
      "text/plain": [
       "Text(0.5, 1.0, 'ROC curve for XGBoost Classifier')"
      ]
     },
     "execution_count": 30,
     "metadata": {},
     "output_type": "execute_result"
    },
    {
     "data": {
      "image/png": "[encoded data removed]",
      "text/plain": [
       "<Figure size 432x288 with 1 Axes>"
      ]
     },
     "metadata": {
      "needs_background": "light"
     },
     "output_type": "display_data"
    }
   ],
   "source": [
    "fpr, tpr, thresholds = roc_curve(y_test, pos_proba)\n",
    "plt.plot(fpr, tpr, '*-')\n",
    "plt.plot([0, 1], [0, 1], 'r--')\n",
    "plt.legend(['XGBoost', 'Random chance'])\n",
    "plt.xlabel('FPR')\n",
    "plt.ylabel('TPR')\n",
    "plt.title('ROC curve for XGBoost Classifier')"
   ]
  },
  {
   "cell_type": "markdown",
   "id": "40217735",
   "metadata": {},
   "source": [
    "The receiver operating characteristic (ROC) curve is a plot of the pairs of true positive rates (y-axis) and false positive rates (x-axis) that result from lowering the threshold down from 1, all the way to 0.\n",
    "\n",
    "Values closer to 1 in roc_auc_score shows that classifier is efficient and gives better performance.\n",
    "\n",
    "The above `ROC` curve for the XGBoost model shows the area under the curve (AUC). The score of 0.98 tells us that there is `98%` chance that the model will be successful at classifying yes as yes and no as no values for `RainTomorrow` "
   ]
  },
  {
   "cell_type": "markdown",
   "id": "54c4417b",
   "metadata": {},
   "source": [
    "## Feature Importance - XGBoost Model"
   ]
  },
  {
   "cell_type": "code",
   "execution_count": 31,
   "id": "e2174a01",
   "metadata": {},
   "outputs": [
    {
     "data": {
      "image/png": "[encoded data removed]",
      "text/plain": [
       "<Figure size 576x468 with 3 Axes>"
      ]
     },
     "metadata": {},
     "output_type": "display_data"
    }
   ],
   "source": [
    "import xgboost\n",
    "import shap\n",
    "# train an XGBoost model\n",
    "xgboost_model = xgboost.XGBRegressor().fit(X, y)\n",
    "# explain the model's predictions using SHAP\n",
    "explainer = shap.Explainer(xgboost_model, feature_names=df_model.columns)\n",
    "shap_values = explainer(X)\n",
    "# visualize the first prediction's explanation\n",
    "shap.plots.waterfall(shap_values[0])\n",
    "\n",
    "# Reference: https://github.com/slundberg/shap"
   ]
  },
  {
   "cell_type": "markdown",
   "id": "cc0792dd",
   "metadata": {},
   "source": [
    "The above explanation shows features each contributing to push the model output from the base value (the average model output over the training dataset we passed) to the model output.\n",
    "\n",
    "Features pushing the prediction higher are shown in red, those pushing the prediction lower are in blue."
   ]
  },
  {
   "cell_type": "code",
   "execution_count": 32,
   "id": "96a223fc",
   "metadata": {},
   "outputs": [
    {
     "data": {
      "image/png": "[encoded data removed]",
      "text/plain": [
       "<Figure size 576x468 with 1 Axes>"
      ]
     },
     "metadata": {},
     "output_type": "display_data"
    }
   ],
   "source": [
    "# feature inmportance using shap\n",
    "shap.plots.bar(shap_values)\n",
    "# Reference: https://github.com/slundberg/shap"
   ]
  },
  {
   "cell_type": "markdown",
   "id": "8fce675a",
   "metadata": {},
   "source": [
    "The above plot shows the total impact of each feature on our model. As explained in previous weighted plot, these features have high importance in predicting `Feature 4 for RainTomorrow`."
   ]
  },
  {
   "cell_type": "code",
   "execution_count": 33,
   "id": "1efcff52",
   "metadata": {},
   "outputs": [
    {
     "data": {
      "image/png": "[encoded data removed]",
      "text/plain": [
       "<Figure size 576x396 with 2 Axes>"
      ]
     },
     "metadata": {
      "needs_background": "light"
     },
     "output_type": "display_data"
    }
   ],
   "source": [
    "# summarize the effects of all the features\n",
    "shap.plots.beeswarm(shap_values)\n",
    "# Reference: https://github.com/slundberg/shap"
   ]
  },
  {
   "cell_type": "markdown",
   "id": "4cb876ad",
   "metadata": {},
   "source": [
    "**Explaining the logistic model for Rain Tomorrow prediction:**\n",
    "\n",
    "SHAP summary plots give us a birds-eye view of feature importance and what is driving it. The above SHAP summary plot is made of many dots. Each dot has three characteristics:\n",
    "\n",
    "The features are listed from high to low rank. The colors indicate how the change in the values of the features impact the output attribute (`Feature 4 for RainTomorrow`). For example, on above plot, `Feature 4 for RainTomorrow` shows the higher value of it has higher impact on the output. Horizontal location shows whether the effect of that value caused a higher or lower prediction.\n",
    "\n",
    "Some things the summary plot is  able to easily pick out:-\n",
    "\n",
    "Higher means more likely to be positive, so in the plots above the “red” features are actually helping raise the chance for `RainTomorrow`, while the negative features are lowering the chance for `RainTomorrow`.\n",
    "The model ignored around 56 features which were of lower importance in predicting the chances of `RainTomorrow`.\n",
    "\n",
    "Usually `Feature 11 for Pressure9am` has moderate effect on the prediction, but there are extreme cases of `Pressure9am` where a high value still caused moderate level of prediction.\n",
    "\n",
    "Reference: https://www.kaggle.com/dansbecker/advanced-uses-of-shap-values"
   ]
  },
  {
   "cell_type": "code",
   "execution_count": 35,
   "id": "6e41616d",
   "metadata": {},
   "outputs": [
    {
     "data": {
      "text/html": [
       "\n",
       "<div id='iS8T78KHYMVUXJZSVYX6O'>\n",
       "<div style='color: #900; text-align: center;'>\n",
       "  <b>Visualization omitted, Javascript library not loaded!</b><br>\n",
       "  Have you run `initjs()` in this notebook? If this notebook was from another\n",
       "  user you must also trust this notebook (File -> Trust notebook). If you are viewing\n",
       "  this notebook on github the Javascript has been stripped for security. If you are using\n",
       "  JupyterLab this error is because a JupyterLab extension has not yet been written.\n",
       "</div></div>\n",
       " <script>\n",
       "   if (window.SHAP) SHAP.ReactDom.render(\n",
       "    SHAP.React.createElement(SHAP.AdditiveForceVisualizer, {\"outNames\": [\"f(x)\"], \"baseValue\": 0.22161421179771423, \"outValue\": -0.06579363346099854, \"link\": \"identity\", \"featureNames\": [13.4, 22.9, 0.6, 6.0322092850234545, 8.890686173501024, 44.0, 20.0, 24.0, 71.0, 22.0, 1007.7, 1007.1, 8.0, 3.6843936841715568, 16.9, 21.8, 0.0, 0.0, 0.0, 0.0, 0.0, 0.0, 0.0, 0.0, 0.0, 0.0, 0.0, 0.0, 0.0, 1.0, 0.0, 0.0, 0.0, 0.0, 0.0, 0.0, 0.0, 0.0, 0.0, 0.0, 0.0, 0.0, 0.0, 0.0, 0.0, 1.0, 0.0, 0.0, 0.0, 0.0, 0.0, 0.0, 0.0, 0.0, 0.0, 0.0, 0.0, 0.0, 0.0, 1.0, 0.0, 0.0, 0.0], \"features\": {\"0\": {\"effect\": -0.01804501563310623, \"value\": \"\"}, \"1\": {\"effect\": -0.0032076118513941765, \"value\": \"\"}, \"2\": {\"effect\": -0.0001351381215499714, \"value\": \"\"}, \"3\": {\"effect\": -0.0248578954488039, \"value\": \"\"}, \"4\": {\"effect\": -0.10834087431430817, \"value\": \"\"}, \"5\": {\"effect\": -0.011858049780130386, \"value\": \"\"}, \"6\": {\"effect\": -0.002188955433666706, \"value\": \"\"}, \"7\": {\"effect\": -0.008903228677809238, \"value\": \"\"}, \"8\": {\"effect\": 0.002047722926363349, \"value\": \"\"}, \"9\": {\"effect\": -0.04905880615115166, \"value\": \"\"}, \"10\": {\"effect\": -0.03349965810775757, \"value\": \"\"}, \"11\": {\"effect\": 0.019470689818263054, \"value\": \"\"}, \"12\": {\"effect\": -0.008005416952073574, \"value\": \"\"}, \"13\": {\"effect\": -0.03145505115389824, \"value\": \"\"}, \"14\": {\"effect\": -0.00957128219306469, \"value\": \"\"}, \"15\": {\"effect\": 0.000813437276519835, \"value\": \"\"}, \"17\": {\"effect\": 0.00026819240883924067, \"value\": \"\"}, \"18\": {\"effect\": -3.665692202048376e-05, \"value\": \"\"}, \"19\": {\"effect\": -0.00015255206380970776, \"value\": \"\"}, \"20\": {\"effect\": -2.0413481252035126e-05, \"value\": \"\"}, \"21\": {\"effect\": 3.0819075618637726e-05, \"value\": \"\"}, \"22\": {\"effect\": 0.00020239186414983124, \"value\": \"\"}, \"23\": {\"effect\": 0.000337719451636076, \"value\": \"\"}, \"24\": {\"effect\": -5.404907642514445e-05, \"value\": \"\"}, \"25\": {\"effect\": 4.002156856586225e-05, \"value\": \"\"}, \"26\": {\"effect\": -0.000932278810068965, \"value\": \"\"}, \"27\": {\"effect\": -7.2117181844078e-05, \"value\": \"\"}, \"28\": {\"effect\": -0.0007557999924756587, \"value\": \"\"}, \"29\": {\"effect\": -0.005744243040680885, \"value\": \"\"}, \"30\": {\"effect\": -8.158067794283852e-05, \"value\": \"\"}, \"31\": {\"effect\": -0.00019940004858653992, \"value\": \"\"}, \"32\": {\"effect\": 2.782502087939065e-05, \"value\": \"\"}, \"33\": {\"effect\": 1.895336390589364e-05, \"value\": \"\"}, \"34\": {\"effect\": -0.0005740282940678298, \"value\": \"\"}, \"35\": {\"effect\": -9.754816710483283e-05, \"value\": \"\"}, \"36\": {\"effect\": -0.0005329973646439612, \"value\": \"\"}, \"37\": {\"effect\": -0.00033620145404711366, \"value\": \"\"}, \"38\": {\"effect\": -0.00020789989503100514, \"value\": \"\"}, \"39\": {\"effect\": 0.00035121786640957, \"value\": \"\"}, \"40\": {\"effect\": 0.0003136255545541644, \"value\": \"\"}, \"41\": {\"effect\": 8.056068509176839e-06, \"value\": \"\"}, \"42\": {\"effect\": 0.0002922586281783879, \"value\": \"\"}, \"43\": {\"effect\": 0.00036241119960322976, \"value\": \"\"}, \"44\": {\"effect\": -2.2265712686930783e-05, \"value\": \"\"}, \"45\": {\"effect\": 0.008219906128942966, \"value\": \"\"}, \"46\": {\"effect\": -1.744757901178673e-05, \"value\": \"\"}, \"47\": {\"effect\": -0.0005425354465842247, \"value\": \"\"}, \"48\": {\"effect\": 0.000613365089520812, \"value\": \"\"}, \"49\": {\"effect\": -0.001756549347192049, \"value\": \"\"}, \"50\": {\"effect\": -0.00021478447888512164, \"value\": \"\"}, \"51\": {\"effect\": -0.0007169055170379579, \"value\": \"\"}, \"52\": {\"effect\": -1.5307414287235588e-05, \"value\": \"\"}, \"53\": {\"effect\": 2.488010431989096e-05, \"value\": \"\"}, \"54\": {\"effect\": 3.2591287890682e-05, \"value\": \"\"}, \"55\": {\"effect\": 9.51473048189655e-05, \"value\": \"\"}, \"56\": {\"effect\": -1.0670039046090096e-05, \"value\": \"\"}, \"57\": {\"effect\": 0.0001983937545446679, \"value\": \"\"}, \"58\": {\"effect\": -0.0001120094457291998, \"value\": \"\"}, \"59\": {\"effect\": 0.001840317971073091, \"value\": \"\"}, \"60\": {\"effect\": -0.0003092704282607883, \"value\": \"\"}, \"61\": {\"effect\": -0.0002867705188691616, \"value\": \"\"}, \"62\": {\"effect\": -8.856834756443277e-05, \"value\": \"\"}}, \"plot_cmap\": \"RdBu\", \"labelMargin\": 20}),\n",
       "    document.getElementById('iS8T78KHYMVUXJZSVYX6O')\n",
       "  );\n",
       "</script>"
      ],
      "text/plain": [
       "<shap.plots._force.AdditiveForceVisualizer at 0x231930bc9d0>"
      ]
     },
     "execution_count": 35,
     "metadata": {},
     "output_type": "execute_result"
    }
   ],
   "source": [
    "# visualize the first prediction's explanation with a force plot\n",
    "shap.plots.force(shap_values[0])\n",
    "# Reference: https://github.com/slundberg/shap"
   ]
  },
  {
   "cell_type": "markdown",
   "id": "7ebd7f2f",
   "metadata": {},
   "source": [
    "We predicted -0.02, whereas the base_value is 0.2216. Feature values causing increased predictions are in pink, and their visual size shows the magnitude of the feature's effect. Feature values decreasing the prediction are in blue. The biggest impact comes from feature being 1007.1. Though the blue feature next to the predicted value -0.02 has a meaningful effect decreasing the prediction.\n",
    "\n",
    "If you subtract the length of the blue bars from the length of the pink bars, it equals the distance from the base value to the output.\n",
    "\n",
    "Reference: https://www.kaggle.com/dansbecker/shap-values"
   ]
  },
  {
   "cell_type": "markdown",
   "id": "60e66b8a",
   "metadata": {},
   "source": [
    "# Random Forest Classifier Model"
   ]
  },
  {
   "cell_type": "code",
   "execution_count": 36,
   "id": "dc5899c2",
   "metadata": {},
   "outputs": [
    {
     "data": {
      "text/plain": [
       "RandomForestClassifier(n_estimators=300)"
      ]
     },
     "execution_count": 36,
     "metadata": {},
     "output_type": "execute_result"
    }
   ],
   "source": [
    "from sklearn.ensemble import RandomForestClassifier\n",
    "classifier = RandomForestClassifier(n_estimators=300) # increasing number of trees for better accuracy\n",
    "classifier.fit(X_train, y_train)"
   ]
  },
  {
   "cell_type": "code",
   "execution_count": 37,
   "id": "53e92005",
   "metadata": {},
   "outputs": [
    {
     "name": "stdout",
     "output_type": "stream",
     "text": [
      "              precision    recall  f1-score   support\n",
      "\n",
      "           0       0.95      0.98      0.96     21962\n",
      "           1       0.91      0.80      0.85      6196\n",
      "\n",
      "    accuracy                           0.94     28158\n",
      "   macro avg       0.93      0.89      0.91     28158\n",
      "weighted avg       0.94      0.94      0.94     28158\n",
      "\n",
      "Accuracy of the Random Forest Model is: 93.89516300873642 %\n"
     ]
    },
    {
     "data": {
      "image/png": "[encoded data removed]",
      "text/plain": [
       "<Figure size 432x288 with 2 Axes>"
      ]
     },
     "metadata": {
      "needs_background": "light"
     },
     "output_type": "display_data"
    }
   ],
   "source": [
    "# accuracy of Random Forest Classifier Model\n",
    "from sklearn.metrics import accuracy_score, confusion_matrix,classification_report,roc_curve, roc_auc_score\n",
    "y_pred2 = classifier.predict(X_test)\n",
    "report3 = classification_report(y_test, y_pred2)\n",
    "print(report3)\n",
    "print(\"Accuracy of the Random Forest Model is:\",accuracy_score(y_test,y_pred2)*100,\"%\")\n",
    "cm3 = confusion_matrix(y_test, y_pred2)\n",
    "sns.heatmap(cm3, annot=True)\n",
    "plt.title(\"Confusion Matrix for Random Forest Classifier Model\")\n",
    "plt.show()\n",
    "# Reference: https://towardsdatascience.com/random-forest-in-python-24d0893d51c0\n",
    "# Reference: https://www.kaggle.com/jsphyg/weather-dataset-rattle-package/code"
   ]
  },
  {
   "cell_type": "code",
   "execution_count": 38,
   "id": "fb69bc00",
   "metadata": {},
   "outputs": [],
   "source": [
    "y_pred_proba = classifier.predict_proba(X_test)\n",
    "pos_proba = y_pred_proba[:,1]"
   ]
  },
  {
   "cell_type": "code",
   "execution_count": 39,
   "id": "0b4ec628",
   "metadata": {},
   "outputs": [
    {
     "data": {
      "text/plain": [
       "Text(0.5, 1.0, 'ROC curve for Random Forest Classifier')"
      ]
     },
     "execution_count": 39,
     "metadata": {},
     "output_type": "execute_result"
    },
    {
     "data": {
      "image/png": "[encoded data removed]",
      "text/plain": [
       "<Figure size 432x288 with 1 Axes>"
      ]
     },
     "metadata": {
      "needs_background": "light"
     },
     "output_type": "display_data"
    }
   ],
   "source": [
    "fpr, tpr, thresholds = roc_curve(y_test, pos_proba)\n",
    "plt.plot(fpr, tpr, '*-')\n",
    "plt.plot([0, 1], [0, 1], 'r--')\n",
    "plt.legend(['Logistic regression', 'Random chance'])\n",
    "plt.xlabel('FPR')\n",
    "plt.ylabel('TPR')\n",
    "plt.title('ROC curve for Random Forest Classifier')"
   ]
  },
  {
   "cell_type": "markdown",
   "id": "62fc0ea2",
   "metadata": {},
   "source": [
    "The receiver operating characteristic (ROC) curve is a plot of the pairs of true positive rates (y-axis) and false positive rates (x-axis) that result from lowering the threshold down from 1, all the way to 0.\n",
    "\n",
    "Values closer to 1 in roc_auc_score shows that classifier is efficient and gives better performance.\n",
    "\n",
    "The above `ROC` curve for the Random Forest Classifier model shows the area under the curve (AUC). The score of 0.98 tells us that there is `98%` chance that the model will be successful at classifying yes as yes and no as no values for `RainTomorrow` "
   ]
  },
  {
   "cell_type": "code",
   "execution_count": null,
   "id": "c5ff38f1",
   "metadata": {},
   "outputs": [],
   "source": []
  },
  {
   "cell_type": "code",
   "execution_count": null,
   "id": "6dd9f628",
   "metadata": {},
   "outputs": [],
   "source": []
  },
  {
   "cell_type": "code",
   "execution_count": null,
   "id": "ce80e83e",
   "metadata": {},
   "outputs": [],
   "source": []
  },
  {
   "cell_type": "code",
   "execution_count": null,
   "id": "d9b08033",
   "metadata": {},
   "outputs": [],
   "source": []
  },
  {
   "cell_type": "code",
   "execution_count": null,
   "id": "0042056a",
   "metadata": {},
   "outputs": [],
   "source": []
  },
  {
   "cell_type": "code",
   "execution_count": null,
   "id": "1c8c72d6",
   "metadata": {},
   "outputs": [],
   "source": []
  },
  {
   "cell_type": "code",
   "execution_count": null,
   "id": "589dc075",
   "metadata": {},
   "outputs": [],
   "source": []
  },
  {
   "cell_type": "code",
   "execution_count": null,
   "id": "7b2547f2",
   "metadata": {},
   "outputs": [],
   "source": []
  },
  {
   "cell_type": "code",
   "execution_count": null,
   "id": "791476f3",
   "metadata": {},
   "outputs": [],
   "source": []
  },
  {
   "cell_type": "markdown",
   "id": "3d2833cb",
   "metadata": {},
   "source": [
    "# Modeling and Evaluation"
   ]
  },
  {
   "cell_type": "markdown",
   "id": "6e2aea41",
   "metadata": {},
   "source": [
    "### Explanation of Evaluation Matrices"
   ]
  },
  {
   "cell_type": "code",
   "execution_count": null,
   "id": "e5757930",
   "metadata": {},
   "outputs": [],
   "source": []
  },
  {
   "cell_type": "markdown",
   "id": "a249acbe",
   "metadata": {},
   "source": [
    "#### Macro Avg vs Weight Avg Precision comparisons\n",
    "\n",
    "As we couldn't pick the models just from Accuracy, we are further our analysis by plotting the difference between the Macro Avg precision and Weighted Avg precision for all the models.\n",
    "\n",
    "`DiffMacro/WeightedNone` — takes the Macro Average and Weighted Average of Precision from the classification matrix and calculates the difference. The reason to calculate the difference is to check how much variation is in the Precision values based on how the data is split.\n",
    "\n",
    "`DiffMacro/WeightedBalanced` — same as above this variable calculates the difference between Macro and Weighted Average of Precision of a balanced data.\n",
    "\n",
    "The smaller the difference between Weight Avg and Macro Avg, the model is closer to real world and also consistent."
   ]
  },
  {
   "cell_type": "markdown",
   "id": "bcd6f2ed",
   "metadata": {},
   "source": [
    "After running the big `Logistic Regression` model for several combinations. We got output for 660 models.\n",
    "\n",
    "To compare the outputs and make it easier to identify the most appropriate model in terms of accuracy, precision and other factors applicable for Machine Learning models. We decided to put a list of subset of variables including:\n",
    "\n",
    "`Model` — specifies which technique was used for the logistic model. In this case its between ShuffleSplit and Stratified.\n",
    "\n",
    "`AccuracyNone` —  specifies the Accuracy observed by the model where data was not `balanced`.\n",
    "\n",
    "`DiffMacro/WeightedNone` — takes the `Macro Average` and `Weighted Average` of `Precision` from the classification matrix and calculates the difference. The reason to calculate the difference is to check how much variation is in the Precision values based on how the data is split. More details about Precision and Averages is provided below. This variation is calculated on the non `balanced` data.\n",
    "\n",
    "`AccuracyBalanced` — specifies the Accuracy observed by the model where data was `balanced`.\n",
    "\n",
    "`DiffMacro/WeightedBalanced` — same as above this variable calculates the difference between Macro and Weighted Average of Precision of a `balanced` data."
   ]
  },
  {
   "cell_type": "markdown",
   "id": "ad5d3467",
   "metadata": {},
   "source": [
    "### Important Terms\n",
    "\n",
    "`Accuracy` — is a ratio of correctly predicted observation to the total observations. It is a very important aspect to define the success of a model but just the measurement on its own can be deceiving if the observations are not equal for each class. In such cases we might be predicting accurately for one particular class with large observation and may not do very well for other classes.\n",
    "\n",
    "`Precision` — is the ratio of correctly predicted positive observations to the total predicted positive observations. Precision = TP/TP+FP  \n",
    "\n",
    "`Weighted Average` — can be calculated on various output variables of the classification report like Precision, Recall, f1-score. As the name suggests it gives the weighted average of the parameter based on the number of observations or values for each class.\n",
    "\n",
    "`Macro Average` — similar to weighted average, macro average can also be calculated on various output variables of the classification report like Precision, Recall, f1-score. However, the similarity ends here as unlike weighted average, we don't use weights based on the number of observations, rather equal weights are given to each class to calcualte the value. This tells us if the Precision is as good if the dataset was balanced.\n",
    "\n",
    "References:\n",
    "https://blog.exsilio.com/all/accuracy-precision-recall-f1-score-interpretation-of-performance-measures/\n",
    "https://datascience.stackexchange.com/questions/65839/macro-average-and-weighted-average-meaning-in-classification-report"
   ]
  },
  {
   "cell_type": "markdown",
   "id": "d9bc409a",
   "metadata": {},
   "source": [
    "### Cross Validation"
   ]
  },
  {
   "cell_type": "markdown",
   "id": "f3cd2c40",
   "metadata": {},
   "source": [
    "In these models we used two different methodologies for cross validation namely `Shuffle` and `Stratified`.\n",
    "\n",
    "`ShuffleSplit`  — is similar to `Cross Validation` where we can specify the percentage of split for train and test data. However, in regular cross-validation, the data is not split randomly, so, it is good to shuffle the targets before applying the `cross-validation`.\n",
    "\n",
    "\n",
    "`Stratified` — CV technique is very useful with unbalanced dataset. As discussed above our dataset is not balanced and rightly so, we don't expect it to rain and no-rain days to be equal in Australia. The data is expected to be unbalanced and expected to be such in future as well. So using stratified sampling techniques gives us the ability to preserve the proportion of the Rain days vs non-rain days in our dataset. We can be confident that the Train and Test split data is not leaving out important information like entire dataset is of `No` rain days which will give highly inaccurate output eventhough the accuracy might be maintained. \n",
    "\n",
    "In `Stratified` sampling, the data is k-1 split in favor of Train vs Test data.\n",
    "\n",
    "\n",
    "References: \n",
    "https://towardsdatascience.com/understanding-8-types-of-cross-validation-80c935a4976d\n",
    "https://mclguide.readthedocs.io/en/latest/sklearn/cv.html\n"
   ]
  },
  {
   "cell_type": "markdown",
   "id": "263eae0d",
   "metadata": {},
   "source": [
    "# Tai"
   ]
  },
  {
   "cell_type": "code",
   "execution_count": null,
   "id": "f035fa7f",
   "metadata": {},
   "outputs": [],
   "source": [
    "#df_model[\"RainTomorrow\"] = df_model[\"RainTomorrow\"].map(dict(Yes=1, No=0))\n",
    "df_model[\"RainTomorrow\"] = df_impute[\"RainTomorrow\"]\n",
    "y= df_model[\"RainTomorrow\"].values\n",
    "del df_model[\"RainTomorrow\"]\n",
    "X = df_model.values\n",
    "yhat = np.zeros(y.shape)\n",
    "column_names_f = df_model.columns"
   ]
  },
  {
   "cell_type": "code",
   "execution_count": 25,
   "id": "d5703b84",
   "metadata": {},
   "outputs": [],
   "source": [
    "#For Classification 2\n",
    "del df_model['Rainfall']\n",
    "del df_model['IsRainToday']\n",
    "del df_model[\"RainTomorrow\"]\n",
    "y2= df_model[\"RainfallAmount\"].values\n",
    "del df_model[\"RainfallAmount\"]\n",
    "X2 = df_model.values\n",
    "yhat2 = np.zeros(y.shape)\n",
    "column_names_f2 = df_model.columns"
   ]
  },
  {
   "cell_type": "code",
   "execution_count": null,
   "id": "967b3781",
   "metadata": {},
   "outputs": [],
   "source": [
    "\n",
    "from sklearn.model_selection import StratifiedKFold\n",
    "from sklearn.preprocessing import StandardScaler\n",
    "import numpy as np\n",
    "from sklearn import metrics as mt\n",
    "from sklearn.ensemble import RandomForestClassifier\n",
    "\n",
    "cv = StratifiedKFold(n_splits=10)\n",
    "clf = RandomForestClassifier(max_depth=50, n_estimators=150, n_jobs=-1, oob_score=True)\n",
    "for train, test in cv.split(X,y):\n",
    "    clf.fit(X[train],y[train])\n",
    "    yhat = clf.predict(X[test])\n",
    "\n",
    "    total_accuracy = mt.accuracy_score(y[test], yhat)\n",
    "    print ('Random Forest accuracy', total_accuracy)"
   ]
  },
  {
   "cell_type": "code",
   "execution_count": 26,
   "id": "e913d9d4",
   "metadata": {},
   "outputs": [
    {
     "name": "stdout",
     "output_type": "stream",
     "text": [
      "Random Forest accuracy 0.8779032601747283\n",
      "Random Forest accuracy 0.880460259961645\n",
      "Random Forest accuracy 0.8359258470061794\n",
      "Random Forest accuracy 0.8877761204631011\n",
      "Random Forest accuracy 0.8312380140634988\n",
      "Random Forest accuracy 0.8467930961005753\n",
      "Random Forest accuracy 0.8518360679025498\n",
      "Random Forest accuracy 0.8613439409006961\n",
      "Random Forest accuracy 0.8659610740161955\n",
      "Random Forest accuracy 0.8678079272623952\n"
     ]
    }
   ],
   "source": [
    "\n",
    "from sklearn.model_selection import StratifiedKFold\n",
    "from sklearn.preprocessing import StandardScaler\n",
    "import numpy as np\n",
    "from sklearn import metrics as mt\n",
    "from sklearn.ensemble import RandomForestClassifier\n",
    "\n",
    "cv = StratifiedKFold(n_splits=10)\n",
    "clf = RandomForestClassifier(max_depth=50, n_estimators=150, n_jobs=-1, oob_score=True)\n",
    "for train, test in cv.split(X2,y2):\n",
    "    clf.fit(X2[train],y2[train])\n",
    "    yhat2 = clf.predict(X2[test])\n",
    "\n",
    "    total_accuracy = mt.accuracy_score(y2[test], yhat2)\n",
    "    print ('Random Forest accuracy', total_accuracy)"
   ]
  },
  {
   "cell_type": "code",
   "execution_count": null,
   "id": "2dee73c4",
   "metadata": {},
   "outputs": [],
   "source": [
    "def per_class_accuracy(ytrue,yhat):\n",
    "    conf = mt.confusion_matrix(ytrue,yhat)\n",
    "    norm_conf = conf.astype('float') / conf.sum(axis=1)[:, np.newaxis]\n",
    "    return np.diag(norm_conf)\n",
    "\n",
    "def plot_class_acc(ytrue,yhat, title=''):\n",
    "    acc_list = per_class_accuracy(ytrue,yhat)\n",
    "    plt.bar(range(len(acc_list)), acc_list)\n",
    "    plt.xlabel('Class value (one per face)')\n",
    "    plt.ylabel('Accuracy within class')\n",
    "    plt.title(title+\", Total Acc=%.1f\"%(100*mt.accuracy_score(ytrue,yhat)))\n",
    "    plt.grid()\n",
    "    plt.ylim([0,1])\n",
    "    plt.show()\n",
    "\n",
    "plot_class_acc(y,yhat,title=\"Random Forest\")"
   ]
  },
  {
   "cell_type": "code",
   "execution_count": null,
   "id": "2b4e52dd",
   "metadata": {},
   "outputs": [],
   "source": [
    "#List of decision trees - there are 150 decision trees\n",
    "\n",
    "clf.estimators_\n",
    "\n",
    "\n",
    "# it helps to see how many 'decision trees' are associated with our random forest model. \n",
    "# From the list, we can visualize some of the 'trees'. We are picking the first index"
   ]
  },
  {
   "cell_type": "code",
   "execution_count": null,
   "id": "3c130207",
   "metadata": {},
   "outputs": [],
   "source": [
    "#Decision tree diagram for the first index (first tree):\n",
    "\n",
    "from sklearn import tree\n",
    "plt.figure(figsize = (15,10))\n",
    "tree.plot_tree(clf.estimators_[1], filled = True)\n",
    "\n",
    "#Given the diagram below it is hard to visualize."
   ]
  },
  {
   "cell_type": "code",
   "execution_count": null,
   "id": "8e7e92c7",
   "metadata": {},
   "outputs": [],
   "source": [
    "#We cannot produce diagram for all decision trees in one instance. \n",
    "#We can visualize the data portion only for all the decision trees. \n",
    "#We can see how all the decision trees are being classified\n",
    "\n",
    "for i in range(len(clf.estimators_)):\n",
    "    print(tree.export_text(clf.estimators_[i]))\n"
   ]
  },
  {
   "cell_type": "code",
   "execution_count": 28,
   "id": "bd9e36f0",
   "metadata": {},
   "outputs": [
    {
     "name": "stdout",
     "output_type": "stream",
     "text": [
      "Elapsed time to compute the importances: 0.050 seconds\n"
     ]
    }
   ],
   "source": [
    "import time\n",
    "import numpy as np\n",
    "\n",
    "start_time = time.time()\n",
    "importances = clf.feature_importances_\n",
    "std = np.std([\n",
    "    tree.feature_importances_ for tree in clf.estimators_], axis=0)\n",
    "elapsed_time = time.time() - start_time\n",
    "\n",
    "print(f\"Elapsed time to compute the importances: \"\n",
    "      f\"{elapsed_time:.3f} seconds\")"
   ]
  },
  {
   "cell_type": "code",
   "execution_count": null,
   "id": "a4bc6c31",
   "metadata": {},
   "outputs": [],
   "source": [
    "#Attribute Importance - Random Forest Model\n",
    "\n",
    "from sklearn.inspection import permutation_importance\n",
    "start_time = time.time()\n",
    "result = permutation_importance(\n",
    "    clf, X[test], y[test], n_repeats=10, random_state=123, n_jobs=-1)\n",
    "elapsed_time = time.time() - start_time\n",
    "print(f\"Elapsed time to compute the importances: \"\n",
    "      f\"{elapsed_time:.3f} seconds\")\n",
    "\n",
    "forest_importances = pd.Series(result.importances_mean, index=column_names_f)"
   ]
  },
  {
   "cell_type": "code",
   "execution_count": 29,
   "id": "d480867d",
   "metadata": {},
   "outputs": [
    {
     "name": "stdout",
     "output_type": "stream",
     "text": [
      "Elapsed time to compute the importances: 159.897 seconds\n"
     ]
    }
   ],
   "source": [
    "#Attribute Importance - Random Forest Model ('RainfallAmount')\n",
    "\n",
    "from sklearn.inspection import permutation_importance\n",
    "start_time = time.time()\n",
    "result = permutation_importance(\n",
    "    clf, X2[test], y2[test], n_repeats=10, random_state=123, n_jobs=-1)\n",
    "elapsed_time = time.time() - start_time\n",
    "print(f\"Elapsed time to compute the importances: \"\n",
    "      f\"{elapsed_time:.3f} seconds\")\n",
    "\n",
    "forest_importances = pd.Series(result.importances_mean, index=column_names_f2)"
   ]
  },
  {
   "cell_type": "code",
   "execution_count": null,
   "id": "001a8d99",
   "metadata": {},
   "outputs": [],
   "source": [
    "#Visuals\n",
    "plt.figure(figsize=(20,8))\n",
    "forest_importances.plot.bar(yerr=result.importances_std)\n",
    "\n",
    "plt.show()\n"
   ]
  },
  {
   "cell_type": "code",
   "execution_count": 30,
   "id": "771e36b2",
   "metadata": {},
   "outputs": [
    {
     "data": {
      "image/png": "[encoded data removed]",
      "text/plain": [
       "<Figure size 1440x576 with 1 Axes>"
      ]
     },
     "metadata": {
      "needs_background": "light"
     },
     "output_type": "display_data"
    }
   ],
   "source": [
    "#Visuals RainfallAmount Attribute importance\n",
    "plt.figure(figsize=(20,8))\n",
    "forest_importances.plot.bar(yerr=result.importances_std)\n",
    "\n",
    "plt.show()\n"
   ]
  },
  {
   "cell_type": "code",
   "execution_count": 24,
   "id": "f284ac9d",
   "metadata": {},
   "outputs": [],
   "source": [
    "df_model_ra = df_model.copy()"
   ]
  },
  {
   "cell_type": "code",
   "execution_count": null,
   "id": "9d22274a",
   "metadata": {},
   "outputs": [],
   "source": []
  },
  {
   "cell_type": "code",
   "execution_count": null,
   "id": "31c94e6b",
   "metadata": {},
   "outputs": [],
   "source": []
  },
  {
   "cell_type": "code",
   "execution_count": null,
   "id": "1ebcc817",
   "metadata": {},
   "outputs": [],
   "source": []
  },
  {
   "cell_type": "code",
   "execution_count": null,
   "id": "80587539",
   "metadata": {},
   "outputs": [],
   "source": []
  },
  {
   "cell_type": "code",
   "execution_count": null,
   "id": "033cfe1f",
   "metadata": {},
   "outputs": [],
   "source": []
  },
  {
   "cell_type": "code",
   "execution_count": null,
   "id": "55306403",
   "metadata": {},
   "outputs": [],
   "source": []
  },
  {
   "cell_type": "code",
   "execution_count": null,
   "id": "ba8b7654",
   "metadata": {},
   "outputs": [],
   "source": []
  },
  {
   "cell_type": "code",
   "execution_count": null,
   "id": "e41197c0",
   "metadata": {},
   "outputs": [],
   "source": []
  },
  {
   "cell_type": "code",
   "execution_count": null,
   "id": "3dcb2da5",
   "metadata": {},
   "outputs": [],
   "source": []
  },
  {
   "cell_type": "code",
   "execution_count": null,
   "id": "6a96e430",
   "metadata": {},
   "outputs": [],
   "source": []
  },
  {
   "cell_type": "markdown",
   "id": "934d9e64",
   "metadata": {},
   "source": [
    "# Ravi"
   ]
  },
  {
   "cell_type": "code",
   "execution_count": null,
   "id": "df54ac13",
   "metadata": {},
   "outputs": [],
   "source": [
    "from sklearn.metrics import roc_curve, auc\n",
    "from sklearn import metrics\n",
    "from sklearn.metrics import mean_squared_error\n",
    "\n",
    "model_stats_columns=[\"Iteration\", \"MSE\", \"RMSE\", \"clf\", \"Time\"]\n",
    "\n",
    "def get_model_stats(model_clf,y_test, y_hat, target_names):\n",
    "   \n",
    "    mse = mean_squared_error(y_test,y_hat)\n",
    "    rmse = mean_squared_error(y_test,y_hat, squared=False)\n",
    "\n",
    "   \n",
    "    # Create ROC Curve\n",
    "    y_test_01 = np.where(y_test ==\"Yes\", 1, [0])\n",
    "    y_hat_01 = np.where(y_hat ==\"Yes\", 1, [0])\n",
    "\n",
    "    #Create a dict of these stats for class weight\n",
    "    #dict will contain stats for balanced on one run, None for the next run\n",
    "\n",
    "    stats_data = [mse, rmse]\n",
    "\n",
    "\n",
    "    stats_row = stats_data \n",
    "\n",
    "    return stats_row\n",
    "\n",
    "\n",
    "\n"
   ]
  },
  {
   "cell_type": "code",
   "execution_count": null,
   "id": "1c8e5069",
   "metadata": {},
   "outputs": [],
   "source": [
    "#Linear Regression Model\n",
    "\n",
    "from sklearn.model_selection import StratifiedKFold\n",
    "from sklearn.linear_model import LinearRegression\n",
    "from timeit import default_timer as timer\n",
    "from sklearn import linear_model\n",
    "from sklearn.feature_selection import RFE\n",
    "from sklearn.svm import SVR\n",
    "\n",
    "def create_lin_reg_models(df, iterations):\n",
    "    \n",
    "    X = None\n",
    "    y = None\n",
    "    if \"Rainfall\" in df:\n",
    "        y = df[\"Rainfall\"].values # get the labels we want\n",
    "        del df[\"Rainfall\"] # get rid of the class label\n",
    "        X = df.values # use everything else to predict!\n",
    "    else:\n",
    "        return\n",
    "\n",
    "    print (X)\n",
    "    print (y)\n",
    "    cv_data = ShuffleSplit(n_splits=iterations,\n",
    "                             test_size  = 0.2, random_state = 123)\n",
    "    \n",
    "    \n",
    "    cv_data.get_n_splits(X, y)\n",
    "       \n",
    "    #Initialize variables\n",
    "    iter_num=1\n",
    "    rows = []\n",
    "    target_names = [0, 1]\n",
    "    classes = None    \n",
    "    scl_obj = StandardScaler()\n",
    "    #lr_clf = LinearRegression(n_jobs=4)\n",
    "    #lr_clf = linear_model.Lasso(alpha=0.1)\n",
    "    #estimator = SVR(kernel=\"linear\")\n",
    "    estimator = LinearSVR(random_state=0, tol=1e-5)\n",
    "    lr_clf = RFE(estimator, n_features_to_select=8, step=1)\n",
    "    \n",
    "    for train_indices, test_indices in cv_data.split(X,y): \n",
    "        starttime = timer()\n",
    "        X_train = X[train_indices]\n",
    "        y_train = y[train_indices]\n",
    "\n",
    "        scl_obj.fit(X_train)\n",
    "\n",
    "        X_test = X[test_indices]\n",
    "        y_test = y[test_indices]\n",
    "            \n",
    "        try:\n",
    "            X_train_scaled = scl_obj.transform(X_train) \n",
    "            X_test_scaled = scl_obj.transform(X_test)\n",
    "\n",
    "            lr_clf.fit(X_train_scaled,y_train)  # train object\n",
    "            y_hat = lr_clf.predict(X_test_scaled) # get test set precitions\n",
    "            print(lr_clf.coef_)            \n",
    "            model_stats = get_model_stats(lr_clf,y_test=y_test,y_hat=y_hat, target_names=target_names )\n",
    "\n",
    "        except Exception as e:\n",
    "            #print('Error:', str(e))\n",
    "            raise\n",
    "        endtime = timer()\n",
    "        time_taken = endtime - starttime\n",
    "        row = [iter_num] + model_stats + [lr_clf, time_taken]\n",
    "        rows.append(row)\n",
    "        iter_num+=1\n",
    "\n",
    "    \n",
    "    #Create a dataframe with the model stats \n",
    "    df_ret = pd.DataFrame(rows, columns = model_stats_columns)\n",
    "    \n",
    "    df_ret.plot.line(x='Iteration', y='RMSE')\n",
    "    return df_ret\n",
    "\n"
   ]
  },
  {
   "cell_type": "code",
   "execution_count": null,
   "id": "5578d838",
   "metadata": {},
   "outputs": [],
   "source": [
    "#Random Forest\n",
    "\n",
    "from sklearn.ensemble import RandomForestRegressor\n",
    "from timeit import default_timer as timer\n",
    "\n",
    "def create_random_forest_models(df, iterations):\n",
    "    \n",
    "    X = None\n",
    "    y = None\n",
    "    if \"Rainfall\" in df:\n",
    "        y = df[\"Rainfall\"].values # get the labels we want\n",
    "        del df[\"Rainfall\"] # get rid of the class label\n",
    "        X = df.values # use everything else to predict!\n",
    "    else:\n",
    "        return\n",
    "\n",
    "    print (X)\n",
    "    print (y)\n",
    "    cv_data = ShuffleSplit(n_splits=iterations,\n",
    "                             test_size  = 0.2, random_state = 123)\n",
    "    \n",
    "    \n",
    "    cv_data.get_n_splits(X, y)\n",
    "       \n",
    "    #Initialize variables\n",
    "    iter_num=1\n",
    "    rows = []\n",
    "    target_names = [0, 1]\n",
    "    scl_obj = StandardScaler()\n",
    "    regr = RandomForestRegressor(max_depth=2, random_state=123)\n",
    "    \n",
    "    \n",
    "    for train_indices, test_indices in cv_data.split(X,y): \n",
    "        starttime = timer()\n",
    "        X_train = X[train_indices]\n",
    "        y_train = y[train_indices]\n",
    "\n",
    "        scl_obj.fit(X_train)\n",
    "        \n",
    "        X_test = X[test_indices]\n",
    "        y_test = y[test_indices]\n",
    "            \n",
    "        try:\n",
    "            X_train_scaled = scl_obj.transform(X_train) \n",
    "            X_test_scaled = scl_obj.transform(X_test)\n",
    "\n",
    "            regr.fit(X_train_scaled,y_train)  # train object\n",
    "            y_hat = regr.predict(X_test_scaled) # get test set precitions\n",
    "            print(y_hat)\n",
    "            \n",
    "            model_stats = get_model_stats(regr,y_test=y_test,y_hat=y_hat, target_names=target_names )\n",
    "\n",
    "        except Exception as e:\n",
    "            #print('Error:', str(e))\n",
    "            raise\n",
    "        endtime = timer()\n",
    "        time_taken = endtime - starttime\n",
    "        row = [iter_num] + model_stats + [regr, time_taken]\n",
    "        rows.append(row)\n",
    "        iter_num+=1\n",
    "\n",
    "\n",
    "    #Create a dataframe with the model stats \n",
    "    df_ret = pd.DataFrame(rows, columns = model_stats_columns)\n",
    "    return df_ret\n",
    "\n"
   ]
  },
  {
   "cell_type": "code",
   "execution_count": null,
   "id": "ff44c8e2",
   "metadata": {},
   "outputs": [],
   "source": [
    "\n",
    "df_model = df_model_copy.copy()\n",
    "del df_model['RainTomorrow']\n",
    "del df_model['IsRainToday']\n",
    "del df_model['RainfallAmount']\n",
    "\n",
    "\n",
    "df_ret = create_lin_reg_models(df=df_model,iterations=10)"
   ]
  },
  {
   "cell_type": "code",
   "execution_count": null,
   "id": "68fdf525",
   "metadata": {},
   "outputs": [],
   "source": [
    "del df_model['RainTomorrow']\n",
    "del df_model['IsRainToday']\n",
    "del df_model['RainfallAmount']\n"
   ]
  },
  {
   "cell_type": "code",
   "execution_count": null,
   "id": "0fc17ffd",
   "metadata": {},
   "outputs": [],
   "source": [
    "def rain_classifier(row):\n",
    "    if row[\"Rainfall\"] > 30:\n",
    "        return \"High\"\n",
    "    elif row[\"Rainfall\"] > 10 and row[\"Rainfall\"] < 30:\n",
    "        return \"Moderate\"\n",
    "    elif row[\"Rainfall\"] > 1 and row[\"Rainfall\"] < 10:\n",
    "        return \"Low\"\n",
    "    else:\n",
    "        return \"None\"\n",
    "\n",
    "df_model[\"RainfallAmount\"] = df_impute.apply(rain_classifier, axis=1)\n",
    "\n",
    "df_model\n"
   ]
  },
  {
   "cell_type": "code",
   "execution_count": null,
   "id": "c1fb8af8",
   "metadata": {},
   "outputs": [],
   "source": [
    "from sklearn.neighbors import KNeighborsClassifier\n",
    "from sklearn.model_selection import train_test_split\n",
    "from mlxtend.plotting import plot_decision_regions\n",
    "import matplotlib.pyplot as plt\n",
    "from sklearn.decomposition import PCA\n",
    "\n",
    "\n",
    "def create_knn_model(df, response):\n",
    "    # Split into training and test set\n",
    "    \n",
    "    y= df[response].values\n",
    "    print(y)\n",
    "    if response in df:\n",
    "        del df[response]\n",
    "    if \"Rainfall\" in df:\n",
    "        del df[\"Rainfall\"]\n",
    "    if \"RainTomorrow\" in df:\n",
    "        del df[\"RainTomorrow\"]\n",
    "#    if \"IsRainToday\" in df:    \n",
    "#        del df[\"IsRainToday\"]\n",
    "    \n",
    "    X = df.values\n",
    "\n",
    "    pca = PCA(n_components = 2)\n",
    "    \n",
    "    X_train, X_test, y_train, y_test = train_test_split(X, y, test_size = 0.2, random_state=123)\n",
    "    \n",
    "    print(y_train)\n",
    "    neighbors = np.arange(1, 9)\n",
    "    train_accuracy = np.empty(len(neighbors))\n",
    "    test_accuracy = np.empty(len(neighbors))\n",
    "    \n",
    "    \n",
    "\n",
    "    # Loop over K values\n",
    "    for i, k in enumerate(neighbors):\n",
    "        #knn = KNeighborsClassifier(n_neighbors=k)\n",
    "        knn =  DecisionTreeRegressor(random_state=123)\n",
    "        X_train2 = pca.fit_transform(X_train)\n",
    "        X_test2 =  pca.fit_transform(X_test)\n",
    "        knn.fit(X_train2, y_train)\n",
    "\n",
    "        # Compute traning and test data accuracy\n",
    "        train_accuracy[i] = knn.score(X_train2, y_train)\n",
    "        test_accuracy[i] = knn.score(X_test2, y_test)\n",
    "        plt.figure(figsize=(10,8))\n",
    "        plot_decision_regions(X_train2, y_train, clf=knn, legend=2)\n",
    "       \n",
    "        plt.xlabel('X')\n",
    "        plt.ylabel('Y')\n",
    "        plt.title('Knn with K='+ str(k))\n",
    "        plt.show()\n",
    "    # Generate plot\n",
    "    plt.plot(neighbors, test_accuracy, label = 'Testing dataset Accuracy for ' + response)\n",
    "    plt.plot(neighbors, train_accuracy, label = 'Training dataset Accuracy for ' + response)\n",
    "\n",
    "    plt.legend()\n",
    "    plt.xlabel('n_neighbors')\n",
    "    plt.ylabel('Accuracy')\n",
    "    plt.show()\n",
    "    \n",
    "    \n",
    "    #find the maximum accuracy and position\n",
    "    best_k = test_accuracy.argmax()+1\n",
    "\n",
    "    #Now use that K to predict\n",
    "\n",
    "    yhat = np.zeros(y.shape) # we will fill this with predictions\n",
    "\n",
    "    scl = StandardScaler()\n",
    "    X = scl.fit_transform(X)\n",
    "\n",
    "    # create cross validation iterator\n",
    "    cv = StratifiedKFold(n_splits=10)\n",
    "\n",
    "    # get a handle to the classifier object, which defines the type\n",
    "    clf = KNeighborsClassifier(n_neighbors=best_k)\n",
    "\n",
    "    # now iterate through and get predictions, saved to the correct row in yhat\n",
    "    # NOTE: you can parallelize this using the cross_val_predict method\n",
    "    for train, test in cv.split(X,y):\n",
    "        clf.fit(X[train],y[train])\n",
    "        yhat[test] = clf.predict(X[test])\n",
    "\n",
    "    total_accuracy = mt.accuracy_score(y, yhat)\n",
    "    return total_accuracy\n",
    "\n",
    "\n",
    "\n"
   ]
  },
  {
   "cell_type": "code",
   "execution_count": null,
   "id": "01dad8da",
   "metadata": {},
   "outputs": [],
   "source": [
    "df_model_copy = df_model.copy()\n",
    "try:\n",
    "    create_knn_model(df=df_model.head(20000),response='RainTomorrow')\n",
    "except Exception as e:\n",
    "    print (e.message)\n",
    "finally:\n",
    "    df_model = df_model_copy.copy()"
   ]
  },
  {
   "cell_type": "code",
   "execution_count": null,
   "id": "f925e64d",
   "metadata": {},
   "outputs": [],
   "source": [
    "y= df_model[\"RainfallAmount\"].values\n",
    "del df_model[\"RainfallAmount\"]\n",
    "del df_model[\"Rainfall\"]\n",
    "del df_model[\"RainTomorrow\"]\n",
    "del df_model[\"IsRainToday\"]\n",
    "X = df_model.values\n"
   ]
  },
  {
   "cell_type": "code",
   "execution_count": null,
   "id": "ffa709cc",
   "metadata": {},
   "outputs": [],
   "source": [
    "df_model[\"RainTomorrow\"] = df_model[\"RainTomorrow\"].map(dict(Yes=1, No=0))"
   ]
  },
  {
   "cell_type": "code",
   "execution_count": null,
   "id": "85f730fb",
   "metadata": {},
   "outputs": [],
   "source": [
    "df_ret"
   ]
  },
  {
   "cell_type": "code",
   "execution_count": null,
   "id": "cf5849c9",
   "metadata": {},
   "outputs": [],
   "source": [
    "total_accuracy"
   ]
  },
  {
   "cell_type": "code",
   "execution_count": null,
   "id": "09a9a848",
   "metadata": {},
   "outputs": [],
   "source": [
    "y"
   ]
  },
  {
   "cell_type": "code",
   "execution_count": null,
   "id": "0b4f5bb1",
   "metadata": {},
   "outputs": [],
   "source": [
    "from sklearn import datasets\n",
    "\n",
    "iris = datasets.load_iris()\n",
    "\n",
    "iris.target"
   ]
  },
  {
   "cell_type": "markdown",
   "id": "8d7207eb",
   "metadata": {},
   "source": [
    "## Linear Regression Model\n",
    "\n",
    "In Linear Regression Model, the dependent variable (`RainfallAmount`) is dependent of independent variables (the other 16 features). This is an instance of multiple linear regression, which means, the independent variable is dependent of multiple features.\n",
    "\n",
    "Linear Regression works with continous variables and categorical variables doesn't translate well. To make categorical variables, we used One-hot encoding to convert them to numerical vectors. The downside of it, it may introduce multi-collineriaty, but we can minimize by taking only the important features.\n",
    "\n",
    "There are multiple ways of doing Linear Regression, LASSO, Ridge and simple linear regression. We create models of all types and get the best model that has least RMSE values.\n",
    "\n",
    "The function below builds linear regression models:\n",
    "\n",
    "1. Ordinary Least squares\n",
    "\n",
    "LinearRegression fits a linear model with coefficients w = (w1, …, wp) to minimize the residual sum of squares between the observed targets in the dataset, and the targets predicted by the linear approximation.\n",
    "\n",
    "2. LASSO\n",
    "Linear Model trained with L1 prior as regularizer (aka the Lasso)\n",
    "\n",
    "The optimization objective for Lasso is:\n",
    "\n",
    "(1 / (2 * n_samples)) * ||y - Xw||^2_2 + alpha * ||w||_1\n",
    "\n",
    "Technically the Lasso model is optimizing the same objective function as the Elastic Net with l1_ratio=1.0 (no L2 penalty).\n",
    "\n",
    "\n",
    "3. RFE (Recursive Feature Elimination)\n",
    "\n",
    "Feature ranking with recursive feature elimination.\n",
    "\n",
    "Given an external estimator that assigns weights to features (e.g., the coefficients of a linear model), the goal of recursive feature elimination (RFE) is to select features by recursively considering smaller and smaller sets of features. First, the estimator is trained on the initial set of features and the importance of each feature is obtained either through any specific attribute or callable. Then, the least important features are pruned from current set of features. That procedure is recursively repeated on the pruned set until the desired number of features to select is eventually reached.\n",
    "\n",
    "We create models of these and then store them in a dataframe. We then compare the RMSE of these models, and find which model has lowest RMSE and take as the best model of Regression.\n",
    "\n",
    " \n",
    " #### References for definitions\n",
    " 1. https://scikit-learn.org/stable/modules/generated/sklearn.linear_model.Lasso.html\n",
    " 2. https://scikit-learn.org/stable/modules/generated/sklearn.feature_selection.RFE.html\n",
    " 3. https://scikit-learn.org/stable/modules/generated/sklearn.linear_model.LinearRegression.html"
   ]
  },
  {
   "cell_type": "code",
   "execution_count": null,
   "id": "04cb063a",
   "metadata": {},
   "outputs": [],
   "source": []
  },
  {
   "cell_type": "code",
   "execution_count": null,
   "id": "2ad12ebf",
   "metadata": {},
   "outputs": [],
   "source": [
    "#Decision Trees\n",
    "\n",
    "from sklearn.tree import DecisionTreeRegressor\n",
    "from timeit import default_timer as timer\n",
    "from sklearn.model_selection import cross_val_score\n",
    "\n",
    "def create_decision_tree_models(df, iterations):\n",
    "    \n",
    "   \n",
    "    if \"Rainfall\" in df:\n",
    "        y = df[\"Rainfall\"].values # get the labels we want\n",
    "        del df[\"Rainfall\"] # get rid of the class label\n",
    "        X = df.values # use everything else to predict!\n",
    "    else:\n",
    "        return\n",
    "\n",
    "    criterion = [\"mse\", \"friedman_mse\", \"mae\", \"poisson\"]\n",
    "    \n",
    "    for crit in criterion:\n",
    "        regr = DecisionTreeRegressor(criterion=crit, random_state=123)\n",
    "        score = cross_val_score(regr, X, y, cv=iterations, n_jobs=4)\n",
    "        print(crit, score)\n",
    "        #print(regr.tree_)\n",
    "\n",
    "    #Create a dataframe with the model stats \n",
    "#    df_ret = pd.DataFrame(rows, columns = model_stats_columns)\n",
    "    return None\n"
   ]
  },
  {
   "cell_type": "code",
   "execution_count": null,
   "id": "c9e9baaf",
   "metadata": {},
   "outputs": [],
   "source": [
    "df_model = df_model_copy.copy()\n",
    "if \"RainTomorrow\" in df_model:\n",
    "    del df_model['RainTomorrow']\n",
    "\n",
    "if \"IsRainToday\" in df_model:        \n",
    "    del df_model['IsRainToday']\n",
    "\n",
    "if \"RainfallAmount\" in df_model:   \n",
    "    del df_model['RainfallAmount']\n",
    "    \n",
    "    \n",
    "#df_model = df_model.select_dtypes(exclude=['uint8'])\n",
    "\n",
    "create_models_classification(df=df_model_ohe,iterations=10)"
   ]
  },
  {
   "cell_type": "code",
   "execution_count": null,
   "id": "8ee00e52",
   "metadata": {},
   "outputs": [],
   "source": []
  },
  {
   "cell_type": "code",
   "execution_count": null,
   "id": "8e356978",
   "metadata": {},
   "outputs": [],
   "source": []
  },
  {
   "cell_type": "code",
   "execution_count": null,
   "id": "5fdeb101",
   "metadata": {},
   "outputs": [],
   "source": [
    "df_model_copy = df_model.copy()"
   ]
  },
  {
   "cell_type": "code",
   "execution_count": null,
   "id": "72c0560c",
   "metadata": {},
   "outputs": [],
   "source": [
    "df_model.info()"
   ]
  },
  {
   "cell_type": "code",
   "execution_count": null,
   "id": "f47a8f42",
   "metadata": {},
   "outputs": [],
   "source": []
  },
  {
   "cell_type": "code",
   "execution_count": null,
   "id": "bff22b29",
   "metadata": {},
   "outputs": [],
   "source": [
    "#Create models\n",
    "\n",
    "from sklearn.model_selection import StratifiedKFold\n",
    "from sklearn.linear_model import LinearRegression, Lasso\n",
    "from timeit import default_timer as timer\n",
    "from sklearn import linear_model\n",
    "from sklearn.feature_selection import RFE\n",
    "from sklearn.svm import SVR\n",
    "from sklearn.svm import LinearSVR\n",
    "from sklearn.model_selection import cross_val_score\n",
    "from sklearn.neighbors import KNeighborsClassifier\n",
    "\n",
    "def create_models_continous(model, df, iterations):\n",
    "\n",
    "    X = None\n",
    "    y = None\n",
    "    if \"Rainfall\" in df:\n",
    "        y = df[\"Rainfall\"].values # get the labels we want\n",
    "        del df[\"Rainfall\"] # get rid of the class label\n",
    "        X = df.values # use everything else to predict!\n",
    "    else:\n",
    "        return\n",
    "\n",
    "    random_state = 123\n",
    "    njobs = -1\n",
    "    \n",
    "    #models = [\"LinearRegression\", \"Lasso\", \"LinearSVR\"]\n",
    "    models = [\"LinearRegression\", \"Lasso\"]\n",
    "\n",
    "    for model in models:\n",
    "        clf = None\n",
    "        if model == \"LinearRegression\":\n",
    "            clf = LinearRegression(n_jobs=njobs)\n",
    "        elif model == \"Lasso\":\n",
    "            clf = Lasso(alpha=0.1)\n",
    "        elif model == \"LinearSVR\":    \n",
    "            estimator = LinearSVR(random_state=0, tol=1e-5)\n",
    "            clf = RFE(estimator, n_features_to_select=8, step=1)\n",
    "    \n",
    "        score = cross_val_score(model, X, y, cv=iterations, n_jobs=4, scoring=\"neg_root_mean_squared_error\")\n",
    "        abs_score = [abs(x) for x in score]\n",
    "        print(model, abs_score)\n",
    "\n",
    "\n",
    "\n",
    "        \n",
    "def create_models_classification(model, df, response_feature,iterations):\n",
    "    X = None\n",
    "    y = None\n",
    "    if response_feature in df:\n",
    "        y = df[response_feature].values # get the labels we want\n",
    "        del df[response_feature] # get rid of the class label\n",
    "        X = df.values # use everything else to predict!\n",
    "    else:\n",
    "        print (\"returning\")\n",
    "        return\n",
    "\n",
    "    random_state = 123\n",
    "    njobs = -1\n",
    "    \n",
    "    cv = StratifiedKFold(n_splits=iterations,shuffle=True, random_state=random_state)\n",
    "    \n",
    "    #models = [\"LinearRegression\", \"Lasso\", \"LinearSVR\"]\n",
    "\n",
    "    score = cross_val_score(model, X, y, cv=iterations, n_jobs=4, scoring=\"accuracy\")\n",
    "    print(model, score)\n",
    "    \n",
    "        "
   ]
  },
  {
   "cell_type": "code",
   "execution_count": null,
   "id": "e3526a00",
   "metadata": {},
   "outputs": [],
   "source": [
    "from sklearn.ensemble import RandomForestRegressor\n",
    "from sklearn.naive_bayes import MultinomialNB, GaussianNB \n",
    "from sklearn.linear_model import SGDClassifier\n",
    "from sklearn.svm import LinearSVC\n",
    "from sklearn.linear_model import LogisticRegression\n",
    "from sklearn.naive_bayes import MultinomialNB, GaussianNB \n",
    "from sklearn.linear_model import SGDClassifier\n",
    "from sklearn.ensemble import RandomForestClassifier\n",
    "from sklearn.svm import LinearSVC\n",
    "from sklearn.linear_model import LogisticRegression\n",
    "\n",
    "#df_model = df_model.select_dtypes(exclude=['uint8'])\n",
    "models = [# KNeighborsClassifier(n_neighbors=8),\n",
    "         GaussianNB(), \n",
    "    MultinomialNB(),\n",
    "    SGDClassifier(loss='hinge', penalty='l2',alpha=1e-3,max_iter=5, \n",
    "                  tol=None, n_jobs=-1, random_state=123),\n",
    "    RandomForestClassifier(n_estimators=200, max_depth=3, \n",
    "                           n_jobs=-1, random_state=123),\n",
    "    LinearSVC(random_state=123),\n",
    "    LogisticRegression(n_jobs=-1, random_state=123)]\n",
    "for model in models:\n",
    "    df_model = df_model_copy.copy()\n",
    "    if \"RainTomorrow\" in df_model:\n",
    "        del df_model['RainTomorrow']\n",
    "\n",
    "    if \"IsRainToday\" in df_model:        \n",
    "        del df_model['IsRainToday']\n",
    "\n",
    "    if \"Rainfall\" in df_model:   \n",
    "        del df_model['Rainfall']\n",
    "    \n",
    "    create_models_classification(model=model,df=df_model,response_feature=\"RainfallAmount\", iterations=10)\n",
    "    \n",
    "for model in models:\n",
    "    df_model = df_model_copy.copy()\n",
    "    print(\"coming to models\")\n",
    "    if \"RainfallAmount\" in df_model:   \n",
    "        del df_model['RainfallAmount']\n",
    "        \n",
    "    #create_models_classification(model=model,df=df_model,response_feature=\"RainTomorrow\", iterations=10)"
   ]
  },
  {
   "cell_type": "code",
   "execution_count": null,
   "id": "ffc5426c",
   "metadata": {},
   "outputs": [],
   "source": [
    "from sklearn import preprocessing\n",
    "le = preprocessing.LabelEncoder()\n",
    "\n",
    "list_of_dir = df_impute.WindGustDir.unique()\n",
    "le.fit(list_of_dir)\n",
    "le.transform(df_impute.WindGustDir)"
   ]
  },
  {
   "cell_type": "code",
   "execution_count": null,
   "id": "1c48ba49",
   "metadata": {},
   "outputs": [],
   "source": [
    "gust_df = le.transform(df_impute.WindGustDir)\n",
    "wind3pm_df = le.transform(df_impute.WindDir3pm)\n",
    "wind9am_df = le.transform(df_impute.WindDir9am)\n",
    "\n",
    "df_model[\"gust\"] =  gust_df.tolist()\n",
    "df_model[\"wind3pm\"] =  wind3pm_df.tolist()\n",
    "df_model[\"wind9am\"] =  wind9am_df.tolist()\n",
    "\n",
    "# Remove original categorical columns\n",
    "df_model = df_model.drop(['WindDir3pm', 'WindDir9am', 'WindGustDir', 'RainToday'], axis = 1)\n",
    "\n",
    "df_model_copy = df_model.copy()\n"
   ]
  },
  {
   "cell_type": "code",
   "execution_count": null,
   "id": "48961eae",
   "metadata": {},
   "outputs": [],
   "source": [
    "df_model_copy = df_model.copy()"
   ]
  },
  {
   "cell_type": "code",
   "execution_count": null,
   "id": "ca740ba3",
   "metadata": {},
   "outputs": [],
   "source": [
    "\n",
    "df_model.RainfallAmount"
   ]
  },
  {
   "cell_type": "code",
   "execution_count": null,
   "id": "de62f980",
   "metadata": {},
   "outputs": [],
   "source": [
    "df_model_copy = df_model.copy()"
   ]
  },
  {
   "cell_type": "code",
   "execution_count": null,
   "id": "e7ab108a",
   "metadata": {},
   "outputs": [],
   "source": [
    "df_model_copy.RainTomorrow"
   ]
  },
  {
   "cell_type": "code",
   "execution_count": null,
   "id": "54477730",
   "metadata": {},
   "outputs": [],
   "source": [
    "#Impurity-based feature importances can be misleading for high cardinality features (many unique values)\n",
    "#Permutation feature importance overcomes limitations of the impurity-based feature importance: they do not have a\n",
    "#bias toward high-cardinality features and can be computed on a left-out test set\n",
    "from sklearn.inspection import permutation_importance\n",
    "start_time = time.time()\n",
    "result = permutation_importance(\n",
    "    clf, X[test], y[test], n_repeats=10, random_state=123, n_jobs=-1)\n",
    "elapsed_time = time.time() - start_time\n",
    "print(f\"Elapsed time to compute the importances: \"\n",
    "      f\"{elapsed_time:.3f} seconds\")\n",
    "forest_importances = pd.Series(result.importances_mean, index=column_names)\n",
    "plt.figure(figsize = (10,6))\n",
    "#fig, ax = plt.subplots()\n",
    "forest_importances.plot.bar(x = 'features', y = 'Weights')\n",
    "#ax.set_title(\"Feature importances using permutation on Random Forest model\")\n",
    "#ax.set_ylabel(\"Mean accuracy decrease\")\n",
    "#fig.tight_layout()\n",
    "plt.show()"
   ]
  },
  {
   "cell_type": "code",
   "execution_count": null,
   "id": "139f7454",
   "metadata": {},
   "outputs": [],
   "source": []
  },
  {
   "cell_type": "code",
   "execution_count": null,
   "id": "cab50dc5",
   "metadata": {},
   "outputs": [],
   "source": [
    "arr_mod = df_model_ohe.toarray()"
   ]
  },
  {
   "cell_type": "code",
   "execution_count": null,
   "id": "ad971281",
   "metadata": {},
   "outputs": [],
   "source": [
    "len(arr_mod[0])"
   ]
  },
  {
   "cell_type": "code",
   "execution_count": null,
   "id": "0a5fd944",
   "metadata": {},
   "outputs": [],
   "source": []
  },
  {
   "cell_type": "code",
   "execution_count": null,
   "id": "e0bb3269",
   "metadata": {},
   "outputs": [],
   "source": []
  },
  {
   "cell_type": "code",
   "execution_count": null,
   "id": "972b943b",
   "metadata": {},
   "outputs": [],
   "source": []
  },
  {
   "cell_type": "code",
   "execution_count": null,
   "id": "5ee48d86",
   "metadata": {},
   "outputs": [],
   "source": []
  },
  {
   "cell_type": "markdown",
   "id": "cbd7b8ad",
   "metadata": {},
   "source": [
    "# Apurv"
   ]
  },
  {
   "cell_type": "code",
   "execution_count": null,
   "id": "7169f3d8",
   "metadata": {},
   "outputs": [],
   "source": [
    "df_model[\"RainTomorrow\"] = df_model[\"RainTomorrow\"].map(dict(Yes=1, No=0))\n",
    "y= df_model[\"RainTomorrow\"].values\n",
    "del df_model[\"RainTomorrow\"]\n",
    "X = df_model.values\n",
    "df_model[\"RainTomorrow\"] = df_impute[\"RainTomorrow\"]\n"
   ]
  },
  {
   "cell_type": "markdown",
   "id": "f29f2245",
   "metadata": {},
   "source": [
    "Reference for KNN:\n",
    "    \n",
    "https://www.geeksforgeeks.org/k-nearest-neighbor-algorithm-in-python/"
   ]
  },
  {
   "cell_type": "code",
   "execution_count": null,
   "id": "b1721396",
   "metadata": {},
   "outputs": [],
   "source": [
    "%%time\n",
    "# Import necessary modules\n",
    "from sklearn.neighbors import KNeighborsClassifier\n",
    "from sklearn.model_selection import train_test_split\n",
    "from sklearn.datasets import load_iris\n",
    "import numpy as np\n",
    "import matplotlib.pyplot as plt\n",
    "  \n",
    "  \n",
    "# Split into training and test set\n",
    "X_train, X_test, y_train, y_test = train_test_split(\n",
    "             X, y, test_size = 0.2, random_state=123)\n",
    "  \n",
    "neighbors = np.arange(1, 9)\n",
    "train_accuracy = np.empty(len(neighbors))\n",
    "test_accuracy = np.empty(len(neighbors))\n",
    "  \n",
    "# Loop over K values\n",
    "for i, k in enumerate(neighbors):\n",
    "    knn = KNeighborsClassifier(n_neighbors=k)\n",
    "    knn.fit(X_train, y_train)\n",
    "      \n",
    "    # Compute traning and test data accuracy\n",
    "    train_accuracy[i] = knn.score(X_train, y_train)\n",
    "    test_accuracy[i] = knn.score(X_test, y_test)\n",
    "  \n",
    "# Generate plot\n",
    "plt.plot(neighbors, test_accuracy, label = 'Testing dataset Accuracy')\n",
    "plt.plot(neighbors, train_accuracy, label = 'Training dataset Accuracy')\n",
    "  \n",
    "plt.legend()\n",
    "plt.xlabel('n_neighbors')\n",
    "plt.ylabel('Accuracy')\n",
    "plt.show()"
   ]
  },
  {
   "cell_type": "code",
   "execution_count": null,
   "id": "58535d0a",
   "metadata": {},
   "outputs": [],
   "source": [
    "\n",
    "from sklearn.neighbors import KNeighborsClassifier\n",
    "from sklearn.model_selection import StratifiedKFold\n",
    "from sklearn.preprocessing import StandardScaler\n",
    "import numpy as np\n",
    "from sklearn import metrics as mt\n",
    "\n",
    "\n",
    "# create variables we are more familiar with\n",
    "\n",
    "#y = df_model[\"RainTomorrow\"].values # get the labels we want\n",
    "#del df_model[\"RainTomorrow\"] # get rid of the class label\n",
    "#X = df_model.values\n",
    "yhat = np.zeros(y.shape) # we will fill this with predictions\n",
    "\n",
    "scl = StandardScaler()\n",
    "X = scl.fit_transform(X)\n",
    "\n",
    "# create cross validation iterator\n",
    "cv = StratifiedKFold(n_splits=10)\n",
    "\n",
    "# get a handle to the classifier object, which defines the type\n",
    "clf = KNeighborsClassifier(n_neighbors=8)\n",
    "\n",
    "# now iterate through and get predictions, saved to the correct row in yhat\n",
    "# NOTE: you can parallelize this using the cross_val_predict method\n",
    "for train, test in cv.split(X,y):\n",
    "    clf.fit(X[train],y[train])\n",
    "    yhat[test] = clf.predict(X[test])\n",
    "\n",
    "total_accuracy = mt.accuracy_score(y, yhat)\n",
    "print ('KNN accuracy', total_accuracy)\n",
    "\n"
   ]
  },
  {
   "cell_type": "code",
   "execution_count": null,
   "id": "916ab104",
   "metadata": {},
   "outputs": [],
   "source": [
    "output= []\n",
    "for x in yhat:\n",
    "    if x not in output:\n",
    "        output.append(x)\n",
    "print(output)"
   ]
  },
  {
   "cell_type": "code",
   "execution_count": null,
   "id": "28bfecc3",
   "metadata": {},
   "outputs": [],
   "source": []
  },
  {
   "cell_type": "code",
   "execution_count": null,
   "id": "ce1900d8",
   "metadata": {},
   "outputs": [],
   "source": []
  },
  {
   "cell_type": "code",
   "execution_count": null,
   "id": "7d177c85",
   "metadata": {},
   "outputs": [],
   "source": []
  },
  {
   "cell_type": "code",
   "execution_count": null,
   "id": "fc6c4dcf",
   "metadata": {},
   "outputs": [],
   "source": []
  },
  {
   "cell_type": "code",
   "execution_count": null,
   "id": "b34cbbfa",
   "metadata": {},
   "outputs": [],
   "source": []
  },
  {
   "cell_type": "code",
   "execution_count": null,
   "id": "9f8af05e",
   "metadata": {},
   "outputs": [],
   "source": []
  },
  {
   "cell_type": "code",
   "execution_count": null,
   "id": "f6157ce2",
   "metadata": {},
   "outputs": [],
   "source": []
  },
  {
   "cell_type": "code",
   "execution_count": null,
   "id": "c6473e44",
   "metadata": {},
   "outputs": [],
   "source": []
  },
  {
   "cell_type": "code",
   "execution_count": null,
   "id": "972fb88e",
   "metadata": {},
   "outputs": [],
   "source": []
  },
  {
   "cell_type": "code",
   "execution_count": null,
   "id": "80537440",
   "metadata": {},
   "outputs": [],
   "source": [
    "from sklearn.model_selection import StratifiedKFold\n",
    "from sklearn.linear_model import LinearRegression, Lasso\n",
    "from timeit import default_timer as timer\n",
    "from sklearn import linear_model\n",
    "from sklearn.feature_selection import RFE\n",
    "from sklearn.svm import SVR\n",
    "from sklearn.svm import LinearSVR\n",
    "from sklearn.model_selection import cross_val_score\n",
    "from sklearn.neighbors import KNeighborsClassifier\n",
    "\n",
    "X = df_model_ohe\n",
    "y = y_new\n",
    "iterations = 10\n",
    "\n",
    "random_state = 123\n",
    "njobs = -1\n",
    "\n",
    "#models = [\"LinearRegression\", \"Lasso\", \"LinearSVR\"]\n",
    "models = [\"LinearRegression\", \"Lasso\"]\n",
    "\n",
    "for model in models:\n",
    "    clf = None\n",
    "    if model == \"LinearRegression\":\n",
    "        clf = LinearRegression(n_jobs=njobs).fit(X,y)\n",
    "    elif model == \"Lasso\":\n",
    "        clf = Lasso(alpha=0.1).fit(X,y)\n",
    "    elif model == \"LinearSVR\":    \n",
    "        estimator = LinearSVR(random_state=0, tol=1e-5)\n",
    "        clf = RFE(estimator, n_features_to_select=8, step=1)\n",
    "\n",
    "    score = cross_val_score(model, X, y, cv=iterations, n_jobs=4, scoring=\"neg_root_mean_squared_error\")\n",
    "    abs_score = [abs(x) for x in score]\n",
    "    print(model, abs_score)\n",
    "\n"
   ]
  },
  {
   "cell_type": "code",
   "execution_count": null,
   "id": "672259b0",
   "metadata": {},
   "outputs": [],
   "source": []
  },
  {
   "cell_type": "code",
   "execution_count": null,
   "id": "b0d56b2f",
   "metadata": {},
   "outputs": [],
   "source": []
  },
  {
   "cell_type": "code",
   "execution_count": null,
   "id": "e9a8b7ef",
   "metadata": {},
   "outputs": [],
   "source": []
  },
  {
   "cell_type": "code",
   "execution_count": null,
   "id": "8204e692",
   "metadata": {},
   "outputs": [],
   "source": []
  },
  {
   "cell_type": "code",
   "execution_count": null,
   "id": "4232415f",
   "metadata": {},
   "outputs": [],
   "source": []
  }
 ],
 "metadata": {
  "kernelspec": {
   "display_name": "Python 3",
   "language": "python",
   "name": "python3"
  },
  "language_info": {
   "codemirror_mode": {
    "name": "ipython",
    "version": 3
   },
   "file_extension": ".py",
   "mimetype": "text/x-python",
   "name": "python",
   "nbconvert_exporter": "python",
   "pygments_lexer": "ipython3",
   "version": "3.8.8"
  }
 },
 "nbformat": 4,
 "nbformat_minor": 5
}
