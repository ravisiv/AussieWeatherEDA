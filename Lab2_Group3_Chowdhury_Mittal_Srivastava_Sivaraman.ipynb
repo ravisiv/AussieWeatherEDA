{
 "cells": [
  {
   "cell_type": "markdown",
   "id": "e87e6a4d",
   "metadata": {},
   "source": [
    "# Lab 2 : Classification\n",
    "\n",
    "### Group 3 - Members:\n",
    "\n",
    "_Tai Chowdhury_<br>\n",
    "_Apurv Mittal_<br>\n",
    "_Ravi Sivaraman_<br>\n",
    "_Seemant Srivastava_<br>\n"
   ]
  },
  {
   "cell_type": "markdown",
   "id": "3ceff67f",
   "metadata": {},
   "source": [
    "## Data Preparation Part 1"
   ]
  },
  {
   "cell_type": "markdown",
   "id": "5e4a5315",
   "metadata": {},
   "source": [
    "As discussed in Lab 1, we have acquired the Australian Weather dataset from Kaggle portal. It contains 10 years of weather data collected from many locations across Australia. These are daily weather observations. There are 145,459 observations with 23 attributes in the original dataset. \n",
    "\n",
    "We have chosen `RainTomorrow` (categorical) and `Rainfall` (continuous) as predictor variables. RainTomorrow is a categorical attribute which indicates whether it is going to rain tomorrow - yes or no. Rainfall is a continuous attribute that measures amount of rainfall each of the particular locations have received (in mm). Using our models, we will be able to design an algorithm where the bureau can help to predict rainfall for different regions in Australia.\n",
    "\n",
    "In this Lab 2 assignment, we have measured the accuracy and effectiveness of our model for categorical variable RainTomorrow by using 10-fold cross validation against the confusion matrix measurements like: Precision, Recall and Accuracy. We have explored the methods of logistic regression and support vector machine (SVM) models on our dataset. \n",
    "\n",
    "We have used `scikit-learn` packages for our exploration. We ran logistic regression models with all the available solvers in the `scikit-learn` package and compare the effictiveness and accuracy of the model to predict `RainfallTomorrow`. We also measured the duration of model run from each models to compare model performance and efficiency as well.\n",
    " \n",
    "To get started, we will start with loading all the necessary packages for our analysis. We will start our analysis with `df_impute` which is the imputed dataframe from our last explanatory data analysis Lab 1 project. Using this dataframe will ensure data consistency for all the labs going forward."
   ]
  },
  {
   "cell_type": "code",
   "execution_count": 1,
   "id": "1eae993c",
   "metadata": {},
   "outputs": [],
   "source": [
    "# Import libraries\n",
    "\n",
    "import pandas as pd\n",
    "import numpy as np\n",
    "import seaborn as sns\n",
    "import matplotlib.pyplot as plt\n",
    "import plotly.graph_objs as go\n",
    "from scipy import stats\n",
    "import warnings\n",
    "from shapely.geometry import Point\n",
    "import plotly.express as px\n",
    "from sklearn.linear_model import LogisticRegression\n",
    "from sklearn import metrics as mt\n",
    "from sklearn.model_selection import ShuffleSplit\n",
    "from sklearn.utils import resample\n",
    "\n",
    "from sklearn.preprocessing import StandardScaler\n",
    "from sklearn.metrics import classification_report\n",
    "from sklearn.svm import SVC\n",
    "from sklearn.metrics import roc_curve, auc\n",
    "from sklearn import metrics"
   ]
  },
  {
   "cell_type": "code",
   "execution_count": 2,
   "id": "812bb8ab",
   "metadata": {},
   "outputs": [],
   "source": [
    "#Ignore Warnings on final\n",
    "\n",
    "warnings.filterwarnings('ignore')"
   ]
  },
  {
   "cell_type": "code",
   "execution_count": 3,
   "id": "c68af6cf",
   "metadata": {},
   "outputs": [],
   "source": [
    "#Original Data\n",
    "df = pd.read_csv(\"weatherAUS.csv\")"
   ]
  },
  {
   "cell_type": "code",
   "execution_count": 4,
   "id": "d8399af3",
   "metadata": {},
   "outputs": [
    {
     "data": {
      "text/html": [
       "<div>\n",
       "<style scoped>\n",
       "    .dataframe tbody tr th:only-of-type {\n",
       "        vertical-align: middle;\n",
       "    }\n",
       "\n",
       "    .dataframe tbody tr th {\n",
       "        vertical-align: top;\n",
       "    }\n",
       "\n",
       "    .dataframe thead th {\n",
       "        text-align: right;\n",
       "    }\n",
       "</style>\n",
       "<table border=\"1\" class=\"dataframe\">\n",
       "  <thead>\n",
       "    <tr style=\"text-align: right;\">\n",
       "      <th></th>\n",
       "      <th>Date</th>\n",
       "      <th>Location</th>\n",
       "      <th>MinTemp</th>\n",
       "      <th>MaxTemp</th>\n",
       "      <th>Rainfall</th>\n",
       "      <th>Evaporation</th>\n",
       "      <th>Sunshine</th>\n",
       "      <th>WindGustDir</th>\n",
       "      <th>WindGustSpeed</th>\n",
       "      <th>WindDir9am</th>\n",
       "      <th>...</th>\n",
       "      <th>Humidity9am</th>\n",
       "      <th>Humidity3pm</th>\n",
       "      <th>Pressure9am</th>\n",
       "      <th>Pressure3pm</th>\n",
       "      <th>Cloud9am</th>\n",
       "      <th>Cloud3pm</th>\n",
       "      <th>Temp9am</th>\n",
       "      <th>Temp3pm</th>\n",
       "      <th>RainToday</th>\n",
       "      <th>RainTomorrow</th>\n",
       "    </tr>\n",
       "  </thead>\n",
       "  <tbody>\n",
       "    <tr>\n",
       "      <th>0</th>\n",
       "      <td>12/1/08</td>\n",
       "      <td>Albury</td>\n",
       "      <td>13.4</td>\n",
       "      <td>22.9</td>\n",
       "      <td>0.6</td>\n",
       "      <td>NaN</td>\n",
       "      <td>NaN</td>\n",
       "      <td>W</td>\n",
       "      <td>44.0</td>\n",
       "      <td>W</td>\n",
       "      <td>...</td>\n",
       "      <td>71.0</td>\n",
       "      <td>22.0</td>\n",
       "      <td>1007.7</td>\n",
       "      <td>1007.1</td>\n",
       "      <td>8.0</td>\n",
       "      <td>NaN</td>\n",
       "      <td>16.9</td>\n",
       "      <td>21.8</td>\n",
       "      <td>No</td>\n",
       "      <td>No</td>\n",
       "    </tr>\n",
       "    <tr>\n",
       "      <th>1</th>\n",
       "      <td>12/2/08</td>\n",
       "      <td>Albury</td>\n",
       "      <td>7.4</td>\n",
       "      <td>25.1</td>\n",
       "      <td>0.0</td>\n",
       "      <td>NaN</td>\n",
       "      <td>NaN</td>\n",
       "      <td>WNW</td>\n",
       "      <td>44.0</td>\n",
       "      <td>NNW</td>\n",
       "      <td>...</td>\n",
       "      <td>44.0</td>\n",
       "      <td>25.0</td>\n",
       "      <td>1010.6</td>\n",
       "      <td>1007.8</td>\n",
       "      <td>NaN</td>\n",
       "      <td>NaN</td>\n",
       "      <td>17.2</td>\n",
       "      <td>24.3</td>\n",
       "      <td>No</td>\n",
       "      <td>No</td>\n",
       "    </tr>\n",
       "    <tr>\n",
       "      <th>2</th>\n",
       "      <td>12/3/08</td>\n",
       "      <td>Albury</td>\n",
       "      <td>12.9</td>\n",
       "      <td>25.7</td>\n",
       "      <td>0.0</td>\n",
       "      <td>NaN</td>\n",
       "      <td>NaN</td>\n",
       "      <td>WSW</td>\n",
       "      <td>46.0</td>\n",
       "      <td>W</td>\n",
       "      <td>...</td>\n",
       "      <td>38.0</td>\n",
       "      <td>30.0</td>\n",
       "      <td>1007.6</td>\n",
       "      <td>1008.7</td>\n",
       "      <td>NaN</td>\n",
       "      <td>2.0</td>\n",
       "      <td>21.0</td>\n",
       "      <td>23.2</td>\n",
       "      <td>No</td>\n",
       "      <td>No</td>\n",
       "    </tr>\n",
       "    <tr>\n",
       "      <th>3</th>\n",
       "      <td>12/4/08</td>\n",
       "      <td>Albury</td>\n",
       "      <td>9.2</td>\n",
       "      <td>28.0</td>\n",
       "      <td>0.0</td>\n",
       "      <td>NaN</td>\n",
       "      <td>NaN</td>\n",
       "      <td>NE</td>\n",
       "      <td>24.0</td>\n",
       "      <td>SE</td>\n",
       "      <td>...</td>\n",
       "      <td>45.0</td>\n",
       "      <td>16.0</td>\n",
       "      <td>1017.6</td>\n",
       "      <td>1012.8</td>\n",
       "      <td>NaN</td>\n",
       "      <td>NaN</td>\n",
       "      <td>18.1</td>\n",
       "      <td>26.5</td>\n",
       "      <td>No</td>\n",
       "      <td>No</td>\n",
       "    </tr>\n",
       "    <tr>\n",
       "      <th>4</th>\n",
       "      <td>12/5/08</td>\n",
       "      <td>Albury</td>\n",
       "      <td>17.5</td>\n",
       "      <td>32.3</td>\n",
       "      <td>1.0</td>\n",
       "      <td>NaN</td>\n",
       "      <td>NaN</td>\n",
       "      <td>W</td>\n",
       "      <td>41.0</td>\n",
       "      <td>ENE</td>\n",
       "      <td>...</td>\n",
       "      <td>82.0</td>\n",
       "      <td>33.0</td>\n",
       "      <td>1010.8</td>\n",
       "      <td>1006.0</td>\n",
       "      <td>7.0</td>\n",
       "      <td>8.0</td>\n",
       "      <td>17.8</td>\n",
       "      <td>29.7</td>\n",
       "      <td>No</td>\n",
       "      <td>No</td>\n",
       "    </tr>\n",
       "  </tbody>\n",
       "</table>\n",
       "<p>5 rows × 23 columns</p>\n",
       "</div>"
      ],
      "text/plain": [
       "      Date Location  MinTemp  MaxTemp  Rainfall  Evaporation  Sunshine  \\\n",
       "0  12/1/08   Albury     13.4     22.9       0.6          NaN       NaN   \n",
       "1  12/2/08   Albury      7.4     25.1       0.0          NaN       NaN   \n",
       "2  12/3/08   Albury     12.9     25.7       0.0          NaN       NaN   \n",
       "3  12/4/08   Albury      9.2     28.0       0.0          NaN       NaN   \n",
       "4  12/5/08   Albury     17.5     32.3       1.0          NaN       NaN   \n",
       "\n",
       "  WindGustDir  WindGustSpeed WindDir9am  ... Humidity9am  Humidity3pm  \\\n",
       "0           W           44.0          W  ...        71.0         22.0   \n",
       "1         WNW           44.0        NNW  ...        44.0         25.0   \n",
       "2         WSW           46.0          W  ...        38.0         30.0   \n",
       "3          NE           24.0         SE  ...        45.0         16.0   \n",
       "4           W           41.0        ENE  ...        82.0         33.0   \n",
       "\n",
       "   Pressure9am  Pressure3pm  Cloud9am  Cloud3pm  Temp9am  Temp3pm  RainToday  \\\n",
       "0       1007.7       1007.1       8.0       NaN     16.9     21.8         No   \n",
       "1       1010.6       1007.8       NaN       NaN     17.2     24.3         No   \n",
       "2       1007.6       1008.7       NaN       2.0     21.0     23.2         No   \n",
       "3       1017.6       1012.8       NaN       NaN     18.1     26.5         No   \n",
       "4       1010.8       1006.0       7.0       8.0     17.8     29.7         No   \n",
       "\n",
       "   RainTomorrow  \n",
       "0            No  \n",
       "1            No  \n",
       "2            No  \n",
       "3            No  \n",
       "4            No  \n",
       "\n",
       "[5 rows x 23 columns]"
      ]
     },
     "execution_count": 4,
     "metadata": {},
     "output_type": "execute_result"
    }
   ],
   "source": [
    "df.head()"
   ]
  },
  {
   "cell_type": "markdown",
   "id": "125ee191",
   "metadata": {},
   "source": [
    "#### Dropping columns"
   ]
  },
  {
   "cell_type": "markdown",
   "id": "60ffcb18",
   "metadata": {},
   "source": [
    "We decided to drop `Date` and `Location` as they are not pertinent to our analysis in this Lab 2 project."
   ]
  },
  {
   "cell_type": "code",
   "execution_count": 5,
   "id": "1ca69da3",
   "metadata": {},
   "outputs": [
    {
     "data": {
      "text/html": [
       "<div>\n",
       "<style scoped>\n",
       "    .dataframe tbody tr th:only-of-type {\n",
       "        vertical-align: middle;\n",
       "    }\n",
       "\n",
       "    .dataframe tbody tr th {\n",
       "        vertical-align: top;\n",
       "    }\n",
       "\n",
       "    .dataframe thead th {\n",
       "        text-align: right;\n",
       "    }\n",
       "</style>\n",
       "<table border=\"1\" class=\"dataframe\">\n",
       "  <thead>\n",
       "    <tr style=\"text-align: right;\">\n",
       "      <th></th>\n",
       "      <th>MinTemp</th>\n",
       "      <th>MaxTemp</th>\n",
       "      <th>Rainfall</th>\n",
       "      <th>Evaporation</th>\n",
       "      <th>Sunshine</th>\n",
       "      <th>WindGustDir</th>\n",
       "      <th>WindGustSpeed</th>\n",
       "      <th>WindDir9am</th>\n",
       "      <th>WindDir3pm</th>\n",
       "      <th>WindSpeed9am</th>\n",
       "      <th>...</th>\n",
       "      <th>Humidity9am</th>\n",
       "      <th>Humidity3pm</th>\n",
       "      <th>Pressure9am</th>\n",
       "      <th>Pressure3pm</th>\n",
       "      <th>Cloud9am</th>\n",
       "      <th>Cloud3pm</th>\n",
       "      <th>Temp9am</th>\n",
       "      <th>Temp3pm</th>\n",
       "      <th>RainToday</th>\n",
       "      <th>RainTomorrow</th>\n",
       "    </tr>\n",
       "  </thead>\n",
       "  <tbody>\n",
       "    <tr>\n",
       "      <th>0</th>\n",
       "      <td>13.4</td>\n",
       "      <td>22.9</td>\n",
       "      <td>0.6</td>\n",
       "      <td>NaN</td>\n",
       "      <td>NaN</td>\n",
       "      <td>W</td>\n",
       "      <td>44.0</td>\n",
       "      <td>W</td>\n",
       "      <td>WNW</td>\n",
       "      <td>20.0</td>\n",
       "      <td>...</td>\n",
       "      <td>71.0</td>\n",
       "      <td>22.0</td>\n",
       "      <td>1007.7</td>\n",
       "      <td>1007.1</td>\n",
       "      <td>8.0</td>\n",
       "      <td>NaN</td>\n",
       "      <td>16.9</td>\n",
       "      <td>21.8</td>\n",
       "      <td>No</td>\n",
       "      <td>No</td>\n",
       "    </tr>\n",
       "    <tr>\n",
       "      <th>1</th>\n",
       "      <td>7.4</td>\n",
       "      <td>25.1</td>\n",
       "      <td>0.0</td>\n",
       "      <td>NaN</td>\n",
       "      <td>NaN</td>\n",
       "      <td>WNW</td>\n",
       "      <td>44.0</td>\n",
       "      <td>NNW</td>\n",
       "      <td>WSW</td>\n",
       "      <td>4.0</td>\n",
       "      <td>...</td>\n",
       "      <td>44.0</td>\n",
       "      <td>25.0</td>\n",
       "      <td>1010.6</td>\n",
       "      <td>1007.8</td>\n",
       "      <td>NaN</td>\n",
       "      <td>NaN</td>\n",
       "      <td>17.2</td>\n",
       "      <td>24.3</td>\n",
       "      <td>No</td>\n",
       "      <td>No</td>\n",
       "    </tr>\n",
       "    <tr>\n",
       "      <th>2</th>\n",
       "      <td>12.9</td>\n",
       "      <td>25.7</td>\n",
       "      <td>0.0</td>\n",
       "      <td>NaN</td>\n",
       "      <td>NaN</td>\n",
       "      <td>WSW</td>\n",
       "      <td>46.0</td>\n",
       "      <td>W</td>\n",
       "      <td>WSW</td>\n",
       "      <td>19.0</td>\n",
       "      <td>...</td>\n",
       "      <td>38.0</td>\n",
       "      <td>30.0</td>\n",
       "      <td>1007.6</td>\n",
       "      <td>1008.7</td>\n",
       "      <td>NaN</td>\n",
       "      <td>2.0</td>\n",
       "      <td>21.0</td>\n",
       "      <td>23.2</td>\n",
       "      <td>No</td>\n",
       "      <td>No</td>\n",
       "    </tr>\n",
       "    <tr>\n",
       "      <th>3</th>\n",
       "      <td>9.2</td>\n",
       "      <td>28.0</td>\n",
       "      <td>0.0</td>\n",
       "      <td>NaN</td>\n",
       "      <td>NaN</td>\n",
       "      <td>NE</td>\n",
       "      <td>24.0</td>\n",
       "      <td>SE</td>\n",
       "      <td>E</td>\n",
       "      <td>11.0</td>\n",
       "      <td>...</td>\n",
       "      <td>45.0</td>\n",
       "      <td>16.0</td>\n",
       "      <td>1017.6</td>\n",
       "      <td>1012.8</td>\n",
       "      <td>NaN</td>\n",
       "      <td>NaN</td>\n",
       "      <td>18.1</td>\n",
       "      <td>26.5</td>\n",
       "      <td>No</td>\n",
       "      <td>No</td>\n",
       "    </tr>\n",
       "    <tr>\n",
       "      <th>4</th>\n",
       "      <td>17.5</td>\n",
       "      <td>32.3</td>\n",
       "      <td>1.0</td>\n",
       "      <td>NaN</td>\n",
       "      <td>NaN</td>\n",
       "      <td>W</td>\n",
       "      <td>41.0</td>\n",
       "      <td>ENE</td>\n",
       "      <td>NW</td>\n",
       "      <td>7.0</td>\n",
       "      <td>...</td>\n",
       "      <td>82.0</td>\n",
       "      <td>33.0</td>\n",
       "      <td>1010.8</td>\n",
       "      <td>1006.0</td>\n",
       "      <td>7.0</td>\n",
       "      <td>8.0</td>\n",
       "      <td>17.8</td>\n",
       "      <td>29.7</td>\n",
       "      <td>No</td>\n",
       "      <td>No</td>\n",
       "    </tr>\n",
       "  </tbody>\n",
       "</table>\n",
       "<p>5 rows × 21 columns</p>\n",
       "</div>"
      ],
      "text/plain": [
       "   MinTemp  MaxTemp  Rainfall  Evaporation  Sunshine WindGustDir  \\\n",
       "0     13.4     22.9       0.6          NaN       NaN           W   \n",
       "1      7.4     25.1       0.0          NaN       NaN         WNW   \n",
       "2     12.9     25.7       0.0          NaN       NaN         WSW   \n",
       "3      9.2     28.0       0.0          NaN       NaN          NE   \n",
       "4     17.5     32.3       1.0          NaN       NaN           W   \n",
       "\n",
       "   WindGustSpeed WindDir9am WindDir3pm  WindSpeed9am  ...  Humidity9am  \\\n",
       "0           44.0          W        WNW          20.0  ...         71.0   \n",
       "1           44.0        NNW        WSW           4.0  ...         44.0   \n",
       "2           46.0          W        WSW          19.0  ...         38.0   \n",
       "3           24.0         SE          E          11.0  ...         45.0   \n",
       "4           41.0        ENE         NW           7.0  ...         82.0   \n",
       "\n",
       "   Humidity3pm  Pressure9am  Pressure3pm  Cloud9am  Cloud3pm  Temp9am  \\\n",
       "0         22.0       1007.7       1007.1       8.0       NaN     16.9   \n",
       "1         25.0       1010.6       1007.8       NaN       NaN     17.2   \n",
       "2         30.0       1007.6       1008.7       NaN       2.0     21.0   \n",
       "3         16.0       1017.6       1012.8       NaN       NaN     18.1   \n",
       "4         33.0       1010.8       1006.0       7.0       8.0     17.8   \n",
       "\n",
       "   Temp3pm  RainToday RainTomorrow  \n",
       "0     21.8         No           No  \n",
       "1     24.3         No           No  \n",
       "2     23.2         No           No  \n",
       "3     26.5         No           No  \n",
       "4     29.7         No           No  \n",
       "\n",
       "[5 rows x 21 columns]"
      ]
     },
     "execution_count": 5,
     "metadata": {},
     "output_type": "execute_result"
    }
   ],
   "source": [
    "df = df.drop(['Date', 'Location'], axis = 1)\n",
    "df.head()"
   ]
  },
  {
   "cell_type": "markdown",
   "id": "b930ef93",
   "metadata": {},
   "source": [
    "\n",
    "We imputed data in EDA project by substituting the missing and `NaN` values. We are reusing the imputed data from EDA (Lab1) project.\n",
    "Here is the link to the EDA for reference:\n",
    "\n",
    "https://nbviewer.jupyter.org/github/ravisiv/AussieWeatherEDA/blob/c0ba412cb75da21eba386ea9ea39f645ad6af1d0/DS7331_Lab1_Group3_Ravi_Taifur_Seemant_Apurv_Submission.ipynb\n"
   ]
  },
  {
   "cell_type": "code",
   "execution_count": 6,
   "id": "183efa88",
   "metadata": {},
   "outputs": [],
   "source": [
    "# Read the Imputed Australia weather data\n",
    "df_impute = pd.read_csv(\"weatherAUS_imputed.csv\")"
   ]
  },
  {
   "cell_type": "code",
   "execution_count": 7,
   "id": "eb3c6a2f",
   "metadata": {},
   "outputs": [
    {
     "data": {
      "text/html": [
       "<div>\n",
       "<style scoped>\n",
       "    .dataframe tbody tr th:only-of-type {\n",
       "        vertical-align: middle;\n",
       "    }\n",
       "\n",
       "    .dataframe tbody tr th {\n",
       "        vertical-align: top;\n",
       "    }\n",
       "\n",
       "    .dataframe thead th {\n",
       "        text-align: right;\n",
       "    }\n",
       "</style>\n",
       "<table border=\"1\" class=\"dataframe\">\n",
       "  <thead>\n",
       "    <tr style=\"text-align: right;\">\n",
       "      <th></th>\n",
       "      <th>MinTemp</th>\n",
       "      <th>MaxTemp</th>\n",
       "      <th>Rainfall</th>\n",
       "      <th>Evaporation</th>\n",
       "      <th>Sunshine</th>\n",
       "      <th>WindGustDir</th>\n",
       "      <th>WindGustSpeed</th>\n",
       "      <th>WindDir9am</th>\n",
       "      <th>WindDir3pm</th>\n",
       "      <th>WindSpeed9am</th>\n",
       "      <th>...</th>\n",
       "      <th>Humidity9am</th>\n",
       "      <th>Humidity3pm</th>\n",
       "      <th>Pressure9am</th>\n",
       "      <th>Pressure3pm</th>\n",
       "      <th>Cloud9am</th>\n",
       "      <th>Cloud3pm</th>\n",
       "      <th>Temp9am</th>\n",
       "      <th>Temp3pm</th>\n",
       "      <th>RainToday</th>\n",
       "      <th>RainTomorrow</th>\n",
       "    </tr>\n",
       "  </thead>\n",
       "  <tbody>\n",
       "    <tr>\n",
       "      <th>0</th>\n",
       "      <td>13.4</td>\n",
       "      <td>22.9</td>\n",
       "      <td>0.6</td>\n",
       "      <td>6.032209</td>\n",
       "      <td>8.890686</td>\n",
       "      <td>W</td>\n",
       "      <td>44.0</td>\n",
       "      <td>W</td>\n",
       "      <td>WNW</td>\n",
       "      <td>20.0</td>\n",
       "      <td>...</td>\n",
       "      <td>71.0</td>\n",
       "      <td>22.0</td>\n",
       "      <td>1007.7</td>\n",
       "      <td>1007.1</td>\n",
       "      <td>8.000000</td>\n",
       "      <td>3.684394</td>\n",
       "      <td>16.9</td>\n",
       "      <td>21.8</td>\n",
       "      <td>No</td>\n",
       "      <td>No</td>\n",
       "    </tr>\n",
       "    <tr>\n",
       "      <th>1</th>\n",
       "      <td>7.4</td>\n",
       "      <td>25.1</td>\n",
       "      <td>0.0</td>\n",
       "      <td>6.032209</td>\n",
       "      <td>8.890686</td>\n",
       "      <td>WNW</td>\n",
       "      <td>44.0</td>\n",
       "      <td>NNW</td>\n",
       "      <td>WSW</td>\n",
       "      <td>4.0</td>\n",
       "      <td>...</td>\n",
       "      <td>44.0</td>\n",
       "      <td>25.0</td>\n",
       "      <td>1010.6</td>\n",
       "      <td>1007.8</td>\n",
       "      <td>3.635105</td>\n",
       "      <td>3.684394</td>\n",
       "      <td>17.2</td>\n",
       "      <td>24.3</td>\n",
       "      <td>No</td>\n",
       "      <td>No</td>\n",
       "    </tr>\n",
       "    <tr>\n",
       "      <th>2</th>\n",
       "      <td>12.9</td>\n",
       "      <td>25.7</td>\n",
       "      <td>0.0</td>\n",
       "      <td>6.032209</td>\n",
       "      <td>8.890686</td>\n",
       "      <td>WSW</td>\n",
       "      <td>46.0</td>\n",
       "      <td>W</td>\n",
       "      <td>WSW</td>\n",
       "      <td>19.0</td>\n",
       "      <td>...</td>\n",
       "      <td>38.0</td>\n",
       "      <td>30.0</td>\n",
       "      <td>1007.6</td>\n",
       "      <td>1008.7</td>\n",
       "      <td>3.635105</td>\n",
       "      <td>2.000000</td>\n",
       "      <td>21.0</td>\n",
       "      <td>23.2</td>\n",
       "      <td>No</td>\n",
       "      <td>No</td>\n",
       "    </tr>\n",
       "    <tr>\n",
       "      <th>3</th>\n",
       "      <td>9.2</td>\n",
       "      <td>28.0</td>\n",
       "      <td>0.0</td>\n",
       "      <td>6.032209</td>\n",
       "      <td>8.890686</td>\n",
       "      <td>NE</td>\n",
       "      <td>24.0</td>\n",
       "      <td>SE</td>\n",
       "      <td>E</td>\n",
       "      <td>11.0</td>\n",
       "      <td>...</td>\n",
       "      <td>45.0</td>\n",
       "      <td>16.0</td>\n",
       "      <td>1017.6</td>\n",
       "      <td>1012.8</td>\n",
       "      <td>3.635105</td>\n",
       "      <td>3.684394</td>\n",
       "      <td>18.1</td>\n",
       "      <td>26.5</td>\n",
       "      <td>No</td>\n",
       "      <td>No</td>\n",
       "    </tr>\n",
       "    <tr>\n",
       "      <th>4</th>\n",
       "      <td>17.5</td>\n",
       "      <td>32.3</td>\n",
       "      <td>1.0</td>\n",
       "      <td>6.032209</td>\n",
       "      <td>8.890686</td>\n",
       "      <td>W</td>\n",
       "      <td>41.0</td>\n",
       "      <td>ENE</td>\n",
       "      <td>NW</td>\n",
       "      <td>7.0</td>\n",
       "      <td>...</td>\n",
       "      <td>82.0</td>\n",
       "      <td>33.0</td>\n",
       "      <td>1010.8</td>\n",
       "      <td>1006.0</td>\n",
       "      <td>7.000000</td>\n",
       "      <td>8.000000</td>\n",
       "      <td>17.8</td>\n",
       "      <td>29.7</td>\n",
       "      <td>No</td>\n",
       "      <td>No</td>\n",
       "    </tr>\n",
       "  </tbody>\n",
       "</table>\n",
       "<p>5 rows × 21 columns</p>\n",
       "</div>"
      ],
      "text/plain": [
       "   MinTemp  MaxTemp  Rainfall  Evaporation  Sunshine WindGustDir  \\\n",
       "0     13.4     22.9       0.6     6.032209  8.890686           W   \n",
       "1      7.4     25.1       0.0     6.032209  8.890686         WNW   \n",
       "2     12.9     25.7       0.0     6.032209  8.890686         WSW   \n",
       "3      9.2     28.0       0.0     6.032209  8.890686          NE   \n",
       "4     17.5     32.3       1.0     6.032209  8.890686           W   \n",
       "\n",
       "   WindGustSpeed WindDir9am WindDir3pm  WindSpeed9am  ...  Humidity9am  \\\n",
       "0           44.0          W        WNW          20.0  ...         71.0   \n",
       "1           44.0        NNW        WSW           4.0  ...         44.0   \n",
       "2           46.0          W        WSW          19.0  ...         38.0   \n",
       "3           24.0         SE          E          11.0  ...         45.0   \n",
       "4           41.0        ENE         NW           7.0  ...         82.0   \n",
       "\n",
       "   Humidity3pm  Pressure9am  Pressure3pm  Cloud9am  Cloud3pm  Temp9am  \\\n",
       "0         22.0       1007.7       1007.1  8.000000  3.684394     16.9   \n",
       "1         25.0       1010.6       1007.8  3.635105  3.684394     17.2   \n",
       "2         30.0       1007.6       1008.7  3.635105  2.000000     21.0   \n",
       "3         16.0       1017.6       1012.8  3.635105  3.684394     18.1   \n",
       "4         33.0       1010.8       1006.0  7.000000  8.000000     17.8   \n",
       "\n",
       "   Temp3pm  RainToday RainTomorrow  \n",
       "0     21.8         No           No  \n",
       "1     24.3         No           No  \n",
       "2     23.2         No           No  \n",
       "3     26.5         No           No  \n",
       "4     29.7         No           No  \n",
       "\n",
       "[5 rows x 21 columns]"
      ]
     },
     "execution_count": 7,
     "metadata": {},
     "output_type": "execute_result"
    }
   ],
   "source": [
    "#  View the top rows of the data imported\n",
    "df_impute.head()"
   ]
  },
  {
   "cell_type": "markdown",
   "id": "01fa8301",
   "metadata": {},
   "source": [
    "The imputed data doesn't include any null or missing values. Also, we have dropped the columns like: Date of observation and City Name."
   ]
  },
  {
   "cell_type": "code",
   "execution_count": 8,
   "id": "43b411ec",
   "metadata": {},
   "outputs": [
    {
     "name": "stdout",
     "output_type": "stream",
     "text": [
      "Numeric Variables: Index(['MinTemp', 'MaxTemp', 'Rainfall', 'Evaporation', 'Sunshine',\n",
      "       'WindGustSpeed', 'WindSpeed9am', 'WindSpeed3pm', 'Humidity9am',\n",
      "       'Humidity3pm', 'Pressure9am', 'Pressure3pm', 'Cloud9am', 'Cloud3pm',\n",
      "       'Temp9am', 'Temp3pm'],\n",
      "      dtype='object')\n",
      "Categorical Variables: Index(['WindGustDir', 'WindDir9am', 'WindDir3pm', 'RainToday', 'RainTomorrow'], dtype='object')\n"
     ]
    }
   ],
   "source": [
    "df_impute_num = df_impute.columns[df_impute.dtypes == 'float64']\n",
    "df_impute_cat=df_impute.columns[df_impute.dtypes == 'object']\n",
    "print(\"Numeric Variables:\", df_impute_num)\n",
    "print(\"Categorical Variables:\", df_impute_cat)"
   ]
  },
  {
   "cell_type": "markdown",
   "id": "a58cad24",
   "metadata": {},
   "source": [
    "Before continuing further, we need to check which variables are numeric and which are not. As the models expect numerical variables. We will filter and identify non-numeric variables.\n",
    "\n",
    "`WindGustDir`, `WindDir9am`, `WindDir3pm`, `RainToday` and `RainTomorrow`are not numeric. Here `RainTomorrow` is our response variable. we handle the other variables with hot-one-encoding later in the flow."
   ]
  },
  {
   "cell_type": "code",
   "execution_count": 9,
   "id": "bed27653",
   "metadata": {},
   "outputs": [],
   "source": [
    "#Keep the original data\n",
    "df_model = df_impute.copy()"
   ]
  },
  {
   "cell_type": "markdown",
   "id": "d7640a88",
   "metadata": {},
   "source": [
    "Creating a new DataFrame `df_model` for modeling to avoid any changes to the original dataset `df_impute`."
   ]
  },
  {
   "cell_type": "code",
   "execution_count": 10,
   "id": "8cd3b7c9",
   "metadata": {},
   "outputs": [],
   "source": [
    "# Create a new variable to Identify if it RainToday\n",
    "\n",
    "df_model[\"IsRainToday\"] = df_impute['RainToday']\n",
    "\n",
    "# Replacing No with 0 and Yes with 1.\n",
    "\n",
    "df_model['IsRainToday'].replace({'No': 0, 'Yes': 1},inplace = True)\n"
   ]
  },
  {
   "cell_type": "markdown",
   "id": "178c1422",
   "metadata": {},
   "source": [
    "Assigning `0` to No values and `1` to Yes values in `RainToday` (Changed to `IsRainToday`)"
   ]
  },
  {
   "cell_type": "code",
   "execution_count": 11,
   "id": "7216f8c8",
   "metadata": {},
   "outputs": [
    {
     "name": "stdout",
     "output_type": "stream",
     "text": [
      "df_impute (140787, 21)\n",
      "df_model (140787, 22)\n"
     ]
    }
   ],
   "source": [
    "print(\"df_impute\", df_impute.shape)\n",
    "print(\"df_model\", df_model.shape)\n"
   ]
  },
  {
   "cell_type": "code",
   "execution_count": 12,
   "id": "af97c6fd",
   "metadata": {},
   "outputs": [
    {
     "data": {
      "text/html": [
       "<div>\n",
       "<style scoped>\n",
       "    .dataframe tbody tr th:only-of-type {\n",
       "        vertical-align: middle;\n",
       "    }\n",
       "\n",
       "    .dataframe tbody tr th {\n",
       "        vertical-align: top;\n",
       "    }\n",
       "\n",
       "    .dataframe thead th {\n",
       "        text-align: right;\n",
       "    }\n",
       "</style>\n",
       "<table border=\"1\" class=\"dataframe\">\n",
       "  <thead>\n",
       "    <tr style=\"text-align: right;\">\n",
       "      <th></th>\n",
       "      <th>MinTemp</th>\n",
       "      <th>MaxTemp</th>\n",
       "      <th>Rainfall</th>\n",
       "      <th>Evaporation</th>\n",
       "      <th>Sunshine</th>\n",
       "      <th>WindGustDir</th>\n",
       "      <th>WindGustSpeed</th>\n",
       "      <th>WindDir9am</th>\n",
       "      <th>WindDir3pm</th>\n",
       "      <th>WindSpeed9am</th>\n",
       "      <th>...</th>\n",
       "      <th>Humidity3pm</th>\n",
       "      <th>Pressure9am</th>\n",
       "      <th>Pressure3pm</th>\n",
       "      <th>Cloud9am</th>\n",
       "      <th>Cloud3pm</th>\n",
       "      <th>Temp9am</th>\n",
       "      <th>Temp3pm</th>\n",
       "      <th>RainToday</th>\n",
       "      <th>RainTomorrow</th>\n",
       "      <th>IsRainToday</th>\n",
       "    </tr>\n",
       "  </thead>\n",
       "  <tbody>\n",
       "    <tr>\n",
       "      <th>0</th>\n",
       "      <td>13.4</td>\n",
       "      <td>22.9</td>\n",
       "      <td>0.6</td>\n",
       "      <td>6.032209</td>\n",
       "      <td>8.890686</td>\n",
       "      <td>W</td>\n",
       "      <td>44.0</td>\n",
       "      <td>W</td>\n",
       "      <td>WNW</td>\n",
       "      <td>20.0</td>\n",
       "      <td>...</td>\n",
       "      <td>22.0</td>\n",
       "      <td>1007.7</td>\n",
       "      <td>1007.1</td>\n",
       "      <td>8.000000</td>\n",
       "      <td>3.684394</td>\n",
       "      <td>16.9</td>\n",
       "      <td>21.8</td>\n",
       "      <td>No</td>\n",
       "      <td>No</td>\n",
       "      <td>0</td>\n",
       "    </tr>\n",
       "    <tr>\n",
       "      <th>1</th>\n",
       "      <td>7.4</td>\n",
       "      <td>25.1</td>\n",
       "      <td>0.0</td>\n",
       "      <td>6.032209</td>\n",
       "      <td>8.890686</td>\n",
       "      <td>WNW</td>\n",
       "      <td>44.0</td>\n",
       "      <td>NNW</td>\n",
       "      <td>WSW</td>\n",
       "      <td>4.0</td>\n",
       "      <td>...</td>\n",
       "      <td>25.0</td>\n",
       "      <td>1010.6</td>\n",
       "      <td>1007.8</td>\n",
       "      <td>3.635105</td>\n",
       "      <td>3.684394</td>\n",
       "      <td>17.2</td>\n",
       "      <td>24.3</td>\n",
       "      <td>No</td>\n",
       "      <td>No</td>\n",
       "      <td>0</td>\n",
       "    </tr>\n",
       "    <tr>\n",
       "      <th>2</th>\n",
       "      <td>12.9</td>\n",
       "      <td>25.7</td>\n",
       "      <td>0.0</td>\n",
       "      <td>6.032209</td>\n",
       "      <td>8.890686</td>\n",
       "      <td>WSW</td>\n",
       "      <td>46.0</td>\n",
       "      <td>W</td>\n",
       "      <td>WSW</td>\n",
       "      <td>19.0</td>\n",
       "      <td>...</td>\n",
       "      <td>30.0</td>\n",
       "      <td>1007.6</td>\n",
       "      <td>1008.7</td>\n",
       "      <td>3.635105</td>\n",
       "      <td>2.000000</td>\n",
       "      <td>21.0</td>\n",
       "      <td>23.2</td>\n",
       "      <td>No</td>\n",
       "      <td>No</td>\n",
       "      <td>0</td>\n",
       "    </tr>\n",
       "    <tr>\n",
       "      <th>3</th>\n",
       "      <td>9.2</td>\n",
       "      <td>28.0</td>\n",
       "      <td>0.0</td>\n",
       "      <td>6.032209</td>\n",
       "      <td>8.890686</td>\n",
       "      <td>NE</td>\n",
       "      <td>24.0</td>\n",
       "      <td>SE</td>\n",
       "      <td>E</td>\n",
       "      <td>11.0</td>\n",
       "      <td>...</td>\n",
       "      <td>16.0</td>\n",
       "      <td>1017.6</td>\n",
       "      <td>1012.8</td>\n",
       "      <td>3.635105</td>\n",
       "      <td>3.684394</td>\n",
       "      <td>18.1</td>\n",
       "      <td>26.5</td>\n",
       "      <td>No</td>\n",
       "      <td>No</td>\n",
       "      <td>0</td>\n",
       "    </tr>\n",
       "    <tr>\n",
       "      <th>4</th>\n",
       "      <td>17.5</td>\n",
       "      <td>32.3</td>\n",
       "      <td>1.0</td>\n",
       "      <td>6.032209</td>\n",
       "      <td>8.890686</td>\n",
       "      <td>W</td>\n",
       "      <td>41.0</td>\n",
       "      <td>ENE</td>\n",
       "      <td>NW</td>\n",
       "      <td>7.0</td>\n",
       "      <td>...</td>\n",
       "      <td>33.0</td>\n",
       "      <td>1010.8</td>\n",
       "      <td>1006.0</td>\n",
       "      <td>7.000000</td>\n",
       "      <td>8.000000</td>\n",
       "      <td>17.8</td>\n",
       "      <td>29.7</td>\n",
       "      <td>No</td>\n",
       "      <td>No</td>\n",
       "      <td>0</td>\n",
       "    </tr>\n",
       "  </tbody>\n",
       "</table>\n",
       "<p>5 rows × 22 columns</p>\n",
       "</div>"
      ],
      "text/plain": [
       "   MinTemp  MaxTemp  Rainfall  Evaporation  Sunshine WindGustDir  \\\n",
       "0     13.4     22.9       0.6     6.032209  8.890686           W   \n",
       "1      7.4     25.1       0.0     6.032209  8.890686         WNW   \n",
       "2     12.9     25.7       0.0     6.032209  8.890686         WSW   \n",
       "3      9.2     28.0       0.0     6.032209  8.890686          NE   \n",
       "4     17.5     32.3       1.0     6.032209  8.890686           W   \n",
       "\n",
       "   WindGustSpeed WindDir9am WindDir3pm  WindSpeed9am  ...  Humidity3pm  \\\n",
       "0           44.0          W        WNW          20.0  ...         22.0   \n",
       "1           44.0        NNW        WSW           4.0  ...         25.0   \n",
       "2           46.0          W        WSW          19.0  ...         30.0   \n",
       "3           24.0         SE          E          11.0  ...         16.0   \n",
       "4           41.0        ENE         NW           7.0  ...         33.0   \n",
       "\n",
       "   Pressure9am  Pressure3pm  Cloud9am  Cloud3pm  Temp9am  Temp3pm  RainToday  \\\n",
       "0       1007.7       1007.1  8.000000  3.684394     16.9     21.8         No   \n",
       "1       1010.6       1007.8  3.635105  3.684394     17.2     24.3         No   \n",
       "2       1007.6       1008.7  3.635105  2.000000     21.0     23.2         No   \n",
       "3       1017.6       1012.8  3.635105  3.684394     18.1     26.5         No   \n",
       "4       1010.8       1006.0  7.000000  8.000000     17.8     29.7         No   \n",
       "\n",
       "   RainTomorrow IsRainToday  \n",
       "0            No           0  \n",
       "1            No           0  \n",
       "2            No           0  \n",
       "3            No           0  \n",
       "4            No           0  \n",
       "\n",
       "[5 rows x 22 columns]"
      ]
     },
     "execution_count": 12,
     "metadata": {},
     "output_type": "execute_result"
    }
   ],
   "source": [
    "# Printing the values to check if the data looks good\n",
    "\n",
    "df_model.head()"
   ]
  },
  {
   "cell_type": "markdown",
   "id": "1fbca128",
   "metadata": {},
   "source": [
    "### One-hot encoding"
   ]
  },
  {
   "cell_type": "markdown",
   "id": "f25c7712",
   "metadata": {},
   "source": [
    "Before we create our models, we need to format our attributes. We are converting `RainToday` and `RainTomorrow` into numeric variables to `0` and `1`. We also decided to go ahead with one-hot-encoding `WindGustDir`, `WindDir9am`, and `WindDir3pm` attributes based on the direction of the wind. "
   ]
  },
  {
   "cell_type": "code",
   "execution_count": 13,
   "id": "7c1800d0",
   "metadata": {},
   "outputs": [],
   "source": [
    "# perform one-hot encoding using dummies\n",
    "\n",
    "gust_df = pd.get_dummies(df_model.WindGustDir,prefix='GustDir', drop_first= True)\n",
    "wind3pm_df = pd.get_dummies(df_model.WindDir3pm,prefix='Wind3pm', drop_first= True)\n",
    "wind9am_df = pd.get_dummies(df_model.WindDir9am,prefix='Wind9am' , drop_first= True)\n",
    "df_model = pd.concat((df_model,gust_df, wind3pm_df, wind9am_df),axis=1) # add back into the dataframe\n"
   ]
  },
  {
   "cell_type": "markdown",
   "id": "fd8c39f8",
   "metadata": {},
   "source": [
    "We decided to do one-hot-encoding using dummies function as machine learning algorithms and models requires numerical values for both input and output attributes."
   ]
  },
  {
   "cell_type": "markdown",
   "id": "54222d48",
   "metadata": {},
   "source": [
    "Since the dummies function creates a variable for each unique value, we are dropping the first variable to avoid multicollinearity among the variables as the value for the last variable can be interpreted from the values for other variables created as part of one-hot encoding.\n",
    "\n"
   ]
  },
  {
   "cell_type": "code",
   "execution_count": 14,
   "id": "a1ffb0a9",
   "metadata": {},
   "outputs": [],
   "source": [
    "# Drop categorical columns\n",
    "\n",
    "df_model = df_model.drop(['WindDir3pm', 'WindDir9am', 'WindGustDir', 'RainToday'], axis = 1)"
   ]
  },
  {
   "cell_type": "markdown",
   "id": "a34b5c09",
   "metadata": {},
   "source": [
    "After conversions, we are removing these categorical attributes to avoid duplicates as we have those data in numerical format. We are added the newly formatted attributes and rest of the continuous attributes into a new dataframe - df_model. We will use the new dataframe for modeling.\n",
    "\n",
    "Reference: https://machinelearningmastery.com/why-one-hot-encode-data-in-machine-learning/"
   ]
  },
  {
   "cell_type": "code",
   "execution_count": 15,
   "id": "de0fb1b8",
   "metadata": {},
   "outputs": [
    {
     "name": "stdout",
     "output_type": "stream",
     "text": [
      "Are there 1's and 0's in the RainToday column? True\n"
     ]
    }
   ],
   "source": [
    "#Check if Yes is replaced as 1\n",
    "\n",
    "print(\"Are there 1's and 0's in the RainToday column?\", \n",
    "      (df_model['IsRainToday'].sum() > 0) and (df_model['IsRainToday'].sum() < len(df_model['IsRainToday'])))\n",
    "\n",
    "#Non zero output means there is a mixture of 1's and 0's\n"
   ]
  },
  {
   "cell_type": "markdown",
   "id": "2433c629",
   "metadata": {},
   "source": [
    "Checking if the data imputation happened accurately."
   ]
  },
  {
   "cell_type": "code",
   "execution_count": 16,
   "id": "dd1e359e",
   "metadata": {},
   "outputs": [
    {
     "name": "stdout",
     "output_type": "stream",
     "text": [
      "Numeric Variables: Index(['MinTemp', 'MaxTemp', 'Rainfall', 'Evaporation', 'Sunshine',\n",
      "       'WindGustSpeed', 'WindSpeed9am', 'WindSpeed3pm', 'Humidity9am',\n",
      "       'Humidity3pm', 'Pressure9am', 'Pressure3pm', 'Cloud9am', 'Cloud3pm',\n",
      "       'Temp9am', 'Temp3pm', 'IsRainToday', 'GustDir_ENE', 'GustDir_ESE',\n",
      "       'GustDir_N', 'GustDir_NE', 'GustDir_NNE', 'GustDir_NNW', 'GustDir_NW',\n",
      "       'GustDir_S', 'GustDir_SE', 'GustDir_SSE', 'GustDir_SSW', 'GustDir_SW',\n",
      "       'GustDir_W', 'GustDir_WNW', 'GustDir_WSW', 'Wind3pm_ENE', 'Wind3pm_ESE',\n",
      "       'Wind3pm_N', 'Wind3pm_NE', 'Wind3pm_NNE', 'Wind3pm_NNW', 'Wind3pm_NW',\n",
      "       'Wind3pm_S', 'Wind3pm_SE', 'Wind3pm_SSE', 'Wind3pm_SSW', 'Wind3pm_SW',\n",
      "       'Wind3pm_W', 'Wind3pm_WNW', 'Wind3pm_WSW', 'Wind9am_ENE', 'Wind9am_ESE',\n",
      "       'Wind9am_N', 'Wind9am_NE', 'Wind9am_NNE', 'Wind9am_NNW', 'Wind9am_NW',\n",
      "       'Wind9am_S', 'Wind9am_SE', 'Wind9am_SSE', 'Wind9am_SSW', 'Wind9am_SW',\n",
      "       'Wind9am_W', 'Wind9am_WNW', 'Wind9am_WSW'],\n",
      "      dtype='object')\n",
      "Categorical Variables: Index(['RainTomorrow'], dtype='object')\n"
     ]
    }
   ],
   "source": [
    "df_model_num = df_model.columns[df_model.dtypes != 'object' ]\n",
    "df_model_cat=df_model.columns[df_model.dtypes == 'object']\n",
    "print(\"Numeric Variables:\", df_model_num)\n",
    "print(\"Categorical Variables:\", df_model_cat)"
   ]
  },
  {
   "cell_type": "markdown",
   "id": "f03081b6",
   "metadata": {},
   "source": [
    "Check if all the numerical variables are accurately created and if we still have any non-numeric data."
   ]
  },
  {
   "cell_type": "markdown",
   "id": "0d694e12",
   "metadata": {},
   "source": [
    "Assigning the `RainTomorrow` as our response variable (y) and all other variables include one-hot-encoded values as X."
   ]
  },
  {
   "cell_type": "code",
   "execution_count": 17,
   "id": "79c7f8ab",
   "metadata": {
    "scrolled": true
   },
   "outputs": [
    {
     "name": "stdout",
     "output_type": "stream",
     "text": [
      "features shape: (140787, 62)\n",
      "target shape: (140787,)\n"
     ]
    }
   ],
   "source": [
    "X=df_model[df_model_num]\n",
    "y = df_model.RainTomorrow\n",
    "print('features shape:', X.shape) \n",
    "print('target shape:', y.shape )"
   ]
  },
  {
   "cell_type": "markdown",
   "id": "e41d2ea6",
   "metadata": {},
   "source": [
    "#### Scaling"
   ]
  },
  {
   "cell_type": "markdown",
   "id": "5496a797",
   "metadata": {},
   "source": [
    "We will be using scaled data for our models. We have used the scaling feature as part of our customed function for running our classifications and regression models. We will discuss more in details in the modeling sections."
   ]
  },
  {
   "cell_type": "markdown",
   "id": "a6400b7f",
   "metadata": {},
   "source": [
    "#### New Feature"
   ]
  },
  {
   "cell_type": "markdown",
   "id": "ff373d23",
   "metadata": {},
   "source": [
    "We are adding a new classification feature called `RainfallAmount` which has four values - `None` (0), `Low`(1), `Moderate`(2) and `High`(3). We are creating this feature from `Rainfall` feature from our dataframe. The data is numerical due to the requirement of the execution of the classification models."
   ]
  },
  {
   "cell_type": "code",
   "execution_count": 18,
   "id": "7dbc3107",
   "metadata": {},
   "outputs": [],
   "source": [
    "# New Feature - RainfallAmount\n",
    "\n",
    "def rain_classifier(row):\n",
    "    if row[\"Rainfall\"] > 30:\n",
    "        return 3\n",
    "    elif row[\"Rainfall\"] > 10 and row[\"Rainfall\"] < 30:\n",
    "        return 2\n",
    "    elif row[\"Rainfall\"] > 1 and row[\"Rainfall\"] < 10:\n",
    "        return 1\n",
    "    else:\n",
    "        return 0\n",
    "\n",
    "df_model[\"RainfallAmount\"] = df_impute.apply(rain_classifier, axis=1)\n",
    "\n"
   ]
  },
  {
   "cell_type": "markdown",
   "id": "852c1b04",
   "metadata": {},
   "source": [
    "### Data Distribution\n",
    "\n",
    "Check if the data distribution is balanced or not for the response variable `RainTomorrow`."
   ]
  },
  {
   "cell_type": "code",
   "execution_count": 20,
   "id": "1c32a4b7",
   "metadata": {},
   "outputs": [
    {
     "data": {
      "image/png": "[encoded data removed]",
      "text/plain": [
       "<Figure size 576x360 with 1 Axes>"
      ]
     },
     "metadata": {
      "needs_background": "light"
     },
     "output_type": "display_data"
    },
    {
     "data": {
      "image/png": "[encoded data removed]",
      "text/plain": [
       "<Figure size 576x360 with 1 Axes>"
      ]
     },
     "metadata": {
      "needs_background": "light"
     },
     "output_type": "display_data"
    }
   ],
   "source": [
    "       \n",
    "\n",
    "fig = plt.figure(figsize = (8,5))\n",
    "axes = fig.subplots(nrows=1, ncols=2)\n",
    "\n",
    "df_model['RainTomorrow'].value_counts(normalize = True).plot(kind='bar', color= ['skyblue','navy'], alpha = 0.9, rot=0)\n",
    "plt.title('RainTomorrow Indicator No(0) and Yes(1) in the Imbalanced Dataset')\n",
    "plt.show()\n",
    "\n",
    "fig = plt.figure(figsize = (8,5))\n",
    "df_model['RainfallAmount'].value_counts(normalize = True).plot(kind='bar', color= ['skyblue','navy', \"lightblue\", \"blue\"], alpha = 0.9, rot=0)\n",
    "plt.title('RainfallAmount Indicator None(0), Low(1), Medium(2) and High(3) in the Imbalanced Dataset')\n",
    "plt.show()"
   ]
  },
  {
   "cell_type": "markdown",
   "id": "f63833e9",
   "metadata": {},
   "source": [
    "As expected, we see the data for `RainTomorrow` is imbalanced. Majority of the data is for `No` rain vs. `Yes` for `RainTomorrow`.\n",
    "\n",
    "We can observe that the presence of `0` and `1` is almost in the `78:22` ratio. We will be cognizant of the fact that our model may be not very effective if we don't solve for imbalance. We will discuss and adjust for this imbalance in our analysis."
   ]
  },
  {
   "cell_type": "markdown",
   "id": "e6792e23",
   "metadata": {},
   "source": [
    "## Data Preparation Part 2"
   ]
  },
  {
   "cell_type": "code",
   "execution_count": 23,
   "id": "74a8c49c",
   "metadata": {},
   "outputs": [],
   "source": [
    "df_model_copy = df_model.copy()"
   ]
  },
  {
   "cell_type": "code",
   "execution_count": 24,
   "id": "bcb86631",
   "metadata": {},
   "outputs": [
    {
     "name": "stdout",
     "output_type": "stream",
     "text": [
      "<class 'pandas.core.frame.DataFrame'>\n",
      "RangeIndex: 140787 entries, 0 to 140786\n",
      "Data columns (total 64 columns):\n",
      " #   Column          Non-Null Count   Dtype  \n",
      "---  ------          --------------   -----  \n",
      " 0   MinTemp         140787 non-null  float64\n",
      " 1   MaxTemp         140787 non-null  float64\n",
      " 2   Rainfall        140787 non-null  float64\n",
      " 3   Evaporation     140787 non-null  float64\n",
      " 4   Sunshine        140787 non-null  float64\n",
      " 5   WindGustSpeed   140787 non-null  float64\n",
      " 6   WindSpeed9am    140787 non-null  float64\n",
      " 7   WindSpeed3pm    140787 non-null  float64\n",
      " 8   Humidity9am     140787 non-null  float64\n",
      " 9   Humidity3pm     140787 non-null  float64\n",
      " 10  Pressure9am     140787 non-null  float64\n",
      " 11  Pressure3pm     140787 non-null  float64\n",
      " 12  Cloud9am        140787 non-null  float64\n",
      " 13  Cloud3pm        140787 non-null  float64\n",
      " 14  Temp9am         140787 non-null  float64\n",
      " 15  Temp3pm         140787 non-null  float64\n",
      " 16  RainTomorrow    140787 non-null  object \n",
      " 17  IsRainToday     140787 non-null  int64  \n",
      " 18  GustDir_ENE     140787 non-null  uint8  \n",
      " 19  GustDir_ESE     140787 non-null  uint8  \n",
      " 20  GustDir_N       140787 non-null  uint8  \n",
      " 21  GustDir_NE      140787 non-null  uint8  \n",
      " 22  GustDir_NNE     140787 non-null  uint8  \n",
      " 23  GustDir_NNW     140787 non-null  uint8  \n",
      " 24  GustDir_NW      140787 non-null  uint8  \n",
      " 25  GustDir_S       140787 non-null  uint8  \n",
      " 26  GustDir_SE      140787 non-null  uint8  \n",
      " 27  GustDir_SSE     140787 non-null  uint8  \n",
      " 28  GustDir_SSW     140787 non-null  uint8  \n",
      " 29  GustDir_SW      140787 non-null  uint8  \n",
      " 30  GustDir_W       140787 non-null  uint8  \n",
      " 31  GustDir_WNW     140787 non-null  uint8  \n",
      " 32  GustDir_WSW     140787 non-null  uint8  \n",
      " 33  Wind3pm_ENE     140787 non-null  uint8  \n",
      " 34  Wind3pm_ESE     140787 non-null  uint8  \n",
      " 35  Wind3pm_N       140787 non-null  uint8  \n",
      " 36  Wind3pm_NE      140787 non-null  uint8  \n",
      " 37  Wind3pm_NNE     140787 non-null  uint8  \n",
      " 38  Wind3pm_NNW     140787 non-null  uint8  \n",
      " 39  Wind3pm_NW      140787 non-null  uint8  \n",
      " 40  Wind3pm_S       140787 non-null  uint8  \n",
      " 41  Wind3pm_SE      140787 non-null  uint8  \n",
      " 42  Wind3pm_SSE     140787 non-null  uint8  \n",
      " 43  Wind3pm_SSW     140787 non-null  uint8  \n",
      " 44  Wind3pm_SW      140787 non-null  uint8  \n",
      " 45  Wind3pm_W       140787 non-null  uint8  \n",
      " 46  Wind3pm_WNW     140787 non-null  uint8  \n",
      " 47  Wind3pm_WSW     140787 non-null  uint8  \n",
      " 48  Wind9am_ENE     140787 non-null  uint8  \n",
      " 49  Wind9am_ESE     140787 non-null  uint8  \n",
      " 50  Wind9am_N       140787 non-null  uint8  \n",
      " 51  Wind9am_NE      140787 non-null  uint8  \n",
      " 52  Wind9am_NNE     140787 non-null  uint8  \n",
      " 53  Wind9am_NNW     140787 non-null  uint8  \n",
      " 54  Wind9am_NW      140787 non-null  uint8  \n",
      " 55  Wind9am_S       140787 non-null  uint8  \n",
      " 56  Wind9am_SE      140787 non-null  uint8  \n",
      " 57  Wind9am_SSE     140787 non-null  uint8  \n",
      " 58  Wind9am_SSW     140787 non-null  uint8  \n",
      " 59  Wind9am_SW      140787 non-null  uint8  \n",
      " 60  Wind9am_W       140787 non-null  uint8  \n",
      " 61  Wind9am_WNW     140787 non-null  uint8  \n",
      " 62  Wind9am_WSW     140787 non-null  uint8  \n",
      " 63  RainfallAmount  140787 non-null  int64  \n",
      "dtypes: float64(16), int64(2), object(1), uint8(45)\n",
      "memory usage: 26.5+ MB\n"
     ]
    }
   ],
   "source": [
    "df_model.info()"
   ]
  },
  {
   "cell_type": "markdown",
   "id": "27925d9b",
   "metadata": {},
   "source": [
    "The above dataframe has float64, object, int64, and uint8 data formats. Float64, int64, and uint8 are all numerical data type. Object is a string data type. "
   ]
  },
  {
   "cell_type": "markdown",
   "id": "369c3f3d",
   "metadata": {},
   "source": [
    "#### Response Variables"
   ]
  },
  {
   "cell_type": "markdown",
   "id": "2b660ad6",
   "metadata": {},
   "source": [
    "We have three response features in our current dataframe. They are `RainTomorrow`, `Rainfall`, and `RainfallAmount`. `RainTomorrow` and `RainfallAmount` are for our classification models. `Rainfall` is used for continuous regression models. Our primary focus is on `RainTomorrow` and `RainfallAmount` as the prediction for `Rainfall` is not very accurate. We will present the accuracy of this feature in later section. "
   ]
  },
  {
   "cell_type": "code",
   "execution_count": null,
   "id": "61701aa4",
   "metadata": {},
   "outputs": [],
   "source": [
    "df_model.describe().transpose()"
   ]
  },
  {
   "cell_type": "markdown",
   "id": "419e256d",
   "metadata": {},
   "source": [
    "We ran summary statistics on the final model dataset. We can see the various satistical summary of the features. We see some large variations in the dataset like Evaportaion ranges from 0 to 145, Rainfall varies from 0 mm to 371 mm. Which are huge variation but as determined during `EDA` (Lab 1) those are not outliers and for our analysis we will consider then as valid observations."
   ]
  },
  {
   "cell_type": "markdown",
   "id": "96e8a5d4",
   "metadata": {},
   "source": [
    "### Regression Models\n",
    "\n",
    "In this section we create Regression Models for continous response variable - `Rainfall`.\n",
    "\n",
    "In our dataset, `Rainfall` is the continous response variable that measures the Rainfall in mm on the day of the observation which is referenced as `Today` in our dataset. We are going to create regression models for this feature and predict the values.\n",
    "\n",
    "We are creating the following continuous regression models: \n",
    "\n",
    "`Linear Regression`: this regression is ordinary least squares linear regression. It fits a linear model with coefficients w = (w1, …, wp) to minimize the residual sum of squares between the observed targets in the dataset, and the targets predicted by the linear approximation.\n",
    "\n",
    "`LASSO`: LASSO (least absolute shrinkage and selection operator) uses a penalized least squares approach that squeezes the regression coefficients to 0 when the penalty is large.  The algorithm starts with a large penalty and gradually relaxes the penalty to allow for a single variable to be added into the model (the coefficient is no longer 0).  \n",
    "\n",
    "`RFE` (Recursive Feature Elimination): this regression features ranking with recursive feature elimination. The goal of recursive feature elimination (RFE) is to select features by recursively considering smaller and smaller sets of features. First, the estimator is trained on the initial set of features and the importance of each feature is obtained either through any specific attribute or callable. Then, the least important features are pruned from current set of features. That procedure is recursively repeated on the pruned set until the desired number of features to select is eventually reached.\n",
    "\n",
    "References:\n",
    "https://scikit-learn.org/stable/modules/generated/sklearn.linear_model.LinearRegression.html\n",
    "\n",
    "https://scikit-learn.org/stable/modules/generated/sklearn.linear_model.Lasso.html\n",
    "\n",
    "https://scikit-learn.org/stable/modules/generated/sklearn.feature_selection.RFE.html"
   ]
  },
  {
   "cell_type": "code",
   "execution_count": null,
   "id": "530e8879",
   "metadata": {},
   "outputs": [],
   "source": [
    "model_continous_stats"
   ]
  },
  {
   "cell_type": "markdown",
   "id": "fdbb63c8",
   "metadata": {},
   "source": [
    "## Modeling And Evaluation 1"
   ]
  },
  {
   "cell_type": "markdown",
   "id": "f2b4de25",
   "metadata": {},
   "source": [
    "For our model performance measurement, we will use precision and accuracy. We are using those because we found the accuracies are very close across all the models. So we want to select on more performance metric for model evaluation. \n",
    "\n",
    "\n",
    "`Accuracy` — is a ratio of correctly predicted observation to the total observations. It is a very important aspect to define the success of a model but just the measurement on its own can be deceiving if the observations are not equal for each class. In such cases we might be predicting accurately for one particular class with large observation and may not do very well for other classes.\n",
    "\n",
    "`Precision` — is the ratio of correctly predicted positive observations to the total predicted positive observations. Precision = TP/TP+FP  \n",
    "\n",
    "`Weighted Average` — can be calculated on various output variables of the classification report like Precision, Recall, f1-score. As the name suggests it gives the weighted average of the parameter based on the number of observations or values for each class.\n",
    "\n",
    "`Macro Average` — similar to weighted average, macro average can also be calculated on various output variables of the classification report like Precision, Recall, f1-score. However, the similarity ends here as unlike weighted average, we don't use weights based on the number of observations, rather equal weights are given to each class to calcualte the value. This tells us if the Precision is as good if the dataset was balanced.\n",
    "\n",
    "References:\n",
    "https://blog.exsilio.com/all/accuracy-precision-recall-f1-score-interpretation-of-performance-measures/\n",
    "https://datascience.stackexchange.com/questions/65839/macro-average-and-weighted-average-meaning-in-classification-report"
   ]
  },
  {
   "cell_type": "markdown",
   "id": "6637fa9a",
   "metadata": {},
   "source": [
    "## Modeling And Evaluation 2"
   ]
  },
  {
   "attachments": {
    "stratified.png": {
     "image/png": "[encoded data removed]"
    }
   },
   "cell_type": "markdown",
   "id": "c95a9b85",
   "metadata": {},
   "source": [
    "As per MiniLab,  we are going to use `Stratified` because our response feature (`RainTomorrow` and `RainfallAmount`) data is disproportionaly distributed. \n",
    "\n",
    "For `RainTomorrow`, response - `No` is very high compare to response - `Yes`. \n",
    "\n",
    "For `RainfallAmount`, the response - `None` is very high compare to `Low`, `Moderate`, and `High`.  \n",
    "\n",
    "To rectify this issue, we are going to use `StratifiedSplit` for cross validation. Then we are going to use `10-fold` cross validation to improve our model accuracies. We have compare the performances between shuffle and stratified cross validated models in our MiniLab project. A snippet from MiniLab for reference below:\n",
    "\n",
    "![stratified.png](attachment:stratified.png)"
   ]
  },
  {
   "cell_type": "markdown",
   "id": "9c48a3ca",
   "metadata": {},
   "source": [
    "### Macro Avg vs Weight Avg Precision comparisons\n",
    "__*As discussed in MiniLab*__ we did our analysis by plotting the difference between the `Macro Avg` precision and `Weighted Avg` precision for all the models. \n",
    "\n",
    "  `DiffMacro/WeightedNone` — takes the `Macro Average` and `Weighted Average` of `Precision` from the classification matrix and calculates the difference. The reason to calculate the difference is to check how much variation is in the `Precision` values based on how the data is split. \n",
    "  \n",
    "  `DiffMacro/WeightedBalanced` — same as above this variable calculates the difference between Macro and Weighted Average of Precision of a `balanced` data.\n",
    "  \n",
    "The smaller the difference between `Weight Avg` and `Macro Avg`, the model is closer to real world and also consistent.  \n",
    "\n",
    "Also, plotted the models classified into `Shuffle` and `Stratified` against `DiffMacro/WeightedNone` of precision (difference between Macro and Weighted Average of Precision of non-balanced data).\n",
    "From the above plot, we notice that the difference between Macro Average of Precision and Weighted Average of Precision varies as below:\n",
    "\n",
    "Balanced Data - `0.091` to `0.097`\n",
    "\n",
    "Non-Balanced Data - `0.037` to `0.042`\n",
    "\n",
    "There are two major takeaways from the above plots. \n",
    "\n",
    "1. The `StratifiedKFolds` data sees lower variation compared to `ShuffleSplit`.\n",
    "\n",
    "2. Its evident that the difference between Macro Average of Precision and Weighted Average of Precision varies a lot more for `balanced` data compared to `non-balanced` data. \n",
    "\n",
    "Since, lower variation is desired to get more stable and consistent model. We decide to go ahead with `Stratified` and non-balanced data. In our model we have hypertuned `shuffle` as `True` for `StratifiedKFolds` as well. Also, we know `StratifiedKFolds` works well with non-balanced data.\n",
    "\n",
    "__With above points in mind, we will continue with `Stratified` and `non-balanced` data models.__"
   ]
  },
  {
   "cell_type": "markdown",
   "id": "599205c7",
   "metadata": {},
   "source": [
    "## Modeling And Evaluation 3"
   ]
  },
  {
   "cell_type": "markdown",
   "id": "f0ac5d1e",
   "metadata": {},
   "source": [
    "The following models are the continuous regression and classification models:"
   ]
  },
  {
   "cell_type": "code",
   "execution_count": 21,
   "id": "04a471df",
   "metadata": {},
   "outputs": [],
   "source": [
    "from sklearn.model_selection import StratifiedKFold\n",
    "from sklearn.linear_model import LinearRegression, Lasso\n",
    "from timeit import default_timer as timer\n",
    "from sklearn import linear_model\n",
    "from sklearn.feature_selection import RFE\n",
    "from sklearn.svm import SVR\n",
    "from sklearn.svm import LinearSVR\n",
    "from sklearn.model_selection import cross_val_score, cross_validate\n",
    "\n",
    "model_stats_rainfall = {}\n",
    "\n",
    "def create_models_continous(df, iterations):\n",
    "\n",
    "    X = None\n",
    "    y = None\n",
    "    if \"Rainfall\" in df:\n",
    "        y = df[\"Rainfall\"].values # get the labels we want\n",
    "        del df[\"Rainfall\"] # get rid of the class label\n",
    "        X = df.values # use everything else to predict!\n",
    "    else:\n",
    "        return\n",
    "\n",
    "    random_state = 123\n",
    "    njobs = -1\n",
    "    \n",
    "    #models = [\"LinearRegression\", \"Lasso\", \"RFE\"]\n",
    "    models = [\"LinearRegression\", \"Lasso\"]\n",
    "   \n",
    "\n",
    "    for model in models:\n",
    "        start_time = timer()\n",
    "        clf = None\n",
    "        if model == \"LinearRegression\":\n",
    "            clf = LinearRegression(n_jobs=njobs)\n",
    "        elif model == \"Lasso\":\n",
    "            clf = Lasso(alpha=0.1)\n",
    "        elif model == \"RFE\":    \n",
    "            estimator = LinearSVR(random_state=0, tol=1e-5)\n",
    "            clf = RFE(estimator, n_features_to_select=8, step=1)\n",
    "    \n",
    "        cv_ret = cross_validate(clf, X, y, cv=10, scoring=\"neg_root_mean_squared_error\", n_jobs=-1 , return_estimator=True)\n",
    "        end_time = timer()\n",
    "        elapsed_time = end_time - start_time\n",
    "        print(clf.__class__.__name__,\" rmse are\\n\", cv_ret['test_score'], '\\ntook ', elapsed_time, \"seconds.\\n\")\n",
    "        \n",
    "        model_stats_rainfall[clf.__class__.__name__] = [cv_ret, elapsed_time]\n",
    "         "
   ]
  },
  {
   "cell_type": "code",
   "execution_count": 25,
   "id": "cbf5185c",
   "metadata": {},
   "outputs": [
    {
     "name": "stdout",
     "output_type": "stream",
     "text": [
      "LinearRegression  rmse are [-5.91315294 -4.6592452  -4.74319436 -3.69744278 -2.40511072 -4.65634477\n",
      " -7.32706082 -2.50275761 -2.73841104 -5.58994876] , and took  5.731212728889659 seconds.\n",
      "Lasso  rmse are [-6.04941031 -4.71768142 -4.88667437 -3.71655702 -2.31250964 -4.74256988\n",
      " -7.64102521 -2.31261675 -2.49135971 -5.72246082] , and took  6.295596441952512 seconds.\n"
     ]
    }
   ],
   "source": [
    "from sklearn.model_selection import StratifiedKFold\n",
    "\n",
    "\n",
    "df_model = df_model_copy.copy()\n",
    "del df_model[\"RainTomorrow\"]\n",
    "\n",
    "cv = StratifiedKFold(n_splits=10,shuffle=True, random_state=123)\n",
    "create_models_continous(df=df_model, iterations=cv)\n",
    "\n"
   ]
  },
  {
   "cell_type": "markdown",
   "id": "1702e1b0",
   "metadata": {},
   "source": [
    "### Classification Models\n",
    "\n",
    "In this, we create classification models for two response variables:\n",
    "\n",
    "   1. `RainTomorrow`, that has binary classification (`Yes` = `1`, `No` = `0`).\n",
    "    \n",
    "   2. `RainfallAmount`, this is multiclass, has variables `None` (`0`), `Low` (`1`), `Moderate` (`2`), and `High` (`3`).\n",
    "\n",
    "First, we are running models for `RainTomorrow`. "
   ]
  },
  {
   "cell_type": "code",
   "execution_count": 71,
   "id": "2fdbf246",
   "metadata": {},
   "outputs": [],
   "source": [
    "from sklearn.model_selection import StratifiedKFold\n",
    "from sklearn.linear_model import LinearRegression, Lasso\n",
    "from timeit import default_timer as timer\n",
    "from sklearn import linear_model\n",
    "from sklearn.feature_selection import RFE\n",
    "from sklearn.svm import SVR\n",
    "from sklearn.svm import LinearSVR\n",
    "from sklearn.model_selection import cross_val_score, cross_validate\n",
    "\n",
    "\n",
    "def create_models_classification(model, df, response_feature,iterations):\n",
    "    start_time = timer()\n",
    "    X = None\n",
    "    y = None\n",
    "    if response_feature in df:\n",
    "        y = df[response_feature].values # get the labels we want\n",
    "        del df[response_feature] # get rid of the class label\n",
    "        X = df.values # use everything else to predict!\n",
    "    else:\n",
    "        return\n",
    "\n",
    "    random_state = 123\n",
    "    njobs = -1\n",
    "    scoring_metric = {'acc': 'accuracy',\n",
    "           'prec_macro': 'precision_macro',\n",
    "           'rec_micro': 'recall_macro'}\n",
    "    \n",
    "    cv = StratifiedKFold(n_splits=iterations,shuffle=True, random_state=random_state)\n",
    "    \n",
    "    cv_ret = cross_validate(model, X, y, cv=iterations, n_jobs=4, scoring=scoring_metric, return_estimator=True)\n",
    "    end_time = timer()\n",
    "    elapsed_time = end_time - start_time\n",
    "    \n",
    "    \n",
    "    print(model.__class__.__name__,\" accuracies are\\n\", cv_ret['test_score'], '\\ntook ', elapsed_time, \"seconds.\")\n",
    "    \n",
    "    return [cv_ret, elapsed_time]"
   ]
  },
  {
   "cell_type": "markdown",
   "id": "0539f0c7",
   "metadata": {},
   "source": [
    "### KNN find the best K"
   ]
  },
  {
   "cell_type": "code",
   "execution_count": 28,
   "id": "0c88b42a",
   "metadata": {},
   "outputs": [],
   "source": [
    "# For KNN: \n",
    "df_model[\"RainTomorrow\"] = df_impute[\"RainTomorrow\"]\n",
    "df_model[\"RainTomorrow\"] = df_model[\"RainTomorrow\"].map(dict(Yes=1, No=0))\n",
    "y= df_model[\"RainTomorrow\"].values\n",
    "del df_model[\"RainTomorrow\"]\n",
    "X = df_model.values\n"
   ]
  },
  {
   "cell_type": "code",
   "execution_count": 30,
   "id": "1fe701fe",
   "metadata": {},
   "outputs": [
    {
     "ename": "KeyboardInterrupt",
     "evalue": "",
     "output_type": "error",
     "traceback": [
      "\u001b[0;31m---------------------------------------------------------------------------\u001b[0m",
      "\u001b[0;31mKeyboardInterrupt\u001b[0m                         Traceback (most recent call last)",
      "\u001b[0;32m<ipython-input-30-ae41f73bc516>\u001b[0m in \u001b[0;36m<module>\u001b[0;34m\u001b[0m\n\u001b[1;32m     24\u001b[0m     \u001b[0;31m# Compute traning and test data accuracy\u001b[0m\u001b[0;34m\u001b[0m\u001b[0;34m\u001b[0m\u001b[0;34m\u001b[0m\u001b[0m\n\u001b[1;32m     25\u001b[0m     \u001b[0mtrain_accuracy\u001b[0m\u001b[0;34m[\u001b[0m\u001b[0mi\u001b[0m\u001b[0;34m]\u001b[0m \u001b[0;34m=\u001b[0m \u001b[0mknn\u001b[0m\u001b[0;34m.\u001b[0m\u001b[0mscore\u001b[0m\u001b[0;34m(\u001b[0m\u001b[0mX_train\u001b[0m\u001b[0;34m,\u001b[0m \u001b[0my_train\u001b[0m\u001b[0;34m)\u001b[0m\u001b[0;34m\u001b[0m\u001b[0;34m\u001b[0m\u001b[0m\n\u001b[0;32m---> 26\u001b[0;31m     \u001b[0mtest_accuracy\u001b[0m\u001b[0;34m[\u001b[0m\u001b[0mi\u001b[0m\u001b[0;34m]\u001b[0m \u001b[0;34m=\u001b[0m \u001b[0mknn\u001b[0m\u001b[0;34m.\u001b[0m\u001b[0mscore\u001b[0m\u001b[0;34m(\u001b[0m\u001b[0mX_test\u001b[0m\u001b[0;34m,\u001b[0m \u001b[0my_test\u001b[0m\u001b[0;34m)\u001b[0m\u001b[0;34m\u001b[0m\u001b[0;34m\u001b[0m\u001b[0m\n\u001b[0m\u001b[1;32m     27\u001b[0m \u001b[0;34m\u001b[0m\u001b[0m\n\u001b[1;32m     28\u001b[0m \u001b[0;31m# Generate plot\u001b[0m\u001b[0;34m\u001b[0m\u001b[0;34m\u001b[0m\u001b[0;34m\u001b[0m\u001b[0m\n",
      "\u001b[0;32m~/anaconda3/lib/python3.6/site-packages/sklearn/base.py\u001b[0m in \u001b[0;36mscore\u001b[0;34m(self, X, y, sample_weight)\u001b[0m\n\u001b[1;32m    498\u001b[0m         \"\"\"\n\u001b[1;32m    499\u001b[0m         \u001b[0;32mfrom\u001b[0m \u001b[0;34m.\u001b[0m\u001b[0mmetrics\u001b[0m \u001b[0;32mimport\u001b[0m \u001b[0maccuracy_score\u001b[0m\u001b[0;34m\u001b[0m\u001b[0;34m\u001b[0m\u001b[0m\n\u001b[0;32m--> 500\u001b[0;31m         \u001b[0;32mreturn\u001b[0m \u001b[0maccuracy_score\u001b[0m\u001b[0;34m(\u001b[0m\u001b[0my\u001b[0m\u001b[0;34m,\u001b[0m \u001b[0mself\u001b[0m\u001b[0;34m.\u001b[0m\u001b[0mpredict\u001b[0m\u001b[0;34m(\u001b[0m\u001b[0mX\u001b[0m\u001b[0;34m)\u001b[0m\u001b[0;34m,\u001b[0m \u001b[0msample_weight\u001b[0m\u001b[0;34m=\u001b[0m\u001b[0msample_weight\u001b[0m\u001b[0;34m)\u001b[0m\u001b[0;34m\u001b[0m\u001b[0;34m\u001b[0m\u001b[0m\n\u001b[0m\u001b[1;32m    501\u001b[0m \u001b[0;34m\u001b[0m\u001b[0m\n\u001b[1;32m    502\u001b[0m     \u001b[0;32mdef\u001b[0m \u001b[0m_more_tags\u001b[0m\u001b[0;34m(\u001b[0m\u001b[0mself\u001b[0m\u001b[0;34m)\u001b[0m\u001b[0;34m:\u001b[0m\u001b[0;34m\u001b[0m\u001b[0;34m\u001b[0m\u001b[0m\n",
      "\u001b[0;32m~/anaconda3/lib/python3.6/site-packages/sklearn/neighbors/_classification.py\u001b[0m in \u001b[0;36mpredict\u001b[0;34m(self, X)\u001b[0m\n\u001b[1;32m    195\u001b[0m         \u001b[0mX\u001b[0m \u001b[0;34m=\u001b[0m \u001b[0mcheck_array\u001b[0m\u001b[0;34m(\u001b[0m\u001b[0mX\u001b[0m\u001b[0;34m,\u001b[0m \u001b[0maccept_sparse\u001b[0m\u001b[0;34m=\u001b[0m\u001b[0;34m'csr'\u001b[0m\u001b[0;34m)\u001b[0m\u001b[0;34m\u001b[0m\u001b[0;34m\u001b[0m\u001b[0m\n\u001b[1;32m    196\u001b[0m \u001b[0;34m\u001b[0m\u001b[0m\n\u001b[0;32m--> 197\u001b[0;31m         \u001b[0mneigh_dist\u001b[0m\u001b[0;34m,\u001b[0m \u001b[0mneigh_ind\u001b[0m \u001b[0;34m=\u001b[0m \u001b[0mself\u001b[0m\u001b[0;34m.\u001b[0m\u001b[0mkneighbors\u001b[0m\u001b[0;34m(\u001b[0m\u001b[0mX\u001b[0m\u001b[0;34m)\u001b[0m\u001b[0;34m\u001b[0m\u001b[0;34m\u001b[0m\u001b[0m\n\u001b[0m\u001b[1;32m    198\u001b[0m         \u001b[0mclasses_\u001b[0m \u001b[0;34m=\u001b[0m \u001b[0mself\u001b[0m\u001b[0;34m.\u001b[0m\u001b[0mclasses_\u001b[0m\u001b[0;34m\u001b[0m\u001b[0;34m\u001b[0m\u001b[0m\n\u001b[1;32m    199\u001b[0m         \u001b[0m_y\u001b[0m \u001b[0;34m=\u001b[0m \u001b[0mself\u001b[0m\u001b[0;34m.\u001b[0m\u001b[0m_y\u001b[0m\u001b[0;34m\u001b[0m\u001b[0;34m\u001b[0m\u001b[0m\n",
      "\u001b[0;32m~/anaconda3/lib/python3.6/site-packages/sklearn/neighbors/_base.py\u001b[0m in \u001b[0;36mkneighbors\u001b[0;34m(self, X, n_neighbors, return_distance)\u001b[0m\n\u001b[1;32m    706\u001b[0m                 \u001b[0mX\u001b[0m\u001b[0;34m,\u001b[0m \u001b[0mself\u001b[0m\u001b[0;34m.\u001b[0m\u001b[0m_fit_X\u001b[0m\u001b[0;34m,\u001b[0m \u001b[0mreduce_func\u001b[0m\u001b[0;34m=\u001b[0m\u001b[0mreduce_func\u001b[0m\u001b[0;34m,\u001b[0m\u001b[0;34m\u001b[0m\u001b[0;34m\u001b[0m\u001b[0m\n\u001b[1;32m    707\u001b[0m                 \u001b[0mmetric\u001b[0m\u001b[0;34m=\u001b[0m\u001b[0mself\u001b[0m\u001b[0;34m.\u001b[0m\u001b[0meffective_metric_\u001b[0m\u001b[0;34m,\u001b[0m \u001b[0mn_jobs\u001b[0m\u001b[0;34m=\u001b[0m\u001b[0mn_jobs\u001b[0m\u001b[0;34m,\u001b[0m\u001b[0;34m\u001b[0m\u001b[0;34m\u001b[0m\u001b[0m\n\u001b[0;32m--> 708\u001b[0;31m                 **kwds))\n\u001b[0m\u001b[1;32m    709\u001b[0m \u001b[0;34m\u001b[0m\u001b[0m\n\u001b[1;32m    710\u001b[0m         \u001b[0;32melif\u001b[0m \u001b[0mself\u001b[0m\u001b[0;34m.\u001b[0m\u001b[0m_fit_method\u001b[0m \u001b[0;32min\u001b[0m \u001b[0;34m[\u001b[0m\u001b[0;34m'ball_tree'\u001b[0m\u001b[0;34m,\u001b[0m \u001b[0;34m'kd_tree'\u001b[0m\u001b[0;34m]\u001b[0m\u001b[0;34m:\u001b[0m\u001b[0;34m\u001b[0m\u001b[0;34m\u001b[0m\u001b[0m\n",
      "\u001b[0;32m~/anaconda3/lib/python3.6/site-packages/sklearn/metrics/pairwise.py\u001b[0m in \u001b[0;36mpairwise_distances_chunked\u001b[0;34m(X, Y, reduce_func, metric, n_jobs, working_memory, **kwds)\u001b[0m\n\u001b[1;32m   1631\u001b[0m         \u001b[0;32mif\u001b[0m \u001b[0mreduce_func\u001b[0m \u001b[0;32mis\u001b[0m \u001b[0;32mnot\u001b[0m \u001b[0;32mNone\u001b[0m\u001b[0;34m:\u001b[0m\u001b[0;34m\u001b[0m\u001b[0;34m\u001b[0m\u001b[0m\n\u001b[1;32m   1632\u001b[0m             \u001b[0mchunk_size\u001b[0m \u001b[0;34m=\u001b[0m \u001b[0mD_chunk\u001b[0m\u001b[0;34m.\u001b[0m\u001b[0mshape\u001b[0m\u001b[0;34m[\u001b[0m\u001b[0;36m0\u001b[0m\u001b[0;34m]\u001b[0m\u001b[0;34m\u001b[0m\u001b[0;34m\u001b[0m\u001b[0m\n\u001b[0;32m-> 1633\u001b[0;31m             \u001b[0mD_chunk\u001b[0m \u001b[0;34m=\u001b[0m \u001b[0mreduce_func\u001b[0m\u001b[0;34m(\u001b[0m\u001b[0mD_chunk\u001b[0m\u001b[0;34m,\u001b[0m \u001b[0msl\u001b[0m\u001b[0;34m.\u001b[0m\u001b[0mstart\u001b[0m\u001b[0;34m)\u001b[0m\u001b[0;34m\u001b[0m\u001b[0;34m\u001b[0m\u001b[0m\n\u001b[0m\u001b[1;32m   1634\u001b[0m             \u001b[0m_check_chunk_size\u001b[0m\u001b[0;34m(\u001b[0m\u001b[0mD_chunk\u001b[0m\u001b[0;34m,\u001b[0m \u001b[0mchunk_size\u001b[0m\u001b[0;34m)\u001b[0m\u001b[0;34m\u001b[0m\u001b[0;34m\u001b[0m\u001b[0m\n\u001b[1;32m   1635\u001b[0m         \u001b[0;32myield\u001b[0m \u001b[0mD_chunk\u001b[0m\u001b[0;34m\u001b[0m\u001b[0;34m\u001b[0m\u001b[0m\n",
      "\u001b[0;32m~/anaconda3/lib/python3.6/site-packages/sklearn/neighbors/_base.py\u001b[0m in \u001b[0;36m_kneighbors_reduce_func\u001b[0;34m(self, dist, start, n_neighbors, return_distance)\u001b[0m\n\u001b[1;32m    580\u001b[0m         \"\"\"\n\u001b[1;32m    581\u001b[0m         \u001b[0msample_range\u001b[0m \u001b[0;34m=\u001b[0m \u001b[0mnp\u001b[0m\u001b[0;34m.\u001b[0m\u001b[0marange\u001b[0m\u001b[0;34m(\u001b[0m\u001b[0mdist\u001b[0m\u001b[0;34m.\u001b[0m\u001b[0mshape\u001b[0m\u001b[0;34m[\u001b[0m\u001b[0;36m0\u001b[0m\u001b[0;34m]\u001b[0m\u001b[0;34m)\u001b[0m\u001b[0;34m[\u001b[0m\u001b[0;34m:\u001b[0m\u001b[0;34m,\u001b[0m \u001b[0;32mNone\u001b[0m\u001b[0;34m]\u001b[0m\u001b[0;34m\u001b[0m\u001b[0;34m\u001b[0m\u001b[0m\n\u001b[0;32m--> 582\u001b[0;31m         \u001b[0mneigh_ind\u001b[0m \u001b[0;34m=\u001b[0m \u001b[0mnp\u001b[0m\u001b[0;34m.\u001b[0m\u001b[0margpartition\u001b[0m\u001b[0;34m(\u001b[0m\u001b[0mdist\u001b[0m\u001b[0;34m,\u001b[0m \u001b[0mn_neighbors\u001b[0m \u001b[0;34m-\u001b[0m \u001b[0;36m1\u001b[0m\u001b[0;34m,\u001b[0m \u001b[0maxis\u001b[0m\u001b[0;34m=\u001b[0m\u001b[0;36m1\u001b[0m\u001b[0;34m)\u001b[0m\u001b[0;34m\u001b[0m\u001b[0;34m\u001b[0m\u001b[0m\n\u001b[0m\u001b[1;32m    583\u001b[0m         \u001b[0mneigh_ind\u001b[0m \u001b[0;34m=\u001b[0m \u001b[0mneigh_ind\u001b[0m\u001b[0;34m[\u001b[0m\u001b[0;34m:\u001b[0m\u001b[0;34m,\u001b[0m \u001b[0;34m:\u001b[0m\u001b[0mn_neighbors\u001b[0m\u001b[0;34m]\u001b[0m\u001b[0;34m\u001b[0m\u001b[0;34m\u001b[0m\u001b[0m\n\u001b[1;32m    584\u001b[0m         \u001b[0;31m# argpartition doesn't guarantee sorted order, so we sort again\u001b[0m\u001b[0;34m\u001b[0m\u001b[0;34m\u001b[0m\u001b[0;34m\u001b[0m\u001b[0m\n",
      "\u001b[0;32m<__array_function__ internals>\u001b[0m in \u001b[0;36margpartition\u001b[0;34m(*args, **kwargs)\u001b[0m\n",
      "\u001b[0;32m~/anaconda3/lib/python3.6/site-packages/numpy/core/fromnumeric.py\u001b[0m in \u001b[0;36margpartition\u001b[0;34m(a, kth, axis, kind, order)\u001b[0m\n\u001b[1;32m    830\u001b[0m \u001b[0;34m\u001b[0m\u001b[0m\n\u001b[1;32m    831\u001b[0m     \"\"\"\n\u001b[0;32m--> 832\u001b[0;31m     \u001b[0;32mreturn\u001b[0m \u001b[0m_wrapfunc\u001b[0m\u001b[0;34m(\u001b[0m\u001b[0ma\u001b[0m\u001b[0;34m,\u001b[0m \u001b[0;34m'argpartition'\u001b[0m\u001b[0;34m,\u001b[0m \u001b[0mkth\u001b[0m\u001b[0;34m,\u001b[0m \u001b[0maxis\u001b[0m\u001b[0;34m=\u001b[0m\u001b[0maxis\u001b[0m\u001b[0;34m,\u001b[0m \u001b[0mkind\u001b[0m\u001b[0;34m=\u001b[0m\u001b[0mkind\u001b[0m\u001b[0;34m,\u001b[0m \u001b[0morder\u001b[0m\u001b[0;34m=\u001b[0m\u001b[0morder\u001b[0m\u001b[0;34m)\u001b[0m\u001b[0;34m\u001b[0m\u001b[0;34m\u001b[0m\u001b[0m\n\u001b[0m\u001b[1;32m    833\u001b[0m \u001b[0;34m\u001b[0m\u001b[0m\n\u001b[1;32m    834\u001b[0m \u001b[0;34m\u001b[0m\u001b[0m\n",
      "\u001b[0;32m~/anaconda3/lib/python3.6/site-packages/numpy/core/fromnumeric.py\u001b[0m in \u001b[0;36m_wrapfunc\u001b[0;34m(obj, method, *args, **kwds)\u001b[0m\n\u001b[1;32m     56\u001b[0m \u001b[0;34m\u001b[0m\u001b[0m\n\u001b[1;32m     57\u001b[0m     \u001b[0;32mtry\u001b[0m\u001b[0;34m:\u001b[0m\u001b[0;34m\u001b[0m\u001b[0;34m\u001b[0m\u001b[0m\n\u001b[0;32m---> 58\u001b[0;31m         \u001b[0;32mreturn\u001b[0m \u001b[0mbound\u001b[0m\u001b[0;34m(\u001b[0m\u001b[0;34m*\u001b[0m\u001b[0margs\u001b[0m\u001b[0;34m,\u001b[0m \u001b[0;34m**\u001b[0m\u001b[0mkwds\u001b[0m\u001b[0;34m)\u001b[0m\u001b[0;34m\u001b[0m\u001b[0;34m\u001b[0m\u001b[0m\n\u001b[0m\u001b[1;32m     59\u001b[0m     \u001b[0;32mexcept\u001b[0m \u001b[0mTypeError\u001b[0m\u001b[0;34m:\u001b[0m\u001b[0;34m\u001b[0m\u001b[0;34m\u001b[0m\u001b[0m\n\u001b[1;32m     60\u001b[0m         \u001b[0;31m# A TypeError occurs if the object does have such a method in its\u001b[0m\u001b[0;34m\u001b[0m\u001b[0;34m\u001b[0m\u001b[0;34m\u001b[0m\u001b[0m\n",
      "\u001b[0;31mKeyboardInterrupt\u001b[0m: "
     ]
    }
   ],
   "source": [
    "#Knn (model run):\n",
    "\n",
    "# Import necessary modules\n",
    "from sklearn.neighbors import KNeighborsClassifier\n",
    "from sklearn.model_selection import train_test_split\n",
    "from sklearn.datasets import load_iris\n",
    "import numpy as np\n",
    "import matplotlib.pyplot as plt\n",
    "  \n",
    "  \n",
    "# Split into training and test set\n",
    "X_train, X_test, y_train, y_test = train_test_split(\n",
    "             X, y, test_size = 0.2, random_state=123)\n",
    "  \n",
    "neighbors = np.arange(1, 9)\n",
    "train_accuracy = np.empty(len(neighbors))\n",
    "test_accuracy = np.empty(len(neighbors))\n",
    "  \n",
    "# Loop over K values\n",
    "for i, k in enumerate(neighbors):\n",
    "    knn = KNeighborsClassifier(n_neighbors=k)\n",
    "    knn.fit(X_train, y_train)\n",
    "      \n",
    "    # Compute traning and test data accuracy\n",
    "    train_accuracy[i] = knn.score(X_train, y_train)\n",
    "    test_accuracy[i] = knn.score(X_test, y_test)\n",
    "  \n",
    "# Generate plot\n",
    "plt.plot(neighbors, test_accuracy, label = 'Testing dataset Accuracy')\n",
    "plt.plot(neighbors, train_accuracy, label = 'Training dataset Accuracy')\n",
    "  \n",
    "plt.legend()\n",
    "plt.xlabel('n_neighbors')\n",
    "plt.ylabel('Accuracy')\n",
    "plt.show()\n",
    "\n",
    "max_accuracy = max_value = max(test_accuracy)\n",
    "\n",
    "best_k = test_accuracy.index(max_accuracy)\n",
    "\n",
    "\n",
    "#Reference for KNN: https://www.geeksforgeeks.org/k-nearest-neighbor-algorithm-in-python/"
   ]
  },
  {
   "cell_type": "code",
   "execution_count": 75,
   "id": "c0e9fbbd",
   "metadata": {
    "scrolled": true
   },
   "outputs": [
    {
     "name": "stdout",
     "output_type": "stream",
     "text": [
      "LogisticRegression  accuracies are\n",
      " [0.89154059 0.88699481 0.8570211  0.89423965 0.83500249 0.82775765\n",
      " 0.8590809  0.8716437  0.86887342 0.88450064] \n",
      "took  43.03053974080831 seconds.\n"
     ]
    }
   ],
   "source": [
    "# The following are the list of models and the parameters \n",
    "\n",
    "from sklearn.ensemble import RandomForestRegressor\n",
    "from sklearn.naive_bayes import MultinomialNB, GaussianNB \n",
    "from sklearn.linear_model import SGDClassifier\n",
    "from sklearn.svm import LinearSVC\n",
    "from sklearn.linear_model import LogisticRegression\n",
    "from sklearn.naive_bayes import MultinomialNB, GaussianNB \n",
    "from sklearn.linear_model import SGDClassifier\n",
    "from sklearn.ensemble import RandomForestClassifier\n",
    "from sklearn.svm import LinearSVC\n",
    "from sklearn.linear_model import LogisticRegression\n",
    "from sklearn.neighbors import KNeighborsClassifier\n",
    "from xgboost import XGBClassifier\n",
    "\n",
    "column_names = df_model.columns\n",
    "\n",
    "best_k = 8\n",
    "\n",
    "#we took the best logistic regression from the mini-lab\n",
    "models = [\n",
    "        KNeighborsClassifier(n_neighbors=best_k),\n",
    "        GaussianNB(), \n",
    "        SGDClassifier(loss='hinge', penalty='l2',alpha=1e-3,max_iter=5,tol=None, n_jobs=-1, random_state=123),\n",
    "        RandomForestClassifier(n_estimators=200, n_jobs=-1, random_state=123),\n",
    "        LinearSVC(random_state=123),\n",
    "        LogisticRegression(n_jobs=-1, C=100, solver=\"saga\", penalty=\"none\", random_state=123),\n",
    "        XGBClassifier(objective='binary:logistic')\n",
    "     ]\n",
    "\n",
    "models = [\n",
    "    LogisticRegression(n_jobs=-1, C=100, solver=\"saga\", penalty=\"none\", random_state=123)\n",
    " ]\n",
    "    \n",
    "model_stats_raintomorrow = {}\n",
    "for model in models:\n",
    "    df_model = df_model_copy.copy()\n",
    "    \n",
    "    #Delete Rainfall Amount (as this is a classification value of Rainfall)\n",
    "    if \"RainfallAmount\" in df_model:\n",
    "        del df_model[\"RainfallAmount\"]\n",
    "    stats = create_models_classification(model=model,df=df_model,response_feature=\"RainTomorrow\", iterations=10)\n",
    "    model_stats_raintomorrow[model.__class__.__name__] = stats"
   ]
  },
  {
   "cell_type": "markdown",
   "id": "0490a60c",
   "metadata": {},
   "source": [
    "### Models for RainfallAmount"
   ]
  },
  {
   "cell_type": "code",
   "execution_count": 36,
   "id": "345f8a51",
   "metadata": {
    "scrolled": true
   },
   "outputs": [
    {
     "name": "stdout",
     "output_type": "stream",
     "text": [
      "KNeighborsClassifier  accuracies are\n",
      " [0.80602316 0.76681582 0.7859223  0.75644577 0.78059521 0.77732794\n",
      " 0.78471482 0.8112658  0.79364967 0.803026  ] \n",
      "took  164.56947102490813 seconds.\n",
      "XGBClassifier  accuracies are\n",
      " [0.88734995 0.88855743 0.84089779 0.89118545 0.83613893 0.85176504\n",
      " 0.85517437 0.89068049 0.87540844 0.88208552] \n",
      "took  610.8333248940762 seconds.\n",
      "GaussianNB  accuracies are\n",
      " [0.64969103 0.59073798 0.56161659 0.56026706 0.53725407 0.59421834\n",
      " 0.64514525 0.65790595 0.64831652 0.74683904] \n",
      "took  1.4482172699645162 seconds.\n",
      "SGDClassifier  accuracies are\n",
      " [0.80005682 0.69458058 0.79203068 0.5163719  0.78755593 0.7764756\n",
      " 0.69713758 0.77148743 0.80167637 0.81396505] \n",
      "took  2.3304834668524563 seconds.\n",
      "RandomForestClassifier  accuracies are\n",
      " [0.87761915 0.88095745 0.83514454 0.88699481 0.83159315 0.84693515\n",
      " 0.85183607 0.86219633 0.86681347 0.86951271] \n",
      "took  137.83433294994757 seconds.\n",
      "LinearSVC  accuracies are\n",
      " [0.81859507 0.78329427 0.78784005 0.7815896  0.7872008  0.44072732\n",
      " 0.7777541  0.77830658 0.66181276 0.78803807] \n",
      "took  810.9444623249583 seconds.\n",
      "LogisticRegression  accuracies are\n",
      " [0.79970168 0.79544002 0.79195966 0.79991477 0.78109241 0.79728674\n",
      " 0.79096527 0.80899275 0.79570962 0.80473079] \n",
      "took  21.835302310064435 seconds.\n"
     ]
    }
   ],
   "source": [
    "from sklearn.ensemble import RandomForestRegressor\n",
    "from sklearn.naive_bayes import MultinomialNB, GaussianNB \n",
    "from sklearn.linear_model import SGDClassifier\n",
    "from sklearn.svm import LinearSVC\n",
    "from sklearn.linear_model import LogisticRegression\n",
    "from sklearn.naive_bayes import MultinomialNB, GaussianNB \n",
    "from sklearn.linear_model import SGDClassifier\n",
    "from sklearn.ensemble import RandomForestClassifier\n",
    "from sklearn.svm import LinearSVC\n",
    "from sklearn.linear_model import LogisticRegression\n",
    "\n",
    "models = [\n",
    "    KNeighborsClassifier(n_neighbors=8),\n",
    "    XGBClassifier(objective='binary:logistic'),\n",
    "    GaussianNB(), \n",
    "    SGDClassifier(loss='hinge', penalty='l2',alpha=1e-3,max_iter=5, tol=None, n_jobs=-1, random_state=123),\n",
    "    RandomForestClassifier(n_estimators=200,n_jobs=-1, random_state=123),\n",
    "    LinearSVC(random_state=123),\n",
    "    LogisticRegression(n_jobs=-1, random_state=123)\n",
    "]\n",
    "\n",
    "model_stats_rainfallamount = {}\n",
    "for model in models:\n",
    "    df_model = df_model_copy.copy()\n",
    "    if \"RainTomorrow\" in df_model:\n",
    "        del df_model['RainTomorrow']\n",
    "\n",
    "    if \"IsRainToday\" in df_model:        \n",
    "        del df_model['IsRainToday']\n",
    "\n",
    "    #RainfallAmount is a classification of Rainfall, having Rainfall will give model the predicting value, \n",
    "    #so remove Rainfall \n",
    "    if \"Rainfall\" in df_model:   \n",
    "        del df_model['Rainfall']\n",
    "   \n",
    "    stats = create_models_classification(model=model,df=df_model,response_feature=\"RainfallAmount\", iterations=10)\n",
    "    model_stats_rainfallamount[model.__class__.__name__] = stats"
   ]
  },
  {
   "cell_type": "markdown",
   "id": "30932873",
   "metadata": {},
   "source": [
    "## Modeling And Evaluation 4"
   ]
  },
  {
   "cell_type": "markdown",
   "id": "1f46953b",
   "metadata": {},
   "source": [
    "#### Visualization of Models"
   ]
  },
  {
   "cell_type": "markdown",
   "id": "58193b02",
   "metadata": {},
   "source": [
    "#### Random Forest Decision Tree for RainTomorrow"
   ]
  },
  {
   "cell_type": "code",
   "execution_count": 42,
   "id": "6fee6faa",
   "metadata": {},
   "outputs": [
    {
     "data": {
      "image/png": "[encoded data removed]",
      "text/plain": [
       "<Figure size 1800x864 with 1 Axes>"
      ]
     },
     "metadata": {
      "needs_background": "light"
     },
     "output_type": "display_data"
    }
   ],
   "source": [
    "estimator_rf = model_stats_raintomorrow['RandomForestClassifier'][0]['estimator'][1].estimators_[1]\n",
    "\n",
    "#Decision tree diagram for the first index (first tree):\n",
    "from sklearn import tree\n",
    "plt.figure(figsize = (25,12))\n",
    "tplt = tree.plot_tree(estimator_rf, proportion = True, fontsize=10,max_depth=3,class_names = ['No', 'Yes'], filled = True, feature_names = column_names)\n",
    "plt.show()"
   ]
  },
  {
   "cell_type": "markdown",
   "id": "0564c5cc",
   "metadata": {},
   "source": [
    "Explain the Tree"
   ]
  },
  {
   "cell_type": "markdown",
   "id": "78a969dd",
   "metadata": {},
   "source": [
    "#### Random Forest Decision Tree for RainfallAmount"
   ]
  },
  {
   "cell_type": "code",
   "execution_count": 43,
   "id": "da61dcdb",
   "metadata": {},
   "outputs": [
    {
     "data": {
      "image/png": "[encoded data removed]",
      "text/plain": [
       "<Figure size 1800x864 with 1 Axes>"
      ]
     },
     "metadata": {
      "needs_background": "light"
     },
     "output_type": "display_data"
    }
   ],
   "source": [
    "estimator_rf = model_stats_rainfallamount['RandomForestClassifier'][0]['estimator'][1].estimators_[1]\n",
    "\n",
    "#Decision tree diagram for the first index (first tree):\n",
    "from sklearn import tree\n",
    "plt.figure(figsize = (25,12))\n",
    "tplt = tree.plot_tree(estimator_rf, proportion = True, fontsize=10,max_depth=3,\n",
    "                      class_names = ['None', 'Low', 'Moderate', 'High'], filled = True, feature_names = column_names)\n",
    "plt.show()"
   ]
  },
  {
   "cell_type": "markdown",
   "id": "b6f21dcf",
   "metadata": {},
   "source": [
    "Explain the Tree"
   ]
  },
  {
   "cell_type": "markdown",
   "id": "ec90680f",
   "metadata": {},
   "source": [
    "## Modeling And Evaluation 5\n",
    "\n",
    "Discuss the advantages of each model for each classification task, if any. If there are not advantages, explain why. Is any model better than another? Is the difference significant with 95% confidence? Use proper statistical comparison methods. You must use statistical comparison techniques—be sure they are appropriate for your chosen method of validation as discussed in unit 7 of the course."
   ]
  },
  {
   "cell_type": "markdown",
   "id": "1f704b3b",
   "metadata": {},
   "source": [
    "### Statistical comparison of Models"
   ]
  },
  {
   "cell_type": "markdown",
   "id": "40c4d93c",
   "metadata": {},
   "source": [
    "### RainTomorrow"
   ]
  },
  {
   "cell_type": "code",
   "execution_count": 63,
   "id": "f47b92c4",
   "metadata": {},
   "outputs": [
    {
     "name": "stdout",
     "output_type": "stream",
     "text": [
      "MultiComparison.kruskal\n",
      "0 1 19.0 9.194659908519366 2.0664168320565546 False\n",
      "0.03878913794837608\n",
      "Test Multiple Comparison ttest_rel \n",
      "FWER=0.05 method=Holm\n",
      "alphacSidak=0.00, alphacBonf=0.002\n",
      "==============================================================================\n",
      "        group1                 group2           stat    pval  pval_corr reject\n",
      "------------------------------------------------------------------------------\n",
      "            GaussianNB   KNeighborsClassifier  -6.8965 0.0001    0.0009   True\n",
      "            GaussianNB              LinearSVC  -1.4726 0.1749    0.5776  False\n",
      "            GaussianNB     LogisticRegression  -6.7969 0.0001     0.001   True\n",
      "            GaussianNB RandomForestClassifier  -9.8214    0.0    0.0001   True\n",
      "            GaussianNB          SGDClassifier  -3.9514 0.0033    0.0268   True\n",
      "            GaussianNB          XGBClassifier -11.2761    0.0       0.0   True\n",
      "  KNeighborsClassifier              LinearSVC   1.4733 0.1748    0.5776  False\n",
      "  KNeighborsClassifier     LogisticRegression  -1.5985 0.1444    0.5776  False\n",
      "  KNeighborsClassifier RandomForestClassifier  -8.6098    0.0    0.0002   True\n",
      "  KNeighborsClassifier          SGDClassifier   3.4549 0.0072    0.0505  False\n",
      "  KNeighborsClassifier          XGBClassifier -10.0859    0.0    0.0001   True\n",
      "             LinearSVC     LogisticRegression  -2.0625 0.0692    0.4152  False\n",
      "             LinearSVC RandomForestClassifier  -4.6837 0.0011    0.0103   True\n",
      "             LinearSVC          SGDClassifier  -0.7194 0.4902    0.5776  False\n",
      "             LinearSVC          XGBClassifier  -5.0859 0.0007    0.0066   True\n",
      "    LogisticRegression RandomForestClassifier -13.3891    0.0       0.0   True\n",
      "    LogisticRegression          SGDClassifier   5.6868 0.0003    0.0033   True\n",
      "    LogisticRegression          XGBClassifier -15.7982    0.0       0.0   True\n",
      "RandomForestClassifier          SGDClassifier  11.6078    0.0       0.0   True\n",
      "RandomForestClassifier          XGBClassifier   -1.827  0.101    0.5049  False\n",
      "         SGDClassifier          XGBClassifier -13.5212    0.0       0.0   True\n",
      "------------------------------------------------------------------------------\n",
      "Test Multiple Comparison ttest_rel \n",
      "FWER=0.05 method=bonf\n",
      "alphacSidak=0.00, alphacBonf=0.002\n",
      "==============================================================================\n",
      "        group1                 group2           stat    pval  pval_corr reject\n",
      "------------------------------------------------------------------------------\n",
      "            GaussianNB   KNeighborsClassifier  -6.8965 0.0001    0.0015   True\n",
      "            GaussianNB              LinearSVC  -1.4726 0.1749       1.0  False\n",
      "            GaussianNB     LogisticRegression  -6.7969 0.0001    0.0017   True\n",
      "            GaussianNB RandomForestClassifier  -9.8214    0.0    0.0001   True\n",
      "            GaussianNB          SGDClassifier  -3.9514 0.0033    0.0703  False\n",
      "            GaussianNB          XGBClassifier -11.2761    0.0       0.0   True\n",
      "  KNeighborsClassifier              LinearSVC   1.4733 0.1748       1.0  False\n",
      "  KNeighborsClassifier     LogisticRegression  -1.5985 0.1444       1.0  False\n",
      "  KNeighborsClassifier RandomForestClassifier  -8.6098    0.0    0.0003   True\n",
      "  KNeighborsClassifier          SGDClassifier   3.4549 0.0072    0.1516  False\n",
      "  KNeighborsClassifier          XGBClassifier -10.0859    0.0    0.0001   True\n",
      "             LinearSVC     LogisticRegression  -2.0625 0.0692       1.0  False\n",
      "             LinearSVC RandomForestClassifier  -4.6837 0.0011    0.0241   True\n",
      "             LinearSVC          SGDClassifier  -0.7194 0.4902       1.0  False\n",
      "             LinearSVC          XGBClassifier  -5.0859 0.0007    0.0138   True\n",
      "    LogisticRegression RandomForestClassifier -13.3891    0.0       0.0   True\n",
      "    LogisticRegression          SGDClassifier   5.6868 0.0003    0.0063   True\n",
      "    LogisticRegression          XGBClassifier -15.7982    0.0       0.0   True\n",
      "RandomForestClassifier          SGDClassifier  11.6078    0.0       0.0   True\n",
      "RandomForestClassifier          XGBClassifier   -1.827  0.101       1.0  False\n",
      "         SGDClassifier          XGBClassifier -13.5212    0.0       0.0   True\n",
      "------------------------------------------------------------------------------\n",
      "                Multiple Comparison of Means - Tukey HSD, FWER=0.05                 \n",
      "====================================================================================\n",
      "        group1                 group2         meandiff p-adj   lower   upper  reject\n",
      "------------------------------------------------------------------------------------\n",
      "            GaussianNB   KNeighborsClassifier   0.0669 0.0157  0.0082  0.1256   True\n",
      "            GaussianNB              LinearSVC   0.0298 0.6927  -0.029  0.0885  False\n",
      "            GaussianNB     LogisticRegression   0.0759 0.0038  0.0172  0.1346   True\n",
      "            GaussianNB RandomForestClassifier   0.1401  0.001  0.0814  0.1989   True\n",
      "            GaussianNB          SGDClassifier    0.046 0.2225 -0.0127  0.1047  False\n",
      "            GaussianNB          XGBClassifier   0.1447  0.001  0.0859  0.2034   True\n",
      "  KNeighborsClassifier              LinearSVC  -0.0371 0.4735 -0.0958  0.0216  False\n",
      "  KNeighborsClassifier     LogisticRegression    0.009    0.9 -0.0497  0.0677  False\n",
      "  KNeighborsClassifier RandomForestClassifier   0.0733 0.0058  0.0145   0.132   True\n",
      "  KNeighborsClassifier          SGDClassifier  -0.0209    0.9 -0.0796  0.0378  False\n",
      "  KNeighborsClassifier          XGBClassifier   0.0778 0.0027  0.0191  0.1365   True\n",
      "             LinearSVC     LogisticRegression   0.0461 0.2194 -0.0126  0.1048  False\n",
      "             LinearSVC RandomForestClassifier   0.1104  0.001  0.0517  0.1691   True\n",
      "             LinearSVC          SGDClassifier   0.0162    0.9 -0.0425  0.0749  False\n",
      "             LinearSVC          XGBClassifier   0.1149  0.001  0.0562  0.1736   True\n",
      "    LogisticRegression RandomForestClassifier   0.0643 0.0231  0.0055   0.123   True\n",
      "    LogisticRegression          SGDClassifier  -0.0299 0.6885 -0.0886  0.0288  False\n",
      "    LogisticRegression          XGBClassifier   0.0688 0.0117  0.0101  0.1275   True\n",
      "RandomForestClassifier          SGDClassifier  -0.0942  0.001 -0.1529 -0.0354   True\n",
      "RandomForestClassifier          XGBClassifier   0.0045    0.9 -0.0542  0.0632  False\n",
      "         SGDClassifier          XGBClassifier   0.0987  0.001    0.04  0.1574   True\n",
      "------------------------------------------------------------------------------------\n",
      "0.03878913794837608\n"
     ]
    }
   ],
   "source": [
    "from scipy.stats import f_oneway\n",
    "#from statsmodels.stats.multicomp import pairwise_tukeyhsd\n",
    "import statsmodels.stats.multicomp as multi\n",
    "from scipy import stats\n",
    "\n",
    "\n",
    "GaussianNB_stat = model_stats_raintomorrow['GaussianNB'][0][\"test_score\"].tolist()\n",
    "SGDClassifier_stat = model_stats_raintomorrow['SGDClassifier'][0][\"test_score\"].tolist()\n",
    "RandomForestClassifier_stat = model_stats_raintomorrow['RandomForestClassifier'][0][\"test_score\"].tolist()\n",
    "LogisticRegression_stat = model_stats_raintomorrow['LogisticRegression'][0][\"test_score\"].tolist()\n",
    "KNeighborsClassifier_stat = model_stats_raintomorrow['KNeighborsClassifier'][0][\"test_score\"].tolist()\n",
    "LinearSVC_stat = model_stats_raintomorrow['LinearSVC'][0][\"test_score\"].tolist()\n",
    "XGBClassifier_stat = model_stats_raintomorrow['XGBClassifier'][0][\"test_score\"].tolist()\n",
    "\n",
    "\n",
    "    \n",
    "anova_result = f_oneway(GaussianNB_stat, SGDClassifier_stat, RandomForestClassifier_stat, LogisticRegression_stat,\n",
    "                       KNeighborsClassifier_stat,LinearSVC_stat,XGBClassifier_stat)\n",
    "\n",
    "df_testscores_rt = pd.DataFrame({'score':GaussianNB_stat + SGDClassifier_stat +RandomForestClassifier_stat + LogisticRegression_stat+KNeighborsClassifier_stat+LinearSVC_stat+XGBClassifier_stat,\n",
    "                   'model': np.repeat([\"GaussianNB\", \"SGDClassifier\", \"RandomForestClassifier\",\"LogisticRegression\",\"KNeighborsClassifier\",\"LinearSVC\",\"XGBClassifier\"], repeats=10)}) \n",
    "\n",
    "tukey = multi.pairwise_tukeyhsd(endog=df_testscores_rt['score'],\n",
    "                          groups=df_testscores_rt['model'],\n",
    "                          alpha=0.05)\n",
    "\n",
    "\n",
    "multi_comp = multi.MultiComparison(df_testscores_rt['score'],\n",
    "                          df_testscores_rt['model'],\n",
    "                          )\n",
    "\n",
    "tukey_2 = multi_comp.tukeyhsd(alpha=.05)\n",
    "kruskal = multi_comp.kruskal()\n",
    "allpair = multi_comp.allpairtest(stats.ttest_rel, method='Holm', alpha=.05)\n",
    "allpair_bonf = multi_comp.allpairtest(stats.ttest_rel, method='bonf', alpha=.05)\n",
    "\n",
    "rank = multi_comp.getranks()\n",
    "\n",
    "print (allpair[0])\n",
    "print (allpair_bonf[0])\n",
    "print(tukey)\n",
    "print(kruskal)\n",
    "\n"
   ]
  },
  {
   "cell_type": "code",
   "execution_count": 65,
   "id": "51c1fdf3",
   "metadata": {},
   "outputs": [
    {
     "data": {
      "text/plain": [
       "Text(0.5, 1.0, 'Model Comparisons RainTomorrow for Accuracy')"
      ]
     },
     "execution_count": 65,
     "metadata": {},
     "output_type": "execute_result"
    },
    {
     "data": {
      "image/png": "[encoded data removed]",
      "text/plain": [
       "<Figure size 1008x576 with 1 Axes>"
      ]
     },
     "metadata": {
      "needs_background": "light"
     },
     "output_type": "display_data"
    }
   ],
   "source": [
    "plt_t = df_testscores_rt.boxplot(\"score\",by=\"model\", showfliers=True, figsize= (14,8))\n",
    "\n",
    "plt.title('Model Comparisons RainTomorrow for Accuracy')\n"
   ]
  },
  {
   "cell_type": "markdown",
   "id": "0d871858",
   "metadata": {},
   "source": [
    "#### RainfallAmount"
   ]
  },
  {
   "cell_type": "code",
   "execution_count": 66,
   "id": "de579fd8",
   "metadata": {},
   "outputs": [
    {
     "name": "stdout",
     "output_type": "stream",
     "text": [
      "MultiComparison.kruskal\n",
      "0 1 45.050000000000004 9.194659908519366 4.899583067586726 True\n",
      "9.604023955742005e-07\n",
      "Test Multiple Comparison ttest_rel \n",
      "FWER=0.05 method=Holm\n",
      "alphacSidak=0.00, alphacBonf=0.002\n",
      "==============================================================================\n",
      "        group1                 group2           stat    pval  pval_corr reject\n",
      "------------------------------------------------------------------------------\n",
      "            GaussianNB   KNeighborsClassifier -13.2979    0.0       0.0   True\n",
      "            GaussianNB              LinearSVC  -3.0916 0.0129    0.0774  False\n",
      "            GaussianNB     LogisticRegression  -9.6964    0.0    0.0001   True\n",
      "            GaussianNB RandomForestClassifier -13.0245    0.0       0.0   True\n",
      "            GaussianNB          SGDClassifier  -4.5379 0.0014    0.0197   True\n",
      "            GaussianNB          XGBClassifier -14.2471    0.0       0.0   True\n",
      "  KNeighborsClassifier              LinearSVC   3.4264 0.0076    0.0579  False\n",
      "  KNeighborsClassifier     LogisticRegression  19.2898    0.0       0.0   True\n",
      "  KNeighborsClassifier RandomForestClassifier  -0.7866 0.4518    0.9035  False\n",
      "  KNeighborsClassifier          SGDClassifier    3.976 0.0032    0.0419   True\n",
      "  KNeighborsClassifier          XGBClassifier   -2.847 0.0192    0.0959  False\n",
      "             LinearSVC     LogisticRegression  -1.5621 0.1527    0.4581  False\n",
      "             LinearSVC RandomForestClassifier  -3.4536 0.0072    0.0579  False\n",
      "             LinearSVC          SGDClassifier  -0.0939 0.9273    0.9273  False\n",
      "             LinearSVC          XGBClassifier  -3.7425 0.0046    0.0461   True\n",
      "    LogisticRegression RandomForestClassifier -13.0608    0.0       0.0   True\n",
      "    LogisticRegression          SGDClassifier   1.7832 0.1082    0.4329  False\n",
      "    LogisticRegression          XGBClassifier -14.1653    0.0       0.0   True\n",
      "RandomForestClassifier          SGDClassifier   3.6187 0.0056    0.0503  False\n",
      "RandomForestClassifier          XGBClassifier  -3.8108 0.0041    0.0456   True\n",
      "         SGDClassifier          XGBClassifier  -3.9532 0.0033    0.0419   True\n",
      "------------------------------------------------------------------------------\n",
      "Test Multiple Comparison ttest_rel \n",
      "FWER=0.05 method=bonf\n",
      "alphacSidak=0.00, alphacBonf=0.002\n",
      "==============================================================================\n",
      "        group1                 group2           stat    pval  pval_corr reject\n",
      "------------------------------------------------------------------------------\n",
      "            GaussianNB   KNeighborsClassifier -13.2979    0.0       0.0   True\n",
      "            GaussianNB              LinearSVC  -3.0916 0.0129    0.2708  False\n",
      "            GaussianNB     LogisticRegression  -9.6964    0.0    0.0001   True\n",
      "            GaussianNB RandomForestClassifier -13.0245    0.0       0.0   True\n",
      "            GaussianNB          SGDClassifier  -4.5379 0.0014    0.0296   True\n",
      "            GaussianNB          XGBClassifier -14.2471    0.0       0.0   True\n",
      "  KNeighborsClassifier              LinearSVC   3.4264 0.0076    0.1586  False\n",
      "  KNeighborsClassifier     LogisticRegression  19.2898    0.0       0.0   True\n",
      "  KNeighborsClassifier RandomForestClassifier  -0.7866 0.4518       1.0  False\n",
      "  KNeighborsClassifier          SGDClassifier    3.976 0.0032    0.0677  False\n",
      "  KNeighborsClassifier          XGBClassifier   -2.847 0.0192    0.4028  False\n",
      "             LinearSVC     LogisticRegression  -1.5621 0.1527       1.0  False\n",
      "             LinearSVC RandomForestClassifier  -3.4536 0.0072    0.1519  False\n",
      "             LinearSVC          SGDClassifier  -0.0939 0.9273       1.0  False\n",
      "             LinearSVC          XGBClassifier  -3.7425 0.0046    0.0968  False\n",
      "    LogisticRegression RandomForestClassifier -13.0608    0.0       0.0   True\n",
      "    LogisticRegression          SGDClassifier   1.7832 0.1082       1.0  False\n",
      "    LogisticRegression          XGBClassifier -14.1653    0.0       0.0   True\n",
      "RandomForestClassifier          SGDClassifier   3.6187 0.0056    0.1173  False\n",
      "RandomForestClassifier          XGBClassifier  -3.8108 0.0041    0.0871  False\n",
      "         SGDClassifier          XGBClassifier  -3.9532 0.0033    0.0701  False\n",
      "------------------------------------------------------------------------------\n",
      "                Multiple Comparison of Means - Tukey HSD, FWER=0.05                 \n",
      "====================================================================================\n",
      "        group1                 group2         meandiff p-adj   lower   upper  reject\n",
      "------------------------------------------------------------------------------------\n",
      "            GaussianNB   KNeighborsClassifier   0.2378  0.001  0.1548  0.3208   True\n",
      "            GaussianNB              LinearSVC   0.1213  0.001  0.0383  0.2043   True\n",
      "            GaussianNB     LogisticRegression   0.1774  0.001  0.0944  0.2604   True\n",
      "            GaussianNB RandomForestClassifier   0.2418  0.001  0.1588  0.3248   True\n",
      "            GaussianNB          SGDClassifier   0.1259  0.001  0.0429  0.2089   True\n",
      "            GaussianNB          XGBClassifier   0.2507  0.001  0.1677  0.3337   True\n",
      "  KNeighborsClassifier              LinearSVC  -0.1165 0.0012 -0.1995 -0.0335   True\n",
      "  KNeighborsClassifier     LogisticRegression  -0.0604  0.301 -0.1434  0.0226  False\n",
      "  KNeighborsClassifier RandomForestClassifier   0.0039    0.9  -0.079  0.0869  False\n",
      "  KNeighborsClassifier          SGDClassifier  -0.1119 0.0022 -0.1949 -0.0289   True\n",
      "  KNeighborsClassifier          XGBClassifier   0.0129    0.9 -0.0701  0.0959  False\n",
      "             LinearSVC     LogisticRegression   0.0561  0.392 -0.0269  0.1391  False\n",
      "             LinearSVC RandomForestClassifier   0.1204  0.001  0.0375  0.2034   True\n",
      "             LinearSVC          SGDClassifier   0.0046    0.9 -0.0784  0.0876  False\n",
      "             LinearSVC          XGBClassifier   0.1294  0.001  0.0464  0.2124   True\n",
      "    LogisticRegression RandomForestClassifier   0.0644 0.2319 -0.0186  0.1474  False\n",
      "    LogisticRegression          SGDClassifier  -0.0514 0.4956 -0.1344  0.0315  False\n",
      "    LogisticRegression          XGBClassifier   0.0733 0.1177 -0.0096  0.1563  False\n",
      "RandomForestClassifier          SGDClassifier  -0.1158 0.0013 -0.1988 -0.0328   True\n",
      "RandomForestClassifier          XGBClassifier    0.009    0.9  -0.074   0.092  False\n",
      "         SGDClassifier          XGBClassifier   0.1248  0.001  0.0418  0.2078   True\n",
      "------------------------------------------------------------------------------------\n",
      "9.604023955742005e-07\n"
     ]
    }
   ],
   "source": [
    "from scipy.stats import f_oneway\n",
    "#from statsmodels.stats.multicomp import pairwise_tukeyhsd\n",
    "import statsmodels.stats.multicomp as multi\n",
    "from scipy import stats\n",
    "\n",
    "\n",
    "GaussianNB_stat = model_stats_rainfallamount['GaussianNB'][0][\"test_score\"].tolist()\n",
    "SGDClassifier_stat = model_stats_rainfallamount['SGDClassifier'][0][\"test_score\"].tolist()\n",
    "RandomForestClassifier_stat = model_stats_rainfallamount['RandomForestClassifier'][0][\"test_score\"].tolist()\n",
    "LogisticRegression_stat = model_stats_rainfallamount['LogisticRegression'][0][\"test_score\"].tolist()\n",
    "KNeighborsClassifier_stat = model_stats_raintomorrow['KNeighborsClassifier'][0][\"test_score\"].tolist()\n",
    "LinearSVC_stat = model_stats_rainfallamount['LinearSVC'][0][\"test_score\"].tolist()\n",
    "XGBClassifier_stat = model_stats_rainfallamount['XGBClassifier'][0][\"test_score\"].tolist()\n",
    "\n",
    "anova_result = f_oneway(GaussianNB_stat, SGDClassifier_stat, RandomForestClassifier_stat, \n",
    "                        LogisticRegression_stat, KNeighborsClassifier_stat,LinearSVC_stat,XGBClassifier_stat)\n",
    "\n",
    "df_testscores_ra = pd.DataFrame({'score':GaussianNB_stat + SGDClassifier_stat +RandomForestClassifier_stat + LogisticRegression_stat+KNeighborsClassifier_stat+LinearSVC_stat+XGBClassifier_stat,\n",
    "                   'model': np.repeat([\"GaussianNB\", \"SGDClassifier\", \"RandomForestClassifier\",\"LogisticRegression\",\"KNeighborsClassifier\",\"LinearSVC\",\"XGBClassifier\"], repeats=10)}) \n",
    "\n",
    "tukey = multi.pairwise_tukeyhsd(endog=df_testscores_ra['score'],\n",
    "                          groups=df_testscores_ra['model'],\n",
    "                          alpha=0.05)\n",
    "\n",
    "\n",
    "multi_comp = multi.MultiComparison(df_testscores_ra['score'],\n",
    "                          df_testscores_ra['model'],\n",
    "                          )\n",
    "\n",
    "tukey_2 = multi_comp.tukeyhsd(alpha=.05)\n",
    "kruskal = multi_comp.kruskal()\n",
    "allpair = multi_comp.allpairtest(stats.ttest_rel, method='Holm', alpha=.05)\n",
    "allpair_bonf = multi_comp.allpairtest(stats.ttest_rel, method='bonf', alpha=.05)\n",
    "\n",
    "rank = multi_comp.getranks()\n",
    "\n",
    "print (allpair[0])\n",
    "print (allpair_bonf[0])\n",
    "print(tukey)\n",
    "print(kruskal)\n"
   ]
  },
  {
   "cell_type": "code",
   "execution_count": 67,
   "id": "cab75b27",
   "metadata": {},
   "outputs": [
    {
     "data": {
      "text/plain": [
       "Text(0.5, 1.0, 'Model Comparisons RainfallAmount for Accuracy')"
      ]
     },
     "execution_count": 67,
     "metadata": {},
     "output_type": "execute_result"
    },
    {
     "data": {
      "image/png": "[encoded data removed]",
      "text/plain": [
       "<Figure size 1008x576 with 1 Axes>"
      ]
     },
     "metadata": {
      "needs_background": "light"
     },
     "output_type": "display_data"
    }
   ],
   "source": [
    "df_testscores_ra.boxplot(\"score\",by=\"model\", showfliers=True, figsize= (14,8))\n",
    "plt.title('Model Comparisons RainfallAmount for Accuracy')\n"
   ]
  },
  {
   "cell_type": "markdown",
   "id": "25fe04a2",
   "metadata": {},
   "source": [
    "#### Rainfall (Linear)"
   ]
  },
  {
   "cell_type": "code",
   "execution_count": 68,
   "id": "3a5040cd",
   "metadata": {},
   "outputs": [
    {
     "name": "stdout",
     "output_type": "stream",
     "text": [
      "MultiComparison.kruskal\n",
      "0 1 0.29999999999999893 4.819145844095888 0.06225169557122657 False\n",
      "0.9503623951717691\n",
      "Test Multiple Comparison ttest_rel \n",
      "FWER=0.05 method=Holm\n",
      "alphacSidak=0.02, alphacBonf=0.017\n",
      "================================================================\n",
      "     group1           group2        stat   pval pval_corr reject\n",
      "----------------------------------------------------------------\n",
      "           LASSO LinearRegression  0.6711 0.519       1.0  False\n",
      "           LASSO              RFE     nan   nan       nan  False\n",
      "LinearRegression              RFE -0.6711 0.519       1.0  False\n",
      "----------------------------------------------------------------\n",
      "Test Multiple Comparison ttest_rel \n",
      "FWER=0.05 method=bonf\n",
      "alphacSidak=0.02, alphacBonf=0.017\n",
      "================================================================\n",
      "     group1           group2        stat   pval pval_corr reject\n",
      "----------------------------------------------------------------\n",
      "           LASSO LinearRegression  0.6711 0.519       1.0  False\n",
      "           LASSO              RFE     nan   nan       nan  False\n",
      "LinearRegression              RFE -0.6711 0.519       1.0  False\n",
      "----------------------------------------------------------------\n",
      "         Multiple Comparison of Means - Tukey HSD, FWER=0.05          \n",
      "======================================================================\n",
      "     group1           group2      meandiff p-adj  lower  upper  reject\n",
      "----------------------------------------------------------------------\n",
      "           LASSO LinearRegression   -0.036   0.9 -1.9418 1.8698  False\n",
      "           LASSO              RFE      0.0   0.9 -1.9058 1.9058  False\n",
      "LinearRegression              RFE    0.036   0.9 -1.8698 1.9418  False\n",
      "----------------------------------------------------------------------\n",
      "0.9503623951717691\n"
     ]
    }
   ],
   "source": [
    "from scipy.stats import f_oneway\n",
    "#from statsmodels.stats.multicomp import pairwise_tukeyhsd\n",
    "import statsmodels.stats.multicomp as multi\n",
    "from scipy import stats\n",
    "\n",
    "\n",
    "Linear_stat = model_stats_rainfall['LinearRegression'][0][\"test_score\"].tolist()\n",
    "Lasso_stat = model_stats_rainfall['Lasso'][0][\"test_score\"].tolist()\n",
    "RFE_stat = model_stats_rainfall['Lasso'][0][\"test_score\"].tolist()\n",
    "\n",
    "\n",
    "#Convert them in abs value, as sklearn gives them in negative (but the values are not really negative)\n",
    "\n",
    "Linear_stat =[abs(number) for number in Linear_stat]\n",
    "Lasso_stat = [abs(number) for number in Lasso_stat]\n",
    "RFE_stat = [abs(number) for number in RFE_stat]\n",
    "\n",
    "\n",
    "all_stats = Linear_stat + Lasso_stat + RFE_stat  \n",
    "    \n",
    "anova_result = f_oneway(Linear_stat, Lasso_stat, RFE_stat)\n",
    "\n",
    "df_testscores_r = pd.DataFrame({'score':all_stats,\n",
    "                   'model': np.repeat([\"LinearRegression\", \"LASSO\", \"RFE\"], repeats=10)}) \n",
    "\n",
    "tukey = multi.pairwise_tukeyhsd(endog=df_testscores_r['score'],\n",
    "                          groups=df_testscores_r['model'],\n",
    "                          alpha=0.05)\n",
    "\n",
    "\n",
    "multi_comp = multi.MultiComparison(df_testscores_r['score'],\n",
    "                          df_testscores_r['model'],\n",
    "                          )\n",
    "\n",
    "tukey_2 = multi_comp.tukeyhsd(alpha=.05)\n",
    "kruskal = multi_comp.kruskal()\n",
    "allpair = multi_comp.allpairtest(stats.ttest_rel, method='Holm', alpha=.05)\n",
    "allpair_bonf = multi_comp.allpairtest(stats.ttest_rel, method='bonf', alpha=.05)\n",
    "\n",
    "rank = multi_comp.getranks()\n",
    "\n",
    "print (allpair[0])\n",
    "print (allpair_bonf[0])\n",
    "print(tukey)\n",
    "print(kruskal)\n"
   ]
  },
  {
   "cell_type": "code",
   "execution_count": 69,
   "id": "b66f1580",
   "metadata": {},
   "outputs": [
    {
     "data": {
      "text/plain": [
       "Text(0.5, 1.0, 'Model Comparisons Rainfall for RMSE')"
      ]
     },
     "execution_count": 69,
     "metadata": {},
     "output_type": "execute_result"
    },
    {
     "data": {
      "image/png": "[encoded data removed]",
      "text/plain": [
       "<Figure size 1008x576 with 1 Axes>"
      ]
     },
     "metadata": {
      "needs_background": "light"
     },
     "output_type": "display_data"
    }
   ],
   "source": [
    "\n",
    "df_testscores_r.boxplot(\"score\",by=\"model\", showfliers=True, figsize= (14,8))\n",
    "plt.title('Model Comparisons Rainfall for RMSE')\n",
    "\n",
    "#Plot references\n",
    "# http://www.r-graph-gallery.com/84-tukey-test\n"
   ]
  },
  {
   "cell_type": "code",
   "execution_count": 87,
   "id": "ec96ab44",
   "metadata": {},
   "outputs": [
    {
     "data": {
      "text/plain": [
       "43.03053974080831"
      ]
     },
     "execution_count": 87,
     "metadata": {},
     "output_type": "execute_result"
    }
   ],
   "source": [
    "model_stats_raintomorrow[\"LogisticRegression\"][1]"
   ]
  },
  {
   "cell_type": "code",
   "execution_count": null,
   "id": "62e12f08",
   "metadata": {},
   "outputs": [],
   "source": [
    "#df_model_copy = df_model.copy()"
   ]
  },
  {
   "cell_type": "markdown",
   "id": "eb310dc7",
   "metadata": {},
   "source": [
    "## Modeling And Evaluation 6\n",
    "\n",
    "Which attributes from your analysis are most important? Use proper methods discussed in class to evaluate the importance of different attributes. Discuss the results and hypothesize about why certain attributes are more important than others for a given classification task.\n"
   ]
  },
  {
   "cell_type": "code",
   "execution_count": null,
   "id": "fda9afde",
   "metadata": {},
   "outputs": [],
   "source": []
  },
  {
   "cell_type": "markdown",
   "id": "95cf2acf",
   "metadata": {},
   "source": [
    "## Deployment"
   ]
  },
  {
   "cell_type": "markdown",
   "id": "e04ea188",
   "metadata": {},
   "source": [
    "Our models are primarily designed for meteorologists. At the same time, these can be very useful for event organizers in cities across the country – mostly important for outdoor events. The favored model can be also useful for government organizations like military (Navy). The model not only predicts if it’s going to Rain Tomorrow (next day), It also predicts the amount of `Rainfall` for today in amount of rain fell (mm) as well as classifies as `Low`, `Medium` and `High`. Due to our ability to give the data which is easily interpretable for everyone, this is useful for the everyone. It can be integrated by the weather channels and apps as well. \n",
    "\n",
    "\n",
    "The model’s value can be measured in terms of its accuracy; higher the accuracy better the value of the model over existing models in use. Some parties may value our models higher than others depending upon how important the accuracy of prediction of Rainfall for their business or area of operations.\n",
    "\n",
    "\n",
    "Our models can be integrated to the existing feed of weather related data which is useful for our model to predict accurately. This data is easily available from government websites. \n",
    "\n",
    "\n",
    "Data from those sources can be integrated with our model and build an APIs for anyone to consume and monetize by the count of API calls.\n",
    "\n",
    "\n",
    "As we know weather is an ever-changing event and due to climate change, predictive models needs to evolve continuously. The validity of our models need to be tested against the recorded information and improve our models daily with the new data (models can be built within hours).\n",
    "\n",
    "\n",
    "Additional data points may be required like seasons, time of the year, impact of natural events like cyclones/hurricanes, wild fires, El Niño and La Niña effects etc.\n",
    "\n",
    "\n",
    "Overall, our classification models will be more useful since those clearly indicates weather condition for all the interested parties."
   ]
  },
  {
   "cell_type": "markdown",
   "id": "7cc4eb57",
   "metadata": {},
   "source": [
    "## Exceptional Work"
   ]
  },
  {
   "cell_type": "code",
   "execution_count": null,
   "id": "acc8dfdd",
   "metadata": {},
   "outputs": [],
   "source": []
  },
  {
   "cell_type": "markdown",
   "id": "c634f17b",
   "metadata": {},
   "source": [
    "# Conclusion\n",
    "\n",
    "\n"
   ]
  },
  {
   "cell_type": "code",
   "execution_count": null,
   "id": "ea4dcfdb",
   "metadata": {},
   "outputs": [],
   "source": []
  },
  {
   "cell_type": "code",
   "execution_count": null,
   "id": "20caa688",
   "metadata": {},
   "outputs": [],
   "source": []
  },
  {
   "cell_type": "code",
   "execution_count": null,
   "id": "51027c1f",
   "metadata": {},
   "outputs": [],
   "source": []
  },
  {
   "cell_type": "code",
   "execution_count": null,
   "id": "e9c5aa65",
   "metadata": {},
   "outputs": [],
   "source": []
  },
  {
   "cell_type": "markdown",
   "id": "d5248552",
   "metadata": {},
   "source": [
    "# Seemant"
   ]
  },
  {
   "cell_type": "markdown",
   "id": "e394a5e0",
   "metadata": {},
   "source": [
    "## XGBoost Model"
   ]
  },
  {
   "cell_type": "markdown",
   "id": "646bb665",
   "metadata": {},
   "source": [
    "XGBoost is an optimized distributed gradient boosting library designed to be highly efficient, flexible and portable. It implements machine learning algorithms under the Gradient Boosting framework. XGBoost provides a parallel tree boosting (also known as GBDT, GBM) that solve many data science problems in a fast and accurate way."
   ]
  },
  {
   "cell_type": "code",
   "execution_count": null,
   "id": "0fa0138c",
   "metadata": {},
   "outputs": [],
   "source": [
    "df_model[\"RainTomorrow\"] = df_model[\"RainTomorrow\"].map(dict(Yes=1, No=0))\n",
    "y= df_model[\"RainTomorrow\"].values\n",
    "del df_model[\"RainTomorrow\"]\n",
    "X = df_model.values\n",
    "df_model[\"RainTomorrow\"] = df_impute[\"RainTomorrow\"]"
   ]
  },
  {
   "cell_type": "code",
   "execution_count": null,
   "id": "27dfd322",
   "metadata": {},
   "outputs": [],
   "source": [
    "# Split into training and test set\n",
    "from sklearn.model_selection import train_test_split\n",
    "X_train, X_test, y_train, y_test = train_test_split(\n",
    "             X, y, test_size = 0.2, random_state=123)"
   ]
  },
  {
   "cell_type": "code",
   "execution_count": null,
   "id": "5ef5e562",
   "metadata": {},
   "outputs": [],
   "source": [
    "from xgboost import XGBClassifier\n",
    "xgbc = XGBClassifier(objective='binary:logistic')\n",
    "xgbc.fit(X_train,y_train)"
   ]
  },
  {
   "cell_type": "code",
   "execution_count": null,
   "id": "f4efc4f0",
   "metadata": {},
   "outputs": [],
   "source": [
    "# accuracy of XGBoost Model\n",
    "from sklearn.metrics import accuracy_score, confusion_matrix,classification_report,roc_curve, roc_auc_score\n",
    "y_predxgb = xgbc.predict(X_test)\n",
    "report = classification_report(y_test, y_predxgb)\n",
    "print(report)\n",
    "print(\"Accuracy of the XGBoost Model is:\",accuracy_score(y_test,y_predxgb)*100,\"%\")\n",
    "cm = confusion_matrix(y_test, y_predxgb)\n",
    "sns.heatmap(cm, annot=True,cmap=\"YlGnBu\")\n",
    "plt.title(\"Confusion Matrix for XGBoost Model\")\n",
    "plt.show()\n",
    "# Reference: https://towardsdatascience.com/getting-started-with-xgboost-in-scikit-learn-f69f5f470a97\n",
    "# Reference: https://www.kaggle.com/jsphyg/weather-dataset-rattle-package/code"
   ]
  },
  {
   "cell_type": "markdown",
   "id": "67379e21",
   "metadata": {},
   "source": [
    "# Random Forest Classifier Model"
   ]
  },
  {
   "cell_type": "code",
   "execution_count": null,
   "id": "94faafef",
   "metadata": {},
   "outputs": [],
   "source": [
    "from sklearn.ensemble import RandomForestClassifier\n",
    "classifier = RandomForestClassifier(n_estimators=300) # increasing number of trees for better accuracy\n",
    "classifier.fit(X_train, y_train)"
   ]
  },
  {
   "cell_type": "code",
   "execution_count": null,
   "id": "cfe98089",
   "metadata": {},
   "outputs": [],
   "source": [
    "# accuracy of Random Forest Classifier Model\n",
    "from sklearn.metrics import accuracy_score, confusion_matrix,classification_report,roc_curve, roc_auc_score\n",
    "y_pred2 = classifier.predict(X_test)\n",
    "report3 = classification_report(y_test, y_pred2)\n",
    "print(report3)\n",
    "print(\"Accuracy of the Random Forest Model is:\",accuracy_score(y_test,y_pred2)*100,\"%\")\n",
    "cm3 = confusion_matrix(y_test, y_pred2)\n",
    "sns.heatmap(cm3, annot=True)\n",
    "plt.title(\"Confusion Matrix for Random Forest Classifier Model\")\n",
    "plt.show()\n",
    "# Reference: https://towardsdatascience.com/random-forest-in-python-24d0893d51c0\n",
    "# Reference: https://www.kaggle.com/jsphyg/weather-dataset-rattle-package/code"
   ]
  },
  {
   "cell_type": "code",
   "execution_count": null,
   "id": "b01ea7ff",
   "metadata": {},
   "outputs": [],
   "source": [
    "y_pred_proba = classifier.predict_proba(X_test)\n",
    "pos_proba = y_pred_proba[:,1]"
   ]
  },
  {
   "cell_type": "code",
   "execution_count": null,
   "id": "e666486f",
   "metadata": {},
   "outputs": [],
   "source": [
    "fpr, tpr, thresholds = roc_curve(y_test, pos_proba)\n",
    "plt.plot(fpr, tpr, '*-')\n",
    "plt.plot([0, 1], [0, 1], 'r--')\n",
    "plt.legend(['Logistic regression', 'Random chance'])\n",
    "plt.xlabel('FPR')\n",
    "plt.ylabel('TPR')\n",
    "plt.title('ROC curve for Random Forest Classifier')"
   ]
  },
  {
   "cell_type": "code",
   "execution_count": null,
   "id": "14386252",
   "metadata": {},
   "outputs": [],
   "source": []
  },
  {
   "cell_type": "code",
   "execution_count": null,
   "id": "e2b7daf8",
   "metadata": {},
   "outputs": [],
   "source": []
  },
  {
   "cell_type": "code",
   "execution_count": null,
   "id": "aca6d19b",
   "metadata": {},
   "outputs": [],
   "source": []
  },
  {
   "cell_type": "code",
   "execution_count": null,
   "id": "90a67fec",
   "metadata": {},
   "outputs": [],
   "source": []
  },
  {
   "cell_type": "code",
   "execution_count": null,
   "id": "1773c2bc",
   "metadata": {},
   "outputs": [],
   "source": []
  },
  {
   "cell_type": "code",
   "execution_count": null,
   "id": "8e97a0a3",
   "metadata": {},
   "outputs": [],
   "source": []
  },
  {
   "cell_type": "code",
   "execution_count": null,
   "id": "8f10a0ec",
   "metadata": {},
   "outputs": [],
   "source": []
  },
  {
   "cell_type": "code",
   "execution_count": null,
   "id": "7010b076",
   "metadata": {},
   "outputs": [],
   "source": []
  },
  {
   "cell_type": "code",
   "execution_count": null,
   "id": "76224c28",
   "metadata": {},
   "outputs": [],
   "source": []
  },
  {
   "cell_type": "code",
   "execution_count": null,
   "id": "42884381",
   "metadata": {},
   "outputs": [],
   "source": []
  },
  {
   "cell_type": "code",
   "execution_count": null,
   "id": "5f5abf69",
   "metadata": {},
   "outputs": [],
   "source": []
  },
  {
   "cell_type": "code",
   "execution_count": null,
   "id": "bb812cc3",
   "metadata": {},
   "outputs": [],
   "source": []
  },
  {
   "cell_type": "code",
   "execution_count": null,
   "id": "a55d1e39",
   "metadata": {},
   "outputs": [],
   "source": []
  },
  {
   "cell_type": "code",
   "execution_count": null,
   "id": "b51a1275",
   "metadata": {},
   "outputs": [],
   "source": []
  },
  {
   "cell_type": "code",
   "execution_count": null,
   "id": "aa7679f7",
   "metadata": {},
   "outputs": [],
   "source": []
  },
  {
   "cell_type": "code",
   "execution_count": null,
   "id": "5bb513d3",
   "metadata": {},
   "outputs": [],
   "source": []
  },
  {
   "cell_type": "code",
   "execution_count": null,
   "id": "65e221e9",
   "metadata": {},
   "outputs": [],
   "source": []
  },
  {
   "cell_type": "code",
   "execution_count": null,
   "id": "69414b88",
   "metadata": {},
   "outputs": [],
   "source": []
  },
  {
   "cell_type": "code",
   "execution_count": null,
   "id": "2f123e70",
   "metadata": {},
   "outputs": [],
   "source": []
  },
  {
   "cell_type": "code",
   "execution_count": null,
   "id": "c56332cf",
   "metadata": {},
   "outputs": [],
   "source": []
  },
  {
   "cell_type": "code",
   "execution_count": null,
   "id": "4a240e0c",
   "metadata": {},
   "outputs": [],
   "source": []
  },
  {
   "cell_type": "code",
   "execution_count": null,
   "id": "1deafa79",
   "metadata": {},
   "outputs": [],
   "source": []
  },
  {
   "cell_type": "code",
   "execution_count": null,
   "id": "7d0fdfd9",
   "metadata": {},
   "outputs": [],
   "source": []
  },
  {
   "cell_type": "markdown",
   "id": "8f5f4251",
   "metadata": {},
   "source": [
    "# Modeling and Evaluation"
   ]
  },
  {
   "cell_type": "markdown",
   "id": "1936120f",
   "metadata": {},
   "source": [
    "### Explanation of Evaluation Matrices"
   ]
  },
  {
   "cell_type": "code",
   "execution_count": null,
   "id": "526c8273",
   "metadata": {},
   "outputs": [],
   "source": []
  },
  {
   "cell_type": "markdown",
   "id": "2e59b384",
   "metadata": {},
   "source": [
    "#### Macro Avg vs Weight Avg Precision comparisons\n",
    "\n",
    "As we couldn't pick the models just from Accuracy, we are further our analysis by plotting the difference between the Macro Avg precision and Weighted Avg precision for all the models.\n",
    "\n",
    "`DiffMacro/WeightedNone` — takes the Macro Average and Weighted Average of Precision from the classification matrix and calculates the difference. The reason to calculate the difference is to check how much variation is in the Precision values based on how the data is split.\n",
    "\n",
    "`DiffMacro/WeightedBalanced` — same as above this variable calculates the difference between Macro and Weighted Average of Precision of a balanced data.\n",
    "\n",
    "The smaller the difference between Weight Avg and Macro Avg, the model is closer to real world and also consistent."
   ]
  },
  {
   "cell_type": "markdown",
   "id": "65fda401",
   "metadata": {},
   "source": [
    "After running the big `Logistic Regression` model for several combinations. We got output for 660 models.\n",
    "\n",
    "To compare the outputs and make it easier to identify the most appropriate model in terms of accuracy, precision and other factors applicable for Machine Learning models. We decided to put a list of subset of variables including:\n",
    "\n",
    "`Model` — specifies which technique was used for the logistic model. In this case its between ShuffleSplit and Stratified.\n",
    "\n",
    "`AccuracyNone` —  specifies the Accuracy observed by the model where data was not `balanced`.\n",
    "\n",
    "`DiffMacro/WeightedNone` — takes the `Macro Average` and `Weighted Average` of `Precision` from the classification matrix and calculates the difference. The reason to calculate the difference is to check how much variation is in the Precision values based on how the data is split. More details about Precision and Averages is provided below. This variation is calculated on the non `balanced` data.\n",
    "\n",
    "`AccuracyBalanced` — specifies the Accuracy observed by the model where data was `balanced`.\n",
    "\n",
    "`DiffMacro/WeightedBalanced` — same as above this variable calculates the difference between Macro and Weighted Average of Precision of a `balanced` data."
   ]
  },
  {
   "cell_type": "markdown",
   "id": "c709afdb",
   "metadata": {},
   "source": [
    "### Important Terms\n",
    "\n",
    "`Accuracy` — is a ratio of correctly predicted observation to the total observations. It is a very important aspect to define the success of a model but just the measurement on its own can be deceiving if the observations are not equal for each class. In such cases we might be predicting accurately for one particular class with large observation and may not do very well for other classes.\n",
    "\n",
    "`Precision` — is the ratio of correctly predicted positive observations to the total predicted positive observations. Precision = TP/TP+FP  \n",
    "\n",
    "`Weighted Average` — can be calculated on various output variables of the classification report like Precision, Recall, f1-score. As the name suggests it gives the weighted average of the parameter based on the number of observations or values for each class.\n",
    "\n",
    "`Macro Average` — similar to weighted average, macro average can also be calculated on various output variables of the classification report like Precision, Recall, f1-score. However, the similarity ends here as unlike weighted average, we don't use weights based on the number of observations, rather equal weights are given to each class to calcualte the value. This tells us if the Precision is as good if the dataset was balanced.\n",
    "\n",
    "References:\n",
    "https://blog.exsilio.com/all/accuracy-precision-recall-f1-score-interpretation-of-performance-measures/\n",
    "https://datascience.stackexchange.com/questions/65839/macro-average-and-weighted-average-meaning-in-classification-report"
   ]
  },
  {
   "cell_type": "markdown",
   "id": "3093238d",
   "metadata": {},
   "source": [
    "### Cross Validation"
   ]
  },
  {
   "cell_type": "markdown",
   "id": "232750f3",
   "metadata": {},
   "source": [
    "In these models we used two different methodologies for cross validation namely `Shuffle` and `Stratified`.\n",
    "\n",
    "`ShuffleSplit`  — is similar to `Cross Validation` where we can specify the percentage of split for train and test data. However, in regular cross-validation, the data is not split randomly, so, it is good to shuffle the targets before applying the `cross-validation`.\n",
    "\n",
    "\n",
    "`Stratified` — CV technique is very useful with unbalanced dataset. As discussed above our dataset is not balanced and rightly so, we don't expect it to rain and no-rain days to be equal in Australia. The data is expected to be unbalanced and expected to be such in future as well. So using stratified sampling techniques gives us the ability to preserve the proportion of the Rain days vs non-rain days in our dataset. We can be confident that the Train and Test split data is not leaving out important information like entire dataset is of `No` rain days which will give highly inaccurate output eventhough the accuracy might be maintained. \n",
    "\n",
    "In `Stratified` sampling, the data is k-1 split in favor of Train vs Test data.\n",
    "\n",
    "\n",
    "References: \n",
    "https://towardsdatascience.com/understanding-8-types-of-cross-validation-80c935a4976d\n",
    "https://mclguide.readthedocs.io/en/latest/sklearn/cv.html\n"
   ]
  },
  {
   "cell_type": "markdown",
   "id": "124042ec",
   "metadata": {},
   "source": [
    "# Tai"
   ]
  },
  {
   "cell_type": "code",
   "execution_count": null,
   "id": "58f1368d",
   "metadata": {},
   "outputs": [],
   "source": [
    "#df_model[\"RainTomorrow\"] = df_model[\"RainTomorrow\"].map(dict(Yes=1, No=0))\n",
    "y= df_model[\"RainTomorrow\"].values\n",
    "del df_model[\"RainTomorrow\"]\n",
    "X = df_model.values\n",
    "yhat = np.zeros(y.shape)\n",
    "df_model[\"RainTomorrow\"] = df_impute[\"RainTomorrow\"]"
   ]
  },
  {
   "cell_type": "code",
   "execution_count": null,
   "id": "a96f6bb5",
   "metadata": {},
   "outputs": [],
   "source": [
    "\n",
    "from sklearn.model_selection import StratifiedKFold\n",
    "from sklearn.preprocessing import StandardScaler\n",
    "import numpy as np\n",
    "from sklearn import metrics as mt\n",
    "from sklearn.ensemble import RandomForestClassifier\n",
    "\n",
    "cv = StratifiedKFold(n_splits=10)\n",
    "clf = RandomForestClassifier(max_depth=50, n_estimators=150, n_jobs=-1, oob_score=True)\n",
    "for train, test in cv.split(X,y):\n",
    "    clf.fit(X[train],y[train])\n",
    "    yhat[test] = clf.predict(X[test])\n",
    "\n",
    "    total_accuracy = mt.accuracy_score(y, yhat)\n",
    "    print ('Random Forest accuracy', total_accuracy)"
   ]
  },
  {
   "cell_type": "code",
   "execution_count": null,
   "id": "19af246c",
   "metadata": {},
   "outputs": [],
   "source": [
    "def per_class_accuracy(ytrue,yhat):\n",
    "    conf = mt.confusion_matrix(ytrue,yhat)\n",
    "    norm_conf = conf.astype('float') / conf.sum(axis=1)[:, np.newaxis]\n",
    "    return np.diag(norm_conf)\n",
    "\n",
    "def plot_class_acc(ytrue,yhat, title=''):\n",
    "    acc_list = per_class_accuracy(ytrue,yhat)\n",
    "    plt.bar(range(len(acc_list)), acc_list)\n",
    "    plt.xlabel('Class value (one per face)')\n",
    "    plt.ylabel('Accuracy within class')\n",
    "    plt.title(title+\", Total Acc=%.1f\"%(100*mt.accuracy_score(ytrue,yhat)))\n",
    "    plt.grid()\n",
    "    plt.ylim([0,1])\n",
    "    plt.show()\n",
    "\n",
    "plot_class_acc(y,yhat,title=\"Random Forest\")"
   ]
  },
  {
   "cell_type": "code",
   "execution_count": null,
   "id": "4369aa77",
   "metadata": {},
   "outputs": [],
   "source": [
    "#List of decision trees - there are 150 decision trees\n",
    "\n",
    "clf.estimators_\n",
    "\n",
    "\n",
    "# it helps to see how many 'decision trees' are associated with our random forest model. \n",
    "# From the list, we can visualize some of the 'trees'. We are picking the first index"
   ]
  },
  {
   "cell_type": "code",
   "execution_count": null,
   "id": "2a36bd84",
   "metadata": {},
   "outputs": [],
   "source": [
    "#Decision tree diagram for the first index (first tree):\n",
    "\n",
    "from sklearn import tree\n",
    "plt.figure(figsize = (15,10))\n",
    "tree.plot_tree(clf.estimators_[1], filled = True)\n",
    "\n",
    "#Given the diagram below it is hard to visualize."
   ]
  },
  {
   "cell_type": "code",
   "execution_count": null,
   "id": "f6bbfcb7",
   "metadata": {},
   "outputs": [],
   "source": [
    "#We cannot produce diagram for all decision trees in one instance. \n",
    "#We can visualize the data portion only for all the decision trees. \n",
    "#We can see how all the decision trees are being classified\n",
    "\n",
    "for i in range(len(clf.estimators_)):\n",
    "    print(tree.export_text(clf.estimators_[i]))\n"
   ]
  },
  {
   "cell_type": "code",
   "execution_count": null,
   "id": "f59b087c",
   "metadata": {},
   "outputs": [],
   "source": [
    "df_model"
   ]
  },
  {
   "cell_type": "code",
   "execution_count": null,
   "id": "ce30c159",
   "metadata": {},
   "outputs": [],
   "source": []
  },
  {
   "cell_type": "code",
   "execution_count": null,
   "id": "89418636",
   "metadata": {},
   "outputs": [],
   "source": []
  },
  {
   "cell_type": "code",
   "execution_count": null,
   "id": "b1b96778",
   "metadata": {},
   "outputs": [],
   "source": []
  },
  {
   "cell_type": "code",
   "execution_count": null,
   "id": "70e01592",
   "metadata": {},
   "outputs": [],
   "source": []
  },
  {
   "cell_type": "code",
   "execution_count": null,
   "id": "402e68ee",
   "metadata": {},
   "outputs": [],
   "source": []
  },
  {
   "cell_type": "code",
   "execution_count": null,
   "id": "d9dc16cf",
   "metadata": {},
   "outputs": [],
   "source": []
  },
  {
   "cell_type": "code",
   "execution_count": null,
   "id": "c8bf5e83",
   "metadata": {},
   "outputs": [],
   "source": []
  },
  {
   "cell_type": "code",
   "execution_count": null,
   "id": "597ea27f",
   "metadata": {},
   "outputs": [],
   "source": []
  },
  {
   "cell_type": "code",
   "execution_count": null,
   "id": "9849b413",
   "metadata": {},
   "outputs": [],
   "source": []
  },
  {
   "cell_type": "code",
   "execution_count": null,
   "id": "dfc9f0f4",
   "metadata": {},
   "outputs": [],
   "source": []
  },
  {
   "cell_type": "code",
   "execution_count": null,
   "id": "66776e52",
   "metadata": {},
   "outputs": [],
   "source": []
  },
  {
   "cell_type": "code",
   "execution_count": null,
   "id": "aaad2597",
   "metadata": {},
   "outputs": [],
   "source": []
  },
  {
   "cell_type": "code",
   "execution_count": null,
   "id": "910fcf9c",
   "metadata": {},
   "outputs": [],
   "source": []
  },
  {
   "cell_type": "markdown",
   "id": "b96c7491",
   "metadata": {},
   "source": [
    "# Ravi"
   ]
  },
  {
   "cell_type": "code",
   "execution_count": null,
   "id": "575f859b",
   "metadata": {},
   "outputs": [],
   "source": [
    "from sklearn.metrics import roc_curve, auc\n",
    "from sklearn import metrics\n",
    "from sklearn.metrics import mean_squared_error\n",
    "\n",
    "model_stats_columns=[\"Iteration\", \"MSE\", \"RMSE\", \"clf\", \"Time\"]\n",
    "\n",
    "def get_model_stats(model_clf,y_test, y_hat, target_names):\n",
    "   \n",
    "    mse = mean_squared_error(y_test,y_hat)\n",
    "    rmse = mean_squared_error(y_test,y_hat, squared=False)\n",
    "\n",
    "   \n",
    "    # Create ROC Curve\n",
    "    y_test_01 = np.where(y_test ==\"Yes\", 1, [0])\n",
    "    y_hat_01 = np.where(y_hat ==\"Yes\", 1, [0])\n",
    "\n",
    "    #Create a dict of these stats for class weight\n",
    "    #dict will contain stats for balanced on one run, None for the next run\n",
    "\n",
    "    stats_data = [mse, rmse]\n",
    "\n",
    "\n",
    "    stats_row = stats_data \n",
    "\n",
    "    return stats_row\n",
    "\n",
    "\n",
    "\n"
   ]
  },
  {
   "cell_type": "code",
   "execution_count": null,
   "id": "08b7d649",
   "metadata": {},
   "outputs": [],
   "source": [
    "#Linear Regression Model\n",
    "\n",
    "from sklearn.model_selection import StratifiedKFold\n",
    "from sklearn.linear_model import LinearRegression\n",
    "from timeit import default_timer as timer\n",
    "from sklearn import linear_model\n",
    "from sklearn.feature_selection import RFE\n",
    "from sklearn.svm import SVR\n",
    "\n",
    "def create_lin_reg_models(df, iterations):\n",
    "    \n",
    "    X = None\n",
    "    y = None\n",
    "    if \"Rainfall\" in df:\n",
    "        y = df[\"Rainfall\"].values # get the labels we want\n",
    "        del df[\"Rainfall\"] # get rid of the class label\n",
    "        X = df.values # use everything else to predict!\n",
    "    else:\n",
    "        return\n",
    "\n",
    "    print (X)\n",
    "    print (y)\n",
    "    cv_data = ShuffleSplit(n_splits=iterations,\n",
    "                             test_size  = 0.2, random_state = 123)\n",
    "    \n",
    "    \n",
    "    cv_data.get_n_splits(X, y)\n",
    "       \n",
    "    #Initialize variables\n",
    "    iter_num=1\n",
    "    rows = []\n",
    "    target_names = [0, 1]\n",
    "    classes = None    \n",
    "    scl_obj = StandardScaler()\n",
    "    #lr_clf = LinearRegression(n_jobs=4)\n",
    "    #lr_clf = linear_model.Lasso(alpha=0.1)\n",
    "    #estimator = SVR(kernel=\"linear\")\n",
    "    estimator = LinearSVR(random_state=0, tol=1e-5)\n",
    "    lr_clf = RFE(estimator, n_features_to_select=8, step=1)\n",
    "    \n",
    "    for train_indices, test_indices in cv_data.split(X,y): \n",
    "        starttime = timer()\n",
    "        X_train = X[train_indices]\n",
    "        y_train = y[train_indices]\n",
    "\n",
    "        scl_obj.fit(X_train)\n",
    "\n",
    "        X_test = X[test_indices]\n",
    "        y_test = y[test_indices]\n",
    "            \n",
    "        try:\n",
    "            X_train_scaled = scl_obj.transform(X_train) \n",
    "            X_test_scaled = scl_obj.transform(X_test)\n",
    "\n",
    "            lr_clf.fit(X_train_scaled,y_train)  # train object\n",
    "            y_hat = lr_clf.predict(X_test_scaled) # get test set precitions\n",
    "            print(lr_clf.coef_)            \n",
    "            model_stats = get_model_stats(lr_clf,y_test=y_test,y_hat=y_hat, target_names=target_names )\n",
    "\n",
    "        except Exception as e:\n",
    "            #print('Error:', str(e))\n",
    "            raise\n",
    "        endtime = timer()\n",
    "        time_taken = endtime - starttime\n",
    "        row = [iter_num] + model_stats + [lr_clf, time_taken]\n",
    "        rows.append(row)\n",
    "        iter_num+=1\n",
    "\n",
    "    \n",
    "    #Create a dataframe with the model stats \n",
    "    df_ret = pd.DataFrame(rows, columns = model_stats_columns)\n",
    "    \n",
    "    df_ret.plot.line(x='Iteration', y='RMSE')\n",
    "    return df_ret\n",
    "\n"
   ]
  },
  {
   "cell_type": "code",
   "execution_count": null,
   "id": "0e796519",
   "metadata": {},
   "outputs": [],
   "source": [
    "#Random Forest\n",
    "\n",
    "from sklearn.ensemble import RandomForestRegressor\n",
    "from timeit import default_timer as timer\n",
    "\n",
    "def create_random_forest_models(df, iterations):\n",
    "    \n",
    "    X = None\n",
    "    y = None\n",
    "    if \"Rainfall\" in df:\n",
    "        y = df[\"Rainfall\"].values # get the labels we want\n",
    "        del df[\"Rainfall\"] # get rid of the class label\n",
    "        X = df.values # use everything else to predict!\n",
    "    else:\n",
    "        return\n",
    "\n",
    "    print (X)\n",
    "    print (y)\n",
    "    cv_data = ShuffleSplit(n_splits=iterations,\n",
    "                             test_size  = 0.2, random_state = 123)\n",
    "    \n",
    "    \n",
    "    cv_data.get_n_splits(X, y)\n",
    "       \n",
    "    #Initialize variables\n",
    "    iter_num=1\n",
    "    rows = []\n",
    "    target_names = [0, 1]\n",
    "    scl_obj = StandardScaler()\n",
    "    regr = RandomForestRegressor(max_depth=2, random_state=123)\n",
    "    \n",
    "    \n",
    "    for train_indices, test_indices in cv_data.split(X,y): \n",
    "        starttime = timer()\n",
    "        X_train = X[train_indices]\n",
    "        y_train = y[train_indices]\n",
    "\n",
    "        scl_obj.fit(X_train)\n",
    "        \n",
    "        X_test = X[test_indices]\n",
    "        y_test = y[test_indices]\n",
    "            \n",
    "        try:\n",
    "            X_train_scaled = scl_obj.transform(X_train) \n",
    "            X_test_scaled = scl_obj.transform(X_test)\n",
    "\n",
    "            regr.fit(X_train_scaled,y_train)  # train object\n",
    "            y_hat = regr.predict(X_test_scaled) # get test set precitions\n",
    "            print(y_hat)\n",
    "            \n",
    "            model_stats = get_model_stats(regr,y_test=y_test,y_hat=y_hat, target_names=target_names )\n",
    "\n",
    "        except Exception as e:\n",
    "            #print('Error:', str(e))\n",
    "            raise\n",
    "        endtime = timer()\n",
    "        time_taken = endtime - starttime\n",
    "        row = [iter_num] + model_stats + [regr, time_taken]\n",
    "        rows.append(row)\n",
    "        iter_num+=1\n",
    "\n",
    "\n",
    "    #Create a dataframe with the model stats \n",
    "    df_ret = pd.DataFrame(rows, columns = model_stats_columns)\n",
    "    return df_ret\n",
    "\n"
   ]
  },
  {
   "cell_type": "code",
   "execution_count": null,
   "id": "8784b781",
   "metadata": {},
   "outputs": [],
   "source": [
    "\n",
    "df_model = df_model_copy.copy()\n",
    "del df_model['RainTomorrow']\n",
    "del df_model['IsRainToday']\n",
    "del df_model['RainfallAmount']\n",
    "\n",
    "\n",
    "df_ret = create_lin_reg_models(df=df_model,iterations=10)"
   ]
  },
  {
   "cell_type": "code",
   "execution_count": null,
   "id": "0116577d",
   "metadata": {},
   "outputs": [],
   "source": [
    "del df_model['RainTomorrow']\n",
    "del df_model['IsRainToday']\n",
    "del df_model['RainfallAmount']\n"
   ]
  },
  {
   "cell_type": "code",
   "execution_count": null,
   "id": "6aeb10a5",
   "metadata": {},
   "outputs": [],
   "source": [
    "def rain_classifier(row):\n",
    "    if row[\"Rainfall\"] > 30:\n",
    "        return \"High\"\n",
    "    elif row[\"Rainfall\"] > 10 and row[\"Rainfall\"] < 30:\n",
    "        return \"Moderate\"\n",
    "    elif row[\"Rainfall\"] > 1 and row[\"Rainfall\"] < 10:\n",
    "        return \"Low\"\n",
    "    else:\n",
    "        return \"None\"\n",
    "\n",
    "df_model[\"RainfallAmount\"] = df_impute.apply(rain_classifier, axis=1)\n",
    "\n",
    "df_model\n"
   ]
  },
  {
   "cell_type": "code",
   "execution_count": null,
   "id": "d7bb9c6e",
   "metadata": {},
   "outputs": [],
   "source": [
    "from sklearn.neighbors import KNeighborsClassifier\n",
    "from sklearn.model_selection import train_test_split\n",
    "from mlxtend.plotting import plot_decision_regions\n",
    "import matplotlib.pyplot as plt\n",
    "from sklearn.decomposition import PCA\n",
    "\n",
    "\n",
    "def create_knn_model(df, response):\n",
    "    # Split into training and test set\n",
    "    \n",
    "    y= df[response].values\n",
    "    print(y)\n",
    "    if response in df:\n",
    "        del df[response]\n",
    "    if \"Rainfall\" in df:\n",
    "        del df[\"Rainfall\"]\n",
    "    if \"RainTomorrow\" in df:\n",
    "        del df[\"RainTomorrow\"]\n",
    "#    if \"IsRainToday\" in df:    \n",
    "#        del df[\"IsRainToday\"]\n",
    "    \n",
    "    X = df.values\n",
    "\n",
    "    pca = PCA(n_components = 2)\n",
    "    \n",
    "    X_train, X_test, y_train, y_test = train_test_split(X, y, test_size = 0.2, random_state=123)\n",
    "    \n",
    "    print(y_train)\n",
    "    neighbors = np.arange(1, 9)\n",
    "    train_accuracy = np.empty(len(neighbors))\n",
    "    test_accuracy = np.empty(len(neighbors))\n",
    "    \n",
    "    \n",
    "\n",
    "    # Loop over K values\n",
    "    for i, k in enumerate(neighbors):\n",
    "        #knn = KNeighborsClassifier(n_neighbors=k)\n",
    "        knn =  DecisionTreeRegressor(random_state=123)\n",
    "        X_train2 = pca.fit_transform(X_train)\n",
    "        X_test2 =  pca.fit_transform(X_test)\n",
    "        knn.fit(X_train2, y_train)\n",
    "\n",
    "        # Compute traning and test data accuracy\n",
    "        train_accuracy[i] = knn.score(X_train2, y_train)\n",
    "        test_accuracy[i] = knn.score(X_test2, y_test)\n",
    "        plt.figure(figsize=(10,8))\n",
    "        plot_decision_regions(X_train2, y_train, clf=knn, legend=2)\n",
    "       \n",
    "        plt.xlabel('X')\n",
    "        plt.ylabel('Y')\n",
    "        plt.title('Knn with K='+ str(k))\n",
    "        plt.show()\n",
    "    # Generate plot\n",
    "    plt.plot(neighbors, test_accuracy, label = 'Testing dataset Accuracy for ' + response)\n",
    "    plt.plot(neighbors, train_accuracy, label = 'Training dataset Accuracy for ' + response)\n",
    "\n",
    "    plt.legend()\n",
    "    plt.xlabel('n_neighbors')\n",
    "    plt.ylabel('Accuracy')\n",
    "    plt.show()\n",
    "    \n",
    "    \n",
    "    #find the maximum accuracy and position\n",
    "    best_k = test_accuracy.argmax()+1\n",
    "\n",
    "    #Now use that K to predict\n",
    "\n",
    "    yhat = np.zeros(y.shape) # we will fill this with predictions\n",
    "\n",
    "    scl = StandardScaler()\n",
    "    X = scl.fit_transform(X)\n",
    "\n",
    "    # create cross validation iterator\n",
    "    cv = StratifiedKFold(n_splits=10)\n",
    "\n",
    "    # get a handle to the classifier object, which defines the type\n",
    "    clf = KNeighborsClassifier(n_neighbors=best_k)\n",
    "\n",
    "    # now iterate through and get predictions, saved to the correct row in yhat\n",
    "    # NOTE: you can parallelize this using the cross_val_predict method\n",
    "    for train, test in cv.split(X,y):\n",
    "        clf.fit(X[train],y[train])\n",
    "        yhat[test] = clf.predict(X[test])\n",
    "\n",
    "    total_accuracy = mt.accuracy_score(y, yhat)\n",
    "    return total_accuracy\n",
    "\n",
    "\n",
    "\n"
   ]
  },
  {
   "cell_type": "code",
   "execution_count": null,
   "id": "ca688cc1",
   "metadata": {},
   "outputs": [],
   "source": [
    "df_model_copy = df_model.copy()\n",
    "try:\n",
    "    create_knn_model(df=df_model.head(20000),response='RainTomorrow')\n",
    "except Exception as e:\n",
    "    print (e.message)\n",
    "finally:\n",
    "    df_model = df_model_copy.copy()"
   ]
  },
  {
   "cell_type": "code",
   "execution_count": null,
   "id": "634346c4",
   "metadata": {},
   "outputs": [],
   "source": [
    "y= df_model[\"RainfallAmount\"].values\n",
    "del df_model[\"RainfallAmount\"]\n",
    "del df_model[\"Rainfall\"]\n",
    "del df_model[\"RainTomorrow\"]\n",
    "del df_model[\"IsRainToday\"]\n",
    "X = df_model.values\n"
   ]
  },
  {
   "cell_type": "code",
   "execution_count": null,
   "id": "c0450b8e",
   "metadata": {},
   "outputs": [],
   "source": [
    "df_model[\"RainTomorrow\"] = df_model[\"RainTomorrow\"].map(dict(Yes=1, No=0))"
   ]
  },
  {
   "cell_type": "code",
   "execution_count": null,
   "id": "b2ba79e3",
   "metadata": {},
   "outputs": [],
   "source": [
    "df_ret"
   ]
  },
  {
   "cell_type": "code",
   "execution_count": null,
   "id": "8e3b35c6",
   "metadata": {},
   "outputs": [],
   "source": [
    "total_accuracy"
   ]
  },
  {
   "cell_type": "code",
   "execution_count": null,
   "id": "ba260622",
   "metadata": {},
   "outputs": [],
   "source": [
    "y"
   ]
  },
  {
   "cell_type": "code",
   "execution_count": null,
   "id": "b4075214",
   "metadata": {},
   "outputs": [],
   "source": [
    "from sklearn import datasets\n",
    "\n",
    "iris = datasets.load_iris()\n",
    "\n",
    "iris.target"
   ]
  },
  {
   "cell_type": "markdown",
   "id": "d4cea7ba",
   "metadata": {},
   "source": [
    "## Linear Regression Model\n",
    "\n",
    "In Linear Regression Model, the dependent variable (`RainfallAmount`) is dependent of independent variables (the other 16 features). This is an instance of multiple linear regression, which means, the independent variable is dependent of multiple features.\n",
    "\n",
    "Linear Regression works with continous variables and categorical variables doesn't translate well. To make categorical variables, we used One-hot encoding to convert them to numerical vectors. The downside of it, it may introduce multi-collineriaty, but we can minimize by taking only the important features.\n",
    "\n",
    "There are multiple ways of doing Linear Regression, LASSO, Ridge and simple linear regression. We create models of all types and get the best model that has least RMSE values.\n",
    "\n",
    "The function below builds linear regression models:\n",
    "\n",
    "1. Ordinary Least squares\n",
    "\n",
    "LinearRegression fits a linear model with coefficients w = (w1, …, wp) to minimize the residual sum of squares between the observed targets in the dataset, and the targets predicted by the linear approximation.\n",
    "\n",
    "2. LASSO\n",
    "Linear Model trained with L1 prior as regularizer (aka the Lasso)\n",
    "\n",
    "The optimization objective for Lasso is:\n",
    "\n",
    "(1 / (2 * n_samples)) * ||y - Xw||^2_2 + alpha * ||w||_1\n",
    "\n",
    "Technically the Lasso model is optimizing the same objective function as the Elastic Net with l1_ratio=1.0 (no L2 penalty).\n",
    "\n",
    "\n",
    "3. RFE (Recursive Feature Elimination)\n",
    "\n",
    "Feature ranking with recursive feature elimination.\n",
    "\n",
    "Given an external estimator that assigns weights to features (e.g., the coefficients of a linear model), the goal of recursive feature elimination (RFE) is to select features by recursively considering smaller and smaller sets of features. First, the estimator is trained on the initial set of features and the importance of each feature is obtained either through any specific attribute or callable. Then, the least important features are pruned from current set of features. That procedure is recursively repeated on the pruned set until the desired number of features to select is eventually reached.\n",
    "\n",
    "We create models of these and then store them in a dataframe. We then compare the RMSE of these models, and find which model has lowest RMSE and take as the best model of Regression.\n",
    "\n",
    " \n",
    " #### References for definitions\n",
    " 1. https://scikit-learn.org/stable/modules/generated/sklearn.linear_model.Lasso.html\n",
    " 2. https://scikit-learn.org/stable/modules/generated/sklearn.feature_selection.RFE.html\n",
    " 3. https://scikit-learn.org/stable/modules/generated/sklearn.linear_model.LinearRegression.html"
   ]
  },
  {
   "cell_type": "code",
   "execution_count": null,
   "id": "96797efa",
   "metadata": {},
   "outputs": [],
   "source": []
  },
  {
   "cell_type": "code",
   "execution_count": null,
   "id": "51f38b55",
   "metadata": {},
   "outputs": [],
   "source": [
    "#Decision Trees\n",
    "\n",
    "from sklearn.tree import DecisionTreeRegressor\n",
    "from timeit import default_timer as timer\n",
    "from sklearn.model_selection import cross_val_score\n",
    "\n",
    "def create_decision_tree_models(df, iterations):\n",
    "    \n",
    "   \n",
    "    if \"Rainfall\" in df:\n",
    "        y = df[\"Rainfall\"].values # get the labels we want\n",
    "        del df[\"Rainfall\"] # get rid of the class label\n",
    "        X = df.values # use everything else to predict!\n",
    "    else:\n",
    "        return\n",
    "\n",
    "    criterion = [\"mse\", \"friedman_mse\", \"mae\", \"poisson\"]\n",
    "    \n",
    "    for crit in criterion:\n",
    "        regr = DecisionTreeRegressor(criterion=crit, random_state=123)\n",
    "        score = cross_val_score(regr, X, y, cv=iterations, n_jobs=4)\n",
    "        print(crit, score)\n",
    "        #print(regr.tree_)\n",
    "\n",
    "    #Create a dataframe with the model stats \n",
    "#    df_ret = pd.DataFrame(rows, columns = model_stats_columns)\n",
    "    return None\n"
   ]
  },
  {
   "cell_type": "code",
   "execution_count": null,
   "id": "7afe5311",
   "metadata": {},
   "outputs": [],
   "source": [
    "df_model = df_model_copy.copy()\n",
    "if \"RainTomorrow\" in df_model:\n",
    "    del df_model['RainTomorrow']\n",
    "\n",
    "if \"IsRainToday\" in df_model:        \n",
    "    del df_model['IsRainToday']\n",
    "\n",
    "if \"RainfallAmount\" in df_model:   \n",
    "    del df_model['RainfallAmount']\n",
    "    \n",
    "    \n",
    "#df_model = df_model.select_dtypes(exclude=['uint8'])\n",
    "\n",
    "create_models_classification(df=df_model_ohe,iterations=10)"
   ]
  },
  {
   "cell_type": "code",
   "execution_count": null,
   "id": "654305d5",
   "metadata": {},
   "outputs": [],
   "source": []
  },
  {
   "cell_type": "code",
   "execution_count": null,
   "id": "208bb855",
   "metadata": {},
   "outputs": [],
   "source": []
  },
  {
   "cell_type": "code",
   "execution_count": null,
   "id": "5ddefe88",
   "metadata": {},
   "outputs": [],
   "source": [
    "df_model_copy = df_model.copy()"
   ]
  },
  {
   "cell_type": "code",
   "execution_count": null,
   "id": "fae5d82e",
   "metadata": {},
   "outputs": [],
   "source": [
    "df_model.info()"
   ]
  },
  {
   "cell_type": "code",
   "execution_count": null,
   "id": "fb3d5568",
   "metadata": {},
   "outputs": [],
   "source": []
  },
  {
   "cell_type": "code",
   "execution_count": null,
   "id": "5b5a7793",
   "metadata": {},
   "outputs": [],
   "source": [
    "#Create models\n",
    "\n",
    "from sklearn.model_selection import StratifiedKFold\n",
    "from sklearn.linear_model import LinearRegression, Lasso\n",
    "from timeit import default_timer as timer\n",
    "from sklearn import linear_model\n",
    "from sklearn.feature_selection import RFE\n",
    "from sklearn.svm import SVR\n",
    "from sklearn.svm import LinearSVR\n",
    "from sklearn.model_selection import cross_val_score\n",
    "from sklearn.neighbors import KNeighborsClassifier\n",
    "\n",
    "def create_models_continous(model, df, iterations):\n",
    "\n",
    "    X = None\n",
    "    y = None\n",
    "    if \"Rainfall\" in df:\n",
    "        y = df[\"Rainfall\"].values # get the labels we want\n",
    "        del df[\"Rainfall\"] # get rid of the class label\n",
    "        X = df.values # use everything else to predict!\n",
    "    else:\n",
    "        return\n",
    "\n",
    "    random_state = 123\n",
    "    njobs = -1\n",
    "    \n",
    "    #models = [\"LinearRegression\", \"Lasso\", \"LinearSVR\"]\n",
    "    models = [\"LinearRegression\", \"Lasso\"]\n",
    "\n",
    "    for model in models:\n",
    "        clf = None\n",
    "        if model == \"LinearRegression\":\n",
    "            clf = LinearRegression(n_jobs=njobs)\n",
    "        elif model == \"Lasso\":\n",
    "            clf = Lasso(alpha=0.1)\n",
    "        elif model == \"LinearSVR\":    \n",
    "            estimator = LinearSVR(random_state=0, tol=1e-5)\n",
    "            clf = RFE(estimator, n_features_to_select=8, step=1)\n",
    "    \n",
    "        score = cross_val_score(model, X, y, cv=iterations, n_jobs=4, scoring=\"neg_root_mean_squared_error\")\n",
    "        abs_score = [abs(x) for x in score]\n",
    "        print(model, abs_score)\n",
    "\n",
    "\n",
    "\n",
    "        \n",
    "def create_models_classification(model, df, response_feature,iterations):\n",
    "    X = None\n",
    "    y = None\n",
    "    if response_feature in df:\n",
    "        y = df[response_feature].values # get the labels we want\n",
    "        del df[response_feature] # get rid of the class label\n",
    "        X = df.values # use everything else to predict!\n",
    "    else:\n",
    "        print (\"returning\")\n",
    "        return\n",
    "\n",
    "    random_state = 123\n",
    "    njobs = -1\n",
    "    \n",
    "    cv = StratifiedKFold(n_splits=iterations,shuffle=True, random_state=random_state)\n",
    "    \n",
    "    #models = [\"LinearRegression\", \"Lasso\", \"LinearSVR\"]\n",
    "\n",
    "    score = cross_val_score(model, X, y, cv=iterations, n_jobs=4, scoring=\"accuracy\")\n",
    "    print(model, score)\n",
    "    \n",
    "        "
   ]
  },
  {
   "cell_type": "code",
   "execution_count": null,
   "id": "ade416b1",
   "metadata": {},
   "outputs": [],
   "source": [
    "from sklearn.ensemble import RandomForestRegressor\n",
    "from sklearn.naive_bayes import MultinomialNB, GaussianNB \n",
    "from sklearn.linear_model import SGDClassifier\n",
    "from sklearn.svm import LinearSVC\n",
    "from sklearn.linear_model import LogisticRegression\n",
    "from sklearn.naive_bayes import MultinomialNB, GaussianNB \n",
    "from sklearn.linear_model import SGDClassifier\n",
    "from sklearn.ensemble import RandomForestClassifier\n",
    "from sklearn.svm import LinearSVC\n",
    "from sklearn.linear_model import LogisticRegression\n",
    "\n",
    "#df_model = df_model.select_dtypes(exclude=['uint8'])\n",
    "models = [# KNeighborsClassifier(n_neighbors=8),\n",
    "         GaussianNB(), \n",
    "    MultinomialNB(),\n",
    "    SGDClassifier(loss='hinge', penalty='l2',alpha=1e-3,max_iter=5, \n",
    "                  tol=None, n_jobs=-1, random_state=123),\n",
    "    RandomForestClassifier(n_estimators=200, max_depth=3, \n",
    "                           n_jobs=-1, random_state=123),\n",
    "    LinearSVC(random_state=123),\n",
    "    LogisticRegression(n_jobs=-1, random_state=123)]\n",
    "for model in models:\n",
    "    df_model = df_model_copy.copy()\n",
    "    if \"RainTomorrow\" in df_model:\n",
    "        del df_model['RainTomorrow']\n",
    "\n",
    "    if \"IsRainToday\" in df_model:        \n",
    "        del df_model['IsRainToday']\n",
    "\n",
    "    if \"Rainfall\" in df_model:   \n",
    "        del df_model['Rainfall']\n",
    "    \n",
    "    create_models_classification(model=model,df=df_model,response_feature=\"RainfallAmount\", iterations=10)\n",
    "    \n",
    "for model in models:\n",
    "    df_model = df_model_copy.copy()\n",
    "    print(\"coming to models\")\n",
    "    if \"RainfallAmount\" in df_model:   \n",
    "        del df_model['RainfallAmount']\n",
    "        \n",
    "    #create_models_classification(model=model,df=df_model,response_feature=\"RainTomorrow\", iterations=10)"
   ]
  },
  {
   "cell_type": "code",
   "execution_count": null,
   "id": "49329a84",
   "metadata": {},
   "outputs": [],
   "source": [
    "from sklearn import preprocessing\n",
    "le = preprocessing.LabelEncoder()\n",
    "\n",
    "list_of_dir = df_impute.WindGustDir.unique()\n",
    "le.fit(list_of_dir)\n",
    "le.transform(df_impute.WindGustDir)"
   ]
  },
  {
   "cell_type": "code",
   "execution_count": null,
   "id": "ee6cb9de",
   "metadata": {},
   "outputs": [],
   "source": [
    "gust_df = le.transform(df_impute.WindGustDir)\n",
    "wind3pm_df = le.transform(df_impute.WindDir3pm)\n",
    "wind9am_df = le.transform(df_impute.WindDir9am)\n",
    "\n",
    "df_model[\"gust\"] =  gust_df.tolist()\n",
    "df_model[\"wind3pm\"] =  wind3pm_df.tolist()\n",
    "df_model[\"wind9am\"] =  wind9am_df.tolist()\n",
    "\n",
    "# Remove original categorical columns\n",
    "df_model = df_model.drop(['WindDir3pm', 'WindDir9am', 'WindGustDir', 'RainToday'], axis = 1)\n",
    "\n",
    "df_model_copy = df_model.copy()\n"
   ]
  },
  {
   "cell_type": "code",
   "execution_count": null,
   "id": "c72fcb04",
   "metadata": {},
   "outputs": [],
   "source": [
    "df_model_copy = df_model.copy()"
   ]
  },
  {
   "cell_type": "code",
   "execution_count": null,
   "id": "03e9e09a",
   "metadata": {},
   "outputs": [],
   "source": [
    "\n",
    "df_model.RainfallAmount"
   ]
  },
  {
   "cell_type": "code",
   "execution_count": null,
   "id": "a59a6167",
   "metadata": {},
   "outputs": [],
   "source": [
    "df_model_copy = df_model.copy()"
   ]
  },
  {
   "cell_type": "code",
   "execution_count": null,
   "id": "4d0eff20",
   "metadata": {},
   "outputs": [],
   "source": [
    "df_model_copy.RainTomorrow"
   ]
  },
  {
   "cell_type": "code",
   "execution_count": null,
   "id": "22017ffb",
   "metadata": {},
   "outputs": [],
   "source": [
    "#Impurity-based feature importances can be misleading for high cardinality features (many unique values)\n",
    "#Permutation feature importance overcomes limitations of the impurity-based feature importance: they do not have a\n",
    "#bias toward high-cardinality features and can be computed on a left-out test set\n",
    "from sklearn.inspection import permutation_importance\n",
    "start_time = time.time()\n",
    "result = permutation_importance(\n",
    "    clf, X[test], y[test], n_repeats=10, random_state=123, n_jobs=-1)\n",
    "elapsed_time = time.time() - start_time\n",
    "print(f\"Elapsed time to compute the importances: \"\n",
    "      f\"{elapsed_time:.3f} seconds\")\n",
    "forest_importances = pd.Series(result.importances_mean, index=column_names)\n",
    "plt.figure(figsize = (10,6))\n",
    "#fig, ax = plt.subplots()\n",
    "forest_importances.plot.bar(x = 'features', y = 'Weights')\n",
    "#ax.set_title(\"Feature importances using permutation on Random Forest model\")\n",
    "#ax.set_ylabel(\"Mean accuracy decrease\")\n",
    "#fig.tight_layout()\n",
    "plt.show()"
   ]
  },
  {
   "cell_type": "code",
   "execution_count": null,
   "id": "3f645682",
   "metadata": {},
   "outputs": [],
   "source": []
  },
  {
   "cell_type": "code",
   "execution_count": null,
   "id": "a032968f",
   "metadata": {},
   "outputs": [],
   "source": [
    "arr_mod = df_model_ohe.toarray()"
   ]
  },
  {
   "cell_type": "code",
   "execution_count": null,
   "id": "4a16c3ec",
   "metadata": {},
   "outputs": [],
   "source": [
    "len(arr_mod[0])"
   ]
  },
  {
   "cell_type": "code",
   "execution_count": null,
   "id": "c1169685",
   "metadata": {},
   "outputs": [],
   "source": []
  },
  {
   "cell_type": "code",
   "execution_count": null,
   "id": "01d1832b",
   "metadata": {},
   "outputs": [],
   "source": []
  },
  {
   "cell_type": "code",
   "execution_count": null,
   "id": "99825304",
   "metadata": {},
   "outputs": [],
   "source": []
  },
  {
   "cell_type": "code",
   "execution_count": null,
   "id": "f18fced0",
   "metadata": {},
   "outputs": [],
   "source": []
  },
  {
   "cell_type": "markdown",
   "id": "fd69c547",
   "metadata": {},
   "source": [
    "# Apurv"
   ]
  },
  {
   "cell_type": "code",
   "execution_count": null,
   "id": "d4f71b0b",
   "metadata": {},
   "outputs": [],
   "source": [
    "df_model[\"RainTomorrow\"] = df_model[\"RainTomorrow\"].map(dict(Yes=1, No=0))\n",
    "y= df_model[\"RainTomorrow\"].values\n",
    "del df_model[\"RainTomorrow\"]\n",
    "X = df_model.values\n",
    "df_model[\"RainTomorrow\"] = df_impute[\"RainTomorrow\"]\n"
   ]
  },
  {
   "cell_type": "markdown",
   "id": "bf61efeb",
   "metadata": {},
   "source": [
    "Reference for KNN:\n",
    "    \n",
    "https://www.geeksforgeeks.org/k-nearest-neighbor-algorithm-in-python/"
   ]
  },
  {
   "cell_type": "code",
   "execution_count": null,
   "id": "8fc131c1",
   "metadata": {},
   "outputs": [],
   "source": [
    "%%time\n",
    "# Import necessary modules\n",
    "from sklearn.neighbors import KNeighborsClassifier\n",
    "from sklearn.model_selection import train_test_split\n",
    "from sklearn.datasets import load_iris\n",
    "import numpy as np\n",
    "import matplotlib.pyplot as plt\n",
    "  \n",
    "  \n",
    "# Split into training and test set\n",
    "X_train, X_test, y_train, y_test = train_test_split(\n",
    "             X, y, test_size = 0.2, random_state=123)\n",
    "  \n",
    "neighbors = np.arange(1, 9)\n",
    "train_accuracy = np.empty(len(neighbors))\n",
    "test_accuracy = np.empty(len(neighbors))\n",
    "  \n",
    "# Loop over K values\n",
    "for i, k in enumerate(neighbors):\n",
    "    knn = KNeighborsClassifier(n_neighbors=k)\n",
    "    knn.fit(X_train, y_train)\n",
    "      \n",
    "    # Compute traning and test data accuracy\n",
    "    train_accuracy[i] = knn.score(X_train, y_train)\n",
    "    test_accuracy[i] = knn.score(X_test, y_test)\n",
    "  \n",
    "# Generate plot\n",
    "plt.plot(neighbors, test_accuracy, label = 'Testing dataset Accuracy')\n",
    "plt.plot(neighbors, train_accuracy, label = 'Training dataset Accuracy')\n",
    "  \n",
    "plt.legend()\n",
    "plt.xlabel('n_neighbors')\n",
    "plt.ylabel('Accuracy')\n",
    "plt.show()"
   ]
  },
  {
   "cell_type": "code",
   "execution_count": null,
   "id": "6bd1e9fd",
   "metadata": {},
   "outputs": [],
   "source": [
    "\n",
    "from sklearn.neighbors import KNeighborsClassifier\n",
    "from sklearn.model_selection import StratifiedKFold\n",
    "from sklearn.preprocessing import StandardScaler\n",
    "import numpy as np\n",
    "from sklearn import metrics as mt\n",
    "\n",
    "\n",
    "# create variables we are more familiar with\n",
    "\n",
    "#y = df_model[\"RainTomorrow\"].values # get the labels we want\n",
    "#del df_model[\"RainTomorrow\"] # get rid of the class label\n",
    "#X = df_model.values\n",
    "yhat = np.zeros(y.shape) # we will fill this with predictions\n",
    "\n",
    "scl = StandardScaler()\n",
    "X = scl.fit_transform(X)\n",
    "\n",
    "# create cross validation iterator\n",
    "cv = StratifiedKFold(n_splits=10)\n",
    "\n",
    "# get a handle to the classifier object, which defines the type\n",
    "clf = KNeighborsClassifier(n_neighbors=8)\n",
    "\n",
    "# now iterate through and get predictions, saved to the correct row in yhat\n",
    "# NOTE: you can parallelize this using the cross_val_predict method\n",
    "for train, test in cv.split(X,y):\n",
    "    clf.fit(X[train],y[train])\n",
    "    yhat[test] = clf.predict(X[test])\n",
    "\n",
    "total_accuracy = mt.accuracy_score(y, yhat)\n",
    "print ('KNN accuracy', total_accuracy)\n",
    "\n"
   ]
  },
  {
   "cell_type": "code",
   "execution_count": null,
   "id": "07fbb133",
   "metadata": {},
   "outputs": [],
   "source": [
    "output= []\n",
    "for x in yhat:\n",
    "    if x not in output:\n",
    "        output.append(x)\n",
    "print(output)"
   ]
  },
  {
   "cell_type": "code",
   "execution_count": null,
   "id": "4e7378a1",
   "metadata": {},
   "outputs": [],
   "source": []
  },
  {
   "cell_type": "code",
   "execution_count": null,
   "id": "76c7eeb3",
   "metadata": {},
   "outputs": [],
   "source": []
  },
  {
   "cell_type": "code",
   "execution_count": null,
   "id": "8be30330",
   "metadata": {},
   "outputs": [],
   "source": []
  },
  {
   "cell_type": "code",
   "execution_count": null,
   "id": "5dc05132",
   "metadata": {},
   "outputs": [],
   "source": []
  },
  {
   "cell_type": "code",
   "execution_count": null,
   "id": "7148941d",
   "metadata": {},
   "outputs": [],
   "source": []
  },
  {
   "cell_type": "code",
   "execution_count": null,
   "id": "202da698",
   "metadata": {},
   "outputs": [],
   "source": []
  },
  {
   "cell_type": "code",
   "execution_count": null,
   "id": "8bd2c9eb",
   "metadata": {},
   "outputs": [],
   "source": []
  },
  {
   "cell_type": "code",
   "execution_count": null,
   "id": "a80f5a9a",
   "metadata": {},
   "outputs": [],
   "source": []
  },
  {
   "cell_type": "code",
   "execution_count": null,
   "id": "692567d4",
   "metadata": {},
   "outputs": [],
   "source": []
  },
  {
   "cell_type": "code",
   "execution_count": null,
   "id": "fb8a8b04",
   "metadata": {},
   "outputs": [],
   "source": [
    "from sklearn.model_selection import StratifiedKFold\n",
    "from sklearn.linear_model import LinearRegression, Lasso\n",
    "from timeit import default_timer as timer\n",
    "from sklearn import linear_model\n",
    "from sklearn.feature_selection import RFE\n",
    "from sklearn.svm import SVR\n",
    "from sklearn.svm import LinearSVR\n",
    "from sklearn.model_selection import cross_val_score\n",
    "from sklearn.neighbors import KNeighborsClassifier\n",
    "\n",
    "X = df_model_ohe\n",
    "y = y_new\n",
    "iterations = 10\n",
    "\n",
    "random_state = 123\n",
    "njobs = -1\n",
    "\n",
    "#models = [\"LinearRegression\", \"Lasso\", \"LinearSVR\"]\n",
    "models = [\"LinearRegression\", \"Lasso\"]\n",
    "\n",
    "for model in models:\n",
    "    clf = None\n",
    "    if model == \"LinearRegression\":\n",
    "        clf = LinearRegression(n_jobs=njobs).fit(X,y)\n",
    "    elif model == \"Lasso\":\n",
    "        clf = Lasso(alpha=0.1).fit(X,y)\n",
    "    elif model == \"LinearSVR\":    \n",
    "        estimator = LinearSVR(random_state=0, tol=1e-5)\n",
    "        clf = RFE(estimator, n_features_to_select=8, step=1)\n",
    "\n",
    "    score = cross_val_score(model, X, y, cv=iterations, n_jobs=4, scoring=\"neg_root_mean_squared_error\")\n",
    "    abs_score = [abs(x) for x in score]\n",
    "    print(model, abs_score)\n",
    "\n"
   ]
  },
  {
   "cell_type": "code",
   "execution_count": null,
   "id": "e21198f9",
   "metadata": {},
   "outputs": [],
   "source": []
  },
  {
   "cell_type": "code",
   "execution_count": null,
   "id": "7bd9b41f",
   "metadata": {},
   "outputs": [],
   "source": []
  },
  {
   "cell_type": "code",
   "execution_count": null,
   "id": "8d03fc99",
   "metadata": {},
   "outputs": [],
   "source": []
  },
  {
   "cell_type": "code",
   "execution_count": null,
   "id": "d0f999ca",
   "metadata": {},
   "outputs": [],
   "source": []
  },
  {
   "cell_type": "code",
   "execution_count": null,
   "id": "1ad550b3",
   "metadata": {},
   "outputs": [],
   "source": []
  }
 ],
 "metadata": {
  "kernelspec": {
   "display_name": "Python 3",
   "language": "python",
   "name": "python3"
  },
  "language_info": {
   "codemirror_mode": {
    "name": "ipython",
    "version": 3
   },
   "file_extension": ".py",
   "mimetype": "text/x-python",
   "name": "python",
   "nbconvert_exporter": "python",
   "pygments_lexer": "ipython3",
   "version": "3.6.8"
  }
 },
 "nbformat": 4,
 "nbformat_minor": 5
}
